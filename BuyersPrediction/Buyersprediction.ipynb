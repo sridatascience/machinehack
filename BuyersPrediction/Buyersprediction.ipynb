{
 "cells": [
  {
   "cell_type": "code",
   "execution_count": 562,
   "metadata": {},
   "outputs": [],
   "source": [
    "import pandas as pd\n",
    "import seaborn as sns\n",
    "import numpy as np\n",
    "import matplotlib.pyplot as plt\n",
    "from scipy.stats import skew\n",
    "import re"
   ]
  },
  {
   "cell_type": "code",
   "execution_count": 563,
   "metadata": {},
   "outputs": [
    {
     "data": {
      "text/html": [
       "<div>\n",
       "<style scoped>\n",
       "    .dataframe tbody tr th:only-of-type {\n",
       "        vertical-align: middle;\n",
       "    }\n",
       "\n",
       "    .dataframe tbody tr th {\n",
       "        vertical-align: top;\n",
       "    }\n",
       "\n",
       "    .dataframe thead th {\n",
       "        text-align: right;\n",
       "    }\n",
       "</style>\n",
       "<table border=\"1\" class=\"dataframe\">\n",
       "  <thead>\n",
       "    <tr style=\"text-align: right;\">\n",
       "      <th></th>\n",
       "      <th>session_id</th>\n",
       "      <th>session_number</th>\n",
       "      <th>client_agent</th>\n",
       "      <th>device_details</th>\n",
       "      <th>date</th>\n",
       "      <th>purchased</th>\n",
       "      <th>added_in_cart</th>\n",
       "      <th>checked_out</th>\n",
       "      <th>time_spent</th>\n",
       "    </tr>\n",
       "  </thead>\n",
       "  <tbody>\n",
       "    <tr>\n",
       "      <th>0</th>\n",
       "      <td>57f879e70d3c5fc2a98102d64c9fd84e</td>\n",
       "      <td>715</td>\n",
       "      <td>Mozilla/5.0 (Windows NT 6.1; WOW64) AppleWebKi...</td>\n",
       "      <td>Desktop - Chrome</td>\n",
       "      <td>2020-01-22</td>\n",
       "      <td>1</td>\n",
       "      <td>0</td>\n",
       "      <td>0</td>\n",
       "      <td>236.886</td>\n",
       "    </tr>\n",
       "    <tr>\n",
       "      <th>1</th>\n",
       "      <td>a5442b0c7c33d0a811e7661e556b2de8</td>\n",
       "      <td>55</td>\n",
       "      <td>Product/8.0 iPhone/8.1.3</td>\n",
       "      <td>iPhone - iOS</td>\n",
       "      <td>2020-02-27</td>\n",
       "      <td>1</td>\n",
       "      <td>0</td>\n",
       "      <td>0</td>\n",
       "      <td>1277.455</td>\n",
       "    </tr>\n",
       "    <tr>\n",
       "      <th>2</th>\n",
       "      <td>305cb1486ed8610c00b37007926cb2c4</td>\n",
       "      <td>11</td>\n",
       "      <td>Mozilla/5.0 (iPhone; CPU iPhone OS 7_1_2 like ...</td>\n",
       "      <td>iPhone - MobileWeb</td>\n",
       "      <td>2019-08-01</td>\n",
       "      <td>0</td>\n",
       "      <td>0</td>\n",
       "      <td>0</td>\n",
       "      <td>21.704</td>\n",
       "    </tr>\n",
       "    <tr>\n",
       "      <th>3</th>\n",
       "      <td>f2c1ecc9993f0071df91ba178450498c</td>\n",
       "      <td>2794</td>\n",
       "      <td>Mozilla/5.0 (compatible; MSIE 9.0; Windows NT ...</td>\n",
       "      <td>Desktop - IE</td>\n",
       "      <td>2019-12-30</td>\n",
       "      <td>0</td>\n",
       "      <td>1</td>\n",
       "      <td>0</td>\n",
       "      <td>455.201</td>\n",
       "    </tr>\n",
       "    <tr>\n",
       "      <th>4</th>\n",
       "      <td>e460830ae295e55d2216ebdc761ab9a6</td>\n",
       "      <td>3674</td>\n",
       "      <td>Mozilla/5.0 (iPhone; CPU iPhone OS 7_1_1 like ...</td>\n",
       "      <td>iPhone - Web</td>\n",
       "      <td>2019-09-10</td>\n",
       "      <td>0</td>\n",
       "      <td>0</td>\n",
       "      <td>0</td>\n",
       "      <td>1164.877</td>\n",
       "    </tr>\n",
       "  </tbody>\n",
       "</table>\n",
       "</div>"
      ],
      "text/plain": [
       "                         session_id  session_number  \\\n",
       "0  57f879e70d3c5fc2a98102d64c9fd84e             715   \n",
       "1  a5442b0c7c33d0a811e7661e556b2de8              55   \n",
       "2  305cb1486ed8610c00b37007926cb2c4              11   \n",
       "3  f2c1ecc9993f0071df91ba178450498c            2794   \n",
       "4  e460830ae295e55d2216ebdc761ab9a6            3674   \n",
       "\n",
       "                                        client_agent      device_details  \\\n",
       "0  Mozilla/5.0 (Windows NT 6.1; WOW64) AppleWebKi...    Desktop - Chrome   \n",
       "1                           Product/8.0 iPhone/8.1.3        iPhone - iOS   \n",
       "2  Mozilla/5.0 (iPhone; CPU iPhone OS 7_1_2 like ...  iPhone - MobileWeb   \n",
       "3  Mozilla/5.0 (compatible; MSIE 9.0; Windows NT ...        Desktop - IE   \n",
       "4  Mozilla/5.0 (iPhone; CPU iPhone OS 7_1_1 like ...        iPhone - Web   \n",
       "\n",
       "        date  purchased  added_in_cart  checked_out  time_spent  \n",
       "0 2020-01-22          1              0            0     236.886  \n",
       "1 2020-02-27          1              0            0    1277.455  \n",
       "2 2019-08-01          0              0            0      21.704  \n",
       "3 2019-12-30          0              1            0     455.201  \n",
       "4 2019-09-10          0              0            0    1164.877  "
      ]
     },
     "execution_count": 563,
     "metadata": {},
     "output_type": "execute_result"
    }
   ],
   "source": [
    "dfTrain= pd.read_csv('Train.csv',parse_dates=['date'])\n",
    "dfTest = pd.read_csv('Test.csv',parse_dates=['date'])\n",
    "dfTrain.head()"
   ]
  },
  {
   "cell_type": "code",
   "execution_count": 564,
   "metadata": {},
   "outputs": [
    {
     "data": {
      "text/html": [
       "<div>\n",
       "<style scoped>\n",
       "    .dataframe tbody tr th:only-of-type {\n",
       "        vertical-align: middle;\n",
       "    }\n",
       "\n",
       "    .dataframe tbody tr th {\n",
       "        vertical-align: top;\n",
       "    }\n",
       "\n",
       "    .dataframe thead th {\n",
       "        text-align: right;\n",
       "    }\n",
       "</style>\n",
       "<table border=\"1\" class=\"dataframe\">\n",
       "  <thead>\n",
       "    <tr style=\"text-align: right;\">\n",
       "      <th></th>\n",
       "      <th>session_id</th>\n",
       "      <th>session_number</th>\n",
       "      <th>client_agent</th>\n",
       "      <th>device_details</th>\n",
       "      <th>date</th>\n",
       "      <th>purchased</th>\n",
       "      <th>added_in_cart</th>\n",
       "      <th>checked_out</th>\n",
       "      <th>time_spent</th>\n",
       "    </tr>\n",
       "  </thead>\n",
       "  <tbody>\n",
       "    <tr>\n",
       "      <th>0</th>\n",
       "      <td>57f879e70d3c5fc2a98102d64c9fd84e</td>\n",
       "      <td>715</td>\n",
       "      <td>Mozilla/5.0 (Windows NT 6.1; WOW64) AppleWebKi...</td>\n",
       "      <td>Desktop - Chrome</td>\n",
       "      <td>2020-01-22</td>\n",
       "      <td>1</td>\n",
       "      <td>0</td>\n",
       "      <td>0</td>\n",
       "      <td>236.886</td>\n",
       "    </tr>\n",
       "    <tr>\n",
       "      <th>1</th>\n",
       "      <td>a5442b0c7c33d0a811e7661e556b2de8</td>\n",
       "      <td>55</td>\n",
       "      <td>Product/8.0 iPhone/8.1.3</td>\n",
       "      <td>iPhone - iOS</td>\n",
       "      <td>2020-02-27</td>\n",
       "      <td>1</td>\n",
       "      <td>0</td>\n",
       "      <td>0</td>\n",
       "      <td>1277.455</td>\n",
       "    </tr>\n",
       "    <tr>\n",
       "      <th>2</th>\n",
       "      <td>305cb1486ed8610c00b37007926cb2c4</td>\n",
       "      <td>11</td>\n",
       "      <td>Mozilla/5.0 (iPhone; CPU iPhone OS 7_1_2 like ...</td>\n",
       "      <td>iPhone - MobileWeb</td>\n",
       "      <td>2019-08-01</td>\n",
       "      <td>0</td>\n",
       "      <td>0</td>\n",
       "      <td>0</td>\n",
       "      <td>21.704</td>\n",
       "    </tr>\n",
       "    <tr>\n",
       "      <th>3</th>\n",
       "      <td>f2c1ecc9993f0071df91ba178450498c</td>\n",
       "      <td>2794</td>\n",
       "      <td>Mozilla/5.0 (compatible; MSIE 9.0; Windows NT ...</td>\n",
       "      <td>Desktop - IE</td>\n",
       "      <td>2019-12-30</td>\n",
       "      <td>0</td>\n",
       "      <td>1</td>\n",
       "      <td>0</td>\n",
       "      <td>455.201</td>\n",
       "    </tr>\n",
       "    <tr>\n",
       "      <th>4</th>\n",
       "      <td>e460830ae295e55d2216ebdc761ab9a6</td>\n",
       "      <td>3674</td>\n",
       "      <td>Mozilla/5.0 (iPhone; CPU iPhone OS 7_1_1 like ...</td>\n",
       "      <td>iPhone - Web</td>\n",
       "      <td>2019-09-10</td>\n",
       "      <td>0</td>\n",
       "      <td>0</td>\n",
       "      <td>0</td>\n",
       "      <td>1164.877</td>\n",
       "    </tr>\n",
       "    <tr>\n",
       "      <th>...</th>\n",
       "      <td>...</td>\n",
       "      <td>...</td>\n",
       "      <td>...</td>\n",
       "      <td>...</td>\n",
       "      <td>...</td>\n",
       "      <td>...</td>\n",
       "      <td>...</td>\n",
       "      <td>...</td>\n",
       "      <td>...</td>\n",
       "    </tr>\n",
       "    <tr>\n",
       "      <th>5424</th>\n",
       "      <td>b6aa30da97fa3c95989c47ccf5ab4e9f</td>\n",
       "      <td>627</td>\n",
       "      <td>Mozilla/5.0 (iPhone; CPU iPhone OS 8_1 like Ma...</td>\n",
       "      <td>iPhone - Web</td>\n",
       "      <td>2019-11-20</td>\n",
       "      <td>0</td>\n",
       "      <td>0</td>\n",
       "      <td>0</td>\n",
       "      <td>20.601</td>\n",
       "    </tr>\n",
       "    <tr>\n",
       "      <th>5425</th>\n",
       "      <td>58b62e9fa867d622662b8a4096fdc3f0</td>\n",
       "      <td>6710</td>\n",
       "      <td>Product/4.2.2 iPhone/7.1.1</td>\n",
       "      <td>iPhone - iOS</td>\n",
       "      <td>2019-09-26</td>\n",
       "      <td>0</td>\n",
       "      <td>0</td>\n",
       "      <td>0</td>\n",
       "      <td>1537.666</td>\n",
       "    </tr>\n",
       "    <tr>\n",
       "      <th>5426</th>\n",
       "      <td>109f7f9b8384e46fc88f580b328298e8</td>\n",
       "      <td>198</td>\n",
       "      <td>Mozilla/5.0 (Macintosh; Intel Mac OS X 10_9_4)...</td>\n",
       "      <td>Desktop - Chrome</td>\n",
       "      <td>2019-08-13</td>\n",
       "      <td>0</td>\n",
       "      <td>0</td>\n",
       "      <td>0</td>\n",
       "      <td>22.711</td>\n",
       "    </tr>\n",
       "    <tr>\n",
       "      <th>5427</th>\n",
       "      <td>ac6579972e89dfc78d3ee95d15764681</td>\n",
       "      <td>913</td>\n",
       "      <td>NaN</td>\n",
       "      <td>Unknown - MobileWeb</td>\n",
       "      <td>2019-06-18</td>\n",
       "      <td>0</td>\n",
       "      <td>0</td>\n",
       "      <td>0</td>\n",
       "      <td>20.844</td>\n",
       "    </tr>\n",
       "    <tr>\n",
       "      <th>5428</th>\n",
       "      <td>bd8f8239b827fc29d4e1bec91bd499b7</td>\n",
       "      <td>1254</td>\n",
       "      <td>Mozilla/5.0 (iPhone; CPU iPhone OS 7_0_4 like ...</td>\n",
       "      <td>iPhone - Web</td>\n",
       "      <td>2019-10-21</td>\n",
       "      <td>0</td>\n",
       "      <td>0</td>\n",
       "      <td>0</td>\n",
       "      <td>20.504</td>\n",
       "    </tr>\n",
       "  </tbody>\n",
       "</table>\n",
       "<p>5429 rows × 9 columns</p>\n",
       "</div>"
      ],
      "text/plain": [
       "                            session_id  session_number  \\\n",
       "0     57f879e70d3c5fc2a98102d64c9fd84e             715   \n",
       "1     a5442b0c7c33d0a811e7661e556b2de8              55   \n",
       "2     305cb1486ed8610c00b37007926cb2c4              11   \n",
       "3     f2c1ecc9993f0071df91ba178450498c            2794   \n",
       "4     e460830ae295e55d2216ebdc761ab9a6            3674   \n",
       "...                                ...             ...   \n",
       "5424  b6aa30da97fa3c95989c47ccf5ab4e9f             627   \n",
       "5425  58b62e9fa867d622662b8a4096fdc3f0            6710   \n",
       "5426  109f7f9b8384e46fc88f580b328298e8             198   \n",
       "5427  ac6579972e89dfc78d3ee95d15764681             913   \n",
       "5428  bd8f8239b827fc29d4e1bec91bd499b7            1254   \n",
       "\n",
       "                                           client_agent       device_details  \\\n",
       "0     Mozilla/5.0 (Windows NT 6.1; WOW64) AppleWebKi...     Desktop - Chrome   \n",
       "1                              Product/8.0 iPhone/8.1.3         iPhone - iOS   \n",
       "2     Mozilla/5.0 (iPhone; CPU iPhone OS 7_1_2 like ...   iPhone - MobileWeb   \n",
       "3     Mozilla/5.0 (compatible; MSIE 9.0; Windows NT ...         Desktop - IE   \n",
       "4     Mozilla/5.0 (iPhone; CPU iPhone OS 7_1_1 like ...         iPhone - Web   \n",
       "...                                                 ...                  ...   \n",
       "5424  Mozilla/5.0 (iPhone; CPU iPhone OS 8_1 like Ma...         iPhone - Web   \n",
       "5425                         Product/4.2.2 iPhone/7.1.1         iPhone - iOS   \n",
       "5426  Mozilla/5.0 (Macintosh; Intel Mac OS X 10_9_4)...     Desktop - Chrome   \n",
       "5427                                                NaN  Unknown - MobileWeb   \n",
       "5428  Mozilla/5.0 (iPhone; CPU iPhone OS 7_0_4 like ...         iPhone - Web   \n",
       "\n",
       "           date  purchased  added_in_cart  checked_out  time_spent  \n",
       "0    2020-01-22          1              0            0     236.886  \n",
       "1    2020-02-27          1              0            0    1277.455  \n",
       "2    2019-08-01          0              0            0      21.704  \n",
       "3    2019-12-30          0              1            0     455.201  \n",
       "4    2019-09-10          0              0            0    1164.877  \n",
       "...         ...        ...            ...          ...         ...  \n",
       "5424 2019-11-20          0              0            0      20.601  \n",
       "5425 2019-09-26          0              0            0    1537.666  \n",
       "5426 2019-08-13          0              0            0      22.711  \n",
       "5427 2019-06-18          0              0            0      20.844  \n",
       "5428 2019-10-21          0              0            0      20.504  \n",
       "\n",
       "[5429 rows x 9 columns]"
      ]
     },
     "execution_count": 564,
     "metadata": {},
     "output_type": "execute_result"
    }
   ],
   "source": [
    "dfTrain.drop_duplicates()"
   ]
  },
  {
   "cell_type": "code",
   "execution_count": 565,
   "metadata": {},
   "outputs": [
    {
     "data": {
      "text/html": [
       "<div>\n",
       "<style scoped>\n",
       "    .dataframe tbody tr th:only-of-type {\n",
       "        vertical-align: middle;\n",
       "    }\n",
       "\n",
       "    .dataframe tbody tr th {\n",
       "        vertical-align: top;\n",
       "    }\n",
       "\n",
       "    .dataframe thead th {\n",
       "        text-align: right;\n",
       "    }\n",
       "</style>\n",
       "<table border=\"1\" class=\"dataframe\">\n",
       "  <thead>\n",
       "    <tr style=\"text-align: right;\">\n",
       "      <th></th>\n",
       "      <th>session_id</th>\n",
       "      <th>session_number</th>\n",
       "      <th>client_agent</th>\n",
       "      <th>device_details</th>\n",
       "      <th>date</th>\n",
       "      <th>purchased</th>\n",
       "      <th>added_in_cart</th>\n",
       "      <th>checked_out</th>\n",
       "      <th>time_spent</th>\n",
       "    </tr>\n",
       "  </thead>\n",
       "  <tbody>\n",
       "    <tr>\n",
       "      <th>5424</th>\n",
       "      <td>b6aa30da97fa3c95989c47ccf5ab4e9f</td>\n",
       "      <td>627</td>\n",
       "      <td>Mozilla/5.0 (iPhone; CPU iPhone OS 8_1 like Ma...</td>\n",
       "      <td>iPhone - Web</td>\n",
       "      <td>2019-11-20</td>\n",
       "      <td>0</td>\n",
       "      <td>0</td>\n",
       "      <td>0</td>\n",
       "      <td>20.601</td>\n",
       "    </tr>\n",
       "    <tr>\n",
       "      <th>5425</th>\n",
       "      <td>58b62e9fa867d622662b8a4096fdc3f0</td>\n",
       "      <td>6710</td>\n",
       "      <td>Product/4.2.2 iPhone/7.1.1</td>\n",
       "      <td>iPhone - iOS</td>\n",
       "      <td>2019-09-26</td>\n",
       "      <td>0</td>\n",
       "      <td>0</td>\n",
       "      <td>0</td>\n",
       "      <td>1537.666</td>\n",
       "    </tr>\n",
       "    <tr>\n",
       "      <th>5426</th>\n",
       "      <td>109f7f9b8384e46fc88f580b328298e8</td>\n",
       "      <td>198</td>\n",
       "      <td>Mozilla/5.0 (Macintosh; Intel Mac OS X 10_9_4)...</td>\n",
       "      <td>Desktop - Chrome</td>\n",
       "      <td>2019-08-13</td>\n",
       "      <td>0</td>\n",
       "      <td>0</td>\n",
       "      <td>0</td>\n",
       "      <td>22.711</td>\n",
       "    </tr>\n",
       "    <tr>\n",
       "      <th>5427</th>\n",
       "      <td>ac6579972e89dfc78d3ee95d15764681</td>\n",
       "      <td>913</td>\n",
       "      <td>NaN</td>\n",
       "      <td>Unknown - MobileWeb</td>\n",
       "      <td>2019-06-18</td>\n",
       "      <td>0</td>\n",
       "      <td>0</td>\n",
       "      <td>0</td>\n",
       "      <td>20.844</td>\n",
       "    </tr>\n",
       "    <tr>\n",
       "      <th>5428</th>\n",
       "      <td>bd8f8239b827fc29d4e1bec91bd499b7</td>\n",
       "      <td>1254</td>\n",
       "      <td>Mozilla/5.0 (iPhone; CPU iPhone OS 7_0_4 like ...</td>\n",
       "      <td>iPhone - Web</td>\n",
       "      <td>2019-10-21</td>\n",
       "      <td>0</td>\n",
       "      <td>0</td>\n",
       "      <td>0</td>\n",
       "      <td>20.504</td>\n",
       "    </tr>\n",
       "  </tbody>\n",
       "</table>\n",
       "</div>"
      ],
      "text/plain": [
       "                            session_id  session_number  \\\n",
       "5424  b6aa30da97fa3c95989c47ccf5ab4e9f             627   \n",
       "5425  58b62e9fa867d622662b8a4096fdc3f0            6710   \n",
       "5426  109f7f9b8384e46fc88f580b328298e8             198   \n",
       "5427  ac6579972e89dfc78d3ee95d15764681             913   \n",
       "5428  bd8f8239b827fc29d4e1bec91bd499b7            1254   \n",
       "\n",
       "                                           client_agent       device_details  \\\n",
       "5424  Mozilla/5.0 (iPhone; CPU iPhone OS 8_1 like Ma...         iPhone - Web   \n",
       "5425                         Product/4.2.2 iPhone/7.1.1         iPhone - iOS   \n",
       "5426  Mozilla/5.0 (Macintosh; Intel Mac OS X 10_9_4)...     Desktop - Chrome   \n",
       "5427                                                NaN  Unknown - MobileWeb   \n",
       "5428  Mozilla/5.0 (iPhone; CPU iPhone OS 7_0_4 like ...         iPhone - Web   \n",
       "\n",
       "           date  purchased  added_in_cart  checked_out  time_spent  \n",
       "5424 2019-11-20          0              0            0      20.601  \n",
       "5425 2019-09-26          0              0            0    1537.666  \n",
       "5426 2019-08-13          0              0            0      22.711  \n",
       "5427 2019-06-18          0              0            0      20.844  \n",
       "5428 2019-10-21          0              0            0      20.504  "
      ]
     },
     "execution_count": 565,
     "metadata": {},
     "output_type": "execute_result"
    }
   ],
   "source": [
    "dfTrain.tail()"
   ]
  },
  {
   "cell_type": "code",
   "execution_count": 566,
   "metadata": {},
   "outputs": [
    {
     "data": {
      "text/html": [
       "<div>\n",
       "<style scoped>\n",
       "    .dataframe tbody tr th:only-of-type {\n",
       "        vertical-align: middle;\n",
       "    }\n",
       "\n",
       "    .dataframe tbody tr th {\n",
       "        vertical-align: top;\n",
       "    }\n",
       "\n",
       "    .dataframe thead th {\n",
       "        text-align: right;\n",
       "    }\n",
       "</style>\n",
       "<table border=\"1\" class=\"dataframe\">\n",
       "  <thead>\n",
       "    <tr style=\"text-align: right;\">\n",
       "      <th></th>\n",
       "      <th>session_number</th>\n",
       "      <th>purchased</th>\n",
       "      <th>added_in_cart</th>\n",
       "      <th>checked_out</th>\n",
       "      <th>time_spent</th>\n",
       "    </tr>\n",
       "  </thead>\n",
       "  <tbody>\n",
       "    <tr>\n",
       "      <th>count</th>\n",
       "      <td>5429.000000</td>\n",
       "      <td>5429.000000</td>\n",
       "      <td>5429.000000</td>\n",
       "      <td>5429.000000</td>\n",
       "      <td>5429.000000</td>\n",
       "    </tr>\n",
       "    <tr>\n",
       "      <th>mean</th>\n",
       "      <td>1072.835329</td>\n",
       "      <td>0.159145</td>\n",
       "      <td>0.162092</td>\n",
       "      <td>0.017499</td>\n",
       "      <td>663.194292</td>\n",
       "    </tr>\n",
       "    <tr>\n",
       "      <th>std</th>\n",
       "      <td>1436.351474</td>\n",
       "      <td>0.365845</td>\n",
       "      <td>0.368570</td>\n",
       "      <td>0.131132</td>\n",
       "      <td>1713.671664</td>\n",
       "    </tr>\n",
       "    <tr>\n",
       "      <th>min</th>\n",
       "      <td>11.000000</td>\n",
       "      <td>0.000000</td>\n",
       "      <td>0.000000</td>\n",
       "      <td>0.000000</td>\n",
       "      <td>14.400000</td>\n",
       "    </tr>\n",
       "    <tr>\n",
       "      <th>25%</th>\n",
       "      <td>121.000000</td>\n",
       "      <td>0.000000</td>\n",
       "      <td>0.000000</td>\n",
       "      <td>0.000000</td>\n",
       "      <td>22.699000</td>\n",
       "    </tr>\n",
       "    <tr>\n",
       "      <th>50%</th>\n",
       "      <td>517.000000</td>\n",
       "      <td>0.000000</td>\n",
       "      <td>0.000000</td>\n",
       "      <td>0.000000</td>\n",
       "      <td>98.312000</td>\n",
       "    </tr>\n",
       "    <tr>\n",
       "      <th>75%</th>\n",
       "      <td>1397.000000</td>\n",
       "      <td>0.000000</td>\n",
       "      <td>0.000000</td>\n",
       "      <td>0.000000</td>\n",
       "      <td>600.463000</td>\n",
       "    </tr>\n",
       "    <tr>\n",
       "      <th>max</th>\n",
       "      <td>7722.000000</td>\n",
       "      <td>1.000000</td>\n",
       "      <td>1.000000</td>\n",
       "      <td>1.000000</td>\n",
       "      <td>38494.025000</td>\n",
       "    </tr>\n",
       "  </tbody>\n",
       "</table>\n",
       "</div>"
      ],
      "text/plain": [
       "       session_number    purchased  added_in_cart  checked_out    time_spent\n",
       "count     5429.000000  5429.000000    5429.000000  5429.000000   5429.000000\n",
       "mean      1072.835329     0.159145       0.162092     0.017499    663.194292\n",
       "std       1436.351474     0.365845       0.368570     0.131132   1713.671664\n",
       "min         11.000000     0.000000       0.000000     0.000000     14.400000\n",
       "25%        121.000000     0.000000       0.000000     0.000000     22.699000\n",
       "50%        517.000000     0.000000       0.000000     0.000000     98.312000\n",
       "75%       1397.000000     0.000000       0.000000     0.000000    600.463000\n",
       "max       7722.000000     1.000000       1.000000     1.000000  38494.025000"
      ]
     },
     "execution_count": 566,
     "metadata": {},
     "output_type": "execute_result"
    }
   ],
   "source": [
    "#checking for negative, min/max ,std and values distribution\n",
    "dfTrain.describe()"
   ]
  },
  {
   "cell_type": "code",
   "execution_count": 567,
   "metadata": {},
   "outputs": [
    {
     "data": {
      "text/plain": [
       "session_id          0\n",
       "session_number      0\n",
       "client_agent      160\n",
       "device_details      0\n",
       "date                0\n",
       "purchased           0\n",
       "added_in_cart       0\n",
       "checked_out         0\n",
       "time_spent          0\n",
       "dtype: int64"
      ]
     },
     "execution_count": 567,
     "metadata": {},
     "output_type": "execute_result"
    }
   ],
   "source": [
    "dfTrain.isnull().sum()"
   ]
  },
  {
   "cell_type": "code",
   "execution_count": 568,
   "metadata": {},
   "outputs": [
    {
     "data": {
      "text/plain": [
       "session_id         0\n",
       "session_number     0\n",
       "client_agent      59\n",
       "device_details     0\n",
       "date               0\n",
       "purchased          0\n",
       "added_in_cart      0\n",
       "checked_out        0\n",
       "dtype: int64"
      ]
     },
     "execution_count": 568,
     "metadata": {},
     "output_type": "execute_result"
    }
   ],
   "source": [
    "dfTest.isnull().sum()"
   ]
  },
  {
   "cell_type": "code",
   "execution_count": 569,
   "metadata": {},
   "outputs": [
    {
     "name": "stdout",
     "output_type": "stream",
     "text": [
      "<class 'pandas.core.frame.DataFrame'>\n",
      "RangeIndex: 5429 entries, 0 to 5428\n",
      "Data columns (total 9 columns):\n",
      " #   Column          Non-Null Count  Dtype         \n",
      "---  ------          --------------  -----         \n",
      " 0   session_id      5429 non-null   object        \n",
      " 1   session_number  5429 non-null   int64         \n",
      " 2   client_agent    5269 non-null   object        \n",
      " 3   device_details  5429 non-null   object        \n",
      " 4   date            5429 non-null   datetime64[ns]\n",
      " 5   purchased       5429 non-null   int64         \n",
      " 6   added_in_cart   5429 non-null   int64         \n",
      " 7   checked_out     5429 non-null   int64         \n",
      " 8   time_spent      5429 non-null   float64       \n",
      "dtypes: datetime64[ns](1), float64(1), int64(4), object(3)\n",
      "memory usage: 381.9+ KB\n"
     ]
    }
   ],
   "source": [
    "dfTrain.info()"
   ]
  },
  {
   "cell_type": "code",
   "execution_count": 570,
   "metadata": {},
   "outputs": [
    {
     "name": "stdout",
     "output_type": "stream",
     "text": [
      "<class 'pandas.core.frame.DataFrame'>\n",
      "RangeIndex: 2327 entries, 0 to 2326\n",
      "Data columns (total 8 columns):\n",
      " #   Column          Non-Null Count  Dtype         \n",
      "---  ------          --------------  -----         \n",
      " 0   session_id      2327 non-null   object        \n",
      " 1   session_number  2327 non-null   int64         \n",
      " 2   client_agent    2268 non-null   object        \n",
      " 3   device_details  2327 non-null   object        \n",
      " 4   date            2327 non-null   datetime64[ns]\n",
      " 5   purchased       2327 non-null   int64         \n",
      " 6   added_in_cart   2327 non-null   int64         \n",
      " 7   checked_out     2327 non-null   int64         \n",
      "dtypes: datetime64[ns](1), int64(4), object(3)\n",
      "memory usage: 145.6+ KB\n"
     ]
    }
   ],
   "source": [
    "dfTest.info()"
   ]
  },
  {
   "cell_type": "code",
   "execution_count": 571,
   "metadata": {},
   "outputs": [
    {
     "data": {
      "text/plain": [
       "((5429, 9), (2327, 8))"
      ]
     },
     "execution_count": 571,
     "metadata": {},
     "output_type": "execute_result"
    }
   ],
   "source": [
    "dfTrain.shape, dfTest.shape"
   ]
  },
  {
   "cell_type": "code",
   "execution_count": 572,
   "metadata": {},
   "outputs": [
    {
     "name": "stdout",
     "output_type": "stream",
     "text": [
      "session_id is unique\n"
     ]
    },
    {
     "data": {
      "text/plain": [
       "5429"
      ]
     },
     "execution_count": 572,
     "metadata": {},
     "output_type": "execute_result"
    }
   ],
   "source": [
    "if dfTrain.session_id.nunique() == dfTrain.shape[0]:\n",
    "    print(\"session_id is unique\")\n",
    "dfTrain.session_id.nunique()   "
   ]
  },
  {
   "cell_type": "code",
   "execution_count": 573,
   "metadata": {},
   "outputs": [
    {
     "data": {
      "text/plain": [
       "610"
      ]
     },
     "execution_count": 573,
     "metadata": {},
     "output_type": "execute_result"
    }
   ],
   "source": [
    "if dfTrain.session_number.nunique() == dfTrain.shape[0]:\n",
    "    print(\"session_number is unique\")\n",
    "dfTrain.session_number.nunique()"
   ]
  },
  {
   "cell_type": "code",
   "execution_count": 574,
   "metadata": {},
   "outputs": [
    {
     "data": {
      "text/plain": [
       "698"
      ]
     },
     "execution_count": 574,
     "metadata": {},
     "output_type": "execute_result"
    }
   ],
   "source": [
    "dfTrain.client_agent.nunique()"
   ]
  },
  {
   "cell_type": "code",
   "execution_count": 575,
   "metadata": {},
   "outputs": [
    {
     "data": {
      "text/plain": [
       "Mozilla/5.0 (iPhone; CPU iPhone OS 7_1_1 like Mac OS X) AppleWebKit/537.51.2 (KHTML, like Gecko) Mobile/11D201    209\n",
       "Mozilla/5.0 (Windows NT 6.3; WOW64; Trident/7.0; Touch; rv:11.0) like Gecko                                       163\n",
       "Mozilla/5.0 (Windows NT 6.1; WOW64; Trident/7.0; rv:11.0) like Gecko                                              148\n",
       "Product/4.2.0 iPhone/7.1.1                                                                                        146\n",
       "Product/4.7.0 iPhone/8.1.2                                                                                        144\n",
       "Mozilla/5.0 (iPhone; CPU iPhone OS 8_1 like Mac OS X) AppleWebKit/600.1.4 (KHTML, like Gecko) Mobile/12B411       114\n",
       "Mozilla/5.0 (iPhone; CPU iPhone OS 8_1_2 like Mac OS X) AppleWebKit/600.1.4 (KHTML, like Gecko) Mobile/12B440      86\n",
       "Product/6.0 iPhone/8.1.3                                                                                           82\n",
       "Product/4.4.1 iPhone/8.1                                                                                           79\n",
       "Mozilla/5.0 (compatible; MSIE 9.0; Windows NT 6.1; WOW64; Trident/5.0)                                             68\n",
       "Name: client_agent, dtype: int64"
      ]
     },
     "execution_count": 575,
     "metadata": {},
     "output_type": "execute_result"
    }
   ],
   "source": [
    "dfTrain.client_agent.value_counts().iloc[:10]"
   ]
  },
  {
   "cell_type": "code",
   "execution_count": 576,
   "metadata": {},
   "outputs": [],
   "source": [
    "dfTrain['Device_org'] = dfTrain[\"device_details\"].str.split('-').str[0]\n",
    "dfTrain['Platform_org'] = dfTrain[\"device_details\"].str.split('-').str[1]\n",
    "\n",
    "dfTest['Device_org'] = dfTest[\"device_details\"].str.split('-').str[0]\n",
    "dfTest['Platform_org'] = dfTest[\"device_details\"].str.split('-').str[1]"
   ]
  },
  {
   "cell_type": "code",
   "execution_count": 577,
   "metadata": {},
   "outputs": [
    {
     "data": {
      "text/html": [
       "<div>\n",
       "<style scoped>\n",
       "    .dataframe tbody tr th:only-of-type {\n",
       "        vertical-align: middle;\n",
       "    }\n",
       "\n",
       "    .dataframe tbody tr th {\n",
       "        vertical-align: top;\n",
       "    }\n",
       "\n",
       "    .dataframe thead th {\n",
       "        text-align: right;\n",
       "    }\n",
       "</style>\n",
       "<table border=\"1\" class=\"dataframe\">\n",
       "  <thead>\n",
       "    <tr style=\"text-align: right;\">\n",
       "      <th></th>\n",
       "      <th>session_id</th>\n",
       "      <th>session_number</th>\n",
       "      <th>client_agent</th>\n",
       "      <th>device_details</th>\n",
       "      <th>date</th>\n",
       "      <th>purchased</th>\n",
       "      <th>added_in_cart</th>\n",
       "      <th>checked_out</th>\n",
       "      <th>time_spent</th>\n",
       "      <th>Device_org</th>\n",
       "      <th>Platform_org</th>\n",
       "    </tr>\n",
       "  </thead>\n",
       "  <tbody>\n",
       "    <tr>\n",
       "      <th>0</th>\n",
       "      <td>57f879e70d3c5fc2a98102d64c9fd84e</td>\n",
       "      <td>715</td>\n",
       "      <td>Mozilla/5.0 (Windows NT 6.1; WOW64) AppleWebKi...</td>\n",
       "      <td>Desktop - Chrome</td>\n",
       "      <td>2020-01-22</td>\n",
       "      <td>1</td>\n",
       "      <td>0</td>\n",
       "      <td>0</td>\n",
       "      <td>236.886</td>\n",
       "      <td>Desktop</td>\n",
       "      <td>Chrome</td>\n",
       "    </tr>\n",
       "    <tr>\n",
       "      <th>1</th>\n",
       "      <td>a5442b0c7c33d0a811e7661e556b2de8</td>\n",
       "      <td>55</td>\n",
       "      <td>Product/8.0 iPhone/8.1.3</td>\n",
       "      <td>iPhone - iOS</td>\n",
       "      <td>2020-02-27</td>\n",
       "      <td>1</td>\n",
       "      <td>0</td>\n",
       "      <td>0</td>\n",
       "      <td>1277.455</td>\n",
       "      <td>iPhone</td>\n",
       "      <td>iOS</td>\n",
       "    </tr>\n",
       "    <tr>\n",
       "      <th>2</th>\n",
       "      <td>305cb1486ed8610c00b37007926cb2c4</td>\n",
       "      <td>11</td>\n",
       "      <td>Mozilla/5.0 (iPhone; CPU iPhone OS 7_1_2 like ...</td>\n",
       "      <td>iPhone - MobileWeb</td>\n",
       "      <td>2019-08-01</td>\n",
       "      <td>0</td>\n",
       "      <td>0</td>\n",
       "      <td>0</td>\n",
       "      <td>21.704</td>\n",
       "      <td>iPhone</td>\n",
       "      <td>MobileWeb</td>\n",
       "    </tr>\n",
       "    <tr>\n",
       "      <th>3</th>\n",
       "      <td>f2c1ecc9993f0071df91ba178450498c</td>\n",
       "      <td>2794</td>\n",
       "      <td>Mozilla/5.0 (compatible; MSIE 9.0; Windows NT ...</td>\n",
       "      <td>Desktop - IE</td>\n",
       "      <td>2019-12-30</td>\n",
       "      <td>0</td>\n",
       "      <td>1</td>\n",
       "      <td>0</td>\n",
       "      <td>455.201</td>\n",
       "      <td>Desktop</td>\n",
       "      <td>IE</td>\n",
       "    </tr>\n",
       "    <tr>\n",
       "      <th>4</th>\n",
       "      <td>e460830ae295e55d2216ebdc761ab9a6</td>\n",
       "      <td>3674</td>\n",
       "      <td>Mozilla/5.0 (iPhone; CPU iPhone OS 7_1_1 like ...</td>\n",
       "      <td>iPhone - Web</td>\n",
       "      <td>2019-09-10</td>\n",
       "      <td>0</td>\n",
       "      <td>0</td>\n",
       "      <td>0</td>\n",
       "      <td>1164.877</td>\n",
       "      <td>iPhone</td>\n",
       "      <td>Web</td>\n",
       "    </tr>\n",
       "  </tbody>\n",
       "</table>\n",
       "</div>"
      ],
      "text/plain": [
       "                         session_id  session_number  \\\n",
       "0  57f879e70d3c5fc2a98102d64c9fd84e             715   \n",
       "1  a5442b0c7c33d0a811e7661e556b2de8              55   \n",
       "2  305cb1486ed8610c00b37007926cb2c4              11   \n",
       "3  f2c1ecc9993f0071df91ba178450498c            2794   \n",
       "4  e460830ae295e55d2216ebdc761ab9a6            3674   \n",
       "\n",
       "                                        client_agent      device_details  \\\n",
       "0  Mozilla/5.0 (Windows NT 6.1; WOW64) AppleWebKi...    Desktop - Chrome   \n",
       "1                           Product/8.0 iPhone/8.1.3        iPhone - iOS   \n",
       "2  Mozilla/5.0 (iPhone; CPU iPhone OS 7_1_2 like ...  iPhone - MobileWeb   \n",
       "3  Mozilla/5.0 (compatible; MSIE 9.0; Windows NT ...        Desktop - IE   \n",
       "4  Mozilla/5.0 (iPhone; CPU iPhone OS 7_1_1 like ...        iPhone - Web   \n",
       "\n",
       "        date  purchased  added_in_cart  checked_out  time_spent Device_org  \\\n",
       "0 2020-01-22          1              0            0     236.886   Desktop    \n",
       "1 2020-02-27          1              0            0    1277.455    iPhone    \n",
       "2 2019-08-01          0              0            0      21.704    iPhone    \n",
       "3 2019-12-30          0              1            0     455.201   Desktop    \n",
       "4 2019-09-10          0              0            0    1164.877    iPhone    \n",
       "\n",
       "  Platform_org  \n",
       "0       Chrome  \n",
       "1          iOS  \n",
       "2    MobileWeb  \n",
       "3           IE  \n",
       "4          Web  "
      ]
     },
     "execution_count": 577,
     "metadata": {},
     "output_type": "execute_result"
    }
   ],
   "source": [
    "dfTrain.head()"
   ]
  },
  {
   "cell_type": "code",
   "execution_count": 578,
   "metadata": {},
   "outputs": [],
   "source": [
    "#after inspecing the client_agent and device details we can see that more data can be extracted for many rows\n",
    "#as the device details does not provide much details on device platform we can extract it through the client_agent details\n",
    "def split_client_agent(df):\n",
    "#     df['Platform_org'] = [\"nan\" for i in range(len(df))]\n",
    "#     df[\"Device_org\"] = [\"nan\" for i in range(len(df))]\n",
    "#     for i,text in enumerate(df['device_details']):\n",
    "#         df['Device_org'].iloc[i],df['Platform_org'].iloc[i] = re.split(\" - \", text)\n",
    "        \n",
    "    df[\"Platform\"] = [\"nan\" for i in range(len(df))]\n",
    "    df[\"Device\"] = [\"nan\" for i in range(len(df))]\n",
    "    \n",
    "    app_count=0\n",
    "    mozilla_count=0\n",
    "    safari_count=0\n",
    "    chrome_count=0\n",
    "    firefox_count=0\n",
    "    opera_count=0\n",
    "    \n",
    "    iphone_count=0\n",
    "    ipad_count=0\n",
    "    windows_count=0\n",
    "    android_count=0\n",
    "    linux_count=0\n",
    "    mac_count=0\n",
    "    apple_device_count=0\n",
    "    count=0\n",
    "    \n",
    "    #iterating through the dataframe and adding counts for each encountered instance and adding found instance to new column\n",
    "    for i,text in enumerate(df[\"client_agent\"]):\n",
    "        if type(text) == str:\n",
    "            count+=1\n",
    "            \n",
    "            if 'product' in text.lower():\n",
    "                app_count+=1\n",
    "                df[\"Platform\"].iloc[i]='app'\n",
    "            \n",
    "            elif 'mozilla' in text.lower():\n",
    "                mozilla_count+=1\n",
    "                df['Platform'].iloc[i]='mozilla'\n",
    "            \n",
    "            elif 'chrome' in text.lower():\n",
    "                chrome_count+=1\n",
    "                df['Platform'].iloc[i]='chrome'\n",
    "            \n",
    "            elif 'safari' in text.lower():\n",
    "                safari_count+=1\n",
    "                df['Platform'].iloc[i]='safari'\n",
    "            \n",
    "            elif 'firefox' in text.lower():\n",
    "                firefox_count+=1\n",
    "                df['Platform'].iloc[i]='firefox'   \n",
    "            \n",
    "            elif 'opera' in text.lower():\n",
    "                opera_count+=1\n",
    "                df['Platform'].iloc[i]='opera'\n",
    "                \n",
    "            \n",
    "            \n",
    "            if \"windows\" in text.lower():\n",
    "                windows_count+=1\n",
    "                df[\"Device\"].iloc[i] = \"windows\"\n",
    "\n",
    "            elif \"iphone\" in text.lower():\n",
    "                iphone_count+=1\n",
    "                df[\"Device\"].iloc[i] = \"iphone\"\n",
    "\n",
    "            elif \"ipad\" in text.lower():\n",
    "                ipad_count+=1\n",
    "                df[\"Device\"].iloc[i] = \"ipad\"\n",
    "\n",
    "            elif \"android\" in text.lower():\n",
    "                android_count+=1\n",
    "                df[\"Device\"].iloc[i] = \"android\"\n",
    "\n",
    "            elif \"macintosh\" in text.lower():\n",
    "                mac_count+=1        \n",
    "                df[\"Device\"].iloc[i] = \"macintosh\"\n",
    "                \n",
    "            elif \"linux\" in text.lower():\n",
    "                linux_count+=1        \n",
    "                df[\"Device\"].iloc[i] = \"linux\"\n",
    "                \n",
    "            elif 'cfnetwork' in text.lower():\n",
    "                apple_device_count+=1\n",
    "                df['Device'].iloc[i]='apple device'\n",
    "                \n",
    "    print(\"Total Count:\", count)\n",
    "    print(\"**\"*20)\n",
    "    print(\"app_count:\", app_count)\n",
    "    print(\"mozilla_count:\", mozilla_count)\n",
    "    print(\"chrome_count:\", chrome_count)\n",
    "    print(\"safari_count:\", safari_count)   \n",
    "    print(\"firefox_count:\", firefox_count)\n",
    "    print(\"opera_count:\", opera_count)\n",
    "    print(\"**\"*20)\n",
    "    print(\"windows_count:\", windows_count)    \n",
    "    print(\"iphone_count:\", iphone_count)\n",
    "    print(\"ipad_count:\", ipad_count)\n",
    "    print(\"android_count:\", android_count)    \n",
    "    print(\"mac_count:\", mac_count)\n",
    "    print(\"linux_count:\", linux_count)\n",
    "    print(\"apple_device_count:\", apple_device_count)\n",
    "    \n",
    "    return df"
   ]
  },
  {
   "cell_type": "code",
   "execution_count": 579,
   "metadata": {},
   "outputs": [
    {
     "name": "stderr",
     "output_type": "stream",
     "text": [
      "e:\\pythonforselenium\\lib\\site-packages\\pandas\\core\\indexing.py:670: SettingWithCopyWarning: \n",
      "A value is trying to be set on a copy of a slice from a DataFrame\n",
      "\n",
      "See the caveats in the documentation: https://pandas.pydata.org/pandas-docs/stable/user_guide/indexing.html#returning-a-view-versus-a-copy\n",
      "  iloc._setitem_with_indexer(indexer, value)\n"
     ]
    },
    {
     "name": "stdout",
     "output_type": "stream",
     "text": [
      "Total Count: 5269\n",
      "****************************************\n",
      "app_count: 2076\n",
      "mozilla_count: 3153\n",
      "chrome_count: 0\n",
      "safari_count: 1\n",
      "firefox_count: 0\n",
      "opera_count: 6\n",
      "****************************************\n",
      "windows_count: 1130\n",
      "iphone_count: 2459\n",
      "ipad_count: 364\n",
      "android_count: 490\n",
      "mac_count: 729\n",
      "linux_count: 6\n",
      "apple_device_count: 58\n"
     ]
    },
    {
     "data": {
      "text/html": [
       "<div>\n",
       "<style scoped>\n",
       "    .dataframe tbody tr th:only-of-type {\n",
       "        vertical-align: middle;\n",
       "    }\n",
       "\n",
       "    .dataframe tbody tr th {\n",
       "        vertical-align: top;\n",
       "    }\n",
       "\n",
       "    .dataframe thead th {\n",
       "        text-align: right;\n",
       "    }\n",
       "</style>\n",
       "<table border=\"1\" class=\"dataframe\">\n",
       "  <thead>\n",
       "    <tr style=\"text-align: right;\">\n",
       "      <th></th>\n",
       "      <th>session_id</th>\n",
       "      <th>session_number</th>\n",
       "      <th>client_agent</th>\n",
       "      <th>device_details</th>\n",
       "      <th>date</th>\n",
       "      <th>purchased</th>\n",
       "      <th>added_in_cart</th>\n",
       "      <th>checked_out</th>\n",
       "      <th>time_spent</th>\n",
       "      <th>Device_org</th>\n",
       "      <th>Platform_org</th>\n",
       "      <th>Platform</th>\n",
       "      <th>Device</th>\n",
       "    </tr>\n",
       "  </thead>\n",
       "  <tbody>\n",
       "    <tr>\n",
       "      <th>0</th>\n",
       "      <td>57f879e70d3c5fc2a98102d64c9fd84e</td>\n",
       "      <td>715</td>\n",
       "      <td>Mozilla/5.0 (Windows NT 6.1; WOW64) AppleWebKi...</td>\n",
       "      <td>Desktop - Chrome</td>\n",
       "      <td>2020-01-22</td>\n",
       "      <td>1</td>\n",
       "      <td>0</td>\n",
       "      <td>0</td>\n",
       "      <td>236.886</td>\n",
       "      <td>Desktop</td>\n",
       "      <td>Chrome</td>\n",
       "      <td>mozilla</td>\n",
       "      <td>windows</td>\n",
       "    </tr>\n",
       "    <tr>\n",
       "      <th>1</th>\n",
       "      <td>a5442b0c7c33d0a811e7661e556b2de8</td>\n",
       "      <td>55</td>\n",
       "      <td>Product/8.0 iPhone/8.1.3</td>\n",
       "      <td>iPhone - iOS</td>\n",
       "      <td>2020-02-27</td>\n",
       "      <td>1</td>\n",
       "      <td>0</td>\n",
       "      <td>0</td>\n",
       "      <td>1277.455</td>\n",
       "      <td>iPhone</td>\n",
       "      <td>iOS</td>\n",
       "      <td>app</td>\n",
       "      <td>iphone</td>\n",
       "    </tr>\n",
       "    <tr>\n",
       "      <th>2</th>\n",
       "      <td>305cb1486ed8610c00b37007926cb2c4</td>\n",
       "      <td>11</td>\n",
       "      <td>Mozilla/5.0 (iPhone; CPU iPhone OS 7_1_2 like ...</td>\n",
       "      <td>iPhone - MobileWeb</td>\n",
       "      <td>2019-08-01</td>\n",
       "      <td>0</td>\n",
       "      <td>0</td>\n",
       "      <td>0</td>\n",
       "      <td>21.704</td>\n",
       "      <td>iPhone</td>\n",
       "      <td>MobileWeb</td>\n",
       "      <td>mozilla</td>\n",
       "      <td>iphone</td>\n",
       "    </tr>\n",
       "    <tr>\n",
       "      <th>3</th>\n",
       "      <td>f2c1ecc9993f0071df91ba178450498c</td>\n",
       "      <td>2794</td>\n",
       "      <td>Mozilla/5.0 (compatible; MSIE 9.0; Windows NT ...</td>\n",
       "      <td>Desktop - IE</td>\n",
       "      <td>2019-12-30</td>\n",
       "      <td>0</td>\n",
       "      <td>1</td>\n",
       "      <td>0</td>\n",
       "      <td>455.201</td>\n",
       "      <td>Desktop</td>\n",
       "      <td>IE</td>\n",
       "      <td>mozilla</td>\n",
       "      <td>windows</td>\n",
       "    </tr>\n",
       "    <tr>\n",
       "      <th>4</th>\n",
       "      <td>e460830ae295e55d2216ebdc761ab9a6</td>\n",
       "      <td>3674</td>\n",
       "      <td>Mozilla/5.0 (iPhone; CPU iPhone OS 7_1_1 like ...</td>\n",
       "      <td>iPhone - Web</td>\n",
       "      <td>2019-09-10</td>\n",
       "      <td>0</td>\n",
       "      <td>0</td>\n",
       "      <td>0</td>\n",
       "      <td>1164.877</td>\n",
       "      <td>iPhone</td>\n",
       "      <td>Web</td>\n",
       "      <td>mozilla</td>\n",
       "      <td>iphone</td>\n",
       "    </tr>\n",
       "  </tbody>\n",
       "</table>\n",
       "</div>"
      ],
      "text/plain": [
       "                         session_id  session_number  \\\n",
       "0  57f879e70d3c5fc2a98102d64c9fd84e             715   \n",
       "1  a5442b0c7c33d0a811e7661e556b2de8              55   \n",
       "2  305cb1486ed8610c00b37007926cb2c4              11   \n",
       "3  f2c1ecc9993f0071df91ba178450498c            2794   \n",
       "4  e460830ae295e55d2216ebdc761ab9a6            3674   \n",
       "\n",
       "                                        client_agent      device_details  \\\n",
       "0  Mozilla/5.0 (Windows NT 6.1; WOW64) AppleWebKi...    Desktop - Chrome   \n",
       "1                           Product/8.0 iPhone/8.1.3        iPhone - iOS   \n",
       "2  Mozilla/5.0 (iPhone; CPU iPhone OS 7_1_2 like ...  iPhone - MobileWeb   \n",
       "3  Mozilla/5.0 (compatible; MSIE 9.0; Windows NT ...        Desktop - IE   \n",
       "4  Mozilla/5.0 (iPhone; CPU iPhone OS 7_1_1 like ...        iPhone - Web   \n",
       "\n",
       "        date  purchased  added_in_cart  checked_out  time_spent Device_org  \\\n",
       "0 2020-01-22          1              0            0     236.886   Desktop    \n",
       "1 2020-02-27          1              0            0    1277.455    iPhone    \n",
       "2 2019-08-01          0              0            0      21.704    iPhone    \n",
       "3 2019-12-30          0              1            0     455.201   Desktop    \n",
       "4 2019-09-10          0              0            0    1164.877    iPhone    \n",
       "\n",
       "  Platform_org Platform   Device  \n",
       "0       Chrome  mozilla  windows  \n",
       "1          iOS      app   iphone  \n",
       "2    MobileWeb  mozilla   iphone  \n",
       "3           IE  mozilla  windows  \n",
       "4          Web  mozilla   iphone  "
      ]
     },
     "execution_count": 579,
     "metadata": {},
     "output_type": "execute_result"
    }
   ],
   "source": [
    "dfTrain =split_client_agent(dfTrain)\n",
    "dfTrain.head()"
   ]
  },
  {
   "cell_type": "code",
   "execution_count": 580,
   "metadata": {},
   "outputs": [],
   "source": [
    "# dfTrain.to_csv('Train_client.csv')"
   ]
  },
  {
   "cell_type": "code",
   "execution_count": 581,
   "metadata": {},
   "outputs": [
    {
     "data": {
      "text/plain": [
       "session_id          0\n",
       "session_number      0\n",
       "client_agent      160\n",
       "device_details      0\n",
       "date                0\n",
       "purchased           0\n",
       "added_in_cart       0\n",
       "checked_out         0\n",
       "time_spent          0\n",
       "Device_org          0\n",
       "Platform_org        0\n",
       "Platform            0\n",
       "Device              0\n",
       "dtype: int64"
      ]
     },
     "execution_count": 581,
     "metadata": {},
     "output_type": "execute_result"
    }
   ],
   "source": [
    "dfTrain.isnull().sum()"
   ]
  },
  {
   "cell_type": "code",
   "execution_count": 582,
   "metadata": {},
   "outputs": [
    {
     "data": {
      "text/plain": [
       "session_id         0\n",
       "session_number     0\n",
       "client_agent      59\n",
       "device_details     0\n",
       "date               0\n",
       "purchased          0\n",
       "added_in_cart      0\n",
       "checked_out        0\n",
       "Device_org         0\n",
       "Platform_org       0\n",
       "dtype: int64"
      ]
     },
     "execution_count": 582,
     "metadata": {},
     "output_type": "execute_result"
    }
   ],
   "source": [
    "dfTest.isnull().sum()"
   ]
  },
  {
   "cell_type": "code",
   "execution_count": 583,
   "metadata": {},
   "outputs": [
    {
     "name": "stderr",
     "output_type": "stream",
     "text": [
      "e:\\pythonforselenium\\lib\\site-packages\\pandas\\core\\indexing.py:670: SettingWithCopyWarning: \n",
      "A value is trying to be set on a copy of a slice from a DataFrame\n",
      "\n",
      "See the caveats in the documentation: https://pandas.pydata.org/pandas-docs/stable/user_guide/indexing.html#returning-a-view-versus-a-copy\n",
      "  iloc._setitem_with_indexer(indexer, value)\n"
     ]
    },
    {
     "name": "stdout",
     "output_type": "stream",
     "text": [
      "Total Count: 2268\n",
      "****************************************\n",
      "app_count: 863\n",
      "mozilla_count: 1382\n",
      "chrome_count: 0\n",
      "safari_count: 0\n",
      "firefox_count: 0\n",
      "opera_count: 4\n",
      "****************************************\n",
      "windows_count: 526\n",
      "iphone_count: 1048\n",
      "ipad_count: 166\n",
      "android_count: 178\n",
      "mac_count: 299\n",
      "linux_count: 2\n",
      "apple_device_count: 28\n"
     ]
    },
    {
     "data": {
      "text/html": [
       "<div>\n",
       "<style scoped>\n",
       "    .dataframe tbody tr th:only-of-type {\n",
       "        vertical-align: middle;\n",
       "    }\n",
       "\n",
       "    .dataframe tbody tr th {\n",
       "        vertical-align: top;\n",
       "    }\n",
       "\n",
       "    .dataframe thead th {\n",
       "        text-align: right;\n",
       "    }\n",
       "</style>\n",
       "<table border=\"1\" class=\"dataframe\">\n",
       "  <thead>\n",
       "    <tr style=\"text-align: right;\">\n",
       "      <th></th>\n",
       "      <th>session_id</th>\n",
       "      <th>session_number</th>\n",
       "      <th>client_agent</th>\n",
       "      <th>device_details</th>\n",
       "      <th>date</th>\n",
       "      <th>purchased</th>\n",
       "      <th>added_in_cart</th>\n",
       "      <th>checked_out</th>\n",
       "      <th>Device_org</th>\n",
       "      <th>Platform_org</th>\n",
       "      <th>Platform</th>\n",
       "      <th>Device</th>\n",
       "    </tr>\n",
       "  </thead>\n",
       "  <tbody>\n",
       "    <tr>\n",
       "      <th>0</th>\n",
       "      <td>0bf72b05b2cf70dc5e28c3c09f9c4f97</td>\n",
       "      <td>99</td>\n",
       "      <td>Mozilla/5.0 (Windows NT 6.1; WOW64; Trident/7....</td>\n",
       "      <td>Desktop - IE</td>\n",
       "      <td>2020-01-07</td>\n",
       "      <td>1</td>\n",
       "      <td>0</td>\n",
       "      <td>0</td>\n",
       "      <td>Desktop</td>\n",
       "      <td>IE</td>\n",
       "      <td>mozilla</td>\n",
       "      <td>windows</td>\n",
       "    </tr>\n",
       "    <tr>\n",
       "      <th>1</th>\n",
       "      <td>6bc696d99954e4f1367e845465186aef</td>\n",
       "      <td>935</td>\n",
       "      <td>Product/160393 Android/4.3 Device/samsung_GT-I...</td>\n",
       "      <td>Android Phone - Android</td>\n",
       "      <td>2020-02-13</td>\n",
       "      <td>0</td>\n",
       "      <td>0</td>\n",
       "      <td>0</td>\n",
       "      <td>Android Phone</td>\n",
       "      <td>Android</td>\n",
       "      <td>app</td>\n",
       "      <td>android</td>\n",
       "    </tr>\n",
       "    <tr>\n",
       "      <th>2</th>\n",
       "      <td>3d8611a5ea0f621d205b67f09f663a89</td>\n",
       "      <td>902</td>\n",
       "      <td>Product/4.2.2 iPhone/7.1.2</td>\n",
       "      <td>iPhone - iOS</td>\n",
       "      <td>2019-10-14</td>\n",
       "      <td>1</td>\n",
       "      <td>0</td>\n",
       "      <td>0</td>\n",
       "      <td>iPhone</td>\n",
       "      <td>iOS</td>\n",
       "      <td>app</td>\n",
       "      <td>iphone</td>\n",
       "    </tr>\n",
       "    <tr>\n",
       "      <th>3</th>\n",
       "      <td>a0351545c032fd0da36289410c6c3354</td>\n",
       "      <td>3223</td>\n",
       "      <td>Mozilla/5.0 (compatible; MSIE 9.0; Windows NT ...</td>\n",
       "      <td>Desktop - IE</td>\n",
       "      <td>2020-01-26</td>\n",
       "      <td>0</td>\n",
       "      <td>0</td>\n",
       "      <td>0</td>\n",
       "      <td>Desktop</td>\n",
       "      <td>IE</td>\n",
       "      <td>mozilla</td>\n",
       "      <td>windows</td>\n",
       "    </tr>\n",
       "    <tr>\n",
       "      <th>4</th>\n",
       "      <td>dd8999772b0ab27225fb05e5df2f1da6</td>\n",
       "      <td>231</td>\n",
       "      <td>Mozilla/5.0 (Windows NT 6.3; WOW64) AppleWebKi...</td>\n",
       "      <td>Desktop - Chrome</td>\n",
       "      <td>2020-01-29</td>\n",
       "      <td>0</td>\n",
       "      <td>0</td>\n",
       "      <td>0</td>\n",
       "      <td>Desktop</td>\n",
       "      <td>Chrome</td>\n",
       "      <td>mozilla</td>\n",
       "      <td>windows</td>\n",
       "    </tr>\n",
       "  </tbody>\n",
       "</table>\n",
       "</div>"
      ],
      "text/plain": [
       "                         session_id  session_number  \\\n",
       "0  0bf72b05b2cf70dc5e28c3c09f9c4f97              99   \n",
       "1  6bc696d99954e4f1367e845465186aef             935   \n",
       "2  3d8611a5ea0f621d205b67f09f663a89             902   \n",
       "3  a0351545c032fd0da36289410c6c3354            3223   \n",
       "4  dd8999772b0ab27225fb05e5df2f1da6             231   \n",
       "\n",
       "                                        client_agent           device_details  \\\n",
       "0  Mozilla/5.0 (Windows NT 6.1; WOW64; Trident/7....             Desktop - IE   \n",
       "1  Product/160393 Android/4.3 Device/samsung_GT-I...  Android Phone - Android   \n",
       "2                         Product/4.2.2 iPhone/7.1.2             iPhone - iOS   \n",
       "3  Mozilla/5.0 (compatible; MSIE 9.0; Windows NT ...             Desktop - IE   \n",
       "4  Mozilla/5.0 (Windows NT 6.3; WOW64) AppleWebKi...         Desktop - Chrome   \n",
       "\n",
       "        date  purchased  added_in_cart  checked_out      Device_org  \\\n",
       "0 2020-01-07          1              0            0        Desktop    \n",
       "1 2020-02-13          0              0            0  Android Phone    \n",
       "2 2019-10-14          1              0            0         iPhone    \n",
       "3 2020-01-26          0              0            0        Desktop    \n",
       "4 2020-01-29          0              0            0        Desktop    \n",
       "\n",
       "  Platform_org Platform   Device  \n",
       "0           IE  mozilla  windows  \n",
       "1      Android      app  android  \n",
       "2          iOS      app   iphone  \n",
       "3           IE  mozilla  windows  \n",
       "4       Chrome  mozilla  windows  "
      ]
     },
     "execution_count": 583,
     "metadata": {},
     "output_type": "execute_result"
    }
   ],
   "source": [
    "dfTest =split_client_agent(dfTest)\n",
    "dfTest.head()"
   ]
  },
  {
   "cell_type": "code",
   "execution_count": 584,
   "metadata": {},
   "outputs": [],
   "source": [
    "dfTrain.replace(\"Typhoeus - https://github.com/typhoeus/typhoeus\",\"nan\",inplace=True)\n",
    "dfTest.replace(\"Typhoeus - https://github.com/typhoeus/typhoeus\",\"nan\",inplace=True)"
   ]
  },
  {
   "cell_type": "code",
   "execution_count": 585,
   "metadata": {},
   "outputs": [],
   "source": [
    "dfTrain.replace(\"nan\", np.nan, inplace=True)\n",
    "dfTest.replace('nan',np.nan, inplace=True)"
   ]
  },
  {
   "cell_type": "code",
   "execution_count": 586,
   "metadata": {},
   "outputs": [],
   "source": [
    "dfTrain.fillna(method=\"ffill\", inplace=True)\n",
    "dfTest.fillna(method=\"ffill\", inplace=True)"
   ]
  },
  {
   "cell_type": "code",
   "execution_count": 587,
   "metadata": {},
   "outputs": [
    {
     "data": {
      "text/plain": [
       "iPhone - iOS                  1515\n",
       "Desktop - Chrome               815\n",
       "iPhone - Web                   665\n",
       "Android Phone - Android        326\n",
       "Desktop - Safari               313\n",
       "Desktop - IE                   292\n",
       "iPad - Web                     289\n",
       "iPhone - MobileWeb             277\n",
       "Desktop - Firefox              234\n",
       "Android Tablet - Web           203\n",
       "Other - Other                  185\n",
       "Unknown - MobileWeb             87\n",
       "Android Phone - Web             86\n",
       "iPad - iOS                      77\n",
       "Android Phone - MobileWeb       54\n",
       "Android Tablet - Android         9\n",
       "Android Tablet - MobileWeb       2\n",
       "Name: device_details, dtype: int64"
      ]
     },
     "execution_count": 587,
     "metadata": {},
     "output_type": "execute_result"
    }
   ],
   "source": [
    "dfTrain.device_details.value_counts()"
   ]
  },
  {
   "cell_type": "code",
   "execution_count": 588,
   "metadata": {},
   "outputs": [
    {
     "data": {
      "text/plain": [
       "17"
      ]
     },
     "execution_count": 588,
     "metadata": {},
     "output_type": "execute_result"
    }
   ],
   "source": [
    "dfTrain.device_details.nunique()"
   ]
  },
  {
   "cell_type": "code",
   "execution_count": 589,
   "metadata": {},
   "outputs": [
    {
     "data": {
      "text/plain": [
       "342"
      ]
     },
     "execution_count": 589,
     "metadata": {},
     "output_type": "execute_result"
    }
   ],
   "source": [
    "dfTrain.date.nunique()"
   ]
  },
  {
   "cell_type": "code",
   "execution_count": 590,
   "metadata": {},
   "outputs": [
    {
     "data": {
      "text/plain": [
       "0    4565\n",
       "1     864\n",
       "Name: purchased, dtype: int64"
      ]
     },
     "execution_count": 590,
     "metadata": {},
     "output_type": "execute_result"
    },
    {
     "data": {
      "image/png": "[encoded data removed]",
      "text/plain": [
       "<Figure size 432x288 with 1 Axes>"
      ]
     },
     "metadata": {
      "needs_background": "light"
     },
     "output_type": "display_data"
    }
   ],
   "source": [
    "dfTrain.purchased.value_counts().plot(kind='bar')\n",
    "dfTrain.purchased.value_counts()"
   ]
  },
  {
   "cell_type": "code",
   "execution_count": 591,
   "metadata": {},
   "outputs": [
    {
     "data": {
      "text/plain": [
       "0    4549\n",
       "1     880\n",
       "Name: added_in_cart, dtype: int64"
      ]
     },
     "execution_count": 591,
     "metadata": {},
     "output_type": "execute_result"
    },
    {
     "data": {
      "image/png": "[encoded data removed]",
      "text/plain": [
       "<Figure size 432x288 with 1 Axes>"
      ]
     },
     "metadata": {
      "needs_background": "light"
     },
     "output_type": "display_data"
    }
   ],
   "source": [
    "dfTrain.added_in_cart.value_counts().plot(kind='bar')\n",
    "dfTrain.added_in_cart.value_counts()"
   ]
  },
  {
   "cell_type": "code",
   "execution_count": 592,
   "metadata": {},
   "outputs": [
    {
     "data": {
      "text/plain": [
       "0    5334\n",
       "1      95\n",
       "Name: checked_out, dtype: int64"
      ]
     },
     "execution_count": 592,
     "metadata": {},
     "output_type": "execute_result"
    },
    {
     "data": {
      "image/png": "[encoded data removed]",
      "text/plain": [
       "<Figure size 432x288 with 1 Axes>"
      ]
     },
     "metadata": {
      "needs_background": "light"
     },
     "output_type": "display_data"
    }
   ],
   "source": [
    "dfTrain.checked_out.value_counts().plot(kind='bar')\n",
    "dfTrain.checked_out.value_counts()"
   ]
  },
  {
   "cell_type": "code",
   "execution_count": 593,
   "metadata": {},
   "outputs": [
    {
     "data": {
      "text/plain": [
       "8.035340699877555"
      ]
     },
     "execution_count": 593,
     "metadata": {},
     "output_type": "execute_result"
    }
   ],
   "source": [
    "skew(dfTrain['time_spent'])"
   ]
  },
  {
   "cell_type": "code",
   "execution_count": 594,
   "metadata": {},
   "outputs": [
    {
     "data": {
      "text/plain": [
       "0.5047400928429242"
      ]
     },
     "execution_count": 594,
     "metadata": {},
     "output_type": "execute_result"
    }
   ],
   "source": [
    "skew(np.log1p(dfTrain['time_spent']))"
   ]
  },
  {
   "cell_type": "code",
   "execution_count": 595,
   "metadata": {},
   "outputs": [
    {
     "data": {
      "text/plain": [
       "<AxesSubplot:xlabel='time_spent', ylabel='Density'>"
      ]
     },
     "execution_count": 595,
     "metadata": {},
     "output_type": "execute_result"
    },
    {
     "data": {
      "image/png": "[encoded data removed]",
      "text/plain": [
       "<Figure size 432x288 with 1 Axes>"
      ]
     },
     "metadata": {
      "needs_background": "light"
     },
     "output_type": "display_data"
    }
   ],
   "source": [
    "sns.kdeplot(dfTrain['time_spent'])"
   ]
  },
  {
   "cell_type": "code",
   "execution_count": 596,
   "metadata": {},
   "outputs": [
    {
     "name": "stderr",
     "output_type": "stream",
     "text": [
      "e:\\pythonforselenium\\lib\\site-packages\\seaborn\\distributions.py:2551: FutureWarning: `distplot` is a deprecated function and will be removed in a future version. Please adapt your code to use either `displot` (a figure-level function with similar flexibility) or `histplot` (an axes-level function for histograms).\n",
      "  warnings.warn(msg, FutureWarning)\n"
     ]
    },
    {
     "data": {
      "image/png": "[encoded data removed]",
      "text/plain": [
       "<Figure size 432x288 with 1 Axes>"
      ]
     },
     "metadata": {
      "needs_background": "light"
     },
     "output_type": "display_data"
    }
   ],
   "source": [
    "sns.distplot(np.log1p(dfTrain['time_spent']))\n",
    "plt.show()"
   ]
  },
  {
   "cell_type": "code",
   "execution_count": 597,
   "metadata": {},
   "outputs": [
    {
     "name": "stderr",
     "output_type": "stream",
     "text": [
      "e:\\pythonforselenium\\lib\\site-packages\\seaborn\\distributions.py:2551: FutureWarning: `distplot` is a deprecated function and will be removed in a future version. Please adapt your code to use either `displot` (a figure-level function with similar flexibility) or `histplot` (an axes-level function for histograms).\n",
      "  warnings.warn(msg, FutureWarning)\n"
     ]
    },
    {
     "data": {
      "image/png": "[encoded data removed]",
      "text/plain": [
       "<Figure size 432x288 with 1 Axes>"
      ]
     },
     "metadata": {
      "needs_background": "light"
     },
     "output_type": "display_data"
    }
   ],
   "source": [
    "sns.distplot(dfTrain['time_spent'])\n",
    "plt.show()"
   ]
  },
  {
   "cell_type": "code",
   "execution_count": 598,
   "metadata": {},
   "outputs": [
    {
     "data": {
      "image/png": "[encoded data removed]",
      "text/plain": [
       "<Figure size 432x288 with 1 Axes>"
      ]
     },
     "metadata": {
      "needs_background": "light"
     },
     "output_type": "display_data"
    }
   ],
   "source": [
    "plt.hist(dfTrain['time_spent'])\n",
    "plt.show()"
   ]
  },
  {
   "cell_type": "code",
   "execution_count": 599,
   "metadata": {},
   "outputs": [
    {
     "data": {
      "text/plain": [
       "session_number\n",
       "11      494.134828\n",
       "22      737.616760\n",
       "33      913.697803\n",
       "44      606.066594\n",
       "55      476.672914\n",
       "           ...    \n",
       "7678     22.437000\n",
       "7689    169.578000\n",
       "7700     31.313000\n",
       "7711     20.191000\n",
       "7722    167.263000\n",
       "Name: time_spent, Length: 610, dtype: float64"
      ]
     },
     "execution_count": 599,
     "metadata": {},
     "output_type": "execute_result"
    }
   ],
   "source": [
    "dfTrain.groupby('session_number')['time_spent'].mean()"
   ]
  },
  {
   "cell_type": "code",
   "execution_count": 600,
   "metadata": {},
   "outputs": [
    {
     "data": {
      "text/plain": [
       "256"
      ]
     },
     "execution_count": 600,
     "metadata": {},
     "output_type": "execute_result"
    }
   ],
   "source": [
    "#nothing to infer from session_id column\n",
    "dfTrain['session_id'].str[:2].nunique()"
   ]
  },
  {
   "cell_type": "code",
   "execution_count": 601,
   "metadata": {},
   "outputs": [
    {
     "data": {
      "text/html": [
       "<div>\n",
       "<style scoped>\n",
       "    .dataframe tbody tr th:only-of-type {\n",
       "        vertical-align: middle;\n",
       "    }\n",
       "\n",
       "    .dataframe tbody tr th {\n",
       "        vertical-align: top;\n",
       "    }\n",
       "\n",
       "    .dataframe thead th {\n",
       "        text-align: right;\n",
       "    }\n",
       "</style>\n",
       "<table border=\"1\" class=\"dataframe\">\n",
       "  <thead>\n",
       "    <tr style=\"text-align: right;\">\n",
       "      <th></th>\n",
       "      <th>session_id</th>\n",
       "      <th>session_number</th>\n",
       "      <th>client_agent</th>\n",
       "      <th>device_details</th>\n",
       "      <th>date</th>\n",
       "      <th>purchased</th>\n",
       "      <th>added_in_cart</th>\n",
       "      <th>checked_out</th>\n",
       "      <th>time_spent</th>\n",
       "      <th>Device_org</th>\n",
       "      <th>Platform_org</th>\n",
       "      <th>Platform</th>\n",
       "      <th>Device</th>\n",
       "    </tr>\n",
       "  </thead>\n",
       "  <tbody>\n",
       "    <tr>\n",
       "      <th>0</th>\n",
       "      <td>57f879e70d3c5fc2a98102d64c9fd84e</td>\n",
       "      <td>715</td>\n",
       "      <td>Mozilla/5.0 (Windows NT 6.1; WOW64) AppleWebKi...</td>\n",
       "      <td>Desktop - Chrome</td>\n",
       "      <td>2020-01-22</td>\n",
       "      <td>1</td>\n",
       "      <td>0</td>\n",
       "      <td>0</td>\n",
       "      <td>236.886</td>\n",
       "      <td>Desktop</td>\n",
       "      <td>Chrome</td>\n",
       "      <td>mozilla</td>\n",
       "      <td>windows</td>\n",
       "    </tr>\n",
       "    <tr>\n",
       "      <th>1</th>\n",
       "      <td>a5442b0c7c33d0a811e7661e556b2de8</td>\n",
       "      <td>55</td>\n",
       "      <td>Product/8.0 iPhone/8.1.3</td>\n",
       "      <td>iPhone - iOS</td>\n",
       "      <td>2020-02-27</td>\n",
       "      <td>1</td>\n",
       "      <td>0</td>\n",
       "      <td>0</td>\n",
       "      <td>1277.455</td>\n",
       "      <td>iPhone</td>\n",
       "      <td>iOS</td>\n",
       "      <td>app</td>\n",
       "      <td>iphone</td>\n",
       "    </tr>\n",
       "    <tr>\n",
       "      <th>2</th>\n",
       "      <td>305cb1486ed8610c00b37007926cb2c4</td>\n",
       "      <td>11</td>\n",
       "      <td>Mozilla/5.0 (iPhone; CPU iPhone OS 7_1_2 like ...</td>\n",
       "      <td>iPhone - MobileWeb</td>\n",
       "      <td>2019-08-01</td>\n",
       "      <td>0</td>\n",
       "      <td>0</td>\n",
       "      <td>0</td>\n",
       "      <td>21.704</td>\n",
       "      <td>iPhone</td>\n",
       "      <td>MobileWeb</td>\n",
       "      <td>mozilla</td>\n",
       "      <td>iphone</td>\n",
       "    </tr>\n",
       "    <tr>\n",
       "      <th>3</th>\n",
       "      <td>f2c1ecc9993f0071df91ba178450498c</td>\n",
       "      <td>2794</td>\n",
       "      <td>Mozilla/5.0 (compatible; MSIE 9.0; Windows NT ...</td>\n",
       "      <td>Desktop - IE</td>\n",
       "      <td>2019-12-30</td>\n",
       "      <td>0</td>\n",
       "      <td>1</td>\n",
       "      <td>0</td>\n",
       "      <td>455.201</td>\n",
       "      <td>Desktop</td>\n",
       "      <td>IE</td>\n",
       "      <td>mozilla</td>\n",
       "      <td>windows</td>\n",
       "    </tr>\n",
       "    <tr>\n",
       "      <th>4</th>\n",
       "      <td>e460830ae295e55d2216ebdc761ab9a6</td>\n",
       "      <td>3674</td>\n",
       "      <td>Mozilla/5.0 (iPhone; CPU iPhone OS 7_1_1 like ...</td>\n",
       "      <td>iPhone - Web</td>\n",
       "      <td>2019-09-10</td>\n",
       "      <td>0</td>\n",
       "      <td>0</td>\n",
       "      <td>0</td>\n",
       "      <td>1164.877</td>\n",
       "      <td>iPhone</td>\n",
       "      <td>Web</td>\n",
       "      <td>mozilla</td>\n",
       "      <td>iphone</td>\n",
       "    </tr>\n",
       "  </tbody>\n",
       "</table>\n",
       "</div>"
      ],
      "text/plain": [
       "                         session_id  session_number  \\\n",
       "0  57f879e70d3c5fc2a98102d64c9fd84e             715   \n",
       "1  a5442b0c7c33d0a811e7661e556b2de8              55   \n",
       "2  305cb1486ed8610c00b37007926cb2c4              11   \n",
       "3  f2c1ecc9993f0071df91ba178450498c            2794   \n",
       "4  e460830ae295e55d2216ebdc761ab9a6            3674   \n",
       "\n",
       "                                        client_agent      device_details  \\\n",
       "0  Mozilla/5.0 (Windows NT 6.1; WOW64) AppleWebKi...    Desktop - Chrome   \n",
       "1                           Product/8.0 iPhone/8.1.3        iPhone - iOS   \n",
       "2  Mozilla/5.0 (iPhone; CPU iPhone OS 7_1_2 like ...  iPhone - MobileWeb   \n",
       "3  Mozilla/5.0 (compatible; MSIE 9.0; Windows NT ...        Desktop - IE   \n",
       "4  Mozilla/5.0 (iPhone; CPU iPhone OS 7_1_1 like ...        iPhone - Web   \n",
       "\n",
       "        date  purchased  added_in_cart  checked_out  time_spent Device_org  \\\n",
       "0 2020-01-22          1              0            0     236.886   Desktop    \n",
       "1 2020-02-27          1              0            0    1277.455    iPhone    \n",
       "2 2019-08-01          0              0            0      21.704    iPhone    \n",
       "3 2019-12-30          0              1            0     455.201   Desktop    \n",
       "4 2019-09-10          0              0            0    1164.877    iPhone    \n",
       "\n",
       "  Platform_org Platform   Device  \n",
       "0       Chrome  mozilla  windows  \n",
       "1          iOS      app   iphone  \n",
       "2    MobileWeb  mozilla   iphone  \n",
       "3           IE  mozilla  windows  \n",
       "4          Web  mozilla   iphone  "
      ]
     },
     "execution_count": 601,
     "metadata": {},
     "output_type": "execute_result"
    }
   ],
   "source": [
    "dfTrain.head()"
   ]
  },
  {
   "cell_type": "code",
   "execution_count": 602,
   "metadata": {},
   "outputs": [
    {
     "data": {
      "text/plain": [
       "5206"
      ]
     },
     "execution_count": 602,
     "metadata": {},
     "output_type": "execute_result"
    }
   ],
   "source": [
    "dfTrain['session_id'].str[:4].nunique()"
   ]
  },
  {
   "cell_type": "code",
   "execution_count": 603,
   "metadata": {},
   "outputs": [
    {
     "data": {
      "text/plain": [
       "5429"
      ]
     },
     "execution_count": 603,
     "metadata": {},
     "output_type": "execute_result"
    }
   ],
   "source": [
    "dfTrain['session_id'].str[:6].nunique()"
   ]
  },
  {
   "cell_type": "code",
   "execution_count": 604,
   "metadata": {},
   "outputs": [],
   "source": [
    "# dfTrain = dfTrain.fillna('unknown')\n",
    "# dfTest = dfTest.fillna('unknown')"
   ]
  },
  {
   "cell_type": "code",
   "execution_count": 605,
   "metadata": {},
   "outputs": [],
   "source": [
    "dfTrain=dfTrain.replace('-unknown-','unknown')\n",
    "dfTest=dfTest.replace('-unknown-','unknown')"
   ]
  },
  {
   "cell_type": "code",
   "execution_count": 606,
   "metadata": {},
   "outputs": [
    {
     "data": {
      "text/plain": [
       "session_id        0\n",
       "session_number    0\n",
       "client_agent      0\n",
       "device_details    0\n",
       "date              0\n",
       "purchased         0\n",
       "added_in_cart     0\n",
       "checked_out       0\n",
       "time_spent        0\n",
       "Device_org        0\n",
       "Platform_org      0\n",
       "Platform          0\n",
       "Device            0\n",
       "dtype: int64"
      ]
     },
     "execution_count": 606,
     "metadata": {},
     "output_type": "execute_result"
    }
   ],
   "source": [
    "# since there is a category called '-unknown-' already avaialable for unknown values replaced missing values with -unknown-\n",
    "dfTrain.isnull().sum()"
   ]
  },
  {
   "cell_type": "code",
   "execution_count": 607,
   "metadata": {},
   "outputs": [
    {
     "data": {
      "text/plain": [
       "session_id        0\n",
       "session_number    0\n",
       "client_agent      0\n",
       "device_details    0\n",
       "date              0\n",
       "purchased         0\n",
       "added_in_cart     0\n",
       "checked_out       0\n",
       "Device_org        0\n",
       "Platform_org      0\n",
       "Platform          0\n",
       "Device            0\n",
       "dtype: int64"
      ]
     },
     "execution_count": 607,
     "metadata": {},
     "output_type": "execute_result"
    }
   ],
   "source": [
    "dfTest.isnull().sum()"
   ]
  },
  {
   "cell_type": "code",
   "execution_count": 608,
   "metadata": {},
   "outputs": [],
   "source": [
    "from sklearn.preprocessing import LabelEncoder\n",
    "le= LabelEncoder()"
   ]
  },
  {
   "cell_type": "code",
   "execution_count": 609,
   "metadata": {},
   "outputs": [
    {
     "data": {
      "text/html": [
       "<div>\n",
       "<style scoped>\n",
       "    .dataframe tbody tr th:only-of-type {\n",
       "        vertical-align: middle;\n",
       "    }\n",
       "\n",
       "    .dataframe tbody tr th {\n",
       "        vertical-align: top;\n",
       "    }\n",
       "\n",
       "    .dataframe thead th {\n",
       "        text-align: right;\n",
       "    }\n",
       "</style>\n",
       "<table border=\"1\" class=\"dataframe\">\n",
       "  <thead>\n",
       "    <tr style=\"text-align: right;\">\n",
       "      <th></th>\n",
       "      <th>session_id</th>\n",
       "      <th>session_number</th>\n",
       "      <th>client_agent</th>\n",
       "      <th>device_details</th>\n",
       "      <th>date</th>\n",
       "      <th>purchased</th>\n",
       "      <th>added_in_cart</th>\n",
       "      <th>checked_out</th>\n",
       "      <th>time_spent</th>\n",
       "      <th>Device_org</th>\n",
       "      <th>Platform_org</th>\n",
       "      <th>Platform</th>\n",
       "      <th>Device</th>\n",
       "    </tr>\n",
       "  </thead>\n",
       "  <tbody>\n",
       "    <tr>\n",
       "      <th>0</th>\n",
       "      <td>57f879e70d3c5fc2a98102d64c9fd84e</td>\n",
       "      <td>715</td>\n",
       "      <td>Mozilla/5.0 (Windows NT 6.1; WOW64) AppleWebKi...</td>\n",
       "      <td>Desktop - Chrome</td>\n",
       "      <td>2020-01-22</td>\n",
       "      <td>1</td>\n",
       "      <td>0</td>\n",
       "      <td>0</td>\n",
       "      <td>236.886</td>\n",
       "      <td>2</td>\n",
       "      <td>1</td>\n",
       "      <td>1</td>\n",
       "      <td>6</td>\n",
       "    </tr>\n",
       "    <tr>\n",
       "      <th>1</th>\n",
       "      <td>a5442b0c7c33d0a811e7661e556b2de8</td>\n",
       "      <td>55</td>\n",
       "      <td>Product/8.0 iPhone/8.1.3</td>\n",
       "      <td>iPhone - iOS</td>\n",
       "      <td>2020-02-27</td>\n",
       "      <td>1</td>\n",
       "      <td>0</td>\n",
       "      <td>0</td>\n",
       "      <td>1277.455</td>\n",
       "      <td>6</td>\n",
       "      <td>8</td>\n",
       "      <td>0</td>\n",
       "      <td>3</td>\n",
       "    </tr>\n",
       "    <tr>\n",
       "      <th>2</th>\n",
       "      <td>305cb1486ed8610c00b37007926cb2c4</td>\n",
       "      <td>11</td>\n",
       "      <td>Mozilla/5.0 (iPhone; CPU iPhone OS 7_1_2 like ...</td>\n",
       "      <td>iPhone - MobileWeb</td>\n",
       "      <td>2019-08-01</td>\n",
       "      <td>0</td>\n",
       "      <td>0</td>\n",
       "      <td>0</td>\n",
       "      <td>21.704</td>\n",
       "      <td>6</td>\n",
       "      <td>4</td>\n",
       "      <td>1</td>\n",
       "      <td>3</td>\n",
       "    </tr>\n",
       "    <tr>\n",
       "      <th>3</th>\n",
       "      <td>f2c1ecc9993f0071df91ba178450498c</td>\n",
       "      <td>2794</td>\n",
       "      <td>Mozilla/5.0 (compatible; MSIE 9.0; Windows NT ...</td>\n",
       "      <td>Desktop - IE</td>\n",
       "      <td>2019-12-30</td>\n",
       "      <td>0</td>\n",
       "      <td>1</td>\n",
       "      <td>0</td>\n",
       "      <td>455.201</td>\n",
       "      <td>2</td>\n",
       "      <td>3</td>\n",
       "      <td>1</td>\n",
       "      <td>6</td>\n",
       "    </tr>\n",
       "    <tr>\n",
       "      <th>4</th>\n",
       "      <td>e460830ae295e55d2216ebdc761ab9a6</td>\n",
       "      <td>3674</td>\n",
       "      <td>Mozilla/5.0 (iPhone; CPU iPhone OS 7_1_1 like ...</td>\n",
       "      <td>iPhone - Web</td>\n",
       "      <td>2019-09-10</td>\n",
       "      <td>0</td>\n",
       "      <td>0</td>\n",
       "      <td>0</td>\n",
       "      <td>1164.877</td>\n",
       "      <td>6</td>\n",
       "      <td>7</td>\n",
       "      <td>1</td>\n",
       "      <td>3</td>\n",
       "    </tr>\n",
       "  </tbody>\n",
       "</table>\n",
       "</div>"
      ],
      "text/plain": [
       "                         session_id  session_number  \\\n",
       "0  57f879e70d3c5fc2a98102d64c9fd84e             715   \n",
       "1  a5442b0c7c33d0a811e7661e556b2de8              55   \n",
       "2  305cb1486ed8610c00b37007926cb2c4              11   \n",
       "3  f2c1ecc9993f0071df91ba178450498c            2794   \n",
       "4  e460830ae295e55d2216ebdc761ab9a6            3674   \n",
       "\n",
       "                                        client_agent      device_details  \\\n",
       "0  Mozilla/5.0 (Windows NT 6.1; WOW64) AppleWebKi...    Desktop - Chrome   \n",
       "1                           Product/8.0 iPhone/8.1.3        iPhone - iOS   \n",
       "2  Mozilla/5.0 (iPhone; CPU iPhone OS 7_1_2 like ...  iPhone - MobileWeb   \n",
       "3  Mozilla/5.0 (compatible; MSIE 9.0; Windows NT ...        Desktop - IE   \n",
       "4  Mozilla/5.0 (iPhone; CPU iPhone OS 7_1_1 like ...        iPhone - Web   \n",
       "\n",
       "        date  purchased  added_in_cart  checked_out  time_spent  Device_org  \\\n",
       "0 2020-01-22          1              0            0     236.886           2   \n",
       "1 2020-02-27          1              0            0    1277.455           6   \n",
       "2 2019-08-01          0              0            0      21.704           6   \n",
       "3 2019-12-30          0              1            0     455.201           2   \n",
       "4 2019-09-10          0              0            0    1164.877           6   \n",
       "\n",
       "   Platform_org  Platform  Device  \n",
       "0             1         1       6  \n",
       "1             8         0       3  \n",
       "2             4         1       3  \n",
       "3             3         1       6  \n",
       "4             7         1       3  "
      ]
     },
     "execution_count": 609,
     "metadata": {},
     "output_type": "execute_result"
    }
   ],
   "source": [
    "for column in ['Platform_org','Device_org','Platform','Device']:\n",
    "    dfTrain[column]=le.fit_transform(dfTrain[column])\n",
    "    dfTest[column] = le.fit_transform(dfTest[column])\n",
    "dfTrain.head()"
   ]
  },
  {
   "cell_type": "code",
   "execution_count": 610,
   "metadata": {},
   "outputs": [
    {
     "data": {
      "text/html": [
       "<div>\n",
       "<style scoped>\n",
       "    .dataframe tbody tr th:only-of-type {\n",
       "        vertical-align: middle;\n",
       "    }\n",
       "\n",
       "    .dataframe tbody tr th {\n",
       "        vertical-align: top;\n",
       "    }\n",
       "\n",
       "    .dataframe thead th {\n",
       "        text-align: right;\n",
       "    }\n",
       "</style>\n",
       "<table border=\"1\" class=\"dataframe\">\n",
       "  <thead>\n",
       "    <tr style=\"text-align: right;\">\n",
       "      <th></th>\n",
       "      <th>session_id</th>\n",
       "      <th>session_number</th>\n",
       "      <th>client_agent</th>\n",
       "      <th>device_details</th>\n",
       "      <th>date</th>\n",
       "      <th>purchased</th>\n",
       "      <th>added_in_cart</th>\n",
       "      <th>checked_out</th>\n",
       "      <th>Device_org</th>\n",
       "      <th>Platform_org</th>\n",
       "      <th>Platform</th>\n",
       "      <th>Device</th>\n",
       "    </tr>\n",
       "  </thead>\n",
       "  <tbody>\n",
       "    <tr>\n",
       "      <th>0</th>\n",
       "      <td>0bf72b05b2cf70dc5e28c3c09f9c4f97</td>\n",
       "      <td>99</td>\n",
       "      <td>Mozilla/5.0 (Windows NT 6.1; WOW64; Trident/7....</td>\n",
       "      <td>Desktop - IE</td>\n",
       "      <td>2020-01-07</td>\n",
       "      <td>1</td>\n",
       "      <td>0</td>\n",
       "      <td>0</td>\n",
       "      <td>2</td>\n",
       "      <td>3</td>\n",
       "      <td>1</td>\n",
       "      <td>6</td>\n",
       "    </tr>\n",
       "    <tr>\n",
       "      <th>1</th>\n",
       "      <td>6bc696d99954e4f1367e845465186aef</td>\n",
       "      <td>935</td>\n",
       "      <td>Product/160393 Android/4.3 Device/samsung_GT-I...</td>\n",
       "      <td>Android Phone - Android</td>\n",
       "      <td>2020-02-13</td>\n",
       "      <td>0</td>\n",
       "      <td>0</td>\n",
       "      <td>0</td>\n",
       "      <td>0</td>\n",
       "      <td>0</td>\n",
       "      <td>0</td>\n",
       "      <td>0</td>\n",
       "    </tr>\n",
       "    <tr>\n",
       "      <th>2</th>\n",
       "      <td>3d8611a5ea0f621d205b67f09f663a89</td>\n",
       "      <td>902</td>\n",
       "      <td>Product/4.2.2 iPhone/7.1.2</td>\n",
       "      <td>iPhone - iOS</td>\n",
       "      <td>2019-10-14</td>\n",
       "      <td>1</td>\n",
       "      <td>0</td>\n",
       "      <td>0</td>\n",
       "      <td>6</td>\n",
       "      <td>8</td>\n",
       "      <td>0</td>\n",
       "      <td>3</td>\n",
       "    </tr>\n",
       "    <tr>\n",
       "      <th>3</th>\n",
       "      <td>a0351545c032fd0da36289410c6c3354</td>\n",
       "      <td>3223</td>\n",
       "      <td>Mozilla/5.0 (compatible; MSIE 9.0; Windows NT ...</td>\n",
       "      <td>Desktop - IE</td>\n",
       "      <td>2020-01-26</td>\n",
       "      <td>0</td>\n",
       "      <td>0</td>\n",
       "      <td>0</td>\n",
       "      <td>2</td>\n",
       "      <td>3</td>\n",
       "      <td>1</td>\n",
       "      <td>6</td>\n",
       "    </tr>\n",
       "    <tr>\n",
       "      <th>4</th>\n",
       "      <td>dd8999772b0ab27225fb05e5df2f1da6</td>\n",
       "      <td>231</td>\n",
       "      <td>Mozilla/5.0 (Windows NT 6.3; WOW64) AppleWebKi...</td>\n",
       "      <td>Desktop - Chrome</td>\n",
       "      <td>2020-01-29</td>\n",
       "      <td>0</td>\n",
       "      <td>0</td>\n",
       "      <td>0</td>\n",
       "      <td>2</td>\n",
       "      <td>1</td>\n",
       "      <td>1</td>\n",
       "      <td>6</td>\n",
       "    </tr>\n",
       "  </tbody>\n",
       "</table>\n",
       "</div>"
      ],
      "text/plain": [
       "                         session_id  session_number  \\\n",
       "0  0bf72b05b2cf70dc5e28c3c09f9c4f97              99   \n",
       "1  6bc696d99954e4f1367e845465186aef             935   \n",
       "2  3d8611a5ea0f621d205b67f09f663a89             902   \n",
       "3  a0351545c032fd0da36289410c6c3354            3223   \n",
       "4  dd8999772b0ab27225fb05e5df2f1da6             231   \n",
       "\n",
       "                                        client_agent           device_details  \\\n",
       "0  Mozilla/5.0 (Windows NT 6.1; WOW64; Trident/7....             Desktop - IE   \n",
       "1  Product/160393 Android/4.3 Device/samsung_GT-I...  Android Phone - Android   \n",
       "2                         Product/4.2.2 iPhone/7.1.2             iPhone - iOS   \n",
       "3  Mozilla/5.0 (compatible; MSIE 9.0; Windows NT ...             Desktop - IE   \n",
       "4  Mozilla/5.0 (Windows NT 6.3; WOW64) AppleWebKi...         Desktop - Chrome   \n",
       "\n",
       "        date  purchased  added_in_cart  checked_out  Device_org  Platform_org  \\\n",
       "0 2020-01-07          1              0            0           2             3   \n",
       "1 2020-02-13          0              0            0           0             0   \n",
       "2 2019-10-14          1              0            0           6             8   \n",
       "3 2020-01-26          0              0            0           2             3   \n",
       "4 2020-01-29          0              0            0           2             1   \n",
       "\n",
       "   Platform  Device  \n",
       "0         1       6  \n",
       "1         0       0  \n",
       "2         0       3  \n",
       "3         1       6  \n",
       "4         1       6  "
      ]
     },
     "execution_count": 610,
     "metadata": {},
     "output_type": "execute_result"
    }
   ],
   "source": [
    "dfTest.head()"
   ]
  },
  {
   "cell_type": "code",
   "execution_count": 611,
   "metadata": {},
   "outputs": [],
   "source": [
    "dfTrain= dfTrain.drop(['session_id','client_agent','device_details'], axis=1)\n",
    "dfTest = dfTest.drop(['session_id','client_agent','device_details'],axis=1)"
   ]
  },
  {
   "cell_type": "code",
   "execution_count": 612,
   "metadata": {},
   "outputs": [
    {
     "data": {
      "text/html": [
       "<div>\n",
       "<style scoped>\n",
       "    .dataframe tbody tr th:only-of-type {\n",
       "        vertical-align: middle;\n",
       "    }\n",
       "\n",
       "    .dataframe tbody tr th {\n",
       "        vertical-align: top;\n",
       "    }\n",
       "\n",
       "    .dataframe thead th {\n",
       "        text-align: right;\n",
       "    }\n",
       "</style>\n",
       "<table border=\"1\" class=\"dataframe\">\n",
       "  <thead>\n",
       "    <tr style=\"text-align: right;\">\n",
       "      <th></th>\n",
       "      <th>session_number</th>\n",
       "      <th>date</th>\n",
       "      <th>purchased</th>\n",
       "      <th>added_in_cart</th>\n",
       "      <th>checked_out</th>\n",
       "      <th>time_spent</th>\n",
       "      <th>Device_org</th>\n",
       "      <th>Platform_org</th>\n",
       "      <th>Platform</th>\n",
       "      <th>Device</th>\n",
       "    </tr>\n",
       "  </thead>\n",
       "  <tbody>\n",
       "    <tr>\n",
       "      <th>0</th>\n",
       "      <td>715</td>\n",
       "      <td>2020-01-22</td>\n",
       "      <td>1</td>\n",
       "      <td>0</td>\n",
       "      <td>0</td>\n",
       "      <td>236.886</td>\n",
       "      <td>2</td>\n",
       "      <td>1</td>\n",
       "      <td>1</td>\n",
       "      <td>6</td>\n",
       "    </tr>\n",
       "    <tr>\n",
       "      <th>1</th>\n",
       "      <td>55</td>\n",
       "      <td>2020-02-27</td>\n",
       "      <td>1</td>\n",
       "      <td>0</td>\n",
       "      <td>0</td>\n",
       "      <td>1277.455</td>\n",
       "      <td>6</td>\n",
       "      <td>8</td>\n",
       "      <td>0</td>\n",
       "      <td>3</td>\n",
       "    </tr>\n",
       "    <tr>\n",
       "      <th>2</th>\n",
       "      <td>11</td>\n",
       "      <td>2019-08-01</td>\n",
       "      <td>0</td>\n",
       "      <td>0</td>\n",
       "      <td>0</td>\n",
       "      <td>21.704</td>\n",
       "      <td>6</td>\n",
       "      <td>4</td>\n",
       "      <td>1</td>\n",
       "      <td>3</td>\n",
       "    </tr>\n",
       "    <tr>\n",
       "      <th>3</th>\n",
       "      <td>2794</td>\n",
       "      <td>2019-12-30</td>\n",
       "      <td>0</td>\n",
       "      <td>1</td>\n",
       "      <td>0</td>\n",
       "      <td>455.201</td>\n",
       "      <td>2</td>\n",
       "      <td>3</td>\n",
       "      <td>1</td>\n",
       "      <td>6</td>\n",
       "    </tr>\n",
       "    <tr>\n",
       "      <th>4</th>\n",
       "      <td>3674</td>\n",
       "      <td>2019-09-10</td>\n",
       "      <td>0</td>\n",
       "      <td>0</td>\n",
       "      <td>0</td>\n",
       "      <td>1164.877</td>\n",
       "      <td>6</td>\n",
       "      <td>7</td>\n",
       "      <td>1</td>\n",
       "      <td>3</td>\n",
       "    </tr>\n",
       "  </tbody>\n",
       "</table>\n",
       "</div>"
      ],
      "text/plain": [
       "   session_number       date  purchased  added_in_cart  checked_out  \\\n",
       "0             715 2020-01-22          1              0            0   \n",
       "1              55 2020-02-27          1              0            0   \n",
       "2              11 2019-08-01          0              0            0   \n",
       "3            2794 2019-12-30          0              1            0   \n",
       "4            3674 2019-09-10          0              0            0   \n",
       "\n",
       "   time_spent  Device_org  Platform_org  Platform  Device  \n",
       "0     236.886           2             1         1       6  \n",
       "1    1277.455           6             8         0       3  \n",
       "2      21.704           6             4         1       3  \n",
       "3     455.201           2             3         1       6  \n",
       "4    1164.877           6             7         1       3  "
      ]
     },
     "execution_count": 612,
     "metadata": {},
     "output_type": "execute_result"
    }
   ],
   "source": [
    "dfTrain.head()"
   ]
  },
  {
   "cell_type": "code",
   "execution_count": 613,
   "metadata": {},
   "outputs": [],
   "source": [
    "# dfTrain['Month'] = dfTrain['date'].dt.month\n",
    "# dfTrain['Year'] = dfTrain['date'].dt.year\n",
    "# dfTrain['DayOfWeek']=dfTrain['date'].dt.dayofweek \n",
    "\n",
    "# dfTest['Month'] = dfTest['date'].dt.month\n",
    "# dfTest['Year'] = dfTest['date'].dt.year\n",
    "# dfTest['DayOfWeek']=dfTest['date'].dt.dayofweek "
   ]
  },
  {
   "cell_type": "code",
   "execution_count": 614,
   "metadata": {},
   "outputs": [
    {
     "data": {
      "text/html": [
       "<div>\n",
       "<style scoped>\n",
       "    .dataframe tbody tr th:only-of-type {\n",
       "        vertical-align: middle;\n",
       "    }\n",
       "\n",
       "    .dataframe tbody tr th {\n",
       "        vertical-align: top;\n",
       "    }\n",
       "\n",
       "    .dataframe thead th {\n",
       "        text-align: right;\n",
       "    }\n",
       "</style>\n",
       "<table border=\"1\" class=\"dataframe\">\n",
       "  <thead>\n",
       "    <tr style=\"text-align: right;\">\n",
       "      <th></th>\n",
       "      <th>session_number</th>\n",
       "      <th>date</th>\n",
       "      <th>purchased</th>\n",
       "      <th>added_in_cart</th>\n",
       "      <th>checked_out</th>\n",
       "      <th>Device_org</th>\n",
       "      <th>Platform_org</th>\n",
       "      <th>Platform</th>\n",
       "      <th>Device</th>\n",
       "    </tr>\n",
       "  </thead>\n",
       "  <tbody>\n",
       "    <tr>\n",
       "      <th>0</th>\n",
       "      <td>99</td>\n",
       "      <td>2020-01-07</td>\n",
       "      <td>1</td>\n",
       "      <td>0</td>\n",
       "      <td>0</td>\n",
       "      <td>2</td>\n",
       "      <td>3</td>\n",
       "      <td>1</td>\n",
       "      <td>6</td>\n",
       "    </tr>\n",
       "    <tr>\n",
       "      <th>1</th>\n",
       "      <td>935</td>\n",
       "      <td>2020-02-13</td>\n",
       "      <td>0</td>\n",
       "      <td>0</td>\n",
       "      <td>0</td>\n",
       "      <td>0</td>\n",
       "      <td>0</td>\n",
       "      <td>0</td>\n",
       "      <td>0</td>\n",
       "    </tr>\n",
       "    <tr>\n",
       "      <th>2</th>\n",
       "      <td>902</td>\n",
       "      <td>2019-10-14</td>\n",
       "      <td>1</td>\n",
       "      <td>0</td>\n",
       "      <td>0</td>\n",
       "      <td>6</td>\n",
       "      <td>8</td>\n",
       "      <td>0</td>\n",
       "      <td>3</td>\n",
       "    </tr>\n",
       "    <tr>\n",
       "      <th>3</th>\n",
       "      <td>3223</td>\n",
       "      <td>2020-01-26</td>\n",
       "      <td>0</td>\n",
       "      <td>0</td>\n",
       "      <td>0</td>\n",
       "      <td>2</td>\n",
       "      <td>3</td>\n",
       "      <td>1</td>\n",
       "      <td>6</td>\n",
       "    </tr>\n",
       "    <tr>\n",
       "      <th>4</th>\n",
       "      <td>231</td>\n",
       "      <td>2020-01-29</td>\n",
       "      <td>0</td>\n",
       "      <td>0</td>\n",
       "      <td>0</td>\n",
       "      <td>2</td>\n",
       "      <td>1</td>\n",
       "      <td>1</td>\n",
       "      <td>6</td>\n",
       "    </tr>\n",
       "  </tbody>\n",
       "</table>\n",
       "</div>"
      ],
      "text/plain": [
       "   session_number       date  purchased  added_in_cart  checked_out  \\\n",
       "0              99 2020-01-07          1              0            0   \n",
       "1             935 2020-02-13          0              0            0   \n",
       "2             902 2019-10-14          1              0            0   \n",
       "3            3223 2020-01-26          0              0            0   \n",
       "4             231 2020-01-29          0              0            0   \n",
       "\n",
       "   Device_org  Platform_org  Platform  Device  \n",
       "0           2             3         1       6  \n",
       "1           0             0         0       0  \n",
       "2           6             8         0       3  \n",
       "3           2             3         1       6  \n",
       "4           2             1         1       6  "
      ]
     },
     "execution_count": 614,
     "metadata": {},
     "output_type": "execute_result"
    }
   ],
   "source": [
    "dfTest.head()"
   ]
  },
  {
   "cell_type": "code",
   "execution_count": 615,
   "metadata": {},
   "outputs": [
    {
     "data": {
      "text/html": [
       "<div>\n",
       "<style scoped>\n",
       "    .dataframe tbody tr th:only-of-type {\n",
       "        vertical-align: middle;\n",
       "    }\n",
       "\n",
       "    .dataframe tbody tr th {\n",
       "        vertical-align: top;\n",
       "    }\n",
       "\n",
       "    .dataframe thead th {\n",
       "        text-align: right;\n",
       "    }\n",
       "</style>\n",
       "<table border=\"1\" class=\"dataframe\">\n",
       "  <thead>\n",
       "    <tr style=\"text-align: right;\">\n",
       "      <th></th>\n",
       "      <th>session_number</th>\n",
       "      <th>date</th>\n",
       "      <th>purchased</th>\n",
       "      <th>added_in_cart</th>\n",
       "      <th>checked_out</th>\n",
       "      <th>time_spent</th>\n",
       "      <th>Device_org</th>\n",
       "      <th>Platform_org</th>\n",
       "      <th>Platform</th>\n",
       "      <th>Device</th>\n",
       "      <th>datepurch</th>\n",
       "    </tr>\n",
       "  </thead>\n",
       "  <tbody>\n",
       "    <tr>\n",
       "      <th>0</th>\n",
       "      <td>715</td>\n",
       "      <td>2020-01-22</td>\n",
       "      <td>1</td>\n",
       "      <td>0</td>\n",
       "      <td>0</td>\n",
       "      <td>236.886</td>\n",
       "      <td>2</td>\n",
       "      <td>1</td>\n",
       "      <td>1</td>\n",
       "      <td>6</td>\n",
       "      <td>92 days</td>\n",
       "    </tr>\n",
       "    <tr>\n",
       "      <th>1</th>\n",
       "      <td>55</td>\n",
       "      <td>2020-02-27</td>\n",
       "      <td>1</td>\n",
       "      <td>0</td>\n",
       "      <td>0</td>\n",
       "      <td>1277.455</td>\n",
       "      <td>6</td>\n",
       "      <td>8</td>\n",
       "      <td>0</td>\n",
       "      <td>3</td>\n",
       "      <td>56 days</td>\n",
       "    </tr>\n",
       "    <tr>\n",
       "      <th>2</th>\n",
       "      <td>11</td>\n",
       "      <td>2019-08-01</td>\n",
       "      <td>0</td>\n",
       "      <td>0</td>\n",
       "      <td>0</td>\n",
       "      <td>21.704</td>\n",
       "      <td>6</td>\n",
       "      <td>4</td>\n",
       "      <td>1</td>\n",
       "      <td>3</td>\n",
       "      <td>266 days</td>\n",
       "    </tr>\n",
       "    <tr>\n",
       "      <th>3</th>\n",
       "      <td>2794</td>\n",
       "      <td>2019-12-30</td>\n",
       "      <td>0</td>\n",
       "      <td>1</td>\n",
       "      <td>0</td>\n",
       "      <td>455.201</td>\n",
       "      <td>2</td>\n",
       "      <td>3</td>\n",
       "      <td>1</td>\n",
       "      <td>6</td>\n",
       "      <td>115 days</td>\n",
       "    </tr>\n",
       "    <tr>\n",
       "      <th>4</th>\n",
       "      <td>3674</td>\n",
       "      <td>2019-09-10</td>\n",
       "      <td>0</td>\n",
       "      <td>0</td>\n",
       "      <td>0</td>\n",
       "      <td>1164.877</td>\n",
       "      <td>6</td>\n",
       "      <td>7</td>\n",
       "      <td>1</td>\n",
       "      <td>3</td>\n",
       "      <td>226 days</td>\n",
       "    </tr>\n",
       "  </tbody>\n",
       "</table>\n",
       "</div>"
      ],
      "text/plain": [
       "   session_number       date  purchased  added_in_cart  checked_out  \\\n",
       "0             715 2020-01-22          1              0            0   \n",
       "1              55 2020-02-27          1              0            0   \n",
       "2              11 2019-08-01          0              0            0   \n",
       "3            2794 2019-12-30          0              1            0   \n",
       "4            3674 2019-09-10          0              0            0   \n",
       "\n",
       "   time_spent  Device_org  Platform_org  Platform  Device datepurch  \n",
       "0     236.886           2             1         1       6   92 days  \n",
       "1    1277.455           6             8         0       3   56 days  \n",
       "2      21.704           6             4         1       3  266 days  \n",
       "3     455.201           2             3         1       6  115 days  \n",
       "4    1164.877           6             7         1       3  226 days  "
      ]
     },
     "execution_count": 615,
     "metadata": {},
     "output_type": "execute_result"
    }
   ],
   "source": [
    "# # convert date column to unique value subtracting the max value \n",
    "dfTrain['datepurch']=dfTrain['date'].max()-dfTrain['date']\n",
    "dfTest['datepurch']=dfTest['date'].max()-dfTest['date']\n",
    "dfTrain.head()"
   ]
  },
  {
   "cell_type": "code",
   "execution_count": 616,
   "metadata": {},
   "outputs": [
    {
     "name": "stdout",
     "output_type": "stream",
     "text": [
      "<class 'pandas.core.frame.DataFrame'>\n",
      "RangeIndex: 5429 entries, 0 to 5428\n",
      "Data columns (total 11 columns):\n",
      " #   Column          Non-Null Count  Dtype          \n",
      "---  ------          --------------  -----          \n",
      " 0   session_number  5429 non-null   int64          \n",
      " 1   date            5429 non-null   datetime64[ns] \n",
      " 2   purchased       5429 non-null   int64          \n",
      " 3   added_in_cart   5429 non-null   int64          \n",
      " 4   checked_out     5429 non-null   int64          \n",
      " 5   time_spent      5429 non-null   float64        \n",
      " 6   Device_org      5429 non-null   int32          \n",
      " 7   Platform_org    5429 non-null   int32          \n",
      " 8   Platform        5429 non-null   int32          \n",
      " 9   Device          5429 non-null   int32          \n",
      " 10  datepurch       5429 non-null   timedelta64[ns]\n",
      "dtypes: datetime64[ns](1), float64(1), int32(4), int64(4), timedelta64[ns](1)\n",
      "memory usage: 381.9 KB\n"
     ]
    }
   ],
   "source": [
    "dfTrain.info()"
   ]
  },
  {
   "cell_type": "code",
   "execution_count": 617,
   "metadata": {},
   "outputs": [],
   "source": [
    "dfTrain['datepurch']= dfTrain['datepurch'].astype(str)\n",
    "dfTest['datepurch']= dfTest['datepurch'].astype(str)"
   ]
  },
  {
   "cell_type": "code",
   "execution_count": 618,
   "metadata": {},
   "outputs": [],
   "source": [
    "dfTrain['datepurch']= dfTrain['datepurch'].str.split(' ').str[0]\n",
    "dfTest['datepurch']= dfTest['datepurch'].str.split(' ').str[0]"
   ]
  },
  {
   "cell_type": "code",
   "execution_count": 619,
   "metadata": {},
   "outputs": [],
   "source": [
    "dfTrain['datepurch']= dfTrain['datepurch'].astype(int)\n",
    "dfTest['datepurch']= dfTest['datepurch'].astype(int)"
   ]
  },
  {
   "cell_type": "code",
   "execution_count": 620,
   "metadata": {},
   "outputs": [
    {
     "name": "stdout",
     "output_type": "stream",
     "text": [
      "<class 'pandas.core.frame.DataFrame'>\n",
      "RangeIndex: 5429 entries, 0 to 5428\n",
      "Data columns (total 11 columns):\n",
      " #   Column          Non-Null Count  Dtype         \n",
      "---  ------          --------------  -----         \n",
      " 0   session_number  5429 non-null   int64         \n",
      " 1   date            5429 non-null   datetime64[ns]\n",
      " 2   purchased       5429 non-null   int64         \n",
      " 3   added_in_cart   5429 non-null   int64         \n",
      " 4   checked_out     5429 non-null   int64         \n",
      " 5   time_spent      5429 non-null   float64       \n",
      " 6   Device_org      5429 non-null   int32         \n",
      " 7   Platform_org    5429 non-null   int32         \n",
      " 8   Platform        5429 non-null   int32         \n",
      " 9   Device          5429 non-null   int32         \n",
      " 10  datepurch       5429 non-null   int32         \n",
      "dtypes: datetime64[ns](1), float64(1), int32(5), int64(4)\n",
      "memory usage: 360.6 KB\n"
     ]
    }
   ],
   "source": [
    "dfTrain.info()"
   ]
  },
  {
   "cell_type": "code",
   "execution_count": 621,
   "metadata": {},
   "outputs": [
    {
     "data": {
      "text/html": [
       "<div>\n",
       "<style scoped>\n",
       "    .dataframe tbody tr th:only-of-type {\n",
       "        vertical-align: middle;\n",
       "    }\n",
       "\n",
       "    .dataframe tbody tr th {\n",
       "        vertical-align: top;\n",
       "    }\n",
       "\n",
       "    .dataframe thead th {\n",
       "        text-align: right;\n",
       "    }\n",
       "</style>\n",
       "<table border=\"1\" class=\"dataframe\">\n",
       "  <thead>\n",
       "    <tr style=\"text-align: right;\">\n",
       "      <th></th>\n",
       "      <th>session_number</th>\n",
       "      <th>purchased</th>\n",
       "      <th>added_in_cart</th>\n",
       "      <th>checked_out</th>\n",
       "      <th>time_spent</th>\n",
       "      <th>Device_org</th>\n",
       "      <th>Platform_org</th>\n",
       "      <th>Platform</th>\n",
       "      <th>Device</th>\n",
       "      <th>datepurch</th>\n",
       "    </tr>\n",
       "  </thead>\n",
       "  <tbody>\n",
       "    <tr>\n",
       "      <th>0</th>\n",
       "      <td>715</td>\n",
       "      <td>1</td>\n",
       "      <td>0</td>\n",
       "      <td>0</td>\n",
       "      <td>236.886</td>\n",
       "      <td>2</td>\n",
       "      <td>1</td>\n",
       "      <td>1</td>\n",
       "      <td>6</td>\n",
       "      <td>92</td>\n",
       "    </tr>\n",
       "    <tr>\n",
       "      <th>1</th>\n",
       "      <td>55</td>\n",
       "      <td>1</td>\n",
       "      <td>0</td>\n",
       "      <td>0</td>\n",
       "      <td>1277.455</td>\n",
       "      <td>6</td>\n",
       "      <td>8</td>\n",
       "      <td>0</td>\n",
       "      <td>3</td>\n",
       "      <td>56</td>\n",
       "    </tr>\n",
       "    <tr>\n",
       "      <th>2</th>\n",
       "      <td>11</td>\n",
       "      <td>0</td>\n",
       "      <td>0</td>\n",
       "      <td>0</td>\n",
       "      <td>21.704</td>\n",
       "      <td>6</td>\n",
       "      <td>4</td>\n",
       "      <td>1</td>\n",
       "      <td>3</td>\n",
       "      <td>266</td>\n",
       "    </tr>\n",
       "    <tr>\n",
       "      <th>3</th>\n",
       "      <td>2794</td>\n",
       "      <td>0</td>\n",
       "      <td>1</td>\n",
       "      <td>0</td>\n",
       "      <td>455.201</td>\n",
       "      <td>2</td>\n",
       "      <td>3</td>\n",
       "      <td>1</td>\n",
       "      <td>6</td>\n",
       "      <td>115</td>\n",
       "    </tr>\n",
       "    <tr>\n",
       "      <th>4</th>\n",
       "      <td>3674</td>\n",
       "      <td>0</td>\n",
       "      <td>0</td>\n",
       "      <td>0</td>\n",
       "      <td>1164.877</td>\n",
       "      <td>6</td>\n",
       "      <td>7</td>\n",
       "      <td>1</td>\n",
       "      <td>3</td>\n",
       "      <td>226</td>\n",
       "    </tr>\n",
       "  </tbody>\n",
       "</table>\n",
       "</div>"
      ],
      "text/plain": [
       "   session_number  purchased  added_in_cart  checked_out  time_spent  \\\n",
       "0             715          1              0            0     236.886   \n",
       "1              55          1              0            0    1277.455   \n",
       "2              11          0              0            0      21.704   \n",
       "3            2794          0              1            0     455.201   \n",
       "4            3674          0              0            0    1164.877   \n",
       "\n",
       "   Device_org  Platform_org  Platform  Device  datepurch  \n",
       "0           2             1         1       6         92  \n",
       "1           6             8         0       3         56  \n",
       "2           6             4         1       3        266  \n",
       "3           2             3         1       6        115  \n",
       "4           6             7         1       3        226  "
      ]
     },
     "execution_count": 621,
     "metadata": {},
     "output_type": "execute_result"
    }
   ],
   "source": [
    "dfTrain=dfTrain.drop('date',axis=1)\n",
    "dfTest=dfTest.drop('date',axis=1)\n",
    "dfTrain.head()"
   ]
  },
  {
   "cell_type": "code",
   "execution_count": 622,
   "metadata": {},
   "outputs": [
    {
     "data": {
      "text/html": [
       "<div>\n",
       "<style scoped>\n",
       "    .dataframe tbody tr th:only-of-type {\n",
       "        vertical-align: middle;\n",
       "    }\n",
       "\n",
       "    .dataframe tbody tr th {\n",
       "        vertical-align: top;\n",
       "    }\n",
       "\n",
       "    .dataframe thead th {\n",
       "        text-align: right;\n",
       "    }\n",
       "</style>\n",
       "<table border=\"1\" class=\"dataframe\">\n",
       "  <thead>\n",
       "    <tr style=\"text-align: right;\">\n",
       "      <th></th>\n",
       "      <th>session_number</th>\n",
       "      <th>purchased</th>\n",
       "      <th>added_in_cart</th>\n",
       "      <th>checked_out</th>\n",
       "      <th>Device_org</th>\n",
       "      <th>Platform_org</th>\n",
       "      <th>Platform</th>\n",
       "      <th>Device</th>\n",
       "      <th>datepurch</th>\n",
       "    </tr>\n",
       "  </thead>\n",
       "  <tbody>\n",
       "    <tr>\n",
       "      <th>0</th>\n",
       "      <td>99</td>\n",
       "      <td>1</td>\n",
       "      <td>0</td>\n",
       "      <td>0</td>\n",
       "      <td>2</td>\n",
       "      <td>3</td>\n",
       "      <td>1</td>\n",
       "      <td>6</td>\n",
       "      <td>103</td>\n",
       "    </tr>\n",
       "    <tr>\n",
       "      <th>1</th>\n",
       "      <td>935</td>\n",
       "      <td>0</td>\n",
       "      <td>0</td>\n",
       "      <td>0</td>\n",
       "      <td>0</td>\n",
       "      <td>0</td>\n",
       "      <td>0</td>\n",
       "      <td>0</td>\n",
       "      <td>66</td>\n",
       "    </tr>\n",
       "    <tr>\n",
       "      <th>2</th>\n",
       "      <td>902</td>\n",
       "      <td>1</td>\n",
       "      <td>0</td>\n",
       "      <td>0</td>\n",
       "      <td>6</td>\n",
       "      <td>8</td>\n",
       "      <td>0</td>\n",
       "      <td>3</td>\n",
       "      <td>188</td>\n",
       "    </tr>\n",
       "    <tr>\n",
       "      <th>3</th>\n",
       "      <td>3223</td>\n",
       "      <td>0</td>\n",
       "      <td>0</td>\n",
       "      <td>0</td>\n",
       "      <td>2</td>\n",
       "      <td>3</td>\n",
       "      <td>1</td>\n",
       "      <td>6</td>\n",
       "      <td>84</td>\n",
       "    </tr>\n",
       "    <tr>\n",
       "      <th>4</th>\n",
       "      <td>231</td>\n",
       "      <td>0</td>\n",
       "      <td>0</td>\n",
       "      <td>0</td>\n",
       "      <td>2</td>\n",
       "      <td>1</td>\n",
       "      <td>1</td>\n",
       "      <td>6</td>\n",
       "      <td>81</td>\n",
       "    </tr>\n",
       "  </tbody>\n",
       "</table>\n",
       "</div>"
      ],
      "text/plain": [
       "   session_number  purchased  added_in_cart  checked_out  Device_org  \\\n",
       "0              99          1              0            0           2   \n",
       "1             935          0              0            0           0   \n",
       "2             902          1              0            0           6   \n",
       "3            3223          0              0            0           2   \n",
       "4             231          0              0            0           2   \n",
       "\n",
       "   Platform_org  Platform  Device  datepurch  \n",
       "0             3         1       6        103  \n",
       "1             0         0       0         66  \n",
       "2             8         0       3        188  \n",
       "3             3         1       6         84  \n",
       "4             1         1       6         81  "
      ]
     },
     "execution_count": 622,
     "metadata": {},
     "output_type": "execute_result"
    }
   ],
   "source": [
    "dfTest.head()"
   ]
  },
  {
   "cell_type": "code",
   "execution_count": 623,
   "metadata": {},
   "outputs": [
    {
     "data": {
      "text/plain": [
       "(2327, 9)"
      ]
     },
     "execution_count": 623,
     "metadata": {},
     "output_type": "execute_result"
    }
   ],
   "source": [
    "dfTest.shape"
   ]
  },
  {
   "cell_type": "code",
   "execution_count": 624,
   "metadata": {},
   "outputs": [],
   "source": [
    "X=dfTrain.drop('time_spent',axis=1)\n",
    "y=dfTrain['time_spent']"
   ]
  },
  {
   "cell_type": "code",
   "execution_count": 625,
   "metadata": {},
   "outputs": [
    {
     "data": {
      "text/html": [
       "<div>\n",
       "<style scoped>\n",
       "    .dataframe tbody tr th:only-of-type {\n",
       "        vertical-align: middle;\n",
       "    }\n",
       "\n",
       "    .dataframe tbody tr th {\n",
       "        vertical-align: top;\n",
       "    }\n",
       "\n",
       "    .dataframe thead th {\n",
       "        text-align: right;\n",
       "    }\n",
       "</style>\n",
       "<table border=\"1\" class=\"dataframe\">\n",
       "  <thead>\n",
       "    <tr style=\"text-align: right;\">\n",
       "      <th></th>\n",
       "      <th>session_number</th>\n",
       "      <th>purchased</th>\n",
       "      <th>added_in_cart</th>\n",
       "      <th>checked_out</th>\n",
       "      <th>Device_org</th>\n",
       "      <th>Platform_org</th>\n",
       "      <th>Platform</th>\n",
       "      <th>Device</th>\n",
       "      <th>datepurch</th>\n",
       "    </tr>\n",
       "  </thead>\n",
       "  <tbody>\n",
       "    <tr>\n",
       "      <th>0</th>\n",
       "      <td>715</td>\n",
       "      <td>1</td>\n",
       "      <td>0</td>\n",
       "      <td>0</td>\n",
       "      <td>2</td>\n",
       "      <td>1</td>\n",
       "      <td>1</td>\n",
       "      <td>6</td>\n",
       "      <td>92</td>\n",
       "    </tr>\n",
       "    <tr>\n",
       "      <th>1</th>\n",
       "      <td>55</td>\n",
       "      <td>1</td>\n",
       "      <td>0</td>\n",
       "      <td>0</td>\n",
       "      <td>6</td>\n",
       "      <td>8</td>\n",
       "      <td>0</td>\n",
       "      <td>3</td>\n",
       "      <td>56</td>\n",
       "    </tr>\n",
       "    <tr>\n",
       "      <th>2</th>\n",
       "      <td>11</td>\n",
       "      <td>0</td>\n",
       "      <td>0</td>\n",
       "      <td>0</td>\n",
       "      <td>6</td>\n",
       "      <td>4</td>\n",
       "      <td>1</td>\n",
       "      <td>3</td>\n",
       "      <td>266</td>\n",
       "    </tr>\n",
       "    <tr>\n",
       "      <th>3</th>\n",
       "      <td>2794</td>\n",
       "      <td>0</td>\n",
       "      <td>1</td>\n",
       "      <td>0</td>\n",
       "      <td>2</td>\n",
       "      <td>3</td>\n",
       "      <td>1</td>\n",
       "      <td>6</td>\n",
       "      <td>115</td>\n",
       "    </tr>\n",
       "    <tr>\n",
       "      <th>4</th>\n",
       "      <td>3674</td>\n",
       "      <td>0</td>\n",
       "      <td>0</td>\n",
       "      <td>0</td>\n",
       "      <td>6</td>\n",
       "      <td>7</td>\n",
       "      <td>1</td>\n",
       "      <td>3</td>\n",
       "      <td>226</td>\n",
       "    </tr>\n",
       "  </tbody>\n",
       "</table>\n",
       "</div>"
      ],
      "text/plain": [
       "   session_number  purchased  added_in_cart  checked_out  Device_org  \\\n",
       "0             715          1              0            0           2   \n",
       "1              55          1              0            0           6   \n",
       "2              11          0              0            0           6   \n",
       "3            2794          0              1            0           2   \n",
       "4            3674          0              0            0           6   \n",
       "\n",
       "   Platform_org  Platform  Device  datepurch  \n",
       "0             1         1       6         92  \n",
       "1             8         0       3         56  \n",
       "2             4         1       3        266  \n",
       "3             3         1       6        115  \n",
       "4             7         1       3        226  "
      ]
     },
     "execution_count": 625,
     "metadata": {},
     "output_type": "execute_result"
    }
   ],
   "source": [
    "X.head()"
   ]
  },
  {
   "cell_type": "markdown",
   "metadata": {},
   "source": [
    "# Linear Regression"
   ]
  },
  {
   "cell_type": "code",
   "execution_count": 643,
   "metadata": {},
   "outputs": [],
   "source": [
    "from sklearn.linear_model import LinearRegression\n",
    "from sklearn.model_selection import train_test_split"
   ]
  },
  {
   "cell_type": "code",
   "execution_count": 644,
   "metadata": {},
   "outputs": [],
   "source": [
    "X_train,X_test,y_train,y_test= train_test_split(X,y,test_size=0.1,random_state=2)"
   ]
  },
  {
   "cell_type": "code",
   "execution_count": 645,
   "metadata": {},
   "outputs": [],
   "source": [
    "model=LinearRegression()\n",
    "model.fit(X,y)\n",
    "y_pred=abs(model.predict(X_test))"
   ]
  },
  {
   "cell_type": "code",
   "execution_count": 646,
   "metadata": {},
   "outputs": [
    {
     "data": {
      "text/plain": [
       "array([1.11007929e+03, 1.46965675e+02, 8.27741651e+02, 1.08157338e+03,\n",
       "       4.20073555e+02, 1.24563087e+03, 1.14800229e+03, 4.06516430e+02,\n",
       "       1.20354475e+03, 1.56666011e+02, 4.18221274e+02, 4.35309782e+02,\n",
       "       2.04538493e+03, 7.01272816e+01, 1.21003641e+03, 4.55899772e+02,\n",
       "       6.27818603e+01, 1.34773094e+03, 3.04860780e+02, 2.16575325e+02,\n",
       "       2.00098161e+02, 4.10265369e+02, 3.36467863e+03, 8.83107629e+02,\n",
       "       5.01889548e+02, 3.77201462e+02, 1.14231740e+03, 2.10703839e+02,\n",
       "       8.92349693e+02, 4.10082889e+02, 1.76217335e+02, 1.23261796e+03,\n",
       "       4.48173783e+02, 3.38140900e+02, 5.44155928e+02, 1.18152483e+03,\n",
       "       3.10202261e+02, 1.52999979e+03, 1.49811086e+03, 4.72208231e+02,\n",
       "       2.57045626e+01, 4.51331091e+02, 2.89443730e+00, 2.25928975e+03,\n",
       "       2.59319713e+02, 1.66582302e+02, 6.10439276e+01, 1.67889000e+02,\n",
       "       3.08960512e+02, 1.11465706e+03, 1.94221043e+02, 1.94319249e+03,\n",
       "       3.90457875e+02, 4.01181788e+02, 1.02310254e+03, 3.19365793e+02,\n",
       "       2.70919817e+02, 1.30243913e+03, 4.26883132e+02, 2.15776984e+03,\n",
       "       3.31749322e+03, 3.82797817e+01, 7.04682241e+01, 3.45212616e+02,\n",
       "       3.11374231e+02, 2.39213084e+02, 2.80341886e+02, 7.08590608e+02,\n",
       "       2.36471209e+02, 2.51778962e+02, 6.42012280e+02, 2.30101334e+02,\n",
       "       4.15650609e+02, 2.17694718e+02, 2.89291936e+02, 3.07570363e+01,\n",
       "       2.02809220e+03, 1.19461038e+03, 5.27501907e+02, 1.10166908e+03,\n",
       "       2.95363429e+02, 3.15452053e+02, 6.30834107e+02, 6.59725774e+02,\n",
       "       4.29608788e+02, 4.25209897e+02, 3.67010988e+02, 3.07148724e+02,\n",
       "       3.29433985e+02, 9.92595934e+02, 2.16610693e+03, 4.21692596e+02,\n",
       "       4.63357975e+02, 9.80537270e+02, 1.99783086e+03, 1.30097070e+03,\n",
       "       2.97783375e+02, 6.46833699e+02, 3.86354710e+02, 1.87261008e+02,\n",
       "       8.98609107e+02, 3.51287802e+02, 7.03011614e+02, 1.29827798e+03,\n",
       "       2.20281921e+02, 2.93537808e+02, 9.19262758e+02, 2.29136130e+02,\n",
       "       1.47177707e+03, 8.04009705e+02, 2.09060698e+02, 5.05108795e+02,\n",
       "       5.57618618e+02, 1.15662341e+03, 1.97879206e+02, 3.71143674e+02,\n",
       "       3.48951550e+01, 3.77948360e+02, 5.48515196e+02, 2.03649759e+02,\n",
       "       4.87217738e+02, 2.92366820e+02, 2.81991706e+02, 1.06202334e+03,\n",
       "       2.55029118e+01, 8.18185056e+02, 2.45659464e+02, 1.87690728e+02,\n",
       "       1.10946151e+03, 1.24183570e+03, 4.10224006e+02, 1.30035933e+03,\n",
       "       5.20275358e+02, 5.57026843e+01, 1.10795929e+03, 3.86415778e+02,\n",
       "       8.27057987e+01, 4.58067573e+02, 7.81672824e+01, 2.02847501e+02,\n",
       "       7.85265409e+02, 5.37653052e+02, 5.76983562e+02, 3.55128893e+02,\n",
       "       1.43780601e+03, 5.67315776e+02, 1.74151027e+02, 2.22158268e+03,\n",
       "       2.56178100e+02, 3.20030477e+01, 4.59423428e+02, 9.15624124e+02,\n",
       "       3.72653359e+02, 3.29605963e+02, 4.95211828e+02, 2.32784279e+02,\n",
       "       1.13628264e+02, 4.14255129e+02, 3.61193120e+02, 4.46415132e+02,\n",
       "       6.70078429e+01, 3.82555430e+02, 9.43599784e+01, 2.22998249e+02,\n",
       "       2.06551019e+03, 1.12353071e+03, 2.95309098e+02, 1.26668483e+03,\n",
       "       1.34991222e+03, 1.10312636e+03, 4.29830843e+02, 1.10656116e+03,\n",
       "       1.40549218e+03, 6.44924397e+02, 1.11124259e+03, 5.48091895e+02,\n",
       "       2.52783077e+02, 1.41100100e+03, 7.61499044e+02, 3.08338458e+02,\n",
       "       1.33191405e+03, 4.84027211e+02, 1.35941621e+03, 7.26865899e+01,\n",
       "       1.21508984e+03, 4.37091070e+02, 1.44057332e+02, 4.15152679e+02,\n",
       "       7.54965550e+02, 2.64944282e+02, 1.38748678e+03, 1.29641068e+03,\n",
       "       2.38279018e+02, 1.11614287e+03, 9.75598455e+01, 1.20609077e+03,\n",
       "       3.67210048e+02, 9.18003543e+01, 1.18314204e+03, 1.66856273e+02,\n",
       "       4.23311621e+02, 1.02821776e+03, 2.11498413e+01, 1.31799888e+03,\n",
       "       3.82984881e+02, 2.00702201e+02, 1.02118651e+03, 6.30097230e+01,\n",
       "       2.14509475e+02, 7.05073306e+02, 6.78542893e+02, 1.11777201e+03,\n",
       "       1.25118293e+03, 9.08560203e+02, 4.05606170e+02, 8.44644496e+01,\n",
       "       1.13564925e+03, 7.20086040e+02, 1.83517564e+02, 1.48380695e+03,\n",
       "       1.00516284e+03, 8.03683687e+01, 2.05908533e+03, 5.94633378e+02,\n",
       "       1.09173097e+02, 5.04831755e+02, 3.41184671e+02, 3.53862401e+02,\n",
       "       1.21588261e+03, 1.05572263e+02, 1.35126395e+02, 4.43427591e+02,\n",
       "       3.11223580e+02, 2.86431070e+01, 2.19609486e+03, 2.17165216e+02,\n",
       "       6.54584513e+02, 2.40421468e+02, 6.89871068e+02, 8.69050405e+01,\n",
       "       6.55076686e+02, 1.33579427e+03, 1.15016727e+03, 1.91002435e+02,\n",
       "       4.26618021e+02, 1.72405597e+02, 9.35945363e+02, 2.25064558e+02,\n",
       "       1.09348300e+03, 2.29787317e+03, 1.18436722e+03, 3.69335865e+02,\n",
       "       5.30096236e+02, 3.59241017e+02, 1.64408043e+03, 7.12884179e+02,\n",
       "       1.97570111e+02, 1.62081431e+02, 1.36124078e+03, 2.49439951e+02,\n",
       "       1.37049652e+03, 1.35054275e+03, 1.12333870e+03, 5.06135276e+02,\n",
       "       2.58383855e+02, 1.52441436e+02, 5.60703752e+02, 3.23352443e+02,\n",
       "       1.55444016e+02, 1.28261092e+02, 1.21211687e+03, 3.52713836e+01,\n",
       "       1.16602110e+03, 2.47567959e+03, 3.49083624e+02, 1.95608182e+03,\n",
       "       3.71925738e+02, 1.31241824e+03, 1.35117699e+03, 3.65086818e+02,\n",
       "       1.31926285e+03, 5.51115881e+02, 8.14482576e+01, 3.91401352e+02,\n",
       "       8.89140816e+01, 1.11541031e+03, 2.10376970e+03, 3.93284642e+02,\n",
       "       1.10032559e+03, 3.48803650e+02, 6.07851016e+02, 1.83662069e+02,\n",
       "       1.37139442e+03, 5.21109530e+02, 3.94463524e+02, 9.43407969e+02,\n",
       "       1.03646364e+03, 5.17592228e+02, 1.36353428e+02, 1.40464379e+03,\n",
       "       3.53277223e+01, 7.43961693e+02, 1.58413478e+02, 1.24991508e+03,\n",
       "       3.90828251e+02, 1.27303527e+03, 1.28683671e+03, 1.05656251e+03,\n",
       "       1.01128908e+03, 3.53890420e+02, 4.36705261e+02, 1.14289858e+03,\n",
       "       1.19741723e+03, 4.29040409e+02, 1.05792644e+03, 1.80144043e+02,\n",
       "       4.50583344e+02, 2.70069584e+02, 3.83682620e+02, 1.16270495e+03,\n",
       "       4.40260650e+02, 3.96852539e+02, 3.14402182e+02, 3.25585466e+02,\n",
       "       4.04548437e+02, 5.41329942e+02, 4.07979285e+02, 3.56654468e+02,\n",
       "       9.56241741e+02, 1.16428098e+03, 2.42632071e+02, 3.46971267e+02,\n",
       "       3.25135600e+02, 8.47783962e+02, 2.16274159e+03, 3.73347852e+02,\n",
       "       3.92689833e+02, 1.19715262e+03, 9.83688886e+00, 1.57232381e+01,\n",
       "       1.03240519e+03, 4.51032968e+02, 3.01181297e+02, 1.05802793e+03,\n",
       "       3.86522231e+02, 1.40229089e+03, 1.90889566e+00, 1.62745016e+03,\n",
       "       1.04575528e+03, 7.19142513e+02, 2.43355162e+02, 1.97170494e+02,\n",
       "       7.35922653e+01, 4.44656481e+02, 1.39956129e+03, 4.87604643e+02,\n",
       "       1.81888357e+03, 1.55418984e+02, 1.16412583e+03, 4.63792298e+02,\n",
       "       1.40070124e+03, 1.35274972e+03, 8.92243549e+02, 3.72556970e+02,\n",
       "       3.68124235e+02, 7.35121021e+02, 6.07651243e+02, 1.03169413e+03,\n",
       "       2.84393090e+01, 3.12937660e+02, 1.22212023e+03, 1.22330147e+03,\n",
       "       4.20764841e+02, 2.76366802e+02, 3.66260913e+02, 6.57906733e+00,\n",
       "       1.14543419e+03, 1.22832735e+02, 1.15121571e+03, 1.08277587e+03,\n",
       "       2.14248580e+03, 2.13651550e+02, 2.02223664e+03, 5.44469143e+01,\n",
       "       4.25500158e+02, 2.72517373e+02, 1.12123750e+03, 4.47871631e+02,\n",
       "       3.61622571e+02, 1.30768446e+02, 7.11611451e+02, 2.27532478e+02,\n",
       "       1.23392650e+03, 2.80213988e+02, 1.05112473e+03, 3.09701185e+02,\n",
       "       5.08312800e+01, 4.07311047e+02, 4.77216100e+02, 4.56009947e+02,\n",
       "       1.58738888e+01, 6.42864445e+02, 2.02457089e+03, 4.38855637e+02,\n",
       "       1.36100582e+03, 1.38432029e+03, 2.05357968e+02, 3.88735619e+02,\n",
       "       1.28839690e+03, 3.73141687e+02, 3.30064271e+02, 1.32563305e+03,\n",
       "       6.82060195e+02, 4.93373813e+02, 7.11804868e+02, 5.62882561e+02,\n",
       "       1.28568519e+03, 2.19179646e+02, 1.62382732e+02, 4.15342951e+02,\n",
       "       2.66767433e+02, 1.62899641e+02, 8.74657040e+02, 1.09611475e+03,\n",
       "       4.02905987e+02, 1.42669677e+01, 1.37678423e+03, 1.23745412e+03,\n",
       "       5.78892864e+02, 1.25923990e+02, 1.97537099e+02, 1.20784942e+03,\n",
       "       1.20305000e+03, 1.24274089e+03, 4.71746764e+02, 1.04390550e+03,\n",
       "       3.66316426e+02, 4.13153745e+02, 1.27701318e+03, 1.64958156e+02,\n",
       "       1.30020868e+03, 1.01008951e+03, 1.15633797e+03, 3.72406320e+02,\n",
       "       1.23143255e+03, 2.03766113e+02, 1.29347305e+03, 9.14992203e+02,\n",
       "       3.38727822e+02, 1.26851604e+03, 3.92554222e+02, 1.90727292e+02,\n",
       "       5.37887979e+01, 1.09680829e+03, 4.52884175e+02, 4.27472767e+02,\n",
       "       2.28508306e+03, 3.09378305e+02, 6.65152377e+02, 1.28720323e+03,\n",
       "       1.33397578e+02, 1.40314053e+03, 1.07414446e+02, 5.60518129e+02,\n",
       "       3.19923106e+02, 2.19084509e+02, 4.89775624e+02, 3.59166180e+02,\n",
       "       4.23733411e+02, 3.99530850e+01, 1.17273157e+03, 2.19936078e+02,\n",
       "       1.75008951e+02, 4.45485803e+02, 1.13584127e+03, 4.78781368e+02,\n",
       "       1.40323242e+03, 1.16605119e+03, 2.26723377e+03, 1.22637310e+03,\n",
       "       1.23671256e+03, 1.41822024e+03, 3.04648004e+02, 5.77295835e+02,\n",
       "       1.07847362e+03, 2.49710424e+02, 2.65351904e+02, 1.41836254e+03,\n",
       "       1.18031223e+03, 1.32582472e+03, 5.27709929e+01, 5.21911843e+02,\n",
       "       1.26181617e+01, 2.22278123e+03, 9.38225265e+02, 2.87542820e+02,\n",
       "       4.09975040e+02, 2.05408410e+02, 1.07111887e+03, 7.71285448e+01,\n",
       "       8.67941654e+02, 2.05241953e+03, 5.16463042e+02, 2.86365262e+02,\n",
       "       2.73038461e+02, 2.02824474e+03, 1.54874091e+02, 1.76787765e+03,\n",
       "       2.27732286e+02, 1.80043274e+02, 4.20397873e+02, 3.49329411e+02,\n",
       "       1.21590199e+03, 1.06669264e+03, 3.55444242e+02, 1.38328466e+03,\n",
       "       7.77585436e+02, 5.98979230e+01, 7.98027917e+02, 1.09193851e+03,\n",
       "       3.48373103e+02, 3.10331435e+02, 5.20475097e+02, 3.92087230e+02,\n",
       "       1.14845353e+03, 2.13808557e+02, 6.42123307e+02, 1.29372526e+03,\n",
       "       1.39198795e+03, 4.46412893e+02, 4.78832409e+01, 2.56990817e+02,\n",
       "       9.85753345e+02, 1.09868559e+02, 4.13000766e+02, 2.00460896e+02,\n",
       "       7.69041856e+00, 1.32730920e+03, 1.39318163e+03, 3.40433551e+03,\n",
       "       2.95616298e+02, 2.12194201e+02, 1.25649101e+02])"
      ]
     },
     "execution_count": 646,
     "metadata": {},
     "output_type": "execute_result"
    }
   ],
   "source": [
    "y_pred"
   ]
  },
  {
   "cell_type": "code",
   "execution_count": 647,
   "metadata": {},
   "outputs": [],
   "source": [
    "# #validation test results \n",
    "# pred_submission=pd.DataFrame({'time_spent':y_pred})\n",
    "# pred_submission.to_csv('pred_submission.csv',index=False)"
   ]
  },
  {
   "cell_type": "code",
   "execution_count": 648,
   "metadata": {},
   "outputs": [],
   "source": [
    "from sklearn.metrics import mean_squared_log_error"
   ]
  },
  {
   "cell_type": "code",
   "execution_count": 649,
   "metadata": {},
   "outputs": [
    {
     "data": {
      "text/plain": [
       "2.06949301128767"
      ]
     },
     "execution_count": 649,
     "metadata": {},
     "output_type": "execute_result"
    }
   ],
   "source": [
    "msle= np.sqrt(mean_squared_log_error(y_test,y_pred))\n",
    "msle"
   ]
  },
  {
   "cell_type": "code",
   "execution_count": 650,
   "metadata": {},
   "outputs": [],
   "source": [
    "y_pred_test=abs(model.predict(dfTest))"
   ]
  },
  {
   "cell_type": "code",
   "execution_count": 651,
   "metadata": {},
   "outputs": [
    {
     "data": {
      "text/plain": [
       "2327"
      ]
     },
     "execution_count": 651,
     "metadata": {},
     "output_type": "execute_result"
    }
   ],
   "source": [
    "len(y_pred_test)"
   ]
  },
  {
   "cell_type": "code",
   "execution_count": 652,
   "metadata": {},
   "outputs": [],
   "source": [
    "# samplesubmission = pd.DataFrame({'time_spent':y_pred_test})\n",
    "# samplesubmission.to_csv('samplesubmissionLR.csv',index=False)"
   ]
  },
  {
   "cell_type": "code",
   "execution_count": 653,
   "metadata": {},
   "outputs": [],
   "source": [
    "from sklearn.linear_model import Lasso\n",
    "from sklearn.linear_model import ElasticNet\n",
    "from sklearn.tree import DecisionTreeRegressor\n",
    "from sklearn.neighbors import KNeighborsRegressor\n",
    "from sklearn.ensemble import GradientBoostingRegressor"
   ]
  },
  {
   "cell_type": "markdown",
   "metadata": {},
   "source": [
    "# DecisionTree Regressor"
   ]
  },
  {
   "cell_type": "code",
   "execution_count": 654,
   "metadata": {},
   "outputs": [],
   "source": [
    "modelDTR = DecisionTreeRegressor()"
   ]
  },
  {
   "cell_type": "code",
   "execution_count": 655,
   "metadata": {},
   "outputs": [
    {
     "data": {
      "text/plain": [
       "DecisionTreeRegressor()"
      ]
     },
     "execution_count": 655,
     "metadata": {},
     "output_type": "execute_result"
    }
   ],
   "source": [
    "modelDTR.fit(X,y)"
   ]
  },
  {
   "cell_type": "code",
   "execution_count": 656,
   "metadata": {},
   "outputs": [],
   "source": [
    "y_pred_test=abs(modelDTR.predict(dfTest))"
   ]
  },
  {
   "cell_type": "code",
   "execution_count": 657,
   "metadata": {},
   "outputs": [],
   "source": [
    "samplesubmissionDT = pd.DataFrame({'time_spent':y_pred_test})\n",
    "samplesubmissionDT.to_csv('submissionDT.csv',index=False)"
   ]
  },
  {
   "cell_type": "markdown",
   "metadata": {},
   "source": [
    "# Random Forest Regressor"
   ]
  },
  {
   "cell_type": "code",
   "execution_count": 658,
   "metadata": {},
   "outputs": [
    {
     "data": {
      "text/plain": [
       "RandomForestRegressor(random_state=0)"
      ]
     },
     "execution_count": 658,
     "metadata": {},
     "output_type": "execute_result"
    }
   ],
   "source": [
    "from sklearn.ensemble import RandomForestRegressor\n",
    "modelRFR = RandomForestRegressor(n_estimators = 100, random_state = 0)\n",
    "modelRFR.fit(X, y)"
   ]
  },
  {
   "cell_type": "code",
   "execution_count": 659,
   "metadata": {},
   "outputs": [],
   "source": [
    "y_pred_test= abs(modelRFR.predict(dfTest))"
   ]
  },
  {
   "cell_type": "code",
   "execution_count": 660,
   "metadata": {},
   "outputs": [],
   "source": [
    "samplesubmissionRF = pd.DataFrame({'time_spent':y_pred_test})\n",
    "samplesubmissionRF.to_csv('SubmissionRF.csv',index=False)"
   ]
  },
  {
   "cell_type": "markdown",
   "metadata": {},
   "source": [
    "# Gradient Boosting Regresssor"
   ]
  },
  {
   "cell_type": "code",
   "execution_count": 661,
   "metadata": {},
   "outputs": [
    {
     "data": {
      "text/plain": [
       "GradientBoostingRegressor(random_state=0)"
      ]
     },
     "execution_count": 661,
     "metadata": {},
     "output_type": "execute_result"
    }
   ],
   "source": [
    "from sklearn.ensemble import GradientBoostingRegressor\n",
    "modelGBR = GradientBoostingRegressor(random_state = 0)\n",
    "modelGBR.fit(X, y)"
   ]
  },
  {
   "cell_type": "code",
   "execution_count": 662,
   "metadata": {},
   "outputs": [],
   "source": [
    "y_pred_test=abs(modelGBR.predict(dfTest))"
   ]
  },
  {
   "cell_type": "code",
   "execution_count": 663,
   "metadata": {},
   "outputs": [],
   "source": [
    "samplesubmissionGB = pd.DataFrame({'time_spent':y_pred_test})\n",
    "samplesubmissionGB.to_csv('SubmissionGB.csv',index=False)"
   ]
  },
  {
   "cell_type": "markdown",
   "metadata": {},
   "source": [
    "# Support vector Regressor"
   ]
  },
  {
   "cell_type": "code",
   "execution_count": 708,
   "metadata": {},
   "outputs": [
    {
     "data": {
      "text/plain": [
       "SVR(kernel='poly')"
      ]
     },
     "execution_count": 708,
     "metadata": {},
     "output_type": "execute_result"
    }
   ],
   "source": [
    "from sklearn.svm import SVR\n",
    "modelSVR = SVR(kernel = 'poly')\n",
    "modelSVR.fit(X, y)"
   ]
  },
  {
   "cell_type": "code",
   "execution_count": 709,
   "metadata": {},
   "outputs": [],
   "source": [
    "y_pred_test=abs(modelSVR.predict(dfTest))"
   ]
  },
  {
   "cell_type": "code",
   "execution_count": 710,
   "metadata": {},
   "outputs": [],
   "source": [
    "samplesubmission = pd.DataFrame({'time_spent':y_pred_test})\n",
    "samplesubmission.to_csv('SubmissionSVR.csv',index=False)"
   ]
  },
  {
   "cell_type": "code",
   "execution_count": 711,
   "metadata": {},
   "outputs": [
    {
     "data": {
      "text/plain": [
       "<AxesSubplot:ylabel='Density'>"
      ]
     },
     "execution_count": 711,
     "metadata": {},
     "output_type": "execute_result"
    },
    {
     "data": {
      "image/png": "[encoded data removed]",
      "text/plain": [
       "<Figure size 432x288 with 1 Axes>"
      ]
     },
     "metadata": {
      "needs_background": "light"
     },
     "output_type": "display_data"
    }
   ],
   "source": [
    "sns.kdeplot(y_pred_test)"
   ]
  },
  {
   "cell_type": "markdown",
   "metadata": {},
   "source": [
    "# Support Vector Regressor with MinMaxScaler"
   ]
  },
  {
   "cell_type": "code",
   "execution_count": 717,
   "metadata": {},
   "outputs": [],
   "source": [
    "from sklearn.preprocessing import MinMaxScaler\n",
    "scaler1 = MinMaxScaler()\n",
    "scaler2= MinMaxScaler()\n",
    "scaler3 = MinMaxScaler()\n",
    "train = scaler1.fit_transform(dfTrain)\n",
    "# target =scaler2.fit_transform(y)\n",
    "test =scaler3.fit_transform(dfTest)"
   ]
  },
  {
   "cell_type": "code",
   "execution_count": 719,
   "metadata": {},
   "outputs": [],
   "source": [
    "train_df=pd.DataFrame(train)\n",
    "test_df =pd.DataFrame(test)"
   ]
  },
  {
   "cell_type": "code",
   "execution_count": 732,
   "metadata": {},
   "outputs": [
    {
     "data": {
      "text/plain": [
       "(2327, 9)"
      ]
     },
     "execution_count": 732,
     "metadata": {},
     "output_type": "execute_result"
    }
   ],
   "source": [
    "test_df.shape"
   ]
  },
  {
   "cell_type": "code",
   "execution_count": 721,
   "metadata": {},
   "outputs": [],
   "source": [
    "train_df.columns =dfTrain.columns\n",
    "test_df.columns = dfTest.columns"
   ]
  },
  {
   "cell_type": "code",
   "execution_count": 722,
   "metadata": {},
   "outputs": [
    {
     "data": {
      "text/html": [
       "<div>\n",
       "<style scoped>\n",
       "    .dataframe tbody tr th:only-of-type {\n",
       "        vertical-align: middle;\n",
       "    }\n",
       "\n",
       "    .dataframe tbody tr th {\n",
       "        vertical-align: top;\n",
       "    }\n",
       "\n",
       "    .dataframe thead th {\n",
       "        text-align: right;\n",
       "    }\n",
       "</style>\n",
       "<table border=\"1\" class=\"dataframe\">\n",
       "  <thead>\n",
       "    <tr style=\"text-align: right;\">\n",
       "      <th></th>\n",
       "      <th>session_number</th>\n",
       "      <th>purchased</th>\n",
       "      <th>added_in_cart</th>\n",
       "      <th>checked_out</th>\n",
       "      <th>time_spent</th>\n",
       "      <th>Device_org</th>\n",
       "      <th>Platform_org</th>\n",
       "      <th>Platform</th>\n",
       "      <th>Device</th>\n",
       "      <th>datepurch</th>\n",
       "    </tr>\n",
       "  </thead>\n",
       "  <tbody>\n",
       "    <tr>\n",
       "      <th>0</th>\n",
       "      <td>0.091298</td>\n",
       "      <td>1.0</td>\n",
       "      <td>0.0</td>\n",
       "      <td>0.0</td>\n",
       "      <td>0.005782</td>\n",
       "      <td>0.333333</td>\n",
       "      <td>0.125</td>\n",
       "      <td>0.333333</td>\n",
       "      <td>1.0</td>\n",
       "      <td>0.260623</td>\n",
       "    </tr>\n",
       "    <tr>\n",
       "      <th>1</th>\n",
       "      <td>0.005706</td>\n",
       "      <td>1.0</td>\n",
       "      <td>0.0</td>\n",
       "      <td>0.0</td>\n",
       "      <td>0.032824</td>\n",
       "      <td>1.000000</td>\n",
       "      <td>1.000</td>\n",
       "      <td>0.000000</td>\n",
       "      <td>0.5</td>\n",
       "      <td>0.158640</td>\n",
       "    </tr>\n",
       "    <tr>\n",
       "      <th>2</th>\n",
       "      <td>0.000000</td>\n",
       "      <td>0.0</td>\n",
       "      <td>0.0</td>\n",
       "      <td>0.0</td>\n",
       "      <td>0.000190</td>\n",
       "      <td>1.000000</td>\n",
       "      <td>0.500</td>\n",
       "      <td>0.333333</td>\n",
       "      <td>0.5</td>\n",
       "      <td>0.753541</td>\n",
       "    </tr>\n",
       "    <tr>\n",
       "      <th>3</th>\n",
       "      <td>0.360913</td>\n",
       "      <td>0.0</td>\n",
       "      <td>1.0</td>\n",
       "      <td>0.0</td>\n",
       "      <td>0.011455</td>\n",
       "      <td>0.333333</td>\n",
       "      <td>0.375</td>\n",
       "      <td>0.333333</td>\n",
       "      <td>1.0</td>\n",
       "      <td>0.325779</td>\n",
       "    </tr>\n",
       "    <tr>\n",
       "      <th>4</th>\n",
       "      <td>0.475036</td>\n",
       "      <td>0.0</td>\n",
       "      <td>0.0</td>\n",
       "      <td>0.0</td>\n",
       "      <td>0.029898</td>\n",
       "      <td>1.000000</td>\n",
       "      <td>0.875</td>\n",
       "      <td>0.333333</td>\n",
       "      <td>0.5</td>\n",
       "      <td>0.640227</td>\n",
       "    </tr>\n",
       "  </tbody>\n",
       "</table>\n",
       "</div>"
      ],
      "text/plain": [
       "   session_number  purchased  added_in_cart  checked_out  time_spent  \\\n",
       "0        0.091298        1.0            0.0          0.0    0.005782   \n",
       "1        0.005706        1.0            0.0          0.0    0.032824   \n",
       "2        0.000000        0.0            0.0          0.0    0.000190   \n",
       "3        0.360913        0.0            1.0          0.0    0.011455   \n",
       "4        0.475036        0.0            0.0          0.0    0.029898   \n",
       "\n",
       "   Device_org  Platform_org  Platform  Device  datepurch  \n",
       "0    0.333333         0.125  0.333333     1.0   0.260623  \n",
       "1    1.000000         1.000  0.000000     0.5   0.158640  \n",
       "2    1.000000         0.500  0.333333     0.5   0.753541  \n",
       "3    0.333333         0.375  0.333333     1.0   0.325779  \n",
       "4    1.000000         0.875  0.333333     0.5   0.640227  "
      ]
     },
     "execution_count": 722,
     "metadata": {},
     "output_type": "execute_result"
    }
   ],
   "source": [
    "train_df.head()"
   ]
  },
  {
   "cell_type": "code",
   "execution_count": 723,
   "metadata": {},
   "outputs": [
    {
     "data": {
      "text/html": [
       "<div>\n",
       "<style scoped>\n",
       "    .dataframe tbody tr th:only-of-type {\n",
       "        vertical-align: middle;\n",
       "    }\n",
       "\n",
       "    .dataframe tbody tr th {\n",
       "        vertical-align: top;\n",
       "    }\n",
       "\n",
       "    .dataframe thead th {\n",
       "        text-align: right;\n",
       "    }\n",
       "</style>\n",
       "<table border=\"1\" class=\"dataframe\">\n",
       "  <thead>\n",
       "    <tr style=\"text-align: right;\">\n",
       "      <th></th>\n",
       "      <th>session_number</th>\n",
       "      <th>purchased</th>\n",
       "      <th>added_in_cart</th>\n",
       "      <th>checked_out</th>\n",
       "      <th>Device_org</th>\n",
       "      <th>Platform_org</th>\n",
       "      <th>Platform</th>\n",
       "      <th>Device</th>\n",
       "      <th>datepurch</th>\n",
       "    </tr>\n",
       "  </thead>\n",
       "  <tbody>\n",
       "    <tr>\n",
       "      <th>0</th>\n",
       "      <td>0.011494</td>\n",
       "      <td>1.0</td>\n",
       "      <td>0.0</td>\n",
       "      <td>0.0</td>\n",
       "      <td>0.333333</td>\n",
       "      <td>0.375</td>\n",
       "      <td>0.5</td>\n",
       "      <td>1.0</td>\n",
       "      <td>0.294286</td>\n",
       "    </tr>\n",
       "    <tr>\n",
       "      <th>1</th>\n",
       "      <td>0.120690</td>\n",
       "      <td>0.0</td>\n",
       "      <td>0.0</td>\n",
       "      <td>0.0</td>\n",
       "      <td>0.000000</td>\n",
       "      <td>0.000</td>\n",
       "      <td>0.0</td>\n",
       "      <td>0.0</td>\n",
       "      <td>0.188571</td>\n",
       "    </tr>\n",
       "    <tr>\n",
       "      <th>2</th>\n",
       "      <td>0.116379</td>\n",
       "      <td>1.0</td>\n",
       "      <td>0.0</td>\n",
       "      <td>0.0</td>\n",
       "      <td>1.000000</td>\n",
       "      <td>1.000</td>\n",
       "      <td>0.0</td>\n",
       "      <td>0.5</td>\n",
       "      <td>0.537143</td>\n",
       "    </tr>\n",
       "    <tr>\n",
       "      <th>3</th>\n",
       "      <td>0.419540</td>\n",
       "      <td>0.0</td>\n",
       "      <td>0.0</td>\n",
       "      <td>0.0</td>\n",
       "      <td>0.333333</td>\n",
       "      <td>0.375</td>\n",
       "      <td>0.5</td>\n",
       "      <td>1.0</td>\n",
       "      <td>0.240000</td>\n",
       "    </tr>\n",
       "    <tr>\n",
       "      <th>4</th>\n",
       "      <td>0.028736</td>\n",
       "      <td>0.0</td>\n",
       "      <td>0.0</td>\n",
       "      <td>0.0</td>\n",
       "      <td>0.333333</td>\n",
       "      <td>0.125</td>\n",
       "      <td>0.5</td>\n",
       "      <td>1.0</td>\n",
       "      <td>0.231429</td>\n",
       "    </tr>\n",
       "  </tbody>\n",
       "</table>\n",
       "</div>"
      ],
      "text/plain": [
       "   session_number  purchased  added_in_cart  checked_out  Device_org  \\\n",
       "0        0.011494        1.0            0.0          0.0    0.333333   \n",
       "1        0.120690        0.0            0.0          0.0    0.000000   \n",
       "2        0.116379        1.0            0.0          0.0    1.000000   \n",
       "3        0.419540        0.0            0.0          0.0    0.333333   \n",
       "4        0.028736        0.0            0.0          0.0    0.333333   \n",
       "\n",
       "   Platform_org  Platform  Device  datepurch  \n",
       "0         0.375       0.5     1.0   0.294286  \n",
       "1         0.000       0.0     0.0   0.188571  \n",
       "2         1.000       0.0     0.5   0.537143  \n",
       "3         0.375       0.5     1.0   0.240000  \n",
       "4         0.125       0.5     1.0   0.231429  "
      ]
     },
     "execution_count": 723,
     "metadata": {},
     "output_type": "execute_result"
    }
   ],
   "source": [
    "test_df.head()"
   ]
  },
  {
   "cell_type": "code",
   "execution_count": 726,
   "metadata": {},
   "outputs": [
    {
     "data": {
      "text/plain": [
       "SVR(kernel='poly')"
      ]
     },
     "execution_count": 726,
     "metadata": {},
     "output_type": "execute_result"
    }
   ],
   "source": [
    "modelSVR = SVR(kernel = 'poly')\n",
    "modelSVR.fit(train_df.drop('time_spent',axis=1), train_df['time_spent'])"
   ]
  },
  {
   "cell_type": "code",
   "execution_count": 728,
   "metadata": {},
   "outputs": [],
   "source": [
    "y_pred_test=abs(modelSVR.predict(test_df))"
   ]
  },
  {
   "cell_type": "code",
   "execution_count": 733,
   "metadata": {},
   "outputs": [],
   "source": [
    "train_df_2327=train_df.iloc[:2327,:]"
   ]
  },
  {
   "cell_type": "code",
   "execution_count": 740,
   "metadata": {},
   "outputs": [
    {
     "data": {
      "text/plain": [
       "(2327, 10)"
      ]
     },
     "execution_count": 740,
     "metadata": {},
     "output_type": "execute_result"
    }
   ],
   "source": [
    "train_df_2327.shape"
   ]
  },
  {
   "cell_type": "code",
   "execution_count": 734,
   "metadata": {},
   "outputs": [
    {
     "name": "stderr",
     "output_type": "stream",
     "text": [
      "e:\\pythonforselenium\\lib\\site-packages\\ipykernel_launcher.py:1: SettingWithCopyWarning: \n",
      "A value is trying to be set on a copy of a slice from a DataFrame.\n",
      "Try using .loc[row_indexer,col_indexer] = value instead\n",
      "\n",
      "See the caveats in the documentation: https://pandas.pydata.org/pandas-docs/stable/user_guide/indexing.html#returning-a-view-versus-a-copy\n",
      "  \"\"\"Entry point for launching an IPython kernel.\n"
     ]
    }
   ],
   "source": [
    "train_df_2327['time_spent'] = y_pred_test"
   ]
  },
  {
   "cell_type": "code",
   "execution_count": 735,
   "metadata": {},
   "outputs": [
    {
     "name": "stdout",
     "output_type": "stream",
     "text": [
      "<class 'pandas.core.frame.DataFrame'>\n",
      "RangeIndex: 2327 entries, 0 to 2326\n",
      "Data columns (total 10 columns):\n",
      " #   Column          Non-Null Count  Dtype  \n",
      "---  ------          --------------  -----  \n",
      " 0   session_number  2327 non-null   float64\n",
      " 1   purchased       2327 non-null   float64\n",
      " 2   added_in_cart   2327 non-null   float64\n",
      " 3   checked_out     2327 non-null   float64\n",
      " 4   time_spent      2327 non-null   float64\n",
      " 5   Device_org      2327 non-null   float64\n",
      " 6   Platform_org    2327 non-null   float64\n",
      " 7   Platform        2327 non-null   float64\n",
      " 8   Device          2327 non-null   float64\n",
      " 9   datepurch       2327 non-null   float64\n",
      "dtypes: float64(10)\n",
      "memory usage: 181.9 KB\n"
     ]
    }
   ],
   "source": [
    "train_df_2327.info()"
   ]
  },
  {
   "cell_type": "code",
   "execution_count": 736,
   "metadata": {},
   "outputs": [],
   "source": [
    "train_df_2327_inv=scaler1.inverse_transform(train_df_2327)"
   ]
  },
  {
   "cell_type": "code",
   "execution_count": 739,
   "metadata": {},
   "outputs": [
    {
     "data": {
      "text/html": [
       "<div>\n",
       "<style scoped>\n",
       "    .dataframe tbody tr th:only-of-type {\n",
       "        vertical-align: middle;\n",
       "    }\n",
       "\n",
       "    .dataframe tbody tr th {\n",
       "        vertical-align: top;\n",
       "    }\n",
       "\n",
       "    .dataframe thead th {\n",
       "        text-align: right;\n",
       "    }\n",
       "</style>\n",
       "<table border=\"1\" class=\"dataframe\">\n",
       "  <thead>\n",
       "    <tr style=\"text-align: right;\">\n",
       "      <th></th>\n",
       "      <th>session_number</th>\n",
       "      <th>purchased</th>\n",
       "      <th>added_in_cart</th>\n",
       "      <th>checked_out</th>\n",
       "      <th>time_spent</th>\n",
       "      <th>Device_org</th>\n",
       "      <th>Platform_org</th>\n",
       "      <th>Platform</th>\n",
       "      <th>Device</th>\n",
       "      <th>datepurch</th>\n",
       "    </tr>\n",
       "  </thead>\n",
       "  <tbody>\n",
       "    <tr>\n",
       "      <th>0</th>\n",
       "      <td>715.0</td>\n",
       "      <td>1.0</td>\n",
       "      <td>0.0</td>\n",
       "      <td>0.0</td>\n",
       "      <td>3505.858581</td>\n",
       "      <td>2.0</td>\n",
       "      <td>1.0</td>\n",
       "      <td>1.0</td>\n",
       "      <td>6.0</td>\n",
       "      <td>92.0</td>\n",
       "    </tr>\n",
       "    <tr>\n",
       "      <th>1</th>\n",
       "      <td>55.0</td>\n",
       "      <td>1.0</td>\n",
       "      <td>0.0</td>\n",
       "      <td>0.0</td>\n",
       "      <td>3875.812239</td>\n",
       "      <td>6.0</td>\n",
       "      <td>8.0</td>\n",
       "      <td>0.0</td>\n",
       "      <td>3.0</td>\n",
       "      <td>56.0</td>\n",
       "    </tr>\n",
       "    <tr>\n",
       "      <th>2</th>\n",
       "      <td>11.0</td>\n",
       "      <td>0.0</td>\n",
       "      <td>0.0</td>\n",
       "      <td>0.0</td>\n",
       "      <td>3340.091632</td>\n",
       "      <td>6.0</td>\n",
       "      <td>4.0</td>\n",
       "      <td>1.0</td>\n",
       "      <td>3.0</td>\n",
       "      <td>266.0</td>\n",
       "    </tr>\n",
       "    <tr>\n",
       "      <th>3</th>\n",
       "      <td>2794.0</td>\n",
       "      <td>0.0</td>\n",
       "      <td>1.0</td>\n",
       "      <td>0.0</td>\n",
       "      <td>3364.154055</td>\n",
       "      <td>2.0</td>\n",
       "      <td>3.0</td>\n",
       "      <td>1.0</td>\n",
       "      <td>6.0</td>\n",
       "      <td>115.0</td>\n",
       "    </tr>\n",
       "    <tr>\n",
       "      <th>4</th>\n",
       "      <td>3674.0</td>\n",
       "      <td>0.0</td>\n",
       "      <td>0.0</td>\n",
       "      <td>0.0</td>\n",
       "      <td>3740.351976</td>\n",
       "      <td>6.0</td>\n",
       "      <td>7.0</td>\n",
       "      <td>1.0</td>\n",
       "      <td>3.0</td>\n",
       "      <td>226.0</td>\n",
       "    </tr>\n",
       "  </tbody>\n",
       "</table>\n",
       "</div>"
      ],
      "text/plain": [
       "   session_number  purchased  added_in_cart  checked_out   time_spent  \\\n",
       "0           715.0        1.0            0.0          0.0  3505.858581   \n",
       "1            55.0        1.0            0.0          0.0  3875.812239   \n",
       "2            11.0        0.0            0.0          0.0  3340.091632   \n",
       "3          2794.0        0.0            1.0          0.0  3364.154055   \n",
       "4          3674.0        0.0            0.0          0.0  3740.351976   \n",
       "\n",
       "   Device_org  Platform_org  Platform  Device  datepurch  \n",
       "0         2.0           1.0       1.0     6.0       92.0  \n",
       "1         6.0           8.0       0.0     3.0       56.0  \n",
       "2         6.0           4.0       1.0     3.0      266.0  \n",
       "3         2.0           3.0       1.0     6.0      115.0  \n",
       "4         6.0           7.0       1.0     3.0      226.0  "
      ]
     },
     "execution_count": 739,
     "metadata": {},
     "output_type": "execute_result"
    }
   ],
   "source": [
    "train_df_2327_inv_df = pd.DataFrame(train_df_2327_inv)\n",
    "train_df_2327_inv_df.columns =dfTrain.columns\n",
    "train_df_2327_inv_df.head()"
   ]
  },
  {
   "cell_type": "code",
   "execution_count": 741,
   "metadata": {},
   "outputs": [],
   "source": [
    "samplesubmission = pd.DataFrame({'time_spent':train_df_2327_inv_df['time_spent']})\n",
    "samplesubmission.to_csv('SubmissionSVRMinMaxScaler.csv',index=False)"
   ]
  },
  {
   "cell_type": "markdown",
   "metadata": {},
   "source": [
    "# Model Fine Tuning to decrease RMSLE ,Score  is 1.81243 \n",
    "a)SVR Model is robust to outliers, so even after treating outliers the result or score is the same."
   ]
  },
  {
   "cell_type": "code",
   "execution_count": 346,
   "metadata": {},
   "outputs": [
    {
     "data": {
      "image/png": "[encoded data removed]",
      "text/plain": [
       "<Figure size 432x288 with 1 Axes>"
      ]
     },
     "metadata": {
      "needs_background": "light"
     },
     "output_type": "display_data"
    }
   ],
   "source": [
    "plt.scatter(X.index,y)\n",
    "plt.show()"
   ]
  },
  {
   "cell_type": "code",
   "execution_count": 347,
   "metadata": {},
   "outputs": [
    {
     "name": "stdout",
     "output_type": "stream",
     "text": [
      "1467.1090000000006 -843.9470000000005\n"
     ]
    }
   ],
   "source": [
    "iqr=dfTrain['time_spent'].quantile(0.75)-dfTrain['time_spent'].quantile(0.25)\n",
    "upper_limit=dfTrain['time_spent'].quantile(0.75)+1.5*iqr\n",
    "lower_limit=dfTrain['time_spent'].quantile(0.25)-1.5*iqr\n",
    "print(upper_limit,lower_limit)"
   ]
  },
  {
   "cell_type": "code",
   "execution_count": 348,
   "metadata": {},
   "outputs": [],
   "source": [
    "dfTrain.loc[dfTrain['time_spent']>1467,'time_spent']=1467"
   ]
  },
  {
   "cell_type": "code",
   "execution_count": 349,
   "metadata": {},
   "outputs": [
    {
     "data": {
      "text/plain": [
       "14.4"
      ]
     },
     "execution_count": 349,
     "metadata": {},
     "output_type": "execute_result"
    }
   ],
   "source": [
    "min(dfTrain['time_spent'])"
   ]
  },
  {
   "cell_type": "code",
   "execution_count": 350,
   "metadata": {},
   "outputs": [
    {
     "data": {
      "text/plain": [
       "1467.0"
      ]
     },
     "execution_count": 350,
     "metadata": {},
     "output_type": "execute_result"
    }
   ],
   "source": [
    "max(dfTrain['time_spent'])"
   ]
  },
  {
   "cell_type": "code",
   "execution_count": 351,
   "metadata": {},
   "outputs": [
    {
     "data": {
      "text/plain": [
       "SVR()"
      ]
     },
     "execution_count": 351,
     "metadata": {},
     "output_type": "execute_result"
    }
   ],
   "source": [
    "modelSVR.fit(X, dfTrain['time_spent'])"
   ]
  },
  {
   "cell_type": "code",
   "execution_count": 352,
   "metadata": {},
   "outputs": [],
   "source": [
    "y_pred_test=abs(modelSVR.predict(dfTest))"
   ]
  },
  {
   "cell_type": "code",
   "execution_count": 353,
   "metadata": {},
   "outputs": [],
   "source": [
    "samplesubmission = pd.DataFrame({'time_spent':y_pred_test})\n",
    "samplesubmission.to_csv('SubmissionSVROutlier.csv',index=False)"
   ]
  },
  {
   "cell_type": "code",
   "execution_count": 356,
   "metadata": {},
   "outputs": [],
   "source": [
    "dfTrain['time_spent']=y"
   ]
  },
  {
   "cell_type": "code",
   "execution_count": 357,
   "metadata": {},
   "outputs": [
    {
     "data": {
      "text/plain": [
       "1467.0"
      ]
     },
     "execution_count": 357,
     "metadata": {},
     "output_type": "execute_result"
    }
   ],
   "source": [
    "max(dfTrain['time_spent'])"
   ]
  },
  {
   "cell_type": "markdown",
   "metadata": {},
   "source": [
    "# Model Fine Tuning to decrease RMSLE Score ,  score is 2.04125\n",
    "  hyper parameter tuning to decrease RMSLE Error  with hyper parameter tuning "
   ]
  },
  {
   "cell_type": "code",
   "execution_count": 102,
   "metadata": {},
   "outputs": [],
   "source": [
    "from sklearn.model_selection import GridSearchCV\n",
    "from sklearn.model_selection import RandomSearchCV"
   ]
  },
  {
   "cell_type": "code",
   "execution_count": 240,
   "metadata": {},
   "outputs": [
    {
     "name": "stdout",
     "output_type": "stream",
     "text": [
      "Fitting 5 folds for each of 40 candidates, totalling 200 fits\n"
     ]
    },
    {
     "name": "stderr",
     "output_type": "stream",
     "text": [
      "[Parallel(n_jobs=-1)]: Using backend LokyBackend with 4 concurrent workers.\n",
      "[Parallel(n_jobs=-1)]: Done  24 tasks      | elapsed:   36.1s\n",
      "[Parallel(n_jobs=-1)]: Done 120 tasks      | elapsed:  2.8min\n",
      "[Parallel(n_jobs=-1)]: Done 200 out of 200 | elapsed:  6.5min finished\n"
     ]
    },
    {
     "data": {
      "text/plain": [
       "{'C': 1000, 'gamma': 0.9, 'kernel': 'rbf'}"
      ]
     },
     "execution_count": 240,
     "metadata": {},
     "output_type": "execute_result"
    }
   ],
   "source": [
    "#param = [ {'kernel' : ['linear', 'poly', 'rbf', 'sigmoid'],'C' : [1,5,10],'degree' : [3,8],'coef0' : [0.01,10,0.5],'gamma' : ['auto','scale']}]\n",
    "\n",
    "parameters = [{'kernel': ['rbf'], 'gamma': [1e-4, 1e-3, 0.01, 0.1, 0.2, 0.5, 0.6, 0.9],'C': [1, 10, 100, 1000, 10000]}]\n",
    "\n",
    "modelsvr = SVR()\n",
    "\n",
    "grids = GridSearchCV(modelsvr,parameters,cv=5,verbose=3,n_jobs=-1)\n",
    "\n",
    "grids.fit(X,y)\n",
    "grids.best_params_"
   ]
  },
  {
   "cell_type": "code",
   "execution_count": 241,
   "metadata": {},
   "outputs": [],
   "source": [
    "y_pred_test=abs(grids.predict(dfTest))"
   ]
  },
  {
   "cell_type": "code",
   "execution_count": 243,
   "metadata": {},
   "outputs": [],
   "source": [
    "samplesubmission = pd.DataFrame({'time_spent':y_pred_test})\n",
    "samplesubmission.to_csv('SubmissionSVRhypparameter.csv',index=False)"
   ]
  },
  {
   "cell_type": "code",
   "execution_count": null,
   "metadata": {},
   "outputs": [],
   "source": []
  }
 ],
 "metadata": {
  "kernelspec": {
   "display_name": "Python 3",
   "language": "python",
   "name": "python3"
  },
  "language_info": {
   "codemirror_mode": {
    "name": "ipython",
    "version": 3
   },
   "file_extension": ".py",
   "mimetype": "text/x-python",
   "name": "python",
   "nbconvert_exporter": "python",
   "pygments_lexer": "ipython3",
   "version": "3.7.8"
  }
 },
 "nbformat": 4,
 "nbformat_minor": 4
}
