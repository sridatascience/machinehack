{
 "cells": [
  {
   "cell_type": "code",
   "execution_count": 1644,
   "metadata": {},
   "outputs": [],
   "source": [
    "import pandas as pd\n",
    "import seaborn as sns\n",
    "import numpy as np\n",
    "import matplotlib.pyplot as plt\n",
    "from scipy.stats import skew\n",
    "import re"
   ]
  },
  {
   "cell_type": "code",
   "execution_count": 1645,
   "metadata": {},
   "outputs": [
    {
     "data": {
      "text/html": [
       "<div>\n",
       "<style scoped>\n",
       "    .dataframe tbody tr th:only-of-type {\n",
       "        vertical-align: middle;\n",
       "    }\n",
       "\n",
       "    .dataframe tbody tr th {\n",
       "        vertical-align: top;\n",
       "    }\n",
       "\n",
       "    .dataframe thead th {\n",
       "        text-align: right;\n",
       "    }\n",
       "</style>\n",
       "<table border=\"1\" class=\"dataframe\">\n",
       "  <thead>\n",
       "    <tr style=\"text-align: right;\">\n",
       "      <th></th>\n",
       "      <th>session_id</th>\n",
       "      <th>session_number</th>\n",
       "      <th>client_agent</th>\n",
       "      <th>device_details</th>\n",
       "      <th>date</th>\n",
       "      <th>purchased</th>\n",
       "      <th>added_in_cart</th>\n",
       "      <th>checked_out</th>\n",
       "      <th>time_spent</th>\n",
       "    </tr>\n",
       "  </thead>\n",
       "  <tbody>\n",
       "    <tr>\n",
       "      <th>0</th>\n",
       "      <td>57f879e70d3c5fc2a98102d64c9fd84e</td>\n",
       "      <td>715</td>\n",
       "      <td>Mozilla/5.0 (Windows NT 6.1; WOW64) AppleWebKi...</td>\n",
       "      <td>Desktop - Chrome</td>\n",
       "      <td>2020-01-22</td>\n",
       "      <td>1</td>\n",
       "      <td>0</td>\n",
       "      <td>0</td>\n",
       "      <td>236.886</td>\n",
       "    </tr>\n",
       "    <tr>\n",
       "      <th>1</th>\n",
       "      <td>a5442b0c7c33d0a811e7661e556b2de8</td>\n",
       "      <td>55</td>\n",
       "      <td>Product/8.0 iPhone/8.1.3</td>\n",
       "      <td>iPhone - iOS</td>\n",
       "      <td>2020-02-27</td>\n",
       "      <td>1</td>\n",
       "      <td>0</td>\n",
       "      <td>0</td>\n",
       "      <td>1277.455</td>\n",
       "    </tr>\n",
       "    <tr>\n",
       "      <th>2</th>\n",
       "      <td>305cb1486ed8610c00b37007926cb2c4</td>\n",
       "      <td>11</td>\n",
       "      <td>Mozilla/5.0 (iPhone; CPU iPhone OS 7_1_2 like ...</td>\n",
       "      <td>iPhone - MobileWeb</td>\n",
       "      <td>2019-08-01</td>\n",
       "      <td>0</td>\n",
       "      <td>0</td>\n",
       "      <td>0</td>\n",
       "      <td>21.704</td>\n",
       "    </tr>\n",
       "    <tr>\n",
       "      <th>3</th>\n",
       "      <td>f2c1ecc9993f0071df91ba178450498c</td>\n",
       "      <td>2794</td>\n",
       "      <td>Mozilla/5.0 (compatible; MSIE 9.0; Windows NT ...</td>\n",
       "      <td>Desktop - IE</td>\n",
       "      <td>2019-12-30</td>\n",
       "      <td>0</td>\n",
       "      <td>1</td>\n",
       "      <td>0</td>\n",
       "      <td>455.201</td>\n",
       "    </tr>\n",
       "    <tr>\n",
       "      <th>4</th>\n",
       "      <td>e460830ae295e55d2216ebdc761ab9a6</td>\n",
       "      <td>3674</td>\n",
       "      <td>Mozilla/5.0 (iPhone; CPU iPhone OS 7_1_1 like ...</td>\n",
       "      <td>iPhone - Web</td>\n",
       "      <td>2019-09-10</td>\n",
       "      <td>0</td>\n",
       "      <td>0</td>\n",
       "      <td>0</td>\n",
       "      <td>1164.877</td>\n",
       "    </tr>\n",
       "  </tbody>\n",
       "</table>\n",
       "</div>"
      ],
      "text/plain": [
       "                         session_id  session_number  \\\n",
       "0  57f879e70d3c5fc2a98102d64c9fd84e             715   \n",
       "1  a5442b0c7c33d0a811e7661e556b2de8              55   \n",
       "2  305cb1486ed8610c00b37007926cb2c4              11   \n",
       "3  f2c1ecc9993f0071df91ba178450498c            2794   \n",
       "4  e460830ae295e55d2216ebdc761ab9a6            3674   \n",
       "\n",
       "                                        client_agent      device_details  \\\n",
       "0  Mozilla/5.0 (Windows NT 6.1; WOW64) AppleWebKi...    Desktop - Chrome   \n",
       "1                           Product/8.0 iPhone/8.1.3        iPhone - iOS   \n",
       "2  Mozilla/5.0 (iPhone; CPU iPhone OS 7_1_2 like ...  iPhone - MobileWeb   \n",
       "3  Mozilla/5.0 (compatible; MSIE 9.0; Windows NT ...        Desktop - IE   \n",
       "4  Mozilla/5.0 (iPhone; CPU iPhone OS 7_1_1 like ...        iPhone - Web   \n",
       "\n",
       "        date  purchased  added_in_cart  checked_out  time_spent  \n",
       "0 2020-01-22          1              0            0     236.886  \n",
       "1 2020-02-27          1              0            0    1277.455  \n",
       "2 2019-08-01          0              0            0      21.704  \n",
       "3 2019-12-30          0              1            0     455.201  \n",
       "4 2019-09-10          0              0            0    1164.877  "
      ]
     },
     "execution_count": 1645,
     "metadata": {},
     "output_type": "execute_result"
    }
   ],
   "source": [
    "dfTrain= pd.read_csv('Train.csv',parse_dates=['date'])\n",
    "dfTest = pd.read_csv('Test.csv',parse_dates=['date'])\n",
    "dfTrain.head()"
   ]
  },
  {
   "cell_type": "code",
   "execution_count": 1646,
   "metadata": {},
   "outputs": [
    {
     "data": {
      "text/html": [
       "<div>\n",
       "<style scoped>\n",
       "    .dataframe tbody tr th:only-of-type {\n",
       "        vertical-align: middle;\n",
       "    }\n",
       "\n",
       "    .dataframe tbody tr th {\n",
       "        vertical-align: top;\n",
       "    }\n",
       "\n",
       "    .dataframe thead th {\n",
       "        text-align: right;\n",
       "    }\n",
       "</style>\n",
       "<table border=\"1\" class=\"dataframe\">\n",
       "  <thead>\n",
       "    <tr style=\"text-align: right;\">\n",
       "      <th></th>\n",
       "      <th>session_id</th>\n",
       "      <th>session_number</th>\n",
       "      <th>client_agent</th>\n",
       "      <th>device_details</th>\n",
       "      <th>date</th>\n",
       "      <th>purchased</th>\n",
       "      <th>added_in_cart</th>\n",
       "      <th>checked_out</th>\n",
       "      <th>time_spent</th>\n",
       "    </tr>\n",
       "  </thead>\n",
       "  <tbody>\n",
       "    <tr>\n",
       "      <th>0</th>\n",
       "      <td>57f879e70d3c5fc2a98102d64c9fd84e</td>\n",
       "      <td>715</td>\n",
       "      <td>Mozilla/5.0 (Windows NT 6.1; WOW64) AppleWebKi...</td>\n",
       "      <td>Desktop - Chrome</td>\n",
       "      <td>2020-01-22</td>\n",
       "      <td>1</td>\n",
       "      <td>0</td>\n",
       "      <td>0</td>\n",
       "      <td>236.886</td>\n",
       "    </tr>\n",
       "    <tr>\n",
       "      <th>1</th>\n",
       "      <td>a5442b0c7c33d0a811e7661e556b2de8</td>\n",
       "      <td>55</td>\n",
       "      <td>Product/8.0 iPhone/8.1.3</td>\n",
       "      <td>iPhone - iOS</td>\n",
       "      <td>2020-02-27</td>\n",
       "      <td>1</td>\n",
       "      <td>0</td>\n",
       "      <td>0</td>\n",
       "      <td>1277.455</td>\n",
       "    </tr>\n",
       "    <tr>\n",
       "      <th>2</th>\n",
       "      <td>305cb1486ed8610c00b37007926cb2c4</td>\n",
       "      <td>11</td>\n",
       "      <td>Mozilla/5.0 (iPhone; CPU iPhone OS 7_1_2 like ...</td>\n",
       "      <td>iPhone - MobileWeb</td>\n",
       "      <td>2019-08-01</td>\n",
       "      <td>0</td>\n",
       "      <td>0</td>\n",
       "      <td>0</td>\n",
       "      <td>21.704</td>\n",
       "    </tr>\n",
       "    <tr>\n",
       "      <th>3</th>\n",
       "      <td>f2c1ecc9993f0071df91ba178450498c</td>\n",
       "      <td>2794</td>\n",
       "      <td>Mozilla/5.0 (compatible; MSIE 9.0; Windows NT ...</td>\n",
       "      <td>Desktop - IE</td>\n",
       "      <td>2019-12-30</td>\n",
       "      <td>0</td>\n",
       "      <td>1</td>\n",
       "      <td>0</td>\n",
       "      <td>455.201</td>\n",
       "    </tr>\n",
       "    <tr>\n",
       "      <th>4</th>\n",
       "      <td>e460830ae295e55d2216ebdc761ab9a6</td>\n",
       "      <td>3674</td>\n",
       "      <td>Mozilla/5.0 (iPhone; CPU iPhone OS 7_1_1 like ...</td>\n",
       "      <td>iPhone - Web</td>\n",
       "      <td>2019-09-10</td>\n",
       "      <td>0</td>\n",
       "      <td>0</td>\n",
       "      <td>0</td>\n",
       "      <td>1164.877</td>\n",
       "    </tr>\n",
       "    <tr>\n",
       "      <th>...</th>\n",
       "      <td>...</td>\n",
       "      <td>...</td>\n",
       "      <td>...</td>\n",
       "      <td>...</td>\n",
       "      <td>...</td>\n",
       "      <td>...</td>\n",
       "      <td>...</td>\n",
       "      <td>...</td>\n",
       "      <td>...</td>\n",
       "    </tr>\n",
       "    <tr>\n",
       "      <th>5424</th>\n",
       "      <td>b6aa30da97fa3c95989c47ccf5ab4e9f</td>\n",
       "      <td>627</td>\n",
       "      <td>Mozilla/5.0 (iPhone; CPU iPhone OS 8_1 like Ma...</td>\n",
       "      <td>iPhone - Web</td>\n",
       "      <td>2019-11-20</td>\n",
       "      <td>0</td>\n",
       "      <td>0</td>\n",
       "      <td>0</td>\n",
       "      <td>20.601</td>\n",
       "    </tr>\n",
       "    <tr>\n",
       "      <th>5425</th>\n",
       "      <td>58b62e9fa867d622662b8a4096fdc3f0</td>\n",
       "      <td>6710</td>\n",
       "      <td>Product/4.2.2 iPhone/7.1.1</td>\n",
       "      <td>iPhone - iOS</td>\n",
       "      <td>2019-09-26</td>\n",
       "      <td>0</td>\n",
       "      <td>0</td>\n",
       "      <td>0</td>\n",
       "      <td>1537.666</td>\n",
       "    </tr>\n",
       "    <tr>\n",
       "      <th>5426</th>\n",
       "      <td>109f7f9b8384e46fc88f580b328298e8</td>\n",
       "      <td>198</td>\n",
       "      <td>Mozilla/5.0 (Macintosh; Intel Mac OS X 10_9_4)...</td>\n",
       "      <td>Desktop - Chrome</td>\n",
       "      <td>2019-08-13</td>\n",
       "      <td>0</td>\n",
       "      <td>0</td>\n",
       "      <td>0</td>\n",
       "      <td>22.711</td>\n",
       "    </tr>\n",
       "    <tr>\n",
       "      <th>5427</th>\n",
       "      <td>ac6579972e89dfc78d3ee95d15764681</td>\n",
       "      <td>913</td>\n",
       "      <td>NaN</td>\n",
       "      <td>Unknown - MobileWeb</td>\n",
       "      <td>2019-06-18</td>\n",
       "      <td>0</td>\n",
       "      <td>0</td>\n",
       "      <td>0</td>\n",
       "      <td>20.844</td>\n",
       "    </tr>\n",
       "    <tr>\n",
       "      <th>5428</th>\n",
       "      <td>bd8f8239b827fc29d4e1bec91bd499b7</td>\n",
       "      <td>1254</td>\n",
       "      <td>Mozilla/5.0 (iPhone; CPU iPhone OS 7_0_4 like ...</td>\n",
       "      <td>iPhone - Web</td>\n",
       "      <td>2019-10-21</td>\n",
       "      <td>0</td>\n",
       "      <td>0</td>\n",
       "      <td>0</td>\n",
       "      <td>20.504</td>\n",
       "    </tr>\n",
       "  </tbody>\n",
       "</table>\n",
       "<p>5429 rows × 9 columns</p>\n",
       "</div>"
      ],
      "text/plain": [
       "                            session_id  session_number  \\\n",
       "0     57f879e70d3c5fc2a98102d64c9fd84e             715   \n",
       "1     a5442b0c7c33d0a811e7661e556b2de8              55   \n",
       "2     305cb1486ed8610c00b37007926cb2c4              11   \n",
       "3     f2c1ecc9993f0071df91ba178450498c            2794   \n",
       "4     e460830ae295e55d2216ebdc761ab9a6            3674   \n",
       "...                                ...             ...   \n",
       "5424  b6aa30da97fa3c95989c47ccf5ab4e9f             627   \n",
       "5425  58b62e9fa867d622662b8a4096fdc3f0            6710   \n",
       "5426  109f7f9b8384e46fc88f580b328298e8             198   \n",
       "5427  ac6579972e89dfc78d3ee95d15764681             913   \n",
       "5428  bd8f8239b827fc29d4e1bec91bd499b7            1254   \n",
       "\n",
       "                                           client_agent       device_details  \\\n",
       "0     Mozilla/5.0 (Windows NT 6.1; WOW64) AppleWebKi...     Desktop - Chrome   \n",
       "1                              Product/8.0 iPhone/8.1.3         iPhone - iOS   \n",
       "2     Mozilla/5.0 (iPhone; CPU iPhone OS 7_1_2 like ...   iPhone - MobileWeb   \n",
       "3     Mozilla/5.0 (compatible; MSIE 9.0; Windows NT ...         Desktop - IE   \n",
       "4     Mozilla/5.0 (iPhone; CPU iPhone OS 7_1_1 like ...         iPhone - Web   \n",
       "...                                                 ...                  ...   \n",
       "5424  Mozilla/5.0 (iPhone; CPU iPhone OS 8_1 like Ma...         iPhone - Web   \n",
       "5425                         Product/4.2.2 iPhone/7.1.1         iPhone - iOS   \n",
       "5426  Mozilla/5.0 (Macintosh; Intel Mac OS X 10_9_4)...     Desktop - Chrome   \n",
       "5427                                                NaN  Unknown - MobileWeb   \n",
       "5428  Mozilla/5.0 (iPhone; CPU iPhone OS 7_0_4 like ...         iPhone - Web   \n",
       "\n",
       "           date  purchased  added_in_cart  checked_out  time_spent  \n",
       "0    2020-01-22          1              0            0     236.886  \n",
       "1    2020-02-27          1              0            0    1277.455  \n",
       "2    2019-08-01          0              0            0      21.704  \n",
       "3    2019-12-30          0              1            0     455.201  \n",
       "4    2019-09-10          0              0            0    1164.877  \n",
       "...         ...        ...            ...          ...         ...  \n",
       "5424 2019-11-20          0              0            0      20.601  \n",
       "5425 2019-09-26          0              0            0    1537.666  \n",
       "5426 2019-08-13          0              0            0      22.711  \n",
       "5427 2019-06-18          0              0            0      20.844  \n",
       "5428 2019-10-21          0              0            0      20.504  \n",
       "\n",
       "[5429 rows x 9 columns]"
      ]
     },
     "execution_count": 1646,
     "metadata": {},
     "output_type": "execute_result"
    }
   ],
   "source": [
    "dfTrain.drop_duplicates()"
   ]
  },
  {
   "cell_type": "code",
   "execution_count": 1647,
   "metadata": {},
   "outputs": [
    {
     "data": {
      "text/html": [
       "<div>\n",
       "<style scoped>\n",
       "    .dataframe tbody tr th:only-of-type {\n",
       "        vertical-align: middle;\n",
       "    }\n",
       "\n",
       "    .dataframe tbody tr th {\n",
       "        vertical-align: top;\n",
       "    }\n",
       "\n",
       "    .dataframe thead th {\n",
       "        text-align: right;\n",
       "    }\n",
       "</style>\n",
       "<table border=\"1\" class=\"dataframe\">\n",
       "  <thead>\n",
       "    <tr style=\"text-align: right;\">\n",
       "      <th></th>\n",
       "      <th>session_id</th>\n",
       "      <th>session_number</th>\n",
       "      <th>client_agent</th>\n",
       "      <th>device_details</th>\n",
       "      <th>date</th>\n",
       "      <th>purchased</th>\n",
       "      <th>added_in_cart</th>\n",
       "      <th>checked_out</th>\n",
       "      <th>time_spent</th>\n",
       "    </tr>\n",
       "  </thead>\n",
       "  <tbody>\n",
       "    <tr>\n",
       "      <th>5424</th>\n",
       "      <td>b6aa30da97fa3c95989c47ccf5ab4e9f</td>\n",
       "      <td>627</td>\n",
       "      <td>Mozilla/5.0 (iPhone; CPU iPhone OS 8_1 like Ma...</td>\n",
       "      <td>iPhone - Web</td>\n",
       "      <td>2019-11-20</td>\n",
       "      <td>0</td>\n",
       "      <td>0</td>\n",
       "      <td>0</td>\n",
       "      <td>20.601</td>\n",
       "    </tr>\n",
       "    <tr>\n",
       "      <th>5425</th>\n",
       "      <td>58b62e9fa867d622662b8a4096fdc3f0</td>\n",
       "      <td>6710</td>\n",
       "      <td>Product/4.2.2 iPhone/7.1.1</td>\n",
       "      <td>iPhone - iOS</td>\n",
       "      <td>2019-09-26</td>\n",
       "      <td>0</td>\n",
       "      <td>0</td>\n",
       "      <td>0</td>\n",
       "      <td>1537.666</td>\n",
       "    </tr>\n",
       "    <tr>\n",
       "      <th>5426</th>\n",
       "      <td>109f7f9b8384e46fc88f580b328298e8</td>\n",
       "      <td>198</td>\n",
       "      <td>Mozilla/5.0 (Macintosh; Intel Mac OS X 10_9_4)...</td>\n",
       "      <td>Desktop - Chrome</td>\n",
       "      <td>2019-08-13</td>\n",
       "      <td>0</td>\n",
       "      <td>0</td>\n",
       "      <td>0</td>\n",
       "      <td>22.711</td>\n",
       "    </tr>\n",
       "    <tr>\n",
       "      <th>5427</th>\n",
       "      <td>ac6579972e89dfc78d3ee95d15764681</td>\n",
       "      <td>913</td>\n",
       "      <td>NaN</td>\n",
       "      <td>Unknown - MobileWeb</td>\n",
       "      <td>2019-06-18</td>\n",
       "      <td>0</td>\n",
       "      <td>0</td>\n",
       "      <td>0</td>\n",
       "      <td>20.844</td>\n",
       "    </tr>\n",
       "    <tr>\n",
       "      <th>5428</th>\n",
       "      <td>bd8f8239b827fc29d4e1bec91bd499b7</td>\n",
       "      <td>1254</td>\n",
       "      <td>Mozilla/5.0 (iPhone; CPU iPhone OS 7_0_4 like ...</td>\n",
       "      <td>iPhone - Web</td>\n",
       "      <td>2019-10-21</td>\n",
       "      <td>0</td>\n",
       "      <td>0</td>\n",
       "      <td>0</td>\n",
       "      <td>20.504</td>\n",
       "    </tr>\n",
       "  </tbody>\n",
       "</table>\n",
       "</div>"
      ],
      "text/plain": [
       "                            session_id  session_number  \\\n",
       "5424  b6aa30da97fa3c95989c47ccf5ab4e9f             627   \n",
       "5425  58b62e9fa867d622662b8a4096fdc3f0            6710   \n",
       "5426  109f7f9b8384e46fc88f580b328298e8             198   \n",
       "5427  ac6579972e89dfc78d3ee95d15764681             913   \n",
       "5428  bd8f8239b827fc29d4e1bec91bd499b7            1254   \n",
       "\n",
       "                                           client_agent       device_details  \\\n",
       "5424  Mozilla/5.0 (iPhone; CPU iPhone OS 8_1 like Ma...         iPhone - Web   \n",
       "5425                         Product/4.2.2 iPhone/7.1.1         iPhone - iOS   \n",
       "5426  Mozilla/5.0 (Macintosh; Intel Mac OS X 10_9_4)...     Desktop - Chrome   \n",
       "5427                                                NaN  Unknown - MobileWeb   \n",
       "5428  Mozilla/5.0 (iPhone; CPU iPhone OS 7_0_4 like ...         iPhone - Web   \n",
       "\n",
       "           date  purchased  added_in_cart  checked_out  time_spent  \n",
       "5424 2019-11-20          0              0            0      20.601  \n",
       "5425 2019-09-26          0              0            0    1537.666  \n",
       "5426 2019-08-13          0              0            0      22.711  \n",
       "5427 2019-06-18          0              0            0      20.844  \n",
       "5428 2019-10-21          0              0            0      20.504  "
      ]
     },
     "execution_count": 1647,
     "metadata": {},
     "output_type": "execute_result"
    }
   ],
   "source": [
    "dfTrain.tail()"
   ]
  },
  {
   "cell_type": "code",
   "execution_count": 1648,
   "metadata": {},
   "outputs": [
    {
     "data": {
      "text/html": [
       "<div>\n",
       "<style scoped>\n",
       "    .dataframe tbody tr th:only-of-type {\n",
       "        vertical-align: middle;\n",
       "    }\n",
       "\n",
       "    .dataframe tbody tr th {\n",
       "        vertical-align: top;\n",
       "    }\n",
       "\n",
       "    .dataframe thead th {\n",
       "        text-align: right;\n",
       "    }\n",
       "</style>\n",
       "<table border=\"1\" class=\"dataframe\">\n",
       "  <thead>\n",
       "    <tr style=\"text-align: right;\">\n",
       "      <th></th>\n",
       "      <th>session_number</th>\n",
       "      <th>purchased</th>\n",
       "      <th>added_in_cart</th>\n",
       "      <th>checked_out</th>\n",
       "      <th>time_spent</th>\n",
       "    </tr>\n",
       "  </thead>\n",
       "  <tbody>\n",
       "    <tr>\n",
       "      <th>count</th>\n",
       "      <td>5429.000000</td>\n",
       "      <td>5429.000000</td>\n",
       "      <td>5429.000000</td>\n",
       "      <td>5429.000000</td>\n",
       "      <td>5429.000000</td>\n",
       "    </tr>\n",
       "    <tr>\n",
       "      <th>mean</th>\n",
       "      <td>1072.835329</td>\n",
       "      <td>0.159145</td>\n",
       "      <td>0.162092</td>\n",
       "      <td>0.017499</td>\n",
       "      <td>663.194292</td>\n",
       "    </tr>\n",
       "    <tr>\n",
       "      <th>std</th>\n",
       "      <td>1436.351474</td>\n",
       "      <td>0.365845</td>\n",
       "      <td>0.368570</td>\n",
       "      <td>0.131132</td>\n",
       "      <td>1713.671664</td>\n",
       "    </tr>\n",
       "    <tr>\n",
       "      <th>min</th>\n",
       "      <td>11.000000</td>\n",
       "      <td>0.000000</td>\n",
       "      <td>0.000000</td>\n",
       "      <td>0.000000</td>\n",
       "      <td>14.400000</td>\n",
       "    </tr>\n",
       "    <tr>\n",
       "      <th>25%</th>\n",
       "      <td>121.000000</td>\n",
       "      <td>0.000000</td>\n",
       "      <td>0.000000</td>\n",
       "      <td>0.000000</td>\n",
       "      <td>22.699000</td>\n",
       "    </tr>\n",
       "    <tr>\n",
       "      <th>50%</th>\n",
       "      <td>517.000000</td>\n",
       "      <td>0.000000</td>\n",
       "      <td>0.000000</td>\n",
       "      <td>0.000000</td>\n",
       "      <td>98.312000</td>\n",
       "    </tr>\n",
       "    <tr>\n",
       "      <th>75%</th>\n",
       "      <td>1397.000000</td>\n",
       "      <td>0.000000</td>\n",
       "      <td>0.000000</td>\n",
       "      <td>0.000000</td>\n",
       "      <td>600.463000</td>\n",
       "    </tr>\n",
       "    <tr>\n",
       "      <th>max</th>\n",
       "      <td>7722.000000</td>\n",
       "      <td>1.000000</td>\n",
       "      <td>1.000000</td>\n",
       "      <td>1.000000</td>\n",
       "      <td>38494.025000</td>\n",
       "    </tr>\n",
       "  </tbody>\n",
       "</table>\n",
       "</div>"
      ],
      "text/plain": [
       "       session_number    purchased  added_in_cart  checked_out    time_spent\n",
       "count     5429.000000  5429.000000    5429.000000  5429.000000   5429.000000\n",
       "mean      1072.835329     0.159145       0.162092     0.017499    663.194292\n",
       "std       1436.351474     0.365845       0.368570     0.131132   1713.671664\n",
       "min         11.000000     0.000000       0.000000     0.000000     14.400000\n",
       "25%        121.000000     0.000000       0.000000     0.000000     22.699000\n",
       "50%        517.000000     0.000000       0.000000     0.000000     98.312000\n",
       "75%       1397.000000     0.000000       0.000000     0.000000    600.463000\n",
       "max       7722.000000     1.000000       1.000000     1.000000  38494.025000"
      ]
     },
     "execution_count": 1648,
     "metadata": {},
     "output_type": "execute_result"
    }
   ],
   "source": [
    "#checking for negative, min/max ,std and values distribution\n",
    "dfTrain.describe()"
   ]
  },
  {
   "cell_type": "code",
   "execution_count": 1653,
   "metadata": {},
   "outputs": [
    {
     "data": {
      "text/plain": [
       "session_id          0\n",
       "session_number      0\n",
       "client_agent      160\n",
       "device_details      0\n",
       "date                0\n",
       "purchased           0\n",
       "added_in_cart       0\n",
       "checked_out         0\n",
       "time_spent          0\n",
       "dtype: int64"
      ]
     },
     "execution_count": 1653,
     "metadata": {},
     "output_type": "execute_result"
    }
   ],
   "source": [
    "dfTrain.isnull().sum()"
   ]
  },
  {
   "cell_type": "code",
   "execution_count": 1654,
   "metadata": {},
   "outputs": [
    {
     "data": {
      "text/plain": [
       "session_id         0\n",
       "session_number     0\n",
       "client_agent      59\n",
       "device_details     0\n",
       "date               0\n",
       "purchased          0\n",
       "added_in_cart      0\n",
       "checked_out        0\n",
       "dtype: int64"
      ]
     },
     "execution_count": 1654,
     "metadata": {},
     "output_type": "execute_result"
    }
   ],
   "source": [
    "dfTest.isnull().sum()"
   ]
  },
  {
   "cell_type": "code",
   "execution_count": 1655,
   "metadata": {},
   "outputs": [
    {
     "name": "stdout",
     "output_type": "stream",
     "text": [
      "<class 'pandas.core.frame.DataFrame'>\n",
      "RangeIndex: 5429 entries, 0 to 5428\n",
      "Data columns (total 9 columns):\n",
      " #   Column          Non-Null Count  Dtype         \n",
      "---  ------          --------------  -----         \n",
      " 0   session_id      5429 non-null   object        \n",
      " 1   session_number  5429 non-null   int64         \n",
      " 2   client_agent    5269 non-null   object        \n",
      " 3   device_details  5429 non-null   object        \n",
      " 4   date            5429 non-null   datetime64[ns]\n",
      " 5   purchased       5429 non-null   int64         \n",
      " 6   added_in_cart   5429 non-null   int64         \n",
      " 7   checked_out     5429 non-null   int64         \n",
      " 8   time_spent      5429 non-null   float64       \n",
      "dtypes: datetime64[ns](1), float64(1), int64(4), object(3)\n",
      "memory usage: 381.9+ KB\n"
     ]
    }
   ],
   "source": [
    "dfTrain.info()"
   ]
  },
  {
   "cell_type": "code",
   "execution_count": 1656,
   "metadata": {},
   "outputs": [
    {
     "name": "stdout",
     "output_type": "stream",
     "text": [
      "<class 'pandas.core.frame.DataFrame'>\n",
      "RangeIndex: 2327 entries, 0 to 2326\n",
      "Data columns (total 8 columns):\n",
      " #   Column          Non-Null Count  Dtype         \n",
      "---  ------          --------------  -----         \n",
      " 0   session_id      2327 non-null   object        \n",
      " 1   session_number  2327 non-null   int64         \n",
      " 2   client_agent    2268 non-null   object        \n",
      " 3   device_details  2327 non-null   object        \n",
      " 4   date            2327 non-null   datetime64[ns]\n",
      " 5   purchased       2327 non-null   int64         \n",
      " 6   added_in_cart   2327 non-null   int64         \n",
      " 7   checked_out     2327 non-null   int64         \n",
      "dtypes: datetime64[ns](1), int64(4), object(3)\n",
      "memory usage: 145.6+ KB\n"
     ]
    }
   ],
   "source": [
    "dfTest.info()"
   ]
  },
  {
   "cell_type": "code",
   "execution_count": 1659,
   "metadata": {},
   "outputs": [
    {
     "data": {
      "text/plain": [
       "((5429, 9), (2327, 8))"
      ]
     },
     "execution_count": 1659,
     "metadata": {},
     "output_type": "execute_result"
    }
   ],
   "source": [
    "dfTrain.shape, dfTest.shape"
   ]
  },
  {
   "cell_type": "code",
   "execution_count": 1660,
   "metadata": {},
   "outputs": [
    {
     "name": "stdout",
     "output_type": "stream",
     "text": [
      "session_id is unique\n"
     ]
    },
    {
     "data": {
      "text/plain": [
       "5429"
      ]
     },
     "execution_count": 1660,
     "metadata": {},
     "output_type": "execute_result"
    }
   ],
   "source": [
    "if dfTrain.session_id.nunique() == dfTrain.shape[0]:\n",
    "    print(\"session_id is unique\")\n",
    "dfTrain.session_id.nunique()   "
   ]
  },
  {
   "cell_type": "code",
   "execution_count": 1661,
   "metadata": {},
   "outputs": [
    {
     "data": {
      "text/plain": [
       "610"
      ]
     },
     "execution_count": 1661,
     "metadata": {},
     "output_type": "execute_result"
    }
   ],
   "source": [
    "if dfTrain.session_number.nunique() == dfTrain.shape[0]:\n",
    "    print(\"session_number is unique\")\n",
    "dfTrain.session_number.nunique()"
   ]
  },
  {
   "cell_type": "code",
   "execution_count": 1662,
   "metadata": {},
   "outputs": [
    {
     "data": {
      "text/plain": [
       "698"
      ]
     },
     "execution_count": 1662,
     "metadata": {},
     "output_type": "execute_result"
    }
   ],
   "source": [
    "dfTrain.client_agent.nunique()"
   ]
  },
  {
   "cell_type": "code",
   "execution_count": 1663,
   "metadata": {},
   "outputs": [
    {
     "data": {
      "text/plain": [
       "Mozilla/5.0 (iPhone; CPU iPhone OS 7_1_1 like Mac OS X) AppleWebKit/537.51.2 (KHTML, like Gecko) Mobile/11D201    209\n",
       "Mozilla/5.0 (Windows NT 6.3; WOW64; Trident/7.0; Touch; rv:11.0) like Gecko                                       163\n",
       "Mozilla/5.0 (Windows NT 6.1; WOW64; Trident/7.0; rv:11.0) like Gecko                                              148\n",
       "Product/4.2.0 iPhone/7.1.1                                                                                        146\n",
       "Product/4.7.0 iPhone/8.1.2                                                                                        144\n",
       "                                                                                                                 ... \n",
       "Product/4.1.1 iPhone/7.1                                                                                            1\n",
       "Product/150297 Android/4.4.2 Device/samsung_SM-G900F Carrier/StarHub Type/Mobile                                    1\n",
       "Product/3.5.1 iPhone/7.1.1                                                                                          1\n",
       "Mozilla/5.0 (Macintosh; Intel Mac OS X 10.8; rv:32.0) Gecko/20100101 Firefox/32.0                                   1\n",
       "Product/4.2.0 iPhone/7.0.5                                                                                          1\n",
       "Name: client_agent, Length: 698, dtype: int64"
      ]
     },
     "execution_count": 1663,
     "metadata": {},
     "output_type": "execute_result"
    }
   ],
   "source": [
    "dfTrain.client_agent.value_counts()"
   ]
  },
  {
   "cell_type": "code",
   "execution_count": 1664,
   "metadata": {},
   "outputs": [],
   "source": [
    "dfTrain['Device_org'] = dfTrain[\"device_details\"].str.split('-').str[0]\n",
    "dfTrain['Platform_org'] = dfTrain[\"device_details\"].str.split('-').str[1]\n",
    "\n",
    "dfTest['Device_org'] = dfTest[\"device_details\"].str.split('-').str[0]\n",
    "dfTest['Platform_org'] = dfTest[\"device_details\"].str.split('-').str[1]"
   ]
  },
  {
   "cell_type": "code",
   "execution_count": 1665,
   "metadata": {},
   "outputs": [
    {
     "data": {
      "text/html": [
       "<div>\n",
       "<style scoped>\n",
       "    .dataframe tbody tr th:only-of-type {\n",
       "        vertical-align: middle;\n",
       "    }\n",
       "\n",
       "    .dataframe tbody tr th {\n",
       "        vertical-align: top;\n",
       "    }\n",
       "\n",
       "    .dataframe thead th {\n",
       "        text-align: right;\n",
       "    }\n",
       "</style>\n",
       "<table border=\"1\" class=\"dataframe\">\n",
       "  <thead>\n",
       "    <tr style=\"text-align: right;\">\n",
       "      <th></th>\n",
       "      <th>session_id</th>\n",
       "      <th>session_number</th>\n",
       "      <th>client_agent</th>\n",
       "      <th>device_details</th>\n",
       "      <th>date</th>\n",
       "      <th>purchased</th>\n",
       "      <th>added_in_cart</th>\n",
       "      <th>checked_out</th>\n",
       "      <th>time_spent</th>\n",
       "      <th>Device_org</th>\n",
       "      <th>Platform_org</th>\n",
       "    </tr>\n",
       "  </thead>\n",
       "  <tbody>\n",
       "    <tr>\n",
       "      <th>0</th>\n",
       "      <td>57f879e70d3c5fc2a98102d64c9fd84e</td>\n",
       "      <td>715</td>\n",
       "      <td>Mozilla/5.0 (Windows NT 6.1; WOW64) AppleWebKi...</td>\n",
       "      <td>Desktop - Chrome</td>\n",
       "      <td>2020-01-22</td>\n",
       "      <td>1</td>\n",
       "      <td>0</td>\n",
       "      <td>0</td>\n",
       "      <td>236.886</td>\n",
       "      <td>Desktop</td>\n",
       "      <td>Chrome</td>\n",
       "    </tr>\n",
       "    <tr>\n",
       "      <th>1</th>\n",
       "      <td>a5442b0c7c33d0a811e7661e556b2de8</td>\n",
       "      <td>55</td>\n",
       "      <td>Product/8.0 iPhone/8.1.3</td>\n",
       "      <td>iPhone - iOS</td>\n",
       "      <td>2020-02-27</td>\n",
       "      <td>1</td>\n",
       "      <td>0</td>\n",
       "      <td>0</td>\n",
       "      <td>1277.455</td>\n",
       "      <td>iPhone</td>\n",
       "      <td>iOS</td>\n",
       "    </tr>\n",
       "    <tr>\n",
       "      <th>2</th>\n",
       "      <td>305cb1486ed8610c00b37007926cb2c4</td>\n",
       "      <td>11</td>\n",
       "      <td>Mozilla/5.0 (iPhone; CPU iPhone OS 7_1_2 like ...</td>\n",
       "      <td>iPhone - MobileWeb</td>\n",
       "      <td>2019-08-01</td>\n",
       "      <td>0</td>\n",
       "      <td>0</td>\n",
       "      <td>0</td>\n",
       "      <td>21.704</td>\n",
       "      <td>iPhone</td>\n",
       "      <td>MobileWeb</td>\n",
       "    </tr>\n",
       "    <tr>\n",
       "      <th>3</th>\n",
       "      <td>f2c1ecc9993f0071df91ba178450498c</td>\n",
       "      <td>2794</td>\n",
       "      <td>Mozilla/5.0 (compatible; MSIE 9.0; Windows NT ...</td>\n",
       "      <td>Desktop - IE</td>\n",
       "      <td>2019-12-30</td>\n",
       "      <td>0</td>\n",
       "      <td>1</td>\n",
       "      <td>0</td>\n",
       "      <td>455.201</td>\n",
       "      <td>Desktop</td>\n",
       "      <td>IE</td>\n",
       "    </tr>\n",
       "    <tr>\n",
       "      <th>4</th>\n",
       "      <td>e460830ae295e55d2216ebdc761ab9a6</td>\n",
       "      <td>3674</td>\n",
       "      <td>Mozilla/5.0 (iPhone; CPU iPhone OS 7_1_1 like ...</td>\n",
       "      <td>iPhone - Web</td>\n",
       "      <td>2019-09-10</td>\n",
       "      <td>0</td>\n",
       "      <td>0</td>\n",
       "      <td>0</td>\n",
       "      <td>1164.877</td>\n",
       "      <td>iPhone</td>\n",
       "      <td>Web</td>\n",
       "    </tr>\n",
       "  </tbody>\n",
       "</table>\n",
       "</div>"
      ],
      "text/plain": [
       "                         session_id  session_number  \\\n",
       "0  57f879e70d3c5fc2a98102d64c9fd84e             715   \n",
       "1  a5442b0c7c33d0a811e7661e556b2de8              55   \n",
       "2  305cb1486ed8610c00b37007926cb2c4              11   \n",
       "3  f2c1ecc9993f0071df91ba178450498c            2794   \n",
       "4  e460830ae295e55d2216ebdc761ab9a6            3674   \n",
       "\n",
       "                                        client_agent      device_details  \\\n",
       "0  Mozilla/5.0 (Windows NT 6.1; WOW64) AppleWebKi...    Desktop - Chrome   \n",
       "1                           Product/8.0 iPhone/8.1.3        iPhone - iOS   \n",
       "2  Mozilla/5.0 (iPhone; CPU iPhone OS 7_1_2 like ...  iPhone - MobileWeb   \n",
       "3  Mozilla/5.0 (compatible; MSIE 9.0; Windows NT ...        Desktop - IE   \n",
       "4  Mozilla/5.0 (iPhone; CPU iPhone OS 7_1_1 like ...        iPhone - Web   \n",
       "\n",
       "        date  purchased  added_in_cart  checked_out  time_spent Device_org  \\\n",
       "0 2020-01-22          1              0            0     236.886   Desktop    \n",
       "1 2020-02-27          1              0            0    1277.455    iPhone    \n",
       "2 2019-08-01          0              0            0      21.704    iPhone    \n",
       "3 2019-12-30          0              1            0     455.201   Desktop    \n",
       "4 2019-09-10          0              0            0    1164.877    iPhone    \n",
       "\n",
       "  Platform_org  \n",
       "0       Chrome  \n",
       "1          iOS  \n",
       "2    MobileWeb  \n",
       "3           IE  \n",
       "4          Web  "
      ]
     },
     "execution_count": 1665,
     "metadata": {},
     "output_type": "execute_result"
    }
   ],
   "source": [
    "dfTrain.head()"
   ]
  },
  {
   "cell_type": "code",
   "execution_count": 1666,
   "metadata": {},
   "outputs": [],
   "source": [
    "#after inspecing the client_agent and device details we can see that more data can be extracted for many rows\n",
    "#as the device details does not provide much details on device platform we can extract it through the client_agent details\n",
    "def split_client_agent(df):\n",
    "#     df['Platform_org'] = [\"nan\" for i in range(len(df))]\n",
    "#     df[\"Device_org\"] = [\"nan\" for i in range(len(df))]\n",
    "#     for i,text in enumerate(df['device_details']):\n",
    "#         df['Device_org'].iloc[i],df['Platform_org'].iloc[i] = re.split(\" - \", text)\n",
    "        \n",
    "    df[\"Platform\"] = [\"nan\" for i in range(len(df))]\n",
    "    df[\"Device\"] = [\"nan\" for i in range(len(df))]\n",
    "    \n",
    "    app_count=0\n",
    "    mozilla_count=0\n",
    "    safari_count=0\n",
    "    chrome_count=0\n",
    "    firefox_count=0\n",
    "    opera_count=0\n",
    "    \n",
    "    iphone_count=0\n",
    "    ipad_count=0\n",
    "    windows_count=0\n",
    "    android_count=0\n",
    "    linux_count=0\n",
    "    mac_count=0\n",
    "    apple_device_count=0\n",
    "    count=0\n",
    "    \n",
    "    #iterating through the dataframe and adding counts for each encountered instance and adding found instance to new column\n",
    "    for i,text in enumerate(df[\"client_agent\"]):\n",
    "        if type(text) == str:\n",
    "            count+=1\n",
    "            \n",
    "            if 'product' in text.lower():\n",
    "                app_count+=1\n",
    "                df[\"Platform\"].iloc[i]='app'\n",
    "            \n",
    "            elif 'mozilla' in text.lower():\n",
    "                mozilla_count+=1\n",
    "                df['Platform'].iloc[i]='mozilla'\n",
    "            \n",
    "            elif 'chrome' in text.lower():\n",
    "                chrome_count+=1\n",
    "                df['Platform'].iloc[i]='chrome'\n",
    "            \n",
    "            elif 'safari' in text.lower():\n",
    "                safari_count+=1\n",
    "                df['Platform'].iloc[i]='safari'\n",
    "            \n",
    "            elif 'firefox' in text.lower():\n",
    "                firefox_count+=1\n",
    "                df['Platform'].iloc[i]='firefox'   \n",
    "            \n",
    "            elif 'opera' in text.lower():\n",
    "                opera_count+=1\n",
    "                df['Platform'].iloc[i]='opera'\n",
    "                \n",
    "            \n",
    "            \n",
    "            if \"windows\" in text.lower():\n",
    "                windows_count+=1\n",
    "                df[\"Device\"].iloc[i] = \"windows\"\n",
    "\n",
    "            elif \"iphone\" in text.lower():\n",
    "                iphone_count+=1\n",
    "                df[\"Device\"].iloc[i] = \"iphone\"\n",
    "\n",
    "            elif \"ipad\" in text.lower():\n",
    "                ipad_count+=1\n",
    "                df[\"Device\"].iloc[i] = \"ipad\"\n",
    "\n",
    "            elif \"android\" in text.lower():\n",
    "                android_count+=1\n",
    "                df[\"Device\"].iloc[i] = \"android\"\n",
    "\n",
    "            elif \"macintosh\" in text.lower():\n",
    "                mac_count+=1        \n",
    "                df[\"Device\"].iloc[i] = \"macintosh\"\n",
    "                \n",
    "            elif \"linux\" in text.lower():\n",
    "                linux_count+=1        \n",
    "                df[\"Device\"].iloc[i] = \"linux\"\n",
    "                \n",
    "            elif 'cfnetwork' in text.lower():\n",
    "                apple_device_count+=1\n",
    "                df['Device'].iloc[i]='apple device'\n",
    "                \n",
    "    print(\"Total Count:\", count)\n",
    "    print(\"**\"*20)\n",
    "    print(\"app_count:\", app_count)\n",
    "    print(\"mozilla_count:\", mozilla_count)\n",
    "    print(\"chrome_count:\", chrome_count)\n",
    "    print(\"safari_count:\", safari_count)   \n",
    "    print(\"firefox_count:\", firefox_count)\n",
    "    print(\"opera_count:\", opera_count)\n",
    "    print(\"**\"*20)\n",
    "    print(\"windows_count:\", windows_count)    \n",
    "    print(\"iphone_count:\", iphone_count)\n",
    "    print(\"ipad_count:\", ipad_count)\n",
    "    print(\"android_count:\", android_count)    \n",
    "    print(\"mac_count:\", mac_count)\n",
    "    print(\"linux_count:\", linux_count)\n",
    "    print(\"apple_device_count:\", apple_device_count)\n",
    "    \n",
    "    return df"
   ]
  },
  {
   "cell_type": "code",
   "execution_count": 1667,
   "metadata": {},
   "outputs": [
    {
     "name": "stderr",
     "output_type": "stream",
     "text": [
      "e:\\pythonforselenium\\lib\\site-packages\\pandas\\core\\indexing.py:670: SettingWithCopyWarning: \n",
      "A value is trying to be set on a copy of a slice from a DataFrame\n",
      "\n",
      "See the caveats in the documentation: https://pandas.pydata.org/pandas-docs/stable/user_guide/indexing.html#returning-a-view-versus-a-copy\n",
      "  iloc._setitem_with_indexer(indexer, value)\n"
     ]
    },
    {
     "name": "stdout",
     "output_type": "stream",
     "text": [
      "Total Count: 5269\n",
      "****************************************\n",
      "app_count: 2076\n",
      "mozilla_count: 3153\n",
      "chrome_count: 0\n",
      "safari_count: 1\n",
      "firefox_count: 0\n",
      "opera_count: 6\n",
      "****************************************\n",
      "windows_count: 1130\n",
      "iphone_count: 2459\n",
      "ipad_count: 364\n",
      "android_count: 490\n",
      "mac_count: 729\n",
      "linux_count: 6\n",
      "apple_device_count: 58\n"
     ]
    },
    {
     "data": {
      "text/html": [
       "<div>\n",
       "<style scoped>\n",
       "    .dataframe tbody tr th:only-of-type {\n",
       "        vertical-align: middle;\n",
       "    }\n",
       "\n",
       "    .dataframe tbody tr th {\n",
       "        vertical-align: top;\n",
       "    }\n",
       "\n",
       "    .dataframe thead th {\n",
       "        text-align: right;\n",
       "    }\n",
       "</style>\n",
       "<table border=\"1\" class=\"dataframe\">\n",
       "  <thead>\n",
       "    <tr style=\"text-align: right;\">\n",
       "      <th></th>\n",
       "      <th>session_id</th>\n",
       "      <th>session_number</th>\n",
       "      <th>client_agent</th>\n",
       "      <th>device_details</th>\n",
       "      <th>date</th>\n",
       "      <th>purchased</th>\n",
       "      <th>added_in_cart</th>\n",
       "      <th>checked_out</th>\n",
       "      <th>time_spent</th>\n",
       "      <th>Device_org</th>\n",
       "      <th>Platform_org</th>\n",
       "      <th>Platform</th>\n",
       "      <th>Device</th>\n",
       "    </tr>\n",
       "  </thead>\n",
       "  <tbody>\n",
       "    <tr>\n",
       "      <th>0</th>\n",
       "      <td>57f879e70d3c5fc2a98102d64c9fd84e</td>\n",
       "      <td>715</td>\n",
       "      <td>Mozilla/5.0 (Windows NT 6.1; WOW64) AppleWebKi...</td>\n",
       "      <td>Desktop - Chrome</td>\n",
       "      <td>2020-01-22</td>\n",
       "      <td>1</td>\n",
       "      <td>0</td>\n",
       "      <td>0</td>\n",
       "      <td>236.886</td>\n",
       "      <td>Desktop</td>\n",
       "      <td>Chrome</td>\n",
       "      <td>mozilla</td>\n",
       "      <td>windows</td>\n",
       "    </tr>\n",
       "    <tr>\n",
       "      <th>1</th>\n",
       "      <td>a5442b0c7c33d0a811e7661e556b2de8</td>\n",
       "      <td>55</td>\n",
       "      <td>Product/8.0 iPhone/8.1.3</td>\n",
       "      <td>iPhone - iOS</td>\n",
       "      <td>2020-02-27</td>\n",
       "      <td>1</td>\n",
       "      <td>0</td>\n",
       "      <td>0</td>\n",
       "      <td>1277.455</td>\n",
       "      <td>iPhone</td>\n",
       "      <td>iOS</td>\n",
       "      <td>app</td>\n",
       "      <td>iphone</td>\n",
       "    </tr>\n",
       "    <tr>\n",
       "      <th>2</th>\n",
       "      <td>305cb1486ed8610c00b37007926cb2c4</td>\n",
       "      <td>11</td>\n",
       "      <td>Mozilla/5.0 (iPhone; CPU iPhone OS 7_1_2 like ...</td>\n",
       "      <td>iPhone - MobileWeb</td>\n",
       "      <td>2019-08-01</td>\n",
       "      <td>0</td>\n",
       "      <td>0</td>\n",
       "      <td>0</td>\n",
       "      <td>21.704</td>\n",
       "      <td>iPhone</td>\n",
       "      <td>MobileWeb</td>\n",
       "      <td>mozilla</td>\n",
       "      <td>iphone</td>\n",
       "    </tr>\n",
       "    <tr>\n",
       "      <th>3</th>\n",
       "      <td>f2c1ecc9993f0071df91ba178450498c</td>\n",
       "      <td>2794</td>\n",
       "      <td>Mozilla/5.0 (compatible; MSIE 9.0; Windows NT ...</td>\n",
       "      <td>Desktop - IE</td>\n",
       "      <td>2019-12-30</td>\n",
       "      <td>0</td>\n",
       "      <td>1</td>\n",
       "      <td>0</td>\n",
       "      <td>455.201</td>\n",
       "      <td>Desktop</td>\n",
       "      <td>IE</td>\n",
       "      <td>mozilla</td>\n",
       "      <td>windows</td>\n",
       "    </tr>\n",
       "    <tr>\n",
       "      <th>4</th>\n",
       "      <td>e460830ae295e55d2216ebdc761ab9a6</td>\n",
       "      <td>3674</td>\n",
       "      <td>Mozilla/5.0 (iPhone; CPU iPhone OS 7_1_1 like ...</td>\n",
       "      <td>iPhone - Web</td>\n",
       "      <td>2019-09-10</td>\n",
       "      <td>0</td>\n",
       "      <td>0</td>\n",
       "      <td>0</td>\n",
       "      <td>1164.877</td>\n",
       "      <td>iPhone</td>\n",
       "      <td>Web</td>\n",
       "      <td>mozilla</td>\n",
       "      <td>iphone</td>\n",
       "    </tr>\n",
       "  </tbody>\n",
       "</table>\n",
       "</div>"
      ],
      "text/plain": [
       "                         session_id  session_number  \\\n",
       "0  57f879e70d3c5fc2a98102d64c9fd84e             715   \n",
       "1  a5442b0c7c33d0a811e7661e556b2de8              55   \n",
       "2  305cb1486ed8610c00b37007926cb2c4              11   \n",
       "3  f2c1ecc9993f0071df91ba178450498c            2794   \n",
       "4  e460830ae295e55d2216ebdc761ab9a6            3674   \n",
       "\n",
       "                                        client_agent      device_details  \\\n",
       "0  Mozilla/5.0 (Windows NT 6.1; WOW64) AppleWebKi...    Desktop - Chrome   \n",
       "1                           Product/8.0 iPhone/8.1.3        iPhone - iOS   \n",
       "2  Mozilla/5.0 (iPhone; CPU iPhone OS 7_1_2 like ...  iPhone - MobileWeb   \n",
       "3  Mozilla/5.0 (compatible; MSIE 9.0; Windows NT ...        Desktop - IE   \n",
       "4  Mozilla/5.0 (iPhone; CPU iPhone OS 7_1_1 like ...        iPhone - Web   \n",
       "\n",
       "        date  purchased  added_in_cart  checked_out  time_spent Device_org  \\\n",
       "0 2020-01-22          1              0            0     236.886   Desktop    \n",
       "1 2020-02-27          1              0            0    1277.455    iPhone    \n",
       "2 2019-08-01          0              0            0      21.704    iPhone    \n",
       "3 2019-12-30          0              1            0     455.201   Desktop    \n",
       "4 2019-09-10          0              0            0    1164.877    iPhone    \n",
       "\n",
       "  Platform_org Platform   Device  \n",
       "0       Chrome  mozilla  windows  \n",
       "1          iOS      app   iphone  \n",
       "2    MobileWeb  mozilla   iphone  \n",
       "3           IE  mozilla  windows  \n",
       "4          Web  mozilla   iphone  "
      ]
     },
     "execution_count": 1667,
     "metadata": {},
     "output_type": "execute_result"
    }
   ],
   "source": [
    "dfTrain =split_client_agent(dfTrain)\n",
    "dfTrain.head()"
   ]
  },
  {
   "cell_type": "code",
   "execution_count": 1668,
   "metadata": {},
   "outputs": [],
   "source": [
    "# dfTrain.to_csv('Train_client.csv')"
   ]
  },
  {
   "cell_type": "code",
   "execution_count": 1669,
   "metadata": {},
   "outputs": [
    {
     "data": {
      "text/plain": [
       "session_id          0\n",
       "session_number      0\n",
       "client_agent      160\n",
       "device_details      0\n",
       "date                0\n",
       "purchased           0\n",
       "added_in_cart       0\n",
       "checked_out         0\n",
       "time_spent          0\n",
       "Device_org          0\n",
       "Platform_org        0\n",
       "Platform            0\n",
       "Device              0\n",
       "dtype: int64"
      ]
     },
     "execution_count": 1669,
     "metadata": {},
     "output_type": "execute_result"
    }
   ],
   "source": [
    "dfTrain.isnull().sum()"
   ]
  },
  {
   "cell_type": "code",
   "execution_count": 1670,
   "metadata": {},
   "outputs": [
    {
     "data": {
      "text/plain": [
       "session_id         0\n",
       "session_number     0\n",
       "client_agent      59\n",
       "device_details     0\n",
       "date               0\n",
       "purchased          0\n",
       "added_in_cart      0\n",
       "checked_out        0\n",
       "Device_org         0\n",
       "Platform_org       0\n",
       "dtype: int64"
      ]
     },
     "execution_count": 1670,
     "metadata": {},
     "output_type": "execute_result"
    }
   ],
   "source": [
    "dfTest.isnull().sum()"
   ]
  },
  {
   "cell_type": "code",
   "execution_count": 1671,
   "metadata": {},
   "outputs": [
    {
     "name": "stderr",
     "output_type": "stream",
     "text": [
      "e:\\pythonforselenium\\lib\\site-packages\\pandas\\core\\indexing.py:670: SettingWithCopyWarning: \n",
      "A value is trying to be set on a copy of a slice from a DataFrame\n",
      "\n",
      "See the caveats in the documentation: https://pandas.pydata.org/pandas-docs/stable/user_guide/indexing.html#returning-a-view-versus-a-copy\n",
      "  iloc._setitem_with_indexer(indexer, value)\n"
     ]
    },
    {
     "name": "stdout",
     "output_type": "stream",
     "text": [
      "Total Count: 2268\n",
      "****************************************\n",
      "app_count: 863\n",
      "mozilla_count: 1382\n",
      "chrome_count: 0\n",
      "safari_count: 0\n",
      "firefox_count: 0\n",
      "opera_count: 4\n",
      "****************************************\n",
      "windows_count: 526\n",
      "iphone_count: 1048\n",
      "ipad_count: 166\n",
      "android_count: 178\n",
      "mac_count: 299\n",
      "linux_count: 2\n",
      "apple_device_count: 28\n"
     ]
    },
    {
     "data": {
      "text/html": [
       "<div>\n",
       "<style scoped>\n",
       "    .dataframe tbody tr th:only-of-type {\n",
       "        vertical-align: middle;\n",
       "    }\n",
       "\n",
       "    .dataframe tbody tr th {\n",
       "        vertical-align: top;\n",
       "    }\n",
       "\n",
       "    .dataframe thead th {\n",
       "        text-align: right;\n",
       "    }\n",
       "</style>\n",
       "<table border=\"1\" class=\"dataframe\">\n",
       "  <thead>\n",
       "    <tr style=\"text-align: right;\">\n",
       "      <th></th>\n",
       "      <th>session_id</th>\n",
       "      <th>session_number</th>\n",
       "      <th>client_agent</th>\n",
       "      <th>device_details</th>\n",
       "      <th>date</th>\n",
       "      <th>purchased</th>\n",
       "      <th>added_in_cart</th>\n",
       "      <th>checked_out</th>\n",
       "      <th>Device_org</th>\n",
       "      <th>Platform_org</th>\n",
       "      <th>Platform</th>\n",
       "      <th>Device</th>\n",
       "    </tr>\n",
       "  </thead>\n",
       "  <tbody>\n",
       "    <tr>\n",
       "      <th>0</th>\n",
       "      <td>0bf72b05b2cf70dc5e28c3c09f9c4f97</td>\n",
       "      <td>99</td>\n",
       "      <td>Mozilla/5.0 (Windows NT 6.1; WOW64; Trident/7....</td>\n",
       "      <td>Desktop - IE</td>\n",
       "      <td>2020-01-07</td>\n",
       "      <td>1</td>\n",
       "      <td>0</td>\n",
       "      <td>0</td>\n",
       "      <td>Desktop</td>\n",
       "      <td>IE</td>\n",
       "      <td>mozilla</td>\n",
       "      <td>windows</td>\n",
       "    </tr>\n",
       "    <tr>\n",
       "      <th>1</th>\n",
       "      <td>6bc696d99954e4f1367e845465186aef</td>\n",
       "      <td>935</td>\n",
       "      <td>Product/160393 Android/4.3 Device/samsung_GT-I...</td>\n",
       "      <td>Android Phone - Android</td>\n",
       "      <td>2020-02-13</td>\n",
       "      <td>0</td>\n",
       "      <td>0</td>\n",
       "      <td>0</td>\n",
       "      <td>Android Phone</td>\n",
       "      <td>Android</td>\n",
       "      <td>app</td>\n",
       "      <td>android</td>\n",
       "    </tr>\n",
       "    <tr>\n",
       "      <th>2</th>\n",
       "      <td>3d8611a5ea0f621d205b67f09f663a89</td>\n",
       "      <td>902</td>\n",
       "      <td>Product/4.2.2 iPhone/7.1.2</td>\n",
       "      <td>iPhone - iOS</td>\n",
       "      <td>2019-10-14</td>\n",
       "      <td>1</td>\n",
       "      <td>0</td>\n",
       "      <td>0</td>\n",
       "      <td>iPhone</td>\n",
       "      <td>iOS</td>\n",
       "      <td>app</td>\n",
       "      <td>iphone</td>\n",
       "    </tr>\n",
       "    <tr>\n",
       "      <th>3</th>\n",
       "      <td>a0351545c032fd0da36289410c6c3354</td>\n",
       "      <td>3223</td>\n",
       "      <td>Mozilla/5.0 (compatible; MSIE 9.0; Windows NT ...</td>\n",
       "      <td>Desktop - IE</td>\n",
       "      <td>2020-01-26</td>\n",
       "      <td>0</td>\n",
       "      <td>0</td>\n",
       "      <td>0</td>\n",
       "      <td>Desktop</td>\n",
       "      <td>IE</td>\n",
       "      <td>mozilla</td>\n",
       "      <td>windows</td>\n",
       "    </tr>\n",
       "    <tr>\n",
       "      <th>4</th>\n",
       "      <td>dd8999772b0ab27225fb05e5df2f1da6</td>\n",
       "      <td>231</td>\n",
       "      <td>Mozilla/5.0 (Windows NT 6.3; WOW64) AppleWebKi...</td>\n",
       "      <td>Desktop - Chrome</td>\n",
       "      <td>2020-01-29</td>\n",
       "      <td>0</td>\n",
       "      <td>0</td>\n",
       "      <td>0</td>\n",
       "      <td>Desktop</td>\n",
       "      <td>Chrome</td>\n",
       "      <td>mozilla</td>\n",
       "      <td>windows</td>\n",
       "    </tr>\n",
       "  </tbody>\n",
       "</table>\n",
       "</div>"
      ],
      "text/plain": [
       "                         session_id  session_number  \\\n",
       "0  0bf72b05b2cf70dc5e28c3c09f9c4f97              99   \n",
       "1  6bc696d99954e4f1367e845465186aef             935   \n",
       "2  3d8611a5ea0f621d205b67f09f663a89             902   \n",
       "3  a0351545c032fd0da36289410c6c3354            3223   \n",
       "4  dd8999772b0ab27225fb05e5df2f1da6             231   \n",
       "\n",
       "                                        client_agent           device_details  \\\n",
       "0  Mozilla/5.0 (Windows NT 6.1; WOW64; Trident/7....             Desktop - IE   \n",
       "1  Product/160393 Android/4.3 Device/samsung_GT-I...  Android Phone - Android   \n",
       "2                         Product/4.2.2 iPhone/7.1.2             iPhone - iOS   \n",
       "3  Mozilla/5.0 (compatible; MSIE 9.0; Windows NT ...             Desktop - IE   \n",
       "4  Mozilla/5.0 (Windows NT 6.3; WOW64) AppleWebKi...         Desktop - Chrome   \n",
       "\n",
       "        date  purchased  added_in_cart  checked_out      Device_org  \\\n",
       "0 2020-01-07          1              0            0        Desktop    \n",
       "1 2020-02-13          0              0            0  Android Phone    \n",
       "2 2019-10-14          1              0            0         iPhone    \n",
       "3 2020-01-26          0              0            0        Desktop    \n",
       "4 2020-01-29          0              0            0        Desktop    \n",
       "\n",
       "  Platform_org Platform   Device  \n",
       "0           IE  mozilla  windows  \n",
       "1      Android      app  android  \n",
       "2          iOS      app   iphone  \n",
       "3           IE  mozilla  windows  \n",
       "4       Chrome  mozilla  windows  "
      ]
     },
     "execution_count": 1671,
     "metadata": {},
     "output_type": "execute_result"
    }
   ],
   "source": [
    "dfTest =split_client_agent(dfTest)\n",
    "dfTest.head()"
   ]
  },
  {
   "cell_type": "code",
   "execution_count": 1672,
   "metadata": {},
   "outputs": [],
   "source": [
    "dfTrain.replace(\"Typhoeus - https://github.com/typhoeus/typhoeus\",\"nan\",inplace=True)\n",
    "dfTest.replace(\"Typhoeus - https://github.com/typhoeus/typhoeus\",\"nan\",inplace=True)"
   ]
  },
  {
   "cell_type": "code",
   "execution_count": 1673,
   "metadata": {},
   "outputs": [],
   "source": [
    "dfTrain.replace(\"nan\", np.nan, inplace=True)\n",
    "dfTest.replace('nan',np.nan, inplace=True)"
   ]
  },
  {
   "cell_type": "code",
   "execution_count": 1674,
   "metadata": {},
   "outputs": [],
   "source": [
    "dfTrain.fillna(method=\"ffill\", inplace=True)\n",
    "dfTest.fillna(method=\"ffill\", inplace=True)"
   ]
  },
  {
   "cell_type": "code",
   "execution_count": 1675,
   "metadata": {},
   "outputs": [
    {
     "data": {
      "text/plain": [
       "iPhone - iOS                  1515\n",
       "Desktop - Chrome               815\n",
       "iPhone - Web                   665\n",
       "Android Phone - Android        326\n",
       "Desktop - Safari               313\n",
       "Desktop - IE                   292\n",
       "iPad - Web                     289\n",
       "iPhone - MobileWeb             277\n",
       "Desktop - Firefox              234\n",
       "Android Tablet - Web           203\n",
       "Other - Other                  185\n",
       "Unknown - MobileWeb             87\n",
       "Android Phone - Web             86\n",
       "iPad - iOS                      77\n",
       "Android Phone - MobileWeb       54\n",
       "Android Tablet - Android         9\n",
       "Android Tablet - MobileWeb       2\n",
       "Name: device_details, dtype: int64"
      ]
     },
     "execution_count": 1675,
     "metadata": {},
     "output_type": "execute_result"
    }
   ],
   "source": [
    "dfTrain.device_details.value_counts()"
   ]
  },
  {
   "cell_type": "code",
   "execution_count": 1676,
   "metadata": {},
   "outputs": [
    {
     "data": {
      "text/plain": [
       "17"
      ]
     },
     "execution_count": 1676,
     "metadata": {},
     "output_type": "execute_result"
    }
   ],
   "source": [
    "dfTrain.device_details.nunique()"
   ]
  },
  {
   "cell_type": "code",
   "execution_count": 1677,
   "metadata": {},
   "outputs": [
    {
     "data": {
      "text/plain": [
       "342"
      ]
     },
     "execution_count": 1677,
     "metadata": {},
     "output_type": "execute_result"
    }
   ],
   "source": [
    "dfTrain.date.nunique()"
   ]
  },
  {
   "cell_type": "code",
   "execution_count": 1678,
   "metadata": {},
   "outputs": [
    {
     "data": {
      "text/plain": [
       "0    4565\n",
       "1     864\n",
       "Name: purchased, dtype: int64"
      ]
     },
     "execution_count": 1678,
     "metadata": {},
     "output_type": "execute_result"
    },
    {
     "data": {
      "image/png": "[encoded data removed]",
      "text/plain": [
       "<Figure size 432x288 with 1 Axes>"
      ]
     },
     "metadata": {
      "needs_background": "light"
     },
     "output_type": "display_data"
    }
   ],
   "source": [
    "dfTrain.purchased.value_counts().plot(kind='bar')\n",
    "dfTrain.purchased.value_counts()"
   ]
  },
  {
   "cell_type": "code",
   "execution_count": 1679,
   "metadata": {},
   "outputs": [
    {
     "data": {
      "text/plain": [
       "0    4549\n",
       "1     880\n",
       "Name: added_in_cart, dtype: int64"
      ]
     },
     "execution_count": 1679,
     "metadata": {},
     "output_type": "execute_result"
    },
    {
     "data": {
      "image/png": "[encoded data removed]",
      "text/plain": [
       "<Figure size 432x288 with 1 Axes>"
      ]
     },
     "metadata": {
      "needs_background": "light"
     },
     "output_type": "display_data"
    }
   ],
   "source": [
    "dfTrain.added_in_cart.value_counts().plot(kind='bar')\n",
    "dfTrain.added_in_cart.value_counts()"
   ]
  },
  {
   "cell_type": "code",
   "execution_count": 1680,
   "metadata": {},
   "outputs": [
    {
     "data": {
      "text/plain": [
       "0    5334\n",
       "1      95\n",
       "Name: checked_out, dtype: int64"
      ]
     },
     "execution_count": 1680,
     "metadata": {},
     "output_type": "execute_result"
    },
    {
     "data": {
      "image/png": "[encoded data removed]",
      "text/plain": [
       "<Figure size 432x288 with 1 Axes>"
      ]
     },
     "metadata": {
      "needs_background": "light"
     },
     "output_type": "display_data"
    }
   ],
   "source": [
    "dfTrain.checked_out.value_counts().plot(kind='bar')\n",
    "dfTrain.checked_out.value_counts()"
   ]
  },
  {
   "cell_type": "code",
   "execution_count": 1681,
   "metadata": {},
   "outputs": [
    {
     "data": {
      "text/plain": [
       "8.035340699877555"
      ]
     },
     "execution_count": 1681,
     "metadata": {},
     "output_type": "execute_result"
    }
   ],
   "source": [
    "skew(dfTrain['time_spent'])"
   ]
  },
  {
   "cell_type": "code",
   "execution_count": 1682,
   "metadata": {},
   "outputs": [
    {
     "data": {
      "text/plain": [
       "0.49210782340687975"
      ]
     },
     "execution_count": 1682,
     "metadata": {},
     "output_type": "execute_result"
    }
   ],
   "source": [
    "skew(np.log(dfTrain['time_spent']))"
   ]
  },
  {
   "cell_type": "code",
   "execution_count": 1683,
   "metadata": {},
   "outputs": [
    {
     "name": "stderr",
     "output_type": "stream",
     "text": [
      "e:\\pythonforselenium\\lib\\site-packages\\seaborn\\distributions.py:2551: FutureWarning: `distplot` is a deprecated function and will be removed in a future version. Please adapt your code to use either `displot` (a figure-level function with similar flexibility) or `histplot` (an axes-level function for histograms).\n",
      "  warnings.warn(msg, FutureWarning)\n"
     ]
    },
    {
     "data": {
      "image/png": "[encoded data removed]",
      "text/plain": [
       "<Figure size 432x288 with 1 Axes>"
      ]
     },
     "metadata": {
      "needs_background": "light"
     },
     "output_type": "display_data"
    }
   ],
   "source": [
    "sns.distplot(np.log(dfTrain['time_spent']))\n",
    "plt.show()"
   ]
  },
  {
   "cell_type": "code",
   "execution_count": 1684,
   "metadata": {},
   "outputs": [
    {
     "name": "stderr",
     "output_type": "stream",
     "text": [
      "e:\\pythonforselenium\\lib\\site-packages\\seaborn\\distributions.py:2551: FutureWarning: `distplot` is a deprecated function and will be removed in a future version. Please adapt your code to use either `displot` (a figure-level function with similar flexibility) or `histplot` (an axes-level function for histograms).\n",
      "  warnings.warn(msg, FutureWarning)\n"
     ]
    },
    {
     "data": {
      "image/png": "[encoded data removed]",
      "text/plain": [
       "<Figure size 432x288 with 1 Axes>"
      ]
     },
     "metadata": {
      "needs_background": "light"
     },
     "output_type": "display_data"
    }
   ],
   "source": [
    "sns.distplot(dfTrain['time_spent'])\n",
    "plt.show()"
   ]
  },
  {
   "cell_type": "code",
   "execution_count": 1685,
   "metadata": {},
   "outputs": [
    {
     "data": {
      "image/png": "[encoded data removed]",
      "text/plain": [
       "<Figure size 432x288 with 1 Axes>"
      ]
     },
     "metadata": {
      "needs_background": "light"
     },
     "output_type": "display_data"
    }
   ],
   "source": [
    "plt.hist(dfTrain['time_spent'])\n",
    "plt.show()"
   ]
  },
  {
   "cell_type": "code",
   "execution_count": 1686,
   "metadata": {},
   "outputs": [
    {
     "data": {
      "text/plain": [
       "session_number\n",
       "11      494.134828\n",
       "22      737.616760\n",
       "33      913.697803\n",
       "44      606.066594\n",
       "55      476.672914\n",
       "           ...    \n",
       "7678     22.437000\n",
       "7689    169.578000\n",
       "7700     31.313000\n",
       "7711     20.191000\n",
       "7722    167.263000\n",
       "Name: time_spent, Length: 610, dtype: float64"
      ]
     },
     "execution_count": 1686,
     "metadata": {},
     "output_type": "execute_result"
    }
   ],
   "source": [
    "dfTrain.groupby('session_number')['time_spent'].mean()"
   ]
  },
  {
   "cell_type": "code",
   "execution_count": 1687,
   "metadata": {},
   "outputs": [
    {
     "data": {
      "text/plain": [
       "256"
      ]
     },
     "execution_count": 1687,
     "metadata": {},
     "output_type": "execute_result"
    }
   ],
   "source": [
    "#nothing to infer from session_id column\n",
    "dfTrain['session_id'].str[:2].nunique()"
   ]
  },
  {
   "cell_type": "code",
   "execution_count": 1688,
   "metadata": {},
   "outputs": [
    {
     "data": {
      "text/html": [
       "<div>\n",
       "<style scoped>\n",
       "    .dataframe tbody tr th:only-of-type {\n",
       "        vertical-align: middle;\n",
       "    }\n",
       "\n",
       "    .dataframe tbody tr th {\n",
       "        vertical-align: top;\n",
       "    }\n",
       "\n",
       "    .dataframe thead th {\n",
       "        text-align: right;\n",
       "    }\n",
       "</style>\n",
       "<table border=\"1\" class=\"dataframe\">\n",
       "  <thead>\n",
       "    <tr style=\"text-align: right;\">\n",
       "      <th></th>\n",
       "      <th>session_id</th>\n",
       "      <th>session_number</th>\n",
       "      <th>client_agent</th>\n",
       "      <th>device_details</th>\n",
       "      <th>date</th>\n",
       "      <th>purchased</th>\n",
       "      <th>added_in_cart</th>\n",
       "      <th>checked_out</th>\n",
       "      <th>time_spent</th>\n",
       "      <th>Device_org</th>\n",
       "      <th>Platform_org</th>\n",
       "      <th>Platform</th>\n",
       "      <th>Device</th>\n",
       "    </tr>\n",
       "  </thead>\n",
       "  <tbody>\n",
       "    <tr>\n",
       "      <th>0</th>\n",
       "      <td>57f879e70d3c5fc2a98102d64c9fd84e</td>\n",
       "      <td>715</td>\n",
       "      <td>Mozilla/5.0 (Windows NT 6.1; WOW64) AppleWebKi...</td>\n",
       "      <td>Desktop - Chrome</td>\n",
       "      <td>2020-01-22</td>\n",
       "      <td>1</td>\n",
       "      <td>0</td>\n",
       "      <td>0</td>\n",
       "      <td>236.886</td>\n",
       "      <td>Desktop</td>\n",
       "      <td>Chrome</td>\n",
       "      <td>mozilla</td>\n",
       "      <td>windows</td>\n",
       "    </tr>\n",
       "    <tr>\n",
       "      <th>1</th>\n",
       "      <td>a5442b0c7c33d0a811e7661e556b2de8</td>\n",
       "      <td>55</td>\n",
       "      <td>Product/8.0 iPhone/8.1.3</td>\n",
       "      <td>iPhone - iOS</td>\n",
       "      <td>2020-02-27</td>\n",
       "      <td>1</td>\n",
       "      <td>0</td>\n",
       "      <td>0</td>\n",
       "      <td>1277.455</td>\n",
       "      <td>iPhone</td>\n",
       "      <td>iOS</td>\n",
       "      <td>app</td>\n",
       "      <td>iphone</td>\n",
       "    </tr>\n",
       "    <tr>\n",
       "      <th>2</th>\n",
       "      <td>305cb1486ed8610c00b37007926cb2c4</td>\n",
       "      <td>11</td>\n",
       "      <td>Mozilla/5.0 (iPhone; CPU iPhone OS 7_1_2 like ...</td>\n",
       "      <td>iPhone - MobileWeb</td>\n",
       "      <td>2019-08-01</td>\n",
       "      <td>0</td>\n",
       "      <td>0</td>\n",
       "      <td>0</td>\n",
       "      <td>21.704</td>\n",
       "      <td>iPhone</td>\n",
       "      <td>MobileWeb</td>\n",
       "      <td>mozilla</td>\n",
       "      <td>iphone</td>\n",
       "    </tr>\n",
       "    <tr>\n",
       "      <th>3</th>\n",
       "      <td>f2c1ecc9993f0071df91ba178450498c</td>\n",
       "      <td>2794</td>\n",
       "      <td>Mozilla/5.0 (compatible; MSIE 9.0; Windows NT ...</td>\n",
       "      <td>Desktop - IE</td>\n",
       "      <td>2019-12-30</td>\n",
       "      <td>0</td>\n",
       "      <td>1</td>\n",
       "      <td>0</td>\n",
       "      <td>455.201</td>\n",
       "      <td>Desktop</td>\n",
       "      <td>IE</td>\n",
       "      <td>mozilla</td>\n",
       "      <td>windows</td>\n",
       "    </tr>\n",
       "    <tr>\n",
       "      <th>4</th>\n",
       "      <td>e460830ae295e55d2216ebdc761ab9a6</td>\n",
       "      <td>3674</td>\n",
       "      <td>Mozilla/5.0 (iPhone; CPU iPhone OS 7_1_1 like ...</td>\n",
       "      <td>iPhone - Web</td>\n",
       "      <td>2019-09-10</td>\n",
       "      <td>0</td>\n",
       "      <td>0</td>\n",
       "      <td>0</td>\n",
       "      <td>1164.877</td>\n",
       "      <td>iPhone</td>\n",
       "      <td>Web</td>\n",
       "      <td>mozilla</td>\n",
       "      <td>iphone</td>\n",
       "    </tr>\n",
       "  </tbody>\n",
       "</table>\n",
       "</div>"
      ],
      "text/plain": [
       "                         session_id  session_number  \\\n",
       "0  57f879e70d3c5fc2a98102d64c9fd84e             715   \n",
       "1  a5442b0c7c33d0a811e7661e556b2de8              55   \n",
       "2  305cb1486ed8610c00b37007926cb2c4              11   \n",
       "3  f2c1ecc9993f0071df91ba178450498c            2794   \n",
       "4  e460830ae295e55d2216ebdc761ab9a6            3674   \n",
       "\n",
       "                                        client_agent      device_details  \\\n",
       "0  Mozilla/5.0 (Windows NT 6.1; WOW64) AppleWebKi...    Desktop - Chrome   \n",
       "1                           Product/8.0 iPhone/8.1.3        iPhone - iOS   \n",
       "2  Mozilla/5.0 (iPhone; CPU iPhone OS 7_1_2 like ...  iPhone - MobileWeb   \n",
       "3  Mozilla/5.0 (compatible; MSIE 9.0; Windows NT ...        Desktop - IE   \n",
       "4  Mozilla/5.0 (iPhone; CPU iPhone OS 7_1_1 like ...        iPhone - Web   \n",
       "\n",
       "        date  purchased  added_in_cart  checked_out  time_spent Device_org  \\\n",
       "0 2020-01-22          1              0            0     236.886   Desktop    \n",
       "1 2020-02-27          1              0            0    1277.455    iPhone    \n",
       "2 2019-08-01          0              0            0      21.704    iPhone    \n",
       "3 2019-12-30          0              1            0     455.201   Desktop    \n",
       "4 2019-09-10          0              0            0    1164.877    iPhone    \n",
       "\n",
       "  Platform_org Platform   Device  \n",
       "0       Chrome  mozilla  windows  \n",
       "1          iOS      app   iphone  \n",
       "2    MobileWeb  mozilla   iphone  \n",
       "3           IE  mozilla  windows  \n",
       "4          Web  mozilla   iphone  "
      ]
     },
     "execution_count": 1688,
     "metadata": {},
     "output_type": "execute_result"
    }
   ],
   "source": [
    "dfTrain.head()"
   ]
  },
  {
   "cell_type": "code",
   "execution_count": 1689,
   "metadata": {},
   "outputs": [
    {
     "data": {
      "text/plain": [
       "5206"
      ]
     },
     "execution_count": 1689,
     "metadata": {},
     "output_type": "execute_result"
    }
   ],
   "source": [
    "dfTrain['session_id'].str[:4].nunique()"
   ]
  },
  {
   "cell_type": "code",
   "execution_count": 1690,
   "metadata": {},
   "outputs": [
    {
     "data": {
      "text/plain": [
       "5429"
      ]
     },
     "execution_count": 1690,
     "metadata": {},
     "output_type": "execute_result"
    }
   ],
   "source": [
    "dfTrain['session_id'].str[:6].nunique()"
   ]
  },
  {
   "cell_type": "code",
   "execution_count": 1691,
   "metadata": {},
   "outputs": [],
   "source": [
    "# dfTrain = dfTrain.fillna('unknown')\n",
    "# dfTest = dfTest.fillna('unknown')"
   ]
  },
  {
   "cell_type": "code",
   "execution_count": 1692,
   "metadata": {},
   "outputs": [],
   "source": [
    "dfTrain=dfTrain.replace('-unknown-','unknown')\n",
    "dfTest=dfTest.replace('-unknown-','unknown')"
   ]
  },
  {
   "cell_type": "code",
   "execution_count": 1693,
   "metadata": {},
   "outputs": [
    {
     "data": {
      "text/plain": [
       "session_id        0\n",
       "session_number    0\n",
       "client_agent      0\n",
       "device_details    0\n",
       "date              0\n",
       "purchased         0\n",
       "added_in_cart     0\n",
       "checked_out       0\n",
       "time_spent        0\n",
       "Device_org        0\n",
       "Platform_org      0\n",
       "Platform          0\n",
       "Device            0\n",
       "dtype: int64"
      ]
     },
     "execution_count": 1693,
     "metadata": {},
     "output_type": "execute_result"
    }
   ],
   "source": [
    "# since there is a category called '-unknown-' already avaialable for unknown values replaced missing values with -unknown-\n",
    "dfTrain.isnull().sum()"
   ]
  },
  {
   "cell_type": "code",
   "execution_count": 1694,
   "metadata": {},
   "outputs": [
    {
     "data": {
      "text/plain": [
       "session_id        0\n",
       "session_number    0\n",
       "client_agent      0\n",
       "device_details    0\n",
       "date              0\n",
       "purchased         0\n",
       "added_in_cart     0\n",
       "checked_out       0\n",
       "Device_org        0\n",
       "Platform_org      0\n",
       "Platform          0\n",
       "Device            0\n",
       "dtype: int64"
      ]
     },
     "execution_count": 1694,
     "metadata": {},
     "output_type": "execute_result"
    }
   ],
   "source": [
    "dfTest.isnull().sum()"
   ]
  },
  {
   "cell_type": "code",
   "execution_count": 1695,
   "metadata": {},
   "outputs": [],
   "source": [
    "from sklearn.preprocessing import LabelEncoder\n",
    "le= LabelEncoder()"
   ]
  },
  {
   "cell_type": "code",
   "execution_count": 1696,
   "metadata": {},
   "outputs": [
    {
     "data": {
      "text/html": [
       "<div>\n",
       "<style scoped>\n",
       "    .dataframe tbody tr th:only-of-type {\n",
       "        vertical-align: middle;\n",
       "    }\n",
       "\n",
       "    .dataframe tbody tr th {\n",
       "        vertical-align: top;\n",
       "    }\n",
       "\n",
       "    .dataframe thead th {\n",
       "        text-align: right;\n",
       "    }\n",
       "</style>\n",
       "<table border=\"1\" class=\"dataframe\">\n",
       "  <thead>\n",
       "    <tr style=\"text-align: right;\">\n",
       "      <th></th>\n",
       "      <th>session_id</th>\n",
       "      <th>session_number</th>\n",
       "      <th>client_agent</th>\n",
       "      <th>device_details</th>\n",
       "      <th>date</th>\n",
       "      <th>purchased</th>\n",
       "      <th>added_in_cart</th>\n",
       "      <th>checked_out</th>\n",
       "      <th>time_spent</th>\n",
       "      <th>Device_org</th>\n",
       "      <th>Platform_org</th>\n",
       "      <th>Platform</th>\n",
       "      <th>Device</th>\n",
       "    </tr>\n",
       "  </thead>\n",
       "  <tbody>\n",
       "    <tr>\n",
       "      <th>0</th>\n",
       "      <td>57f879e70d3c5fc2a98102d64c9fd84e</td>\n",
       "      <td>715</td>\n",
       "      <td>Mozilla/5.0 (Windows NT 6.1; WOW64) AppleWebKi...</td>\n",
       "      <td>Desktop - Chrome</td>\n",
       "      <td>2020-01-22</td>\n",
       "      <td>1</td>\n",
       "      <td>0</td>\n",
       "      <td>0</td>\n",
       "      <td>236.886</td>\n",
       "      <td>2</td>\n",
       "      <td>1</td>\n",
       "      <td>1</td>\n",
       "      <td>6</td>\n",
       "    </tr>\n",
       "    <tr>\n",
       "      <th>1</th>\n",
       "      <td>a5442b0c7c33d0a811e7661e556b2de8</td>\n",
       "      <td>55</td>\n",
       "      <td>Product/8.0 iPhone/8.1.3</td>\n",
       "      <td>iPhone - iOS</td>\n",
       "      <td>2020-02-27</td>\n",
       "      <td>1</td>\n",
       "      <td>0</td>\n",
       "      <td>0</td>\n",
       "      <td>1277.455</td>\n",
       "      <td>6</td>\n",
       "      <td>8</td>\n",
       "      <td>0</td>\n",
       "      <td>3</td>\n",
       "    </tr>\n",
       "    <tr>\n",
       "      <th>2</th>\n",
       "      <td>305cb1486ed8610c00b37007926cb2c4</td>\n",
       "      <td>11</td>\n",
       "      <td>Mozilla/5.0 (iPhone; CPU iPhone OS 7_1_2 like ...</td>\n",
       "      <td>iPhone - MobileWeb</td>\n",
       "      <td>2019-08-01</td>\n",
       "      <td>0</td>\n",
       "      <td>0</td>\n",
       "      <td>0</td>\n",
       "      <td>21.704</td>\n",
       "      <td>6</td>\n",
       "      <td>4</td>\n",
       "      <td>1</td>\n",
       "      <td>3</td>\n",
       "    </tr>\n",
       "    <tr>\n",
       "      <th>3</th>\n",
       "      <td>f2c1ecc9993f0071df91ba178450498c</td>\n",
       "      <td>2794</td>\n",
       "      <td>Mozilla/5.0 (compatible; MSIE 9.0; Windows NT ...</td>\n",
       "      <td>Desktop - IE</td>\n",
       "      <td>2019-12-30</td>\n",
       "      <td>0</td>\n",
       "      <td>1</td>\n",
       "      <td>0</td>\n",
       "      <td>455.201</td>\n",
       "      <td>2</td>\n",
       "      <td>3</td>\n",
       "      <td>1</td>\n",
       "      <td>6</td>\n",
       "    </tr>\n",
       "    <tr>\n",
       "      <th>4</th>\n",
       "      <td>e460830ae295e55d2216ebdc761ab9a6</td>\n",
       "      <td>3674</td>\n",
       "      <td>Mozilla/5.0 (iPhone; CPU iPhone OS 7_1_1 like ...</td>\n",
       "      <td>iPhone - Web</td>\n",
       "      <td>2019-09-10</td>\n",
       "      <td>0</td>\n",
       "      <td>0</td>\n",
       "      <td>0</td>\n",
       "      <td>1164.877</td>\n",
       "      <td>6</td>\n",
       "      <td>7</td>\n",
       "      <td>1</td>\n",
       "      <td>3</td>\n",
       "    </tr>\n",
       "  </tbody>\n",
       "</table>\n",
       "</div>"
      ],
      "text/plain": [
       "                         session_id  session_number  \\\n",
       "0  57f879e70d3c5fc2a98102d64c9fd84e             715   \n",
       "1  a5442b0c7c33d0a811e7661e556b2de8              55   \n",
       "2  305cb1486ed8610c00b37007926cb2c4              11   \n",
       "3  f2c1ecc9993f0071df91ba178450498c            2794   \n",
       "4  e460830ae295e55d2216ebdc761ab9a6            3674   \n",
       "\n",
       "                                        client_agent      device_details  \\\n",
       "0  Mozilla/5.0 (Windows NT 6.1; WOW64) AppleWebKi...    Desktop - Chrome   \n",
       "1                           Product/8.0 iPhone/8.1.3        iPhone - iOS   \n",
       "2  Mozilla/5.0 (iPhone; CPU iPhone OS 7_1_2 like ...  iPhone - MobileWeb   \n",
       "3  Mozilla/5.0 (compatible; MSIE 9.0; Windows NT ...        Desktop - IE   \n",
       "4  Mozilla/5.0 (iPhone; CPU iPhone OS 7_1_1 like ...        iPhone - Web   \n",
       "\n",
       "        date  purchased  added_in_cart  checked_out  time_spent  Device_org  \\\n",
       "0 2020-01-22          1              0            0     236.886           2   \n",
       "1 2020-02-27          1              0            0    1277.455           6   \n",
       "2 2019-08-01          0              0            0      21.704           6   \n",
       "3 2019-12-30          0              1            0     455.201           2   \n",
       "4 2019-09-10          0              0            0    1164.877           6   \n",
       "\n",
       "   Platform_org  Platform  Device  \n",
       "0             1         1       6  \n",
       "1             8         0       3  \n",
       "2             4         1       3  \n",
       "3             3         1       6  \n",
       "4             7         1       3  "
      ]
     },
     "execution_count": 1696,
     "metadata": {},
     "output_type": "execute_result"
    }
   ],
   "source": [
    "for column in ['Platform_org','Device_org','Platform','Device']:\n",
    "    dfTrain[column]=le.fit_transform(dfTrain[column])\n",
    "    dfTest[column] = le.fit_transform(dfTest[column])\n",
    "dfTrain.head()"
   ]
  },
  {
   "cell_type": "code",
   "execution_count": 1697,
   "metadata": {},
   "outputs": [
    {
     "data": {
      "text/html": [
       "<div>\n",
       "<style scoped>\n",
       "    .dataframe tbody tr th:only-of-type {\n",
       "        vertical-align: middle;\n",
       "    }\n",
       "\n",
       "    .dataframe tbody tr th {\n",
       "        vertical-align: top;\n",
       "    }\n",
       "\n",
       "    .dataframe thead th {\n",
       "        text-align: right;\n",
       "    }\n",
       "</style>\n",
       "<table border=\"1\" class=\"dataframe\">\n",
       "  <thead>\n",
       "    <tr style=\"text-align: right;\">\n",
       "      <th></th>\n",
       "      <th>session_id</th>\n",
       "      <th>session_number</th>\n",
       "      <th>client_agent</th>\n",
       "      <th>device_details</th>\n",
       "      <th>date</th>\n",
       "      <th>purchased</th>\n",
       "      <th>added_in_cart</th>\n",
       "      <th>checked_out</th>\n",
       "      <th>Device_org</th>\n",
       "      <th>Platform_org</th>\n",
       "      <th>Platform</th>\n",
       "      <th>Device</th>\n",
       "    </tr>\n",
       "  </thead>\n",
       "  <tbody>\n",
       "    <tr>\n",
       "      <th>0</th>\n",
       "      <td>0bf72b05b2cf70dc5e28c3c09f9c4f97</td>\n",
       "      <td>99</td>\n",
       "      <td>Mozilla/5.0 (Windows NT 6.1; WOW64; Trident/7....</td>\n",
       "      <td>Desktop - IE</td>\n",
       "      <td>2020-01-07</td>\n",
       "      <td>1</td>\n",
       "      <td>0</td>\n",
       "      <td>0</td>\n",
       "      <td>2</td>\n",
       "      <td>3</td>\n",
       "      <td>1</td>\n",
       "      <td>6</td>\n",
       "    </tr>\n",
       "    <tr>\n",
       "      <th>1</th>\n",
       "      <td>6bc696d99954e4f1367e845465186aef</td>\n",
       "      <td>935</td>\n",
       "      <td>Product/160393 Android/4.3 Device/samsung_GT-I...</td>\n",
       "      <td>Android Phone - Android</td>\n",
       "      <td>2020-02-13</td>\n",
       "      <td>0</td>\n",
       "      <td>0</td>\n",
       "      <td>0</td>\n",
       "      <td>0</td>\n",
       "      <td>0</td>\n",
       "      <td>0</td>\n",
       "      <td>0</td>\n",
       "    </tr>\n",
       "    <tr>\n",
       "      <th>2</th>\n",
       "      <td>3d8611a5ea0f621d205b67f09f663a89</td>\n",
       "      <td>902</td>\n",
       "      <td>Product/4.2.2 iPhone/7.1.2</td>\n",
       "      <td>iPhone - iOS</td>\n",
       "      <td>2019-10-14</td>\n",
       "      <td>1</td>\n",
       "      <td>0</td>\n",
       "      <td>0</td>\n",
       "      <td>6</td>\n",
       "      <td>8</td>\n",
       "      <td>0</td>\n",
       "      <td>3</td>\n",
       "    </tr>\n",
       "    <tr>\n",
       "      <th>3</th>\n",
       "      <td>a0351545c032fd0da36289410c6c3354</td>\n",
       "      <td>3223</td>\n",
       "      <td>Mozilla/5.0 (compatible; MSIE 9.0; Windows NT ...</td>\n",
       "      <td>Desktop - IE</td>\n",
       "      <td>2020-01-26</td>\n",
       "      <td>0</td>\n",
       "      <td>0</td>\n",
       "      <td>0</td>\n",
       "      <td>2</td>\n",
       "      <td>3</td>\n",
       "      <td>1</td>\n",
       "      <td>6</td>\n",
       "    </tr>\n",
       "    <tr>\n",
       "      <th>4</th>\n",
       "      <td>dd8999772b0ab27225fb05e5df2f1da6</td>\n",
       "      <td>231</td>\n",
       "      <td>Mozilla/5.0 (Windows NT 6.3; WOW64) AppleWebKi...</td>\n",
       "      <td>Desktop - Chrome</td>\n",
       "      <td>2020-01-29</td>\n",
       "      <td>0</td>\n",
       "      <td>0</td>\n",
       "      <td>0</td>\n",
       "      <td>2</td>\n",
       "      <td>1</td>\n",
       "      <td>1</td>\n",
       "      <td>6</td>\n",
       "    </tr>\n",
       "  </tbody>\n",
       "</table>\n",
       "</div>"
      ],
      "text/plain": [
       "                         session_id  session_number  \\\n",
       "0  0bf72b05b2cf70dc5e28c3c09f9c4f97              99   \n",
       "1  6bc696d99954e4f1367e845465186aef             935   \n",
       "2  3d8611a5ea0f621d205b67f09f663a89             902   \n",
       "3  a0351545c032fd0da36289410c6c3354            3223   \n",
       "4  dd8999772b0ab27225fb05e5df2f1da6             231   \n",
       "\n",
       "                                        client_agent           device_details  \\\n",
       "0  Mozilla/5.0 (Windows NT 6.1; WOW64; Trident/7....             Desktop - IE   \n",
       "1  Product/160393 Android/4.3 Device/samsung_GT-I...  Android Phone - Android   \n",
       "2                         Product/4.2.2 iPhone/7.1.2             iPhone - iOS   \n",
       "3  Mozilla/5.0 (compatible; MSIE 9.0; Windows NT ...             Desktop - IE   \n",
       "4  Mozilla/5.0 (Windows NT 6.3; WOW64) AppleWebKi...         Desktop - Chrome   \n",
       "\n",
       "        date  purchased  added_in_cart  checked_out  Device_org  Platform_org  \\\n",
       "0 2020-01-07          1              0            0           2             3   \n",
       "1 2020-02-13          0              0            0           0             0   \n",
       "2 2019-10-14          1              0            0           6             8   \n",
       "3 2020-01-26          0              0            0           2             3   \n",
       "4 2020-01-29          0              0            0           2             1   \n",
       "\n",
       "   Platform  Device  \n",
       "0         1       6  \n",
       "1         0       0  \n",
       "2         0       3  \n",
       "3         1       6  \n",
       "4         1       6  "
      ]
     },
     "execution_count": 1697,
     "metadata": {},
     "output_type": "execute_result"
    }
   ],
   "source": [
    "dfTest.head()"
   ]
  },
  {
   "cell_type": "code",
   "execution_count": 1698,
   "metadata": {},
   "outputs": [],
   "source": [
    "dfTrain= dfTrain.drop(['session_id','client_agent','device_details'], axis=1)\n",
    "dfTest = dfTest.drop(['session_id','client_agent','device_details'],axis=1)"
   ]
  },
  {
   "cell_type": "code",
   "execution_count": 1699,
   "metadata": {},
   "outputs": [
    {
     "data": {
      "text/html": [
       "<div>\n",
       "<style scoped>\n",
       "    .dataframe tbody tr th:only-of-type {\n",
       "        vertical-align: middle;\n",
       "    }\n",
       "\n",
       "    .dataframe tbody tr th {\n",
       "        vertical-align: top;\n",
       "    }\n",
       "\n",
       "    .dataframe thead th {\n",
       "        text-align: right;\n",
       "    }\n",
       "</style>\n",
       "<table border=\"1\" class=\"dataframe\">\n",
       "  <thead>\n",
       "    <tr style=\"text-align: right;\">\n",
       "      <th></th>\n",
       "      <th>session_number</th>\n",
       "      <th>date</th>\n",
       "      <th>purchased</th>\n",
       "      <th>added_in_cart</th>\n",
       "      <th>checked_out</th>\n",
       "      <th>time_spent</th>\n",
       "      <th>Device_org</th>\n",
       "      <th>Platform_org</th>\n",
       "      <th>Platform</th>\n",
       "      <th>Device</th>\n",
       "    </tr>\n",
       "  </thead>\n",
       "  <tbody>\n",
       "    <tr>\n",
       "      <th>0</th>\n",
       "      <td>715</td>\n",
       "      <td>2020-01-22</td>\n",
       "      <td>1</td>\n",
       "      <td>0</td>\n",
       "      <td>0</td>\n",
       "      <td>236.886</td>\n",
       "      <td>2</td>\n",
       "      <td>1</td>\n",
       "      <td>1</td>\n",
       "      <td>6</td>\n",
       "    </tr>\n",
       "    <tr>\n",
       "      <th>1</th>\n",
       "      <td>55</td>\n",
       "      <td>2020-02-27</td>\n",
       "      <td>1</td>\n",
       "      <td>0</td>\n",
       "      <td>0</td>\n",
       "      <td>1277.455</td>\n",
       "      <td>6</td>\n",
       "      <td>8</td>\n",
       "      <td>0</td>\n",
       "      <td>3</td>\n",
       "    </tr>\n",
       "    <tr>\n",
       "      <th>2</th>\n",
       "      <td>11</td>\n",
       "      <td>2019-08-01</td>\n",
       "      <td>0</td>\n",
       "      <td>0</td>\n",
       "      <td>0</td>\n",
       "      <td>21.704</td>\n",
       "      <td>6</td>\n",
       "      <td>4</td>\n",
       "      <td>1</td>\n",
       "      <td>3</td>\n",
       "    </tr>\n",
       "    <tr>\n",
       "      <th>3</th>\n",
       "      <td>2794</td>\n",
       "      <td>2019-12-30</td>\n",
       "      <td>0</td>\n",
       "      <td>1</td>\n",
       "      <td>0</td>\n",
       "      <td>455.201</td>\n",
       "      <td>2</td>\n",
       "      <td>3</td>\n",
       "      <td>1</td>\n",
       "      <td>6</td>\n",
       "    </tr>\n",
       "    <tr>\n",
       "      <th>4</th>\n",
       "      <td>3674</td>\n",
       "      <td>2019-09-10</td>\n",
       "      <td>0</td>\n",
       "      <td>0</td>\n",
       "      <td>0</td>\n",
       "      <td>1164.877</td>\n",
       "      <td>6</td>\n",
       "      <td>7</td>\n",
       "      <td>1</td>\n",
       "      <td>3</td>\n",
       "    </tr>\n",
       "  </tbody>\n",
       "</table>\n",
       "</div>"
      ],
      "text/plain": [
       "   session_number       date  purchased  added_in_cart  checked_out  \\\n",
       "0             715 2020-01-22          1              0            0   \n",
       "1              55 2020-02-27          1              0            0   \n",
       "2              11 2019-08-01          0              0            0   \n",
       "3            2794 2019-12-30          0              1            0   \n",
       "4            3674 2019-09-10          0              0            0   \n",
       "\n",
       "   time_spent  Device_org  Platform_org  Platform  Device  \n",
       "0     236.886           2             1         1       6  \n",
       "1    1277.455           6             8         0       3  \n",
       "2      21.704           6             4         1       3  \n",
       "3     455.201           2             3         1       6  \n",
       "4    1164.877           6             7         1       3  "
      ]
     },
     "execution_count": 1699,
     "metadata": {},
     "output_type": "execute_result"
    }
   ],
   "source": [
    "dfTrain.head()"
   ]
  },
  {
   "cell_type": "code",
   "execution_count": 1700,
   "metadata": {},
   "outputs": [],
   "source": [
    "# dfTrain['Month'] = dfTrain['date'].dt.month\n",
    "# dfTrain['Year'] = dfTrain['date'].dt.year\n",
    "# dfTrain['DayOfWeek']=dfTrain['date'].dt.dayofweek \n",
    "\n",
    "# dfTest['Month'] = dfTest['date'].dt.month\n",
    "# dfTest['Year'] = dfTest['date'].dt.year\n",
    "# dfTest['DayOfWeek']=dfTest['date'].dt.dayofweek "
   ]
  },
  {
   "cell_type": "code",
   "execution_count": 1701,
   "metadata": {},
   "outputs": [
    {
     "data": {
      "text/html": [
       "<div>\n",
       "<style scoped>\n",
       "    .dataframe tbody tr th:only-of-type {\n",
       "        vertical-align: middle;\n",
       "    }\n",
       "\n",
       "    .dataframe tbody tr th {\n",
       "        vertical-align: top;\n",
       "    }\n",
       "\n",
       "    .dataframe thead th {\n",
       "        text-align: right;\n",
       "    }\n",
       "</style>\n",
       "<table border=\"1\" class=\"dataframe\">\n",
       "  <thead>\n",
       "    <tr style=\"text-align: right;\">\n",
       "      <th></th>\n",
       "      <th>session_number</th>\n",
       "      <th>date</th>\n",
       "      <th>purchased</th>\n",
       "      <th>added_in_cart</th>\n",
       "      <th>checked_out</th>\n",
       "      <th>Device_org</th>\n",
       "      <th>Platform_org</th>\n",
       "      <th>Platform</th>\n",
       "      <th>Device</th>\n",
       "    </tr>\n",
       "  </thead>\n",
       "  <tbody>\n",
       "    <tr>\n",
       "      <th>0</th>\n",
       "      <td>99</td>\n",
       "      <td>2020-01-07</td>\n",
       "      <td>1</td>\n",
       "      <td>0</td>\n",
       "      <td>0</td>\n",
       "      <td>2</td>\n",
       "      <td>3</td>\n",
       "      <td>1</td>\n",
       "      <td>6</td>\n",
       "    </tr>\n",
       "    <tr>\n",
       "      <th>1</th>\n",
       "      <td>935</td>\n",
       "      <td>2020-02-13</td>\n",
       "      <td>0</td>\n",
       "      <td>0</td>\n",
       "      <td>0</td>\n",
       "      <td>0</td>\n",
       "      <td>0</td>\n",
       "      <td>0</td>\n",
       "      <td>0</td>\n",
       "    </tr>\n",
       "    <tr>\n",
       "      <th>2</th>\n",
       "      <td>902</td>\n",
       "      <td>2019-10-14</td>\n",
       "      <td>1</td>\n",
       "      <td>0</td>\n",
       "      <td>0</td>\n",
       "      <td>6</td>\n",
       "      <td>8</td>\n",
       "      <td>0</td>\n",
       "      <td>3</td>\n",
       "    </tr>\n",
       "    <tr>\n",
       "      <th>3</th>\n",
       "      <td>3223</td>\n",
       "      <td>2020-01-26</td>\n",
       "      <td>0</td>\n",
       "      <td>0</td>\n",
       "      <td>0</td>\n",
       "      <td>2</td>\n",
       "      <td>3</td>\n",
       "      <td>1</td>\n",
       "      <td>6</td>\n",
       "    </tr>\n",
       "    <tr>\n",
       "      <th>4</th>\n",
       "      <td>231</td>\n",
       "      <td>2020-01-29</td>\n",
       "      <td>0</td>\n",
       "      <td>0</td>\n",
       "      <td>0</td>\n",
       "      <td>2</td>\n",
       "      <td>1</td>\n",
       "      <td>1</td>\n",
       "      <td>6</td>\n",
       "    </tr>\n",
       "  </tbody>\n",
       "</table>\n",
       "</div>"
      ],
      "text/plain": [
       "   session_number       date  purchased  added_in_cart  checked_out  \\\n",
       "0              99 2020-01-07          1              0            0   \n",
       "1             935 2020-02-13          0              0            0   \n",
       "2             902 2019-10-14          1              0            0   \n",
       "3            3223 2020-01-26          0              0            0   \n",
       "4             231 2020-01-29          0              0            0   \n",
       "\n",
       "   Device_org  Platform_org  Platform  Device  \n",
       "0           2             3         1       6  \n",
       "1           0             0         0       0  \n",
       "2           6             8         0       3  \n",
       "3           2             3         1       6  \n",
       "4           2             1         1       6  "
      ]
     },
     "execution_count": 1701,
     "metadata": {},
     "output_type": "execute_result"
    }
   ],
   "source": [
    "dfTest.head()"
   ]
  },
  {
   "cell_type": "code",
   "execution_count": 1702,
   "metadata": {},
   "outputs": [
    {
     "data": {
      "text/html": [
       "<div>\n",
       "<style scoped>\n",
       "    .dataframe tbody tr th:only-of-type {\n",
       "        vertical-align: middle;\n",
       "    }\n",
       "\n",
       "    .dataframe tbody tr th {\n",
       "        vertical-align: top;\n",
       "    }\n",
       "\n",
       "    .dataframe thead th {\n",
       "        text-align: right;\n",
       "    }\n",
       "</style>\n",
       "<table border=\"1\" class=\"dataframe\">\n",
       "  <thead>\n",
       "    <tr style=\"text-align: right;\">\n",
       "      <th></th>\n",
       "      <th>session_number</th>\n",
       "      <th>date</th>\n",
       "      <th>purchased</th>\n",
       "      <th>added_in_cart</th>\n",
       "      <th>checked_out</th>\n",
       "      <th>time_spent</th>\n",
       "      <th>Device_org</th>\n",
       "      <th>Platform_org</th>\n",
       "      <th>Platform</th>\n",
       "      <th>Device</th>\n",
       "      <th>datepurch</th>\n",
       "    </tr>\n",
       "  </thead>\n",
       "  <tbody>\n",
       "    <tr>\n",
       "      <th>0</th>\n",
       "      <td>715</td>\n",
       "      <td>2020-01-22</td>\n",
       "      <td>1</td>\n",
       "      <td>0</td>\n",
       "      <td>0</td>\n",
       "      <td>236.886</td>\n",
       "      <td>2</td>\n",
       "      <td>1</td>\n",
       "      <td>1</td>\n",
       "      <td>6</td>\n",
       "      <td>92 days</td>\n",
       "    </tr>\n",
       "    <tr>\n",
       "      <th>1</th>\n",
       "      <td>55</td>\n",
       "      <td>2020-02-27</td>\n",
       "      <td>1</td>\n",
       "      <td>0</td>\n",
       "      <td>0</td>\n",
       "      <td>1277.455</td>\n",
       "      <td>6</td>\n",
       "      <td>8</td>\n",
       "      <td>0</td>\n",
       "      <td>3</td>\n",
       "      <td>56 days</td>\n",
       "    </tr>\n",
       "    <tr>\n",
       "      <th>2</th>\n",
       "      <td>11</td>\n",
       "      <td>2019-08-01</td>\n",
       "      <td>0</td>\n",
       "      <td>0</td>\n",
       "      <td>0</td>\n",
       "      <td>21.704</td>\n",
       "      <td>6</td>\n",
       "      <td>4</td>\n",
       "      <td>1</td>\n",
       "      <td>3</td>\n",
       "      <td>266 days</td>\n",
       "    </tr>\n",
       "    <tr>\n",
       "      <th>3</th>\n",
       "      <td>2794</td>\n",
       "      <td>2019-12-30</td>\n",
       "      <td>0</td>\n",
       "      <td>1</td>\n",
       "      <td>0</td>\n",
       "      <td>455.201</td>\n",
       "      <td>2</td>\n",
       "      <td>3</td>\n",
       "      <td>1</td>\n",
       "      <td>6</td>\n",
       "      <td>115 days</td>\n",
       "    </tr>\n",
       "    <tr>\n",
       "      <th>4</th>\n",
       "      <td>3674</td>\n",
       "      <td>2019-09-10</td>\n",
       "      <td>0</td>\n",
       "      <td>0</td>\n",
       "      <td>0</td>\n",
       "      <td>1164.877</td>\n",
       "      <td>6</td>\n",
       "      <td>7</td>\n",
       "      <td>1</td>\n",
       "      <td>3</td>\n",
       "      <td>226 days</td>\n",
       "    </tr>\n",
       "  </tbody>\n",
       "</table>\n",
       "</div>"
      ],
      "text/plain": [
       "   session_number       date  purchased  added_in_cart  checked_out  \\\n",
       "0             715 2020-01-22          1              0            0   \n",
       "1              55 2020-02-27          1              0            0   \n",
       "2              11 2019-08-01          0              0            0   \n",
       "3            2794 2019-12-30          0              1            0   \n",
       "4            3674 2019-09-10          0              0            0   \n",
       "\n",
       "   time_spent  Device_org  Platform_org  Platform  Device datepurch  \n",
       "0     236.886           2             1         1       6   92 days  \n",
       "1    1277.455           6             8         0       3   56 days  \n",
       "2      21.704           6             4         1       3  266 days  \n",
       "3     455.201           2             3         1       6  115 days  \n",
       "4    1164.877           6             7         1       3  226 days  "
      ]
     },
     "execution_count": 1702,
     "metadata": {},
     "output_type": "execute_result"
    }
   ],
   "source": [
    "# # convert date column to unique value subtracting the max value \n",
    "dfTrain['datepurch']=dfTrain['date'].max()-dfTrain['date']\n",
    "dfTest['datepurch']=dfTest['date'].max()-dfTest['date']\n",
    "dfTrain.head()"
   ]
  },
  {
   "cell_type": "code",
   "execution_count": 1703,
   "metadata": {},
   "outputs": [
    {
     "name": "stdout",
     "output_type": "stream",
     "text": [
      "<class 'pandas.core.frame.DataFrame'>\n",
      "RangeIndex: 5429 entries, 0 to 5428\n",
      "Data columns (total 11 columns):\n",
      " #   Column          Non-Null Count  Dtype          \n",
      "---  ------          --------------  -----          \n",
      " 0   session_number  5429 non-null   int64          \n",
      " 1   date            5429 non-null   datetime64[ns] \n",
      " 2   purchased       5429 non-null   int64          \n",
      " 3   added_in_cart   5429 non-null   int64          \n",
      " 4   checked_out     5429 non-null   int64          \n",
      " 5   time_spent      5429 non-null   float64        \n",
      " 6   Device_org      5429 non-null   int32          \n",
      " 7   Platform_org    5429 non-null   int32          \n",
      " 8   Platform        5429 non-null   int32          \n",
      " 9   Device          5429 non-null   int32          \n",
      " 10  datepurch       5429 non-null   timedelta64[ns]\n",
      "dtypes: datetime64[ns](1), float64(1), int32(4), int64(4), timedelta64[ns](1)\n",
      "memory usage: 381.9 KB\n"
     ]
    }
   ],
   "source": [
    "dfTrain.info()"
   ]
  },
  {
   "cell_type": "code",
   "execution_count": 1704,
   "metadata": {},
   "outputs": [],
   "source": [
    "dfTrain['datepurch']= dfTrain['datepurch'].astype(str)\n",
    "dfTest['datepurch']= dfTest['datepurch'].astype(str)"
   ]
  },
  {
   "cell_type": "code",
   "execution_count": 1705,
   "metadata": {},
   "outputs": [],
   "source": [
    "dfTrain['datepurch']= dfTrain['datepurch'].str.split(' ').str[0]\n",
    "dfTest['datepurch']= dfTest['datepurch'].str.split(' ').str[0]"
   ]
  },
  {
   "cell_type": "code",
   "execution_count": 1706,
   "metadata": {},
   "outputs": [],
   "source": [
    "dfTrain['datepurch']= dfTrain['datepurch'].astype(int)\n",
    "dfTest['datepurch']= dfTest['datepurch'].astype(int)"
   ]
  },
  {
   "cell_type": "code",
   "execution_count": 1707,
   "metadata": {},
   "outputs": [
    {
     "name": "stdout",
     "output_type": "stream",
     "text": [
      "<class 'pandas.core.frame.DataFrame'>\n",
      "RangeIndex: 5429 entries, 0 to 5428\n",
      "Data columns (total 11 columns):\n",
      " #   Column          Non-Null Count  Dtype         \n",
      "---  ------          --------------  -----         \n",
      " 0   session_number  5429 non-null   int64         \n",
      " 1   date            5429 non-null   datetime64[ns]\n",
      " 2   purchased       5429 non-null   int64         \n",
      " 3   added_in_cart   5429 non-null   int64         \n",
      " 4   checked_out     5429 non-null   int64         \n",
      " 5   time_spent      5429 non-null   float64       \n",
      " 6   Device_org      5429 non-null   int32         \n",
      " 7   Platform_org    5429 non-null   int32         \n",
      " 8   Platform        5429 non-null   int32         \n",
      " 9   Device          5429 non-null   int32         \n",
      " 10  datepurch       5429 non-null   int32         \n",
      "dtypes: datetime64[ns](1), float64(1), int32(5), int64(4)\n",
      "memory usage: 360.6 KB\n"
     ]
    }
   ],
   "source": [
    "dfTrain.info()"
   ]
  },
  {
   "cell_type": "code",
   "execution_count": 1708,
   "metadata": {},
   "outputs": [
    {
     "data": {
      "text/html": [
       "<div>\n",
       "<style scoped>\n",
       "    .dataframe tbody tr th:only-of-type {\n",
       "        vertical-align: middle;\n",
       "    }\n",
       "\n",
       "    .dataframe tbody tr th {\n",
       "        vertical-align: top;\n",
       "    }\n",
       "\n",
       "    .dataframe thead th {\n",
       "        text-align: right;\n",
       "    }\n",
       "</style>\n",
       "<table border=\"1\" class=\"dataframe\">\n",
       "  <thead>\n",
       "    <tr style=\"text-align: right;\">\n",
       "      <th></th>\n",
       "      <th>session_number</th>\n",
       "      <th>purchased</th>\n",
       "      <th>added_in_cart</th>\n",
       "      <th>checked_out</th>\n",
       "      <th>time_spent</th>\n",
       "      <th>Device_org</th>\n",
       "      <th>Platform_org</th>\n",
       "      <th>Platform</th>\n",
       "      <th>Device</th>\n",
       "      <th>datepurch</th>\n",
       "    </tr>\n",
       "  </thead>\n",
       "  <tbody>\n",
       "    <tr>\n",
       "      <th>0</th>\n",
       "      <td>715</td>\n",
       "      <td>1</td>\n",
       "      <td>0</td>\n",
       "      <td>0</td>\n",
       "      <td>236.886</td>\n",
       "      <td>2</td>\n",
       "      <td>1</td>\n",
       "      <td>1</td>\n",
       "      <td>6</td>\n",
       "      <td>92</td>\n",
       "    </tr>\n",
       "    <tr>\n",
       "      <th>1</th>\n",
       "      <td>55</td>\n",
       "      <td>1</td>\n",
       "      <td>0</td>\n",
       "      <td>0</td>\n",
       "      <td>1277.455</td>\n",
       "      <td>6</td>\n",
       "      <td>8</td>\n",
       "      <td>0</td>\n",
       "      <td>3</td>\n",
       "      <td>56</td>\n",
       "    </tr>\n",
       "    <tr>\n",
       "      <th>2</th>\n",
       "      <td>11</td>\n",
       "      <td>0</td>\n",
       "      <td>0</td>\n",
       "      <td>0</td>\n",
       "      <td>21.704</td>\n",
       "      <td>6</td>\n",
       "      <td>4</td>\n",
       "      <td>1</td>\n",
       "      <td>3</td>\n",
       "      <td>266</td>\n",
       "    </tr>\n",
       "    <tr>\n",
       "      <th>3</th>\n",
       "      <td>2794</td>\n",
       "      <td>0</td>\n",
       "      <td>1</td>\n",
       "      <td>0</td>\n",
       "      <td>455.201</td>\n",
       "      <td>2</td>\n",
       "      <td>3</td>\n",
       "      <td>1</td>\n",
       "      <td>6</td>\n",
       "      <td>115</td>\n",
       "    </tr>\n",
       "    <tr>\n",
       "      <th>4</th>\n",
       "      <td>3674</td>\n",
       "      <td>0</td>\n",
       "      <td>0</td>\n",
       "      <td>0</td>\n",
       "      <td>1164.877</td>\n",
       "      <td>6</td>\n",
       "      <td>7</td>\n",
       "      <td>1</td>\n",
       "      <td>3</td>\n",
       "      <td>226</td>\n",
       "    </tr>\n",
       "  </tbody>\n",
       "</table>\n",
       "</div>"
      ],
      "text/plain": [
       "   session_number  purchased  added_in_cart  checked_out  time_spent  \\\n",
       "0             715          1              0            0     236.886   \n",
       "1              55          1              0            0    1277.455   \n",
       "2              11          0              0            0      21.704   \n",
       "3            2794          0              1            0     455.201   \n",
       "4            3674          0              0            0    1164.877   \n",
       "\n",
       "   Device_org  Platform_org  Platform  Device  datepurch  \n",
       "0           2             1         1       6         92  \n",
       "1           6             8         0       3         56  \n",
       "2           6             4         1       3        266  \n",
       "3           2             3         1       6        115  \n",
       "4           6             7         1       3        226  "
      ]
     },
     "execution_count": 1708,
     "metadata": {},
     "output_type": "execute_result"
    }
   ],
   "source": [
    "dfTrain=dfTrain.drop('date',axis=1)\n",
    "dfTest=dfTest.drop('date',axis=1)\n",
    "dfTrain.head()"
   ]
  },
  {
   "cell_type": "code",
   "execution_count": 1709,
   "metadata": {},
   "outputs": [
    {
     "data": {
      "text/html": [
       "<div>\n",
       "<style scoped>\n",
       "    .dataframe tbody tr th:only-of-type {\n",
       "        vertical-align: middle;\n",
       "    }\n",
       "\n",
       "    .dataframe tbody tr th {\n",
       "        vertical-align: top;\n",
       "    }\n",
       "\n",
       "    .dataframe thead th {\n",
       "        text-align: right;\n",
       "    }\n",
       "</style>\n",
       "<table border=\"1\" class=\"dataframe\">\n",
       "  <thead>\n",
       "    <tr style=\"text-align: right;\">\n",
       "      <th></th>\n",
       "      <th>session_number</th>\n",
       "      <th>purchased</th>\n",
       "      <th>added_in_cart</th>\n",
       "      <th>checked_out</th>\n",
       "      <th>Device_org</th>\n",
       "      <th>Platform_org</th>\n",
       "      <th>Platform</th>\n",
       "      <th>Device</th>\n",
       "      <th>datepurch</th>\n",
       "    </tr>\n",
       "  </thead>\n",
       "  <tbody>\n",
       "    <tr>\n",
       "      <th>0</th>\n",
       "      <td>99</td>\n",
       "      <td>1</td>\n",
       "      <td>0</td>\n",
       "      <td>0</td>\n",
       "      <td>2</td>\n",
       "      <td>3</td>\n",
       "      <td>1</td>\n",
       "      <td>6</td>\n",
       "      <td>103</td>\n",
       "    </tr>\n",
       "    <tr>\n",
       "      <th>1</th>\n",
       "      <td>935</td>\n",
       "      <td>0</td>\n",
       "      <td>0</td>\n",
       "      <td>0</td>\n",
       "      <td>0</td>\n",
       "      <td>0</td>\n",
       "      <td>0</td>\n",
       "      <td>0</td>\n",
       "      <td>66</td>\n",
       "    </tr>\n",
       "    <tr>\n",
       "      <th>2</th>\n",
       "      <td>902</td>\n",
       "      <td>1</td>\n",
       "      <td>0</td>\n",
       "      <td>0</td>\n",
       "      <td>6</td>\n",
       "      <td>8</td>\n",
       "      <td>0</td>\n",
       "      <td>3</td>\n",
       "      <td>188</td>\n",
       "    </tr>\n",
       "    <tr>\n",
       "      <th>3</th>\n",
       "      <td>3223</td>\n",
       "      <td>0</td>\n",
       "      <td>0</td>\n",
       "      <td>0</td>\n",
       "      <td>2</td>\n",
       "      <td>3</td>\n",
       "      <td>1</td>\n",
       "      <td>6</td>\n",
       "      <td>84</td>\n",
       "    </tr>\n",
       "    <tr>\n",
       "      <th>4</th>\n",
       "      <td>231</td>\n",
       "      <td>0</td>\n",
       "      <td>0</td>\n",
       "      <td>0</td>\n",
       "      <td>2</td>\n",
       "      <td>1</td>\n",
       "      <td>1</td>\n",
       "      <td>6</td>\n",
       "      <td>81</td>\n",
       "    </tr>\n",
       "  </tbody>\n",
       "</table>\n",
       "</div>"
      ],
      "text/plain": [
       "   session_number  purchased  added_in_cart  checked_out  Device_org  \\\n",
       "0              99          1              0            0           2   \n",
       "1             935          0              0            0           0   \n",
       "2             902          1              0            0           6   \n",
       "3            3223          0              0            0           2   \n",
       "4             231          0              0            0           2   \n",
       "\n",
       "   Platform_org  Platform  Device  datepurch  \n",
       "0             3         1       6        103  \n",
       "1             0         0       0         66  \n",
       "2             8         0       3        188  \n",
       "3             3         1       6         84  \n",
       "4             1         1       6         81  "
      ]
     },
     "execution_count": 1709,
     "metadata": {},
     "output_type": "execute_result"
    }
   ],
   "source": [
    "dfTest.head()"
   ]
  },
  {
   "cell_type": "code",
   "execution_count": 1710,
   "metadata": {},
   "outputs": [
    {
     "data": {
      "text/plain": [
       "(2327, 9)"
      ]
     },
     "execution_count": 1710,
     "metadata": {},
     "output_type": "execute_result"
    }
   ],
   "source": [
    "dfTest.shape"
   ]
  },
  {
   "cell_type": "code",
   "execution_count": 1711,
   "metadata": {},
   "outputs": [],
   "source": [
    "X=dfTrain.drop('time_spent',axis=1)\n",
    "y=dfTrain['time_spent']"
   ]
  },
  {
   "cell_type": "code",
   "execution_count": 1712,
   "metadata": {},
   "outputs": [
    {
     "data": {
      "text/html": [
       "<div>\n",
       "<style scoped>\n",
       "    .dataframe tbody tr th:only-of-type {\n",
       "        vertical-align: middle;\n",
       "    }\n",
       "\n",
       "    .dataframe tbody tr th {\n",
       "        vertical-align: top;\n",
       "    }\n",
       "\n",
       "    .dataframe thead th {\n",
       "        text-align: right;\n",
       "    }\n",
       "</style>\n",
       "<table border=\"1\" class=\"dataframe\">\n",
       "  <thead>\n",
       "    <tr style=\"text-align: right;\">\n",
       "      <th></th>\n",
       "      <th>session_number</th>\n",
       "      <th>purchased</th>\n",
       "      <th>added_in_cart</th>\n",
       "      <th>checked_out</th>\n",
       "      <th>Device_org</th>\n",
       "      <th>Platform_org</th>\n",
       "      <th>Platform</th>\n",
       "      <th>Device</th>\n",
       "      <th>datepurch</th>\n",
       "    </tr>\n",
       "  </thead>\n",
       "  <tbody>\n",
       "    <tr>\n",
       "      <th>0</th>\n",
       "      <td>715</td>\n",
       "      <td>1</td>\n",
       "      <td>0</td>\n",
       "      <td>0</td>\n",
       "      <td>2</td>\n",
       "      <td>1</td>\n",
       "      <td>1</td>\n",
       "      <td>6</td>\n",
       "      <td>92</td>\n",
       "    </tr>\n",
       "    <tr>\n",
       "      <th>1</th>\n",
       "      <td>55</td>\n",
       "      <td>1</td>\n",
       "      <td>0</td>\n",
       "      <td>0</td>\n",
       "      <td>6</td>\n",
       "      <td>8</td>\n",
       "      <td>0</td>\n",
       "      <td>3</td>\n",
       "      <td>56</td>\n",
       "    </tr>\n",
       "    <tr>\n",
       "      <th>2</th>\n",
       "      <td>11</td>\n",
       "      <td>0</td>\n",
       "      <td>0</td>\n",
       "      <td>0</td>\n",
       "      <td>6</td>\n",
       "      <td>4</td>\n",
       "      <td>1</td>\n",
       "      <td>3</td>\n",
       "      <td>266</td>\n",
       "    </tr>\n",
       "    <tr>\n",
       "      <th>3</th>\n",
       "      <td>2794</td>\n",
       "      <td>0</td>\n",
       "      <td>1</td>\n",
       "      <td>0</td>\n",
       "      <td>2</td>\n",
       "      <td>3</td>\n",
       "      <td>1</td>\n",
       "      <td>6</td>\n",
       "      <td>115</td>\n",
       "    </tr>\n",
       "    <tr>\n",
       "      <th>4</th>\n",
       "      <td>3674</td>\n",
       "      <td>0</td>\n",
       "      <td>0</td>\n",
       "      <td>0</td>\n",
       "      <td>6</td>\n",
       "      <td>7</td>\n",
       "      <td>1</td>\n",
       "      <td>3</td>\n",
       "      <td>226</td>\n",
       "    </tr>\n",
       "  </tbody>\n",
       "</table>\n",
       "</div>"
      ],
      "text/plain": [
       "   session_number  purchased  added_in_cart  checked_out  Device_org  \\\n",
       "0             715          1              0            0           2   \n",
       "1              55          1              0            0           6   \n",
       "2              11          0              0            0           6   \n",
       "3            2794          0              1            0           2   \n",
       "4            3674          0              0            0           6   \n",
       "\n",
       "   Platform_org  Platform  Device  datepurch  \n",
       "0             1         1       6         92  \n",
       "1             8         0       3         56  \n",
       "2             4         1       3        266  \n",
       "3             3         1       6        115  \n",
       "4             7         1       3        226  "
      ]
     },
     "execution_count": 1712,
     "metadata": {},
     "output_type": "execute_result"
    }
   ],
   "source": [
    "X.head()"
   ]
  },
  {
   "cell_type": "code",
   "execution_count": 1713,
   "metadata": {},
   "outputs": [
    {
     "data": {
      "text/html": [
       "<div>\n",
       "<style scoped>\n",
       "    .dataframe tbody tr th:only-of-type {\n",
       "        vertical-align: middle;\n",
       "    }\n",
       "\n",
       "    .dataframe tbody tr th {\n",
       "        vertical-align: top;\n",
       "    }\n",
       "\n",
       "    .dataframe thead th {\n",
       "        text-align: right;\n",
       "    }\n",
       "</style>\n",
       "<table border=\"1\" class=\"dataframe\">\n",
       "  <thead>\n",
       "    <tr style=\"text-align: right;\">\n",
       "      <th></th>\n",
       "      <th>session_number</th>\n",
       "      <th>purchased</th>\n",
       "      <th>added_in_cart</th>\n",
       "      <th>checked_out</th>\n",
       "      <th>Device_org</th>\n",
       "      <th>Platform_org</th>\n",
       "      <th>Platform</th>\n",
       "      <th>Device</th>\n",
       "      <th>datepurch</th>\n",
       "    </tr>\n",
       "  </thead>\n",
       "  <tbody>\n",
       "    <tr>\n",
       "      <th>0</th>\n",
       "      <td>True</td>\n",
       "      <td>True</td>\n",
       "      <td>True</td>\n",
       "      <td>True</td>\n",
       "      <td>True</td>\n",
       "      <td>True</td>\n",
       "      <td>True</td>\n",
       "      <td>True</td>\n",
       "      <td>True</td>\n",
       "    </tr>\n",
       "    <tr>\n",
       "      <th>1</th>\n",
       "      <td>True</td>\n",
       "      <td>True</td>\n",
       "      <td>True</td>\n",
       "      <td>True</td>\n",
       "      <td>True</td>\n",
       "      <td>True</td>\n",
       "      <td>True</td>\n",
       "      <td>True</td>\n",
       "      <td>True</td>\n",
       "    </tr>\n",
       "    <tr>\n",
       "      <th>2</th>\n",
       "      <td>True</td>\n",
       "      <td>True</td>\n",
       "      <td>True</td>\n",
       "      <td>True</td>\n",
       "      <td>True</td>\n",
       "      <td>True</td>\n",
       "      <td>True</td>\n",
       "      <td>True</td>\n",
       "      <td>True</td>\n",
       "    </tr>\n",
       "    <tr>\n",
       "      <th>3</th>\n",
       "      <td>True</td>\n",
       "      <td>True</td>\n",
       "      <td>True</td>\n",
       "      <td>True</td>\n",
       "      <td>True</td>\n",
       "      <td>True</td>\n",
       "      <td>True</td>\n",
       "      <td>True</td>\n",
       "      <td>True</td>\n",
       "    </tr>\n",
       "    <tr>\n",
       "      <th>4</th>\n",
       "      <td>True</td>\n",
       "      <td>True</td>\n",
       "      <td>True</td>\n",
       "      <td>True</td>\n",
       "      <td>True</td>\n",
       "      <td>True</td>\n",
       "      <td>True</td>\n",
       "      <td>True</td>\n",
       "      <td>True</td>\n",
       "    </tr>\n",
       "    <tr>\n",
       "      <th>...</th>\n",
       "      <td>...</td>\n",
       "      <td>...</td>\n",
       "      <td>...</td>\n",
       "      <td>...</td>\n",
       "      <td>...</td>\n",
       "      <td>...</td>\n",
       "      <td>...</td>\n",
       "      <td>...</td>\n",
       "      <td>...</td>\n",
       "    </tr>\n",
       "    <tr>\n",
       "      <th>5424</th>\n",
       "      <td>True</td>\n",
       "      <td>True</td>\n",
       "      <td>True</td>\n",
       "      <td>True</td>\n",
       "      <td>True</td>\n",
       "      <td>True</td>\n",
       "      <td>True</td>\n",
       "      <td>True</td>\n",
       "      <td>True</td>\n",
       "    </tr>\n",
       "    <tr>\n",
       "      <th>5425</th>\n",
       "      <td>True</td>\n",
       "      <td>True</td>\n",
       "      <td>True</td>\n",
       "      <td>True</td>\n",
       "      <td>True</td>\n",
       "      <td>True</td>\n",
       "      <td>True</td>\n",
       "      <td>True</td>\n",
       "      <td>True</td>\n",
       "    </tr>\n",
       "    <tr>\n",
       "      <th>5426</th>\n",
       "      <td>True</td>\n",
       "      <td>True</td>\n",
       "      <td>True</td>\n",
       "      <td>True</td>\n",
       "      <td>True</td>\n",
       "      <td>True</td>\n",
       "      <td>True</td>\n",
       "      <td>True</td>\n",
       "      <td>True</td>\n",
       "    </tr>\n",
       "    <tr>\n",
       "      <th>5427</th>\n",
       "      <td>True</td>\n",
       "      <td>True</td>\n",
       "      <td>True</td>\n",
       "      <td>True</td>\n",
       "      <td>True</td>\n",
       "      <td>True</td>\n",
       "      <td>True</td>\n",
       "      <td>True</td>\n",
       "      <td>True</td>\n",
       "    </tr>\n",
       "    <tr>\n",
       "      <th>5428</th>\n",
       "      <td>True</td>\n",
       "      <td>True</td>\n",
       "      <td>True</td>\n",
       "      <td>True</td>\n",
       "      <td>True</td>\n",
       "      <td>True</td>\n",
       "      <td>True</td>\n",
       "      <td>True</td>\n",
       "      <td>True</td>\n",
       "    </tr>\n",
       "  </tbody>\n",
       "</table>\n",
       "<p>5429 rows × 9 columns</p>\n",
       "</div>"
      ],
      "text/plain": [
       "      session_number  purchased  added_in_cart  checked_out  Device_org  \\\n",
       "0               True       True           True         True        True   \n",
       "1               True       True           True         True        True   \n",
       "2               True       True           True         True        True   \n",
       "3               True       True           True         True        True   \n",
       "4               True       True           True         True        True   \n",
       "...              ...        ...            ...          ...         ...   \n",
       "5424            True       True           True         True        True   \n",
       "5425            True       True           True         True        True   \n",
       "5426            True       True           True         True        True   \n",
       "5427            True       True           True         True        True   \n",
       "5428            True       True           True         True        True   \n",
       "\n",
       "      Platform_org  Platform  Device  datepurch  \n",
       "0             True      True    True       True  \n",
       "1             True      True    True       True  \n",
       "2             True      True    True       True  \n",
       "3             True      True    True       True  \n",
       "4             True      True    True       True  \n",
       "...            ...       ...     ...        ...  \n",
       "5424          True      True    True       True  \n",
       "5425          True      True    True       True  \n",
       "5426          True      True    True       True  \n",
       "5427          True      True    True       True  \n",
       "5428          True      True    True       True  \n",
       "\n",
       "[5429 rows x 9 columns]"
      ]
     },
     "execution_count": 1713,
     "metadata": {},
     "output_type": "execute_result"
    }
   ],
   "source": [
    "pd.notnull(X)"
   ]
  },
  {
   "cell_type": "code",
   "execution_count": 1714,
   "metadata": {},
   "outputs": [
    {
     "data": {
      "text/plain": [
       "0       True\n",
       "1       True\n",
       "2       True\n",
       "3       True\n",
       "4       True\n",
       "        ... \n",
       "5424    True\n",
       "5425    True\n",
       "5426    True\n",
       "5427    True\n",
       "5428    True\n",
       "Name: time_spent, Length: 5429, dtype: bool"
      ]
     },
     "execution_count": 1714,
     "metadata": {},
     "output_type": "execute_result"
    }
   ],
   "source": [
    "pd.notnull(y)"
   ]
  },
  {
   "cell_type": "markdown",
   "metadata": {},
   "source": [
    "# Linear Regression"
   ]
  },
  {
   "cell_type": "code",
   "execution_count": 1715,
   "metadata": {},
   "outputs": [],
   "source": [
    "from sklearn.linear_model import LinearRegression\n",
    "from sklearn.model_selection import train_test_split"
   ]
  },
  {
   "cell_type": "code",
   "execution_count": 1716,
   "metadata": {},
   "outputs": [],
   "source": [
    "X_train,X_test,y_train,y_test= train_test_split(X,y,test_size=0.1,random_state=2)"
   ]
  },
  {
   "cell_type": "code",
   "execution_count": 1717,
   "metadata": {},
   "outputs": [
    {
     "data": {
      "text/html": [
       "<div>\n",
       "<style scoped>\n",
       "    .dataframe tbody tr th:only-of-type {\n",
       "        vertical-align: middle;\n",
       "    }\n",
       "\n",
       "    .dataframe tbody tr th {\n",
       "        vertical-align: top;\n",
       "    }\n",
       "\n",
       "    .dataframe thead th {\n",
       "        text-align: right;\n",
       "    }\n",
       "</style>\n",
       "<table border=\"1\" class=\"dataframe\">\n",
       "  <thead>\n",
       "    <tr style=\"text-align: right;\">\n",
       "      <th></th>\n",
       "      <th>session_number</th>\n",
       "      <th>purchased</th>\n",
       "      <th>added_in_cart</th>\n",
       "      <th>checked_out</th>\n",
       "      <th>Device_org</th>\n",
       "      <th>Platform_org</th>\n",
       "      <th>Platform</th>\n",
       "      <th>Device</th>\n",
       "      <th>datepurch</th>\n",
       "    </tr>\n",
       "  </thead>\n",
       "  <tbody>\n",
       "    <tr>\n",
       "      <th>744</th>\n",
       "      <td>True</td>\n",
       "      <td>True</td>\n",
       "      <td>True</td>\n",
       "      <td>True</td>\n",
       "      <td>True</td>\n",
       "      <td>True</td>\n",
       "      <td>True</td>\n",
       "      <td>True</td>\n",
       "      <td>True</td>\n",
       "    </tr>\n",
       "    <tr>\n",
       "      <th>1145</th>\n",
       "      <td>True</td>\n",
       "      <td>True</td>\n",
       "      <td>True</td>\n",
       "      <td>True</td>\n",
       "      <td>True</td>\n",
       "      <td>True</td>\n",
       "      <td>True</td>\n",
       "      <td>True</td>\n",
       "      <td>True</td>\n",
       "    </tr>\n",
       "    <tr>\n",
       "      <th>661</th>\n",
       "      <td>True</td>\n",
       "      <td>True</td>\n",
       "      <td>True</td>\n",
       "      <td>True</td>\n",
       "      <td>True</td>\n",
       "      <td>True</td>\n",
       "      <td>True</td>\n",
       "      <td>True</td>\n",
       "      <td>True</td>\n",
       "    </tr>\n",
       "    <tr>\n",
       "      <th>3994</th>\n",
       "      <td>True</td>\n",
       "      <td>True</td>\n",
       "      <td>True</td>\n",
       "      <td>True</td>\n",
       "      <td>True</td>\n",
       "      <td>True</td>\n",
       "      <td>True</td>\n",
       "      <td>True</td>\n",
       "      <td>True</td>\n",
       "    </tr>\n",
       "    <tr>\n",
       "      <th>1142</th>\n",
       "      <td>True</td>\n",
       "      <td>True</td>\n",
       "      <td>True</td>\n",
       "      <td>True</td>\n",
       "      <td>True</td>\n",
       "      <td>True</td>\n",
       "      <td>True</td>\n",
       "      <td>True</td>\n",
       "      <td>True</td>\n",
       "    </tr>\n",
       "    <tr>\n",
       "      <th>...</th>\n",
       "      <td>...</td>\n",
       "      <td>...</td>\n",
       "      <td>...</td>\n",
       "      <td>...</td>\n",
       "      <td>...</td>\n",
       "      <td>...</td>\n",
       "      <td>...</td>\n",
       "      <td>...</td>\n",
       "      <td>...</td>\n",
       "    </tr>\n",
       "    <tr>\n",
       "      <th>3335</th>\n",
       "      <td>True</td>\n",
       "      <td>True</td>\n",
       "      <td>True</td>\n",
       "      <td>True</td>\n",
       "      <td>True</td>\n",
       "      <td>True</td>\n",
       "      <td>True</td>\n",
       "      <td>True</td>\n",
       "      <td>True</td>\n",
       "    </tr>\n",
       "    <tr>\n",
       "      <th>1099</th>\n",
       "      <td>True</td>\n",
       "      <td>True</td>\n",
       "      <td>True</td>\n",
       "      <td>True</td>\n",
       "      <td>True</td>\n",
       "      <td>True</td>\n",
       "      <td>True</td>\n",
       "      <td>True</td>\n",
       "      <td>True</td>\n",
       "    </tr>\n",
       "    <tr>\n",
       "      <th>2514</th>\n",
       "      <td>True</td>\n",
       "      <td>True</td>\n",
       "      <td>True</td>\n",
       "      <td>True</td>\n",
       "      <td>True</td>\n",
       "      <td>True</td>\n",
       "      <td>True</td>\n",
       "      <td>True</td>\n",
       "      <td>True</td>\n",
       "    </tr>\n",
       "    <tr>\n",
       "      <th>3606</th>\n",
       "      <td>True</td>\n",
       "      <td>True</td>\n",
       "      <td>True</td>\n",
       "      <td>True</td>\n",
       "      <td>True</td>\n",
       "      <td>True</td>\n",
       "      <td>True</td>\n",
       "      <td>True</td>\n",
       "      <td>True</td>\n",
       "    </tr>\n",
       "    <tr>\n",
       "      <th>2575</th>\n",
       "      <td>True</td>\n",
       "      <td>True</td>\n",
       "      <td>True</td>\n",
       "      <td>True</td>\n",
       "      <td>True</td>\n",
       "      <td>True</td>\n",
       "      <td>True</td>\n",
       "      <td>True</td>\n",
       "      <td>True</td>\n",
       "    </tr>\n",
       "  </tbody>\n",
       "</table>\n",
       "<p>4886 rows × 9 columns</p>\n",
       "</div>"
      ],
      "text/plain": [
       "      session_number  purchased  added_in_cart  checked_out  Device_org  \\\n",
       "744             True       True           True         True        True   \n",
       "1145            True       True           True         True        True   \n",
       "661             True       True           True         True        True   \n",
       "3994            True       True           True         True        True   \n",
       "1142            True       True           True         True        True   \n",
       "...              ...        ...            ...          ...         ...   \n",
       "3335            True       True           True         True        True   \n",
       "1099            True       True           True         True        True   \n",
       "2514            True       True           True         True        True   \n",
       "3606            True       True           True         True        True   \n",
       "2575            True       True           True         True        True   \n",
       "\n",
       "      Platform_org  Platform  Device  datepurch  \n",
       "744           True      True    True       True  \n",
       "1145          True      True    True       True  \n",
       "661           True      True    True       True  \n",
       "3994          True      True    True       True  \n",
       "1142          True      True    True       True  \n",
       "...            ...       ...     ...        ...  \n",
       "3335          True      True    True       True  \n",
       "1099          True      True    True       True  \n",
       "2514          True      True    True       True  \n",
       "3606          True      True    True       True  \n",
       "2575          True      True    True       True  \n",
       "\n",
       "[4886 rows x 9 columns]"
      ]
     },
     "execution_count": 1717,
     "metadata": {},
     "output_type": "execute_result"
    }
   ],
   "source": [
    "pd.notnull(X_train)"
   ]
  },
  {
   "cell_type": "code",
   "execution_count": 1729,
   "metadata": {},
   "outputs": [],
   "source": [
    "model=LinearRegression()\n",
    "model.fit(X_train,y_train)\n",
    "y_pred=abs(model.predict(X_test))"
   ]
  },
  {
   "cell_type": "code",
   "execution_count": 1730,
   "metadata": {},
   "outputs": [
    {
     "data": {
      "text/plain": [
       "array([1.09623205e+03, 1.47837188e+02, 8.35641784e+02, 1.08444642e+03,\n",
       "       4.03891900e+02, 1.14271093e+03, 1.12896869e+03, 4.12215129e+02,\n",
       "       1.17946671e+03, 1.58498738e+02, 4.37113293e+02, 4.39353824e+02,\n",
       "       2.01004168e+03, 8.92801906e+01, 1.19854227e+03, 4.61783946e+02,\n",
       "       8.16814532e+01, 1.23280334e+03, 2.93593295e+02, 2.30184028e+02,\n",
       "       2.01512603e+02, 3.87690261e+02, 3.35455726e+03, 8.37932401e+02,\n",
       "       5.00835088e+02, 3.57051798e+02, 1.13544445e+03, 2.27036194e+02,\n",
       "       8.55520858e+02, 4.14612083e+02, 1.79889949e+02, 1.21735288e+03,\n",
       "       4.51445739e+02, 3.35720730e+02, 5.61516140e+02, 1.10543004e+03,\n",
       "       3.10248428e+02, 1.52532898e+03, 1.48897168e+03, 4.83273372e+02,\n",
       "       3.88710883e+01, 4.48166377e+02, 1.99288759e+01, 2.22726695e+03,\n",
       "       2.60596244e+02, 1.70669802e+02, 7.13351670e+01, 1.72045066e+02,\n",
       "       3.10976917e+02, 1.09637025e+03, 2.10954712e+02, 1.92256482e+03,\n",
       "       3.81556195e+02, 4.13510423e+02, 1.01104572e+03, 3.04230795e+02,\n",
       "       2.65840917e+02, 1.30636693e+03, 4.33033443e+02, 2.05941169e+03,\n",
       "       3.32153034e+03, 4.92758407e+01, 8.75100613e+01, 3.55472672e+02,\n",
       "       3.15620748e+02, 2.44175320e+02, 2.89608901e+02, 6.61422124e+02,\n",
       "       2.52963847e+02, 2.58485873e+02, 6.14394227e+02, 2.46004429e+02,\n",
       "       4.12422523e+02, 2.24782006e+02, 2.85393872e+02, 4.33641347e+01,\n",
       "       2.00113584e+03, 1.17856518e+03, 5.00315733e+02, 1.10653210e+03,\n",
       "       2.84592471e+02, 3.04814730e+02, 6.40713588e+02, 6.66327782e+02,\n",
       "       4.17164385e+02, 4.46548815e+02, 3.68466118e+02, 3.12190083e+02,\n",
       "       3.56962268e+02, 9.36072061e+02, 2.12281877e+03, 4.43389611e+02,\n",
       "       4.51549499e+02, 9.80740213e+02, 1.89786511e+03, 1.26898268e+03,\n",
       "       2.92746864e+02, 6.32306892e+02, 3.71388374e+02, 1.92715449e+02,\n",
       "       9.15880107e+02, 3.57434927e+02, 6.68645595e+02, 1.27700896e+03,\n",
       "       2.17855498e+02, 2.98546846e+02, 9.12347709e+02, 2.36303732e+02,\n",
       "       1.46216053e+03, 7.46924968e+02, 2.14068747e+02, 5.22681194e+02,\n",
       "       5.31442139e+02, 1.15472715e+03, 2.16688103e+02, 3.97785491e+02,\n",
       "       1.67685554e+01, 3.52682634e+02, 5.39958551e+02, 2.10561222e+02,\n",
       "       4.87925821e+02, 2.95413329e+02, 2.70705724e+02, 1.05957409e+03,\n",
       "       5.14907004e+01, 7.89041350e+02, 2.42665352e+02, 2.06433256e+02,\n",
       "       1.02074101e+03, 1.22517980e+03, 4.07615604e+02, 1.25775572e+03,\n",
       "       5.30322821e+02, 2.60169430e+01, 1.09595930e+03, 3.84430959e+02,\n",
       "       1.08133321e+02, 4.69039864e+02, 9.68376373e+01, 2.16580957e+02,\n",
       "       7.41920300e+02, 5.39013184e+02, 5.36023610e+02, 3.37646222e+02,\n",
       "       1.41229027e+03, 5.39748824e+02, 1.73464394e+02, 2.18806806e+03,\n",
       "       2.57465850e+02, 6.01062257e+01, 4.57316437e+02, 9.24123392e+02,\n",
       "       4.00821481e+02, 3.19593056e+02, 5.15068646e+02, 2.46404712e+02,\n",
       "       1.23091532e+02, 4.19636350e+02, 3.48088035e+02, 4.49866137e+02,\n",
       "       3.58351181e+01, 3.72651461e+02, 1.02872105e+02, 2.35889755e+02,\n",
       "       2.03105262e+03, 1.03337783e+03, 3.04669025e+02, 1.23706512e+03,\n",
       "       1.24031684e+03, 1.09169718e+03, 4.32954293e+02, 1.10327833e+03,\n",
       "       1.37963751e+03, 6.30659177e+02, 1.10832174e+03, 5.10409415e+02,\n",
       "       2.63206033e+02, 1.30959436e+03, 7.20976798e+02, 3.04579340e+02,\n",
       "       1.24010488e+03, 4.53203181e+02, 1.36886626e+03, 4.15405123e+01,\n",
       "       1.13551059e+03, 4.32182627e+02, 1.49660162e+02, 4.27671739e+02,\n",
       "       7.14100478e+02, 2.76634499e+02, 1.28954933e+03, 1.27461381e+03,\n",
       "       2.53781199e+02, 1.09785222e+03, 6.45534155e+01, 1.20630341e+03,\n",
       "       3.58777312e+02, 1.16167557e+02, 1.17309730e+03, 1.84433650e+02,\n",
       "       4.04289099e+02, 9.77354549e+02, 5.04923886e+01, 1.29144229e+03,\n",
       "       3.65942419e+02, 2.16238420e+02, 1.02310128e+03, 8.46593644e+01,\n",
       "       2.30482834e+02, 6.58262920e+02, 6.34500777e+02, 1.10677039e+03,\n",
       "       1.25730513e+03, 9.02801985e+02, 4.07096726e+02, 1.09712923e+02,\n",
       "       1.06429227e+03, 6.63481570e+02, 1.87364415e+02, 1.45581241e+03,\n",
       "       1.00172838e+03, 9.74774730e+01, 2.02647501e+03, 5.74930200e+02,\n",
       "       1.19755285e+02, 5.02208606e+02, 3.45806789e+02, 3.57806814e+02,\n",
       "       1.20400637e+03, 1.20817528e+02, 1.41542829e+02, 4.16804223e+02,\n",
       "       3.15552635e+02, 8.59335666e-01, 2.14555285e+03, 2.21037024e+02,\n",
       "       6.33414507e+02, 2.47075084e+02, 6.51641126e+02, 1.06708657e+02,\n",
       "       6.41525065e+02, 1.30688440e+03, 1.08661954e+03, 2.04942053e+02,\n",
       "       4.32286178e+02, 1.36654538e+02, 9.27735053e+02, 2.42315309e+02,\n",
       "       1.00645648e+03, 2.33170881e+03, 1.17181844e+03, 3.96968140e+02,\n",
       "       5.37686988e+02, 3.51912298e+02, 1.58868035e+03, 6.72244064e+02,\n",
       "       1.97388785e+02, 1.79136931e+02, 1.32405834e+03, 2.84709253e+02,\n",
       "       1.26931603e+03, 1.32966466e+03, 1.05323506e+03, 5.01229007e+02,\n",
       "       2.92675375e+02, 1.51881857e+02, 5.21602854e+02, 3.50290285e+02,\n",
       "       1.59264983e+02, 1.45803042e+02, 1.22549618e+03, 6.47218177e+01,\n",
       "       1.15097213e+03, 2.50529469e+03, 3.76828978e+02, 1.94269828e+03,\n",
       "       3.75124357e+02, 1.22266115e+03, 1.33233057e+03, 3.62655233e+02,\n",
       "       1.31475780e+03, 5.33289625e+02, 1.05995807e+02, 3.68713010e+02,\n",
       "       6.02891413e+01, 1.09671081e+03, 2.07300620e+03, 3.74521555e+02,\n",
       "       1.03263212e+03, 3.39255428e+02, 5.88750953e+02, 1.99613678e+02,\n",
       "       1.34772140e+03, 4.86442935e+02, 3.69313012e+02, 9.50854401e+02,\n",
       "       1.03191350e+03, 4.83283731e+02, 1.54953102e+02, 1.38317631e+03,\n",
       "       5.84638124e+01, 7.04418528e+02, 1.75909615e+02, 1.21533683e+03,\n",
       "       3.76548867e+02, 1.24536977e+03, 1.26609981e+03, 1.05635405e+03,\n",
       "       1.00876437e+03, 3.49637890e+02, 4.32139997e+02, 1.11921808e+03,\n",
       "       1.17591184e+03, 4.51312640e+02, 1.05754412e+03, 1.79154803e+02,\n",
       "       4.15082435e+02, 2.81305193e+02, 3.62335505e+02, 1.16139913e+03,\n",
       "       4.52860587e+02, 3.91371875e+02, 3.37614436e+02, 3.12521827e+02,\n",
       "       4.04265074e+02, 5.33572031e+02, 3.80915127e+02, 3.52456530e+02,\n",
       "       9.56682575e+02, 1.06984490e+03, 2.48859024e+02, 3.57052274e+02,\n",
       "       3.16787426e+02, 8.06272249e+02, 2.12808753e+03, 3.78391440e+02,\n",
       "       3.93412198e+02, 1.17516748e+03, 2.15111202e+01, 4.56854700e+01,\n",
       "       9.58696923e+02, 4.50385016e+02, 3.04970555e+02, 1.05837448e+03,\n",
       "       3.90959810e+02, 1.36436481e+03, 2.95776331e+01, 1.57488562e+03,\n",
       "       1.04362310e+03, 6.70899736e+02, 2.59214143e+02, 1.98777060e+02,\n",
       "       9.67672679e+01, 4.48286535e+02, 1.37303364e+03, 4.77118091e+02,\n",
       "       1.79952230e+03, 1.71154820e+02, 1.17869511e+03, 4.59291704e+02,\n",
       "       1.30101522e+03, 1.32236937e+03, 8.26041292e+02, 3.64208550e+02,\n",
       "       3.75245247e+02, 6.85184266e+02, 6.01286064e+02, 1.02564285e+03,\n",
       "       5.33397754e+01, 3.05998399e+02, 1.19754241e+03, 1.20876342e+03,\n",
       "       4.35416853e+02, 3.04728256e+02, 3.70480419e+02, 3.16891249e+01,\n",
       "       1.13391911e+03, 9.20985301e+01, 1.13697375e+03, 1.08936082e+03,\n",
       "       2.17246436e+03, 2.26957044e+02, 1.99752627e+03, 7.86975085e+01,\n",
       "       4.08698819e+02, 2.76240756e+02, 1.02578288e+03, 4.13856408e+02,\n",
       "       3.41378992e+02, 1.24880163e+02, 6.93788443e+02, 2.25683421e+02,\n",
       "       1.20680267e+03, 2.62210623e+02, 9.68477921e+02, 3.10310873e+02,\n",
       "       7.11423185e+01, 3.92630349e+02, 4.77128047e+02, 4.19889354e+02,\n",
       "       4.57535827e+01, 6.28943350e+02, 2.00582726e+03, 4.53009824e+02,\n",
       "       1.33737355e+03, 1.36847052e+03, 2.04047756e+02, 3.64369868e+02,\n",
       "       1.28117073e+03, 3.74375850e+02, 3.24507121e+02, 1.31683346e+03,\n",
       "       6.37659981e+02, 5.01977485e+02, 6.76543605e+02, 5.62217702e+02,\n",
       "       1.27994470e+03, 2.32594326e+02, 1.79273156e+02, 4.07576570e+02,\n",
       "       2.71704445e+02, 1.79692199e+02, 8.10245273e+02, 1.08678046e+03,\n",
       "       3.91266122e+02, 1.04243318e+00, 1.28000361e+03, 1.21378508e+03,\n",
       "       5.37671325e+02, 1.27968504e+02, 2.00354688e+02, 1.20788301e+03,\n",
       "       1.18473435e+03, 1.22210735e+03, 4.94261370e+02, 1.03807224e+03,\n",
       "       3.74427896e+02, 3.84823570e+02, 1.25564558e+03, 1.66954660e+02,\n",
       "       1.25768761e+03, 9.95629528e+02, 1.17203614e+03, 3.64140438e+02,\n",
       "       1.20993431e+03, 2.04739919e+02, 1.28660367e+03, 9.08847942e+02,\n",
       "       3.41109741e+02, 1.23171038e+03, 3.67665297e+02, 2.02641891e+02,\n",
       "       7.44775810e+01, 1.02947292e+03, 4.61463451e+02, 4.33457104e+02,\n",
       "       2.25289218e+03, 3.17305841e+02, 6.71134701e+02, 1.26602125e+03,\n",
       "       1.34642460e+02, 1.40131831e+03, 1.18175683e+02, 5.58010786e+02,\n",
       "       3.13079057e+02, 2.36473690e+02, 4.99065313e+02, 3.43406304e+02,\n",
       "       4.14507992e+02, 5.22287328e+01, 1.09753203e+03, 2.35289752e+02,\n",
       "       1.76990184e+02, 4.30618552e+02, 1.04443504e+03, 5.00579778e+02,\n",
       "       1.37861582e+03, 1.13608070e+03, 2.20125065e+03, 1.21155114e+03,\n",
       "       1.21718031e+03, 1.37941159e+03, 2.94438643e+02, 5.57677792e+02,\n",
       "       1.07310978e+03, 2.52439725e+02, 2.57060085e+02, 1.39643915e+03,\n",
       "       1.15824368e+03, 1.21426980e+03, 6.49454002e+01, 5.25862841e+02,\n",
       "       1.87511125e+01, 2.11155462e+03, 8.96658622e+02, 2.90878861e+02,\n",
       "       4.09071992e+02, 2.12140824e+02, 1.05553052e+03, 1.03258290e+02,\n",
       "       8.73429018e+02, 2.01636009e+03, 5.15268855e+02, 3.13171167e+02,\n",
       "       2.73859085e+02, 2.00703994e+03, 1.62242022e+02, 1.75736397e+03,\n",
       "       2.24989283e+02, 1.95624111e+02, 4.11350299e+02, 3.73017727e+02,\n",
       "       1.20370474e+03, 1.06153325e+03, 3.61482240e+02, 1.36096774e+03,\n",
       "       7.52642392e+02, 3.24428972e+01, 7.53181851e+02, 1.08960681e+03,\n",
       "       3.54548174e+02, 3.33420531e+02, 5.13160419e+02, 3.93139747e+02,\n",
       "       1.12815012e+03, 2.31734884e+02, 6.22289181e+02, 1.30397041e+03,\n",
       "       1.35343081e+03, 4.39798153e+02, 7.59152568e+01, 2.62160564e+02,\n",
       "       9.09896422e+02, 8.75361038e+01, 4.19853700e+02, 2.00766872e+02,\n",
       "       3.26322683e+01, 1.32702497e+03, 1.36858029e+03, 3.39513300e+03,\n",
       "       3.02790618e+02, 2.25513667e+02, 9.05892975e+01])"
      ]
     },
     "execution_count": 1730,
     "metadata": {},
     "output_type": "execute_result"
    }
   ],
   "source": [
    "y_pred"
   ]
  },
  {
   "cell_type": "code",
   "execution_count": 1721,
   "metadata": {},
   "outputs": [],
   "source": [
    "# #validation test results \n",
    "# pred_submission=pd.DataFrame({'time_spent':y_pred})\n",
    "# pred_submission.to_csv('pred_submission.csv',index=False)"
   ]
  },
  {
   "cell_type": "code",
   "execution_count": 1722,
   "metadata": {},
   "outputs": [],
   "source": [
    "from sklearn.metrics import mean_squared_log_error"
   ]
  },
  {
   "cell_type": "code",
   "execution_count": 1723,
   "metadata": {},
   "outputs": [
    {
     "data": {
      "text/plain": [
       "2.06949301128767"
      ]
     },
     "execution_count": 1723,
     "metadata": {},
     "output_type": "execute_result"
    }
   ],
   "source": [
    "msle= np.sqrt(mean_squared_log_error(y_test,y_pred))\n",
    "msle"
   ]
  },
  {
   "cell_type": "code",
   "execution_count": 1724,
   "metadata": {},
   "outputs": [],
   "source": [
    "y_pred_test=abs(model.predict(dfTest))"
   ]
  },
  {
   "cell_type": "code",
   "execution_count": 1725,
   "metadata": {},
   "outputs": [
    {
     "data": {
      "text/plain": [
       "2327"
      ]
     },
     "execution_count": 1725,
     "metadata": {},
     "output_type": "execute_result"
    }
   ],
   "source": [
    "len(y_pred_test)"
   ]
  },
  {
   "cell_type": "code",
   "execution_count": 1726,
   "metadata": {},
   "outputs": [],
   "source": [
    "# samplesubmission = pd.DataFrame({'time_spent':y_pred_test})\n",
    "# samplesubmission.to_csv('samplesubmissionLR.csv',index=False)"
   ]
  },
  {
   "cell_type": "code",
   "execution_count": 1727,
   "metadata": {},
   "outputs": [],
   "source": [
    "from sklearn.linear_model import Lasso\n",
    "from sklearn.linear_model import ElasticNet\n",
    "from sklearn.tree import DecisionTreeRegressor\n",
    "from sklearn.neighbors import KNeighborsRegressor\n",
    "from sklearn.ensemble import GradientBoostingRegressor"
   ]
  },
  {
   "cell_type": "markdown",
   "metadata": {},
   "source": [
    "# DecisionTree Regressor"
   ]
  },
  {
   "cell_type": "code",
   "execution_count": 1731,
   "metadata": {},
   "outputs": [],
   "source": [
    "modelDTR = DecisionTreeRegressor()"
   ]
  },
  {
   "cell_type": "code",
   "execution_count": 1732,
   "metadata": {},
   "outputs": [
    {
     "data": {
      "text/plain": [
       "DecisionTreeRegressor()"
      ]
     },
     "execution_count": 1732,
     "metadata": {},
     "output_type": "execute_result"
    }
   ],
   "source": [
    "modelDTR.fit(X_train,y_train)"
   ]
  },
  {
   "cell_type": "code",
   "execution_count": null,
   "metadata": {},
   "outputs": [],
   "source": []
  },
  {
   "cell_type": "code",
   "execution_count": 1733,
   "metadata": {},
   "outputs": [],
   "source": [
    "y_pred_test=abs(modelDTR.predict(dfTest))"
   ]
  },
  {
   "cell_type": "code",
   "execution_count": 1734,
   "metadata": {},
   "outputs": [],
   "source": [
    "samplesubmissionDT = pd.DataFrame({'time_spent':y_pred_test})\n",
    "samplesubmissionDT.to_csv('submissionDT.csv',index=False)"
   ]
  },
  {
   "cell_type": "markdown",
   "metadata": {},
   "source": [
    "# Random Forest Regressor"
   ]
  },
  {
   "cell_type": "code",
   "execution_count": 1634,
   "metadata": {},
   "outputs": [
    {
     "data": {
      "text/plain": [
       "RandomForestRegressor(random_state=0)"
      ]
     },
     "execution_count": 1634,
     "metadata": {},
     "output_type": "execute_result"
    }
   ],
   "source": [
    "from sklearn.ensemble import RandomForestRegressor\n",
    "modelRFR = RandomForestRegressor(n_estimators = 100, random_state = 0)\n",
    "modelRFR.fit(X_train, y_train)"
   ]
  },
  {
   "cell_type": "code",
   "execution_count": 1635,
   "metadata": {},
   "outputs": [],
   "source": [
    "y_pred_test= abs(modelRFR.predict(dfTest))"
   ]
  },
  {
   "cell_type": "code",
   "execution_count": 1636,
   "metadata": {},
   "outputs": [],
   "source": [
    "samplesubmissionRF = pd.DataFrame({'time_spent':y_pred_test})\n",
    "samplesubmissionRF.to_csv('SubmissionRF.csv',index=False)"
   ]
  },
  {
   "cell_type": "markdown",
   "metadata": {},
   "source": [
    "# Gradient Boosting Regresssor"
   ]
  },
  {
   "cell_type": "code",
   "execution_count": 1637,
   "metadata": {},
   "outputs": [
    {
     "data": {
      "text/plain": [
       "GradientBoostingRegressor(random_state=0)"
      ]
     },
     "execution_count": 1637,
     "metadata": {},
     "output_type": "execute_result"
    }
   ],
   "source": [
    "from sklearn.ensemble import GradientBoostingRegressor\n",
    "modelGBR = GradientBoostingRegressor(random_state = 0)\n",
    "modelGBR.fit(X_train, y_train)"
   ]
  },
  {
   "cell_type": "code",
   "execution_count": 1638,
   "metadata": {},
   "outputs": [],
   "source": [
    "y_pred_test=abs(modelGBR.predict(dfTest))"
   ]
  },
  {
   "cell_type": "code",
   "execution_count": 1639,
   "metadata": {},
   "outputs": [],
   "source": [
    "samplesubmissionGB = pd.DataFrame({'time_spent':y_pred_test})\n",
    "samplesubmissionGB.to_csv('SubmissionGB.csv',index=False)"
   ]
  },
  {
   "cell_type": "markdown",
   "metadata": {},
   "source": [
    "# Support vector Regressor"
   ]
  },
  {
   "cell_type": "code",
   "execution_count": 1738,
   "metadata": {},
   "outputs": [
    {
     "data": {
      "text/plain": [
       "SVR()"
      ]
     },
     "execution_count": 1738,
     "metadata": {},
     "output_type": "execute_result"
    }
   ],
   "source": [
    "from sklearn.svm import SVR\n",
    "modelSVR = SVR(kernel = 'rbf')\n",
    "modelSVR.fit(X, y)"
   ]
  },
  {
   "cell_type": "code",
   "execution_count": 1739,
   "metadata": {},
   "outputs": [],
   "source": [
    "y_pred_test=abs(modelSVR.predict(dfTest))"
   ]
  },
  {
   "cell_type": "code",
   "execution_count": 1741,
   "metadata": {},
   "outputs": [],
   "source": [
    "samplesubmission = pd.DataFrame({'time_spent':y_pred_test})\n",
    "samplesubmission.to_csv('SubmissionSVR.csv',index=False)"
   ]
  },
  {
   "cell_type": "code",
   "execution_count": 1742,
   "metadata": {},
   "outputs": [
    {
     "name": "stderr",
     "output_type": "stream",
     "text": [
      "e:\\pythonforselenium\\lib\\site-packages\\IPython\\core\\displayhook.py:276: UserWarning: Output cache limit (currently 1000 entries) hit.\n",
      "Flushing oldest 200 entries.\n",
      "  'Flushing oldest {cull_count} entries.'.format(sz=sz, cull_count=cull_count))\n"
     ]
    },
    {
     "data": {
      "text/plain": [
       "<AxesSubplot:ylabel='Density'>"
      ]
     },
     "execution_count": 1742,
     "metadata": {},
     "output_type": "execute_result"
    },
    {
     "data": {
      "image/png": "[encoded data removed]",
      "text/plain": [
       "<Figure size 432x288 with 1 Axes>"
      ]
     },
     "metadata": {
      "needs_background": "light"
     },
     "output_type": "display_data"
    }
   ],
   "source": [
    "sns.kdeplot(y_pred_test)"
   ]
  },
  {
   "cell_type": "code",
   "execution_count": null,
   "metadata": {},
   "outputs": [],
   "source": []
  }
 ],
 "metadata": {
  "kernelspec": {
   "display_name": "Python 3",
   "language": "python",
   "name": "python3"
  },
  "language_info": {
   "codemirror_mode": {
    "name": "ipython",
    "version": 3
   },
   "file_extension": ".py",
   "mimetype": "text/x-python",
   "name": "python",
   "nbconvert_exporter": "python",
   "pygments_lexer": "ipython3",
   "version": "3.7.8"
  }
 },
 "nbformat": 4,
 "nbformat_minor": 4
}
