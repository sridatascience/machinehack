{
 "cells": [
  {
   "cell_type": "code",
   "execution_count": 248,
   "metadata": {},
   "outputs": [],
   "source": [
    "import pandas as pd\n",
    "import seaborn as sns\n",
    "import numpy as np\n",
    "import matplotlib.pyplot as plt\n",
    "from scipy.stats import skew\n",
    "import re"
   ]
  },
  {
   "cell_type": "code",
   "execution_count": 249,
   "metadata": {
    "scrolled": true
   },
   "outputs": [
    {
     "data": {
      "text/html": [
       "<div>\n",
       "<style scoped>\n",
       "    .dataframe tbody tr th:only-of-type {\n",
       "        vertical-align: middle;\n",
       "    }\n",
       "\n",
       "    .dataframe tbody tr th {\n",
       "        vertical-align: top;\n",
       "    }\n",
       "\n",
       "    .dataframe thead th {\n",
       "        text-align: right;\n",
       "    }\n",
       "</style>\n",
       "<table border=\"1\" class=\"dataframe\">\n",
       "  <thead>\n",
       "    <tr style=\"text-align: right;\">\n",
       "      <th></th>\n",
       "      <th>session_id</th>\n",
       "      <th>session_number</th>\n",
       "      <th>client_agent</th>\n",
       "      <th>device_details</th>\n",
       "      <th>date</th>\n",
       "      <th>purchased</th>\n",
       "      <th>added_in_cart</th>\n",
       "      <th>checked_out</th>\n",
       "      <th>time_spent</th>\n",
       "    </tr>\n",
       "  </thead>\n",
       "  <tbody>\n",
       "    <tr>\n",
       "      <th>0</th>\n",
       "      <td>57f879e70d3c5fc2a98102d64c9fd84e</td>\n",
       "      <td>715</td>\n",
       "      <td>Mozilla/5.0 (Windows NT 6.1; WOW64) AppleWebKi...</td>\n",
       "      <td>Desktop - Chrome</td>\n",
       "      <td>2020-01-22</td>\n",
       "      <td>1</td>\n",
       "      <td>0</td>\n",
       "      <td>0</td>\n",
       "      <td>236.886</td>\n",
       "    </tr>\n",
       "    <tr>\n",
       "      <th>1</th>\n",
       "      <td>a5442b0c7c33d0a811e7661e556b2de8</td>\n",
       "      <td>55</td>\n",
       "      <td>Product/8.0 iPhone/8.1.3</td>\n",
       "      <td>iPhone - iOS</td>\n",
       "      <td>2020-02-27</td>\n",
       "      <td>1</td>\n",
       "      <td>0</td>\n",
       "      <td>0</td>\n",
       "      <td>1277.455</td>\n",
       "    </tr>\n",
       "    <tr>\n",
       "      <th>2</th>\n",
       "      <td>305cb1486ed8610c00b37007926cb2c4</td>\n",
       "      <td>11</td>\n",
       "      <td>Mozilla/5.0 (iPhone; CPU iPhone OS 7_1_2 like ...</td>\n",
       "      <td>iPhone - MobileWeb</td>\n",
       "      <td>2019-08-01</td>\n",
       "      <td>0</td>\n",
       "      <td>0</td>\n",
       "      <td>0</td>\n",
       "      <td>21.704</td>\n",
       "    </tr>\n",
       "    <tr>\n",
       "      <th>3</th>\n",
       "      <td>f2c1ecc9993f0071df91ba178450498c</td>\n",
       "      <td>2794</td>\n",
       "      <td>Mozilla/5.0 (compatible; MSIE 9.0; Windows NT ...</td>\n",
       "      <td>Desktop - IE</td>\n",
       "      <td>2019-12-30</td>\n",
       "      <td>0</td>\n",
       "      <td>1</td>\n",
       "      <td>0</td>\n",
       "      <td>455.201</td>\n",
       "    </tr>\n",
       "    <tr>\n",
       "      <th>4</th>\n",
       "      <td>e460830ae295e55d2216ebdc761ab9a6</td>\n",
       "      <td>3674</td>\n",
       "      <td>Mozilla/5.0 (iPhone; CPU iPhone OS 7_1_1 like ...</td>\n",
       "      <td>iPhone - Web</td>\n",
       "      <td>2019-09-10</td>\n",
       "      <td>0</td>\n",
       "      <td>0</td>\n",
       "      <td>0</td>\n",
       "      <td>1164.877</td>\n",
       "    </tr>\n",
       "  </tbody>\n",
       "</table>\n",
       "</div>"
      ],
      "text/plain": [
       "                         session_id  session_number  \\\n",
       "0  57f879e70d3c5fc2a98102d64c9fd84e             715   \n",
       "1  a5442b0c7c33d0a811e7661e556b2de8              55   \n",
       "2  305cb1486ed8610c00b37007926cb2c4              11   \n",
       "3  f2c1ecc9993f0071df91ba178450498c            2794   \n",
       "4  e460830ae295e55d2216ebdc761ab9a6            3674   \n",
       "\n",
       "                                        client_agent      device_details  \\\n",
       "0  Mozilla/5.0 (Windows NT 6.1; WOW64) AppleWebKi...    Desktop - Chrome   \n",
       "1                           Product/8.0 iPhone/8.1.3        iPhone - iOS   \n",
       "2  Mozilla/5.0 (iPhone; CPU iPhone OS 7_1_2 like ...  iPhone - MobileWeb   \n",
       "3  Mozilla/5.0 (compatible; MSIE 9.0; Windows NT ...        Desktop - IE   \n",
       "4  Mozilla/5.0 (iPhone; CPU iPhone OS 7_1_1 like ...        iPhone - Web   \n",
       "\n",
       "        date  purchased  added_in_cart  checked_out  time_spent  \n",
       "0 2020-01-22          1              0            0     236.886  \n",
       "1 2020-02-27          1              0            0    1277.455  \n",
       "2 2019-08-01          0              0            0      21.704  \n",
       "3 2019-12-30          0              1            0     455.201  \n",
       "4 2019-09-10          0              0            0    1164.877  "
      ]
     },
     "execution_count": 249,
     "metadata": {},
     "output_type": "execute_result"
    }
   ],
   "source": [
    "dfTrain= pd.read_csv('Train.csv',parse_dates=['date'])\n",
    "dfTest = pd.read_csv('Test.csv',parse_dates=['date'])\n",
    "dfTrain.head()"
   ]
  },
  {
   "cell_type": "code",
   "execution_count": 250,
   "metadata": {},
   "outputs": [
    {
     "data": {
      "text/html": [
       "<div>\n",
       "<style scoped>\n",
       "    .dataframe tbody tr th:only-of-type {\n",
       "        vertical-align: middle;\n",
       "    }\n",
       "\n",
       "    .dataframe tbody tr th {\n",
       "        vertical-align: top;\n",
       "    }\n",
       "\n",
       "    .dataframe thead th {\n",
       "        text-align: right;\n",
       "    }\n",
       "</style>\n",
       "<table border=\"1\" class=\"dataframe\">\n",
       "  <thead>\n",
       "    <tr style=\"text-align: right;\">\n",
       "      <th></th>\n",
       "      <th>session_id</th>\n",
       "      <th>session_number</th>\n",
       "      <th>client_agent</th>\n",
       "      <th>device_details</th>\n",
       "      <th>date</th>\n",
       "      <th>purchased</th>\n",
       "      <th>added_in_cart</th>\n",
       "      <th>checked_out</th>\n",
       "      <th>time_spent</th>\n",
       "    </tr>\n",
       "  </thead>\n",
       "  <tbody>\n",
       "    <tr>\n",
       "      <th>0</th>\n",
       "      <td>57f879e70d3c5fc2a98102d64c9fd84e</td>\n",
       "      <td>715</td>\n",
       "      <td>Mozilla/5.0 (Windows NT 6.1; WOW64) AppleWebKi...</td>\n",
       "      <td>Desktop - Chrome</td>\n",
       "      <td>2020-01-22</td>\n",
       "      <td>1</td>\n",
       "      <td>0</td>\n",
       "      <td>0</td>\n",
       "      <td>236.886</td>\n",
       "    </tr>\n",
       "    <tr>\n",
       "      <th>1</th>\n",
       "      <td>a5442b0c7c33d0a811e7661e556b2de8</td>\n",
       "      <td>55</td>\n",
       "      <td>Product/8.0 iPhone/8.1.3</td>\n",
       "      <td>iPhone - iOS</td>\n",
       "      <td>2020-02-27</td>\n",
       "      <td>1</td>\n",
       "      <td>0</td>\n",
       "      <td>0</td>\n",
       "      <td>1277.455</td>\n",
       "    </tr>\n",
       "    <tr>\n",
       "      <th>2</th>\n",
       "      <td>305cb1486ed8610c00b37007926cb2c4</td>\n",
       "      <td>11</td>\n",
       "      <td>Mozilla/5.0 (iPhone; CPU iPhone OS 7_1_2 like ...</td>\n",
       "      <td>iPhone - MobileWeb</td>\n",
       "      <td>2019-08-01</td>\n",
       "      <td>0</td>\n",
       "      <td>0</td>\n",
       "      <td>0</td>\n",
       "      <td>21.704</td>\n",
       "    </tr>\n",
       "    <tr>\n",
       "      <th>3</th>\n",
       "      <td>f2c1ecc9993f0071df91ba178450498c</td>\n",
       "      <td>2794</td>\n",
       "      <td>Mozilla/5.0 (compatible; MSIE 9.0; Windows NT ...</td>\n",
       "      <td>Desktop - IE</td>\n",
       "      <td>2019-12-30</td>\n",
       "      <td>0</td>\n",
       "      <td>1</td>\n",
       "      <td>0</td>\n",
       "      <td>455.201</td>\n",
       "    </tr>\n",
       "    <tr>\n",
       "      <th>4</th>\n",
       "      <td>e460830ae295e55d2216ebdc761ab9a6</td>\n",
       "      <td>3674</td>\n",
       "      <td>Mozilla/5.0 (iPhone; CPU iPhone OS 7_1_1 like ...</td>\n",
       "      <td>iPhone - Web</td>\n",
       "      <td>2019-09-10</td>\n",
       "      <td>0</td>\n",
       "      <td>0</td>\n",
       "      <td>0</td>\n",
       "      <td>1164.877</td>\n",
       "    </tr>\n",
       "    <tr>\n",
       "      <th>...</th>\n",
       "      <td>...</td>\n",
       "      <td>...</td>\n",
       "      <td>...</td>\n",
       "      <td>...</td>\n",
       "      <td>...</td>\n",
       "      <td>...</td>\n",
       "      <td>...</td>\n",
       "      <td>...</td>\n",
       "      <td>...</td>\n",
       "    </tr>\n",
       "    <tr>\n",
       "      <th>5424</th>\n",
       "      <td>b6aa30da97fa3c95989c47ccf5ab4e9f</td>\n",
       "      <td>627</td>\n",
       "      <td>Mozilla/5.0 (iPhone; CPU iPhone OS 8_1 like Ma...</td>\n",
       "      <td>iPhone - Web</td>\n",
       "      <td>2019-11-20</td>\n",
       "      <td>0</td>\n",
       "      <td>0</td>\n",
       "      <td>0</td>\n",
       "      <td>20.601</td>\n",
       "    </tr>\n",
       "    <tr>\n",
       "      <th>5425</th>\n",
       "      <td>58b62e9fa867d622662b8a4096fdc3f0</td>\n",
       "      <td>6710</td>\n",
       "      <td>Product/4.2.2 iPhone/7.1.1</td>\n",
       "      <td>iPhone - iOS</td>\n",
       "      <td>2019-09-26</td>\n",
       "      <td>0</td>\n",
       "      <td>0</td>\n",
       "      <td>0</td>\n",
       "      <td>1537.666</td>\n",
       "    </tr>\n",
       "    <tr>\n",
       "      <th>5426</th>\n",
       "      <td>109f7f9b8384e46fc88f580b328298e8</td>\n",
       "      <td>198</td>\n",
       "      <td>Mozilla/5.0 (Macintosh; Intel Mac OS X 10_9_4)...</td>\n",
       "      <td>Desktop - Chrome</td>\n",
       "      <td>2019-08-13</td>\n",
       "      <td>0</td>\n",
       "      <td>0</td>\n",
       "      <td>0</td>\n",
       "      <td>22.711</td>\n",
       "    </tr>\n",
       "    <tr>\n",
       "      <th>5427</th>\n",
       "      <td>ac6579972e89dfc78d3ee95d15764681</td>\n",
       "      <td>913</td>\n",
       "      <td>NaN</td>\n",
       "      <td>Unknown - MobileWeb</td>\n",
       "      <td>2019-06-18</td>\n",
       "      <td>0</td>\n",
       "      <td>0</td>\n",
       "      <td>0</td>\n",
       "      <td>20.844</td>\n",
       "    </tr>\n",
       "    <tr>\n",
       "      <th>5428</th>\n",
       "      <td>bd8f8239b827fc29d4e1bec91bd499b7</td>\n",
       "      <td>1254</td>\n",
       "      <td>Mozilla/5.0 (iPhone; CPU iPhone OS 7_0_4 like ...</td>\n",
       "      <td>iPhone - Web</td>\n",
       "      <td>2019-10-21</td>\n",
       "      <td>0</td>\n",
       "      <td>0</td>\n",
       "      <td>0</td>\n",
       "      <td>20.504</td>\n",
       "    </tr>\n",
       "  </tbody>\n",
       "</table>\n",
       "<p>5429 rows × 9 columns</p>\n",
       "</div>"
      ],
      "text/plain": [
       "                            session_id  session_number  \\\n",
       "0     57f879e70d3c5fc2a98102d64c9fd84e             715   \n",
       "1     a5442b0c7c33d0a811e7661e556b2de8              55   \n",
       "2     305cb1486ed8610c00b37007926cb2c4              11   \n",
       "3     f2c1ecc9993f0071df91ba178450498c            2794   \n",
       "4     e460830ae295e55d2216ebdc761ab9a6            3674   \n",
       "...                                ...             ...   \n",
       "5424  b6aa30da97fa3c95989c47ccf5ab4e9f             627   \n",
       "5425  58b62e9fa867d622662b8a4096fdc3f0            6710   \n",
       "5426  109f7f9b8384e46fc88f580b328298e8             198   \n",
       "5427  ac6579972e89dfc78d3ee95d15764681             913   \n",
       "5428  bd8f8239b827fc29d4e1bec91bd499b7            1254   \n",
       "\n",
       "                                           client_agent       device_details  \\\n",
       "0     Mozilla/5.0 (Windows NT 6.1; WOW64) AppleWebKi...     Desktop - Chrome   \n",
       "1                              Product/8.0 iPhone/8.1.3         iPhone - iOS   \n",
       "2     Mozilla/5.0 (iPhone; CPU iPhone OS 7_1_2 like ...   iPhone - MobileWeb   \n",
       "3     Mozilla/5.0 (compatible; MSIE 9.0; Windows NT ...         Desktop - IE   \n",
       "4     Mozilla/5.0 (iPhone; CPU iPhone OS 7_1_1 like ...         iPhone - Web   \n",
       "...                                                 ...                  ...   \n",
       "5424  Mozilla/5.0 (iPhone; CPU iPhone OS 8_1 like Ma...         iPhone - Web   \n",
       "5425                         Product/4.2.2 iPhone/7.1.1         iPhone - iOS   \n",
       "5426  Mozilla/5.0 (Macintosh; Intel Mac OS X 10_9_4)...     Desktop - Chrome   \n",
       "5427                                                NaN  Unknown - MobileWeb   \n",
       "5428  Mozilla/5.0 (iPhone; CPU iPhone OS 7_0_4 like ...         iPhone - Web   \n",
       "\n",
       "           date  purchased  added_in_cart  checked_out  time_spent  \n",
       "0    2020-01-22          1              0            0     236.886  \n",
       "1    2020-02-27          1              0            0    1277.455  \n",
       "2    2019-08-01          0              0            0      21.704  \n",
       "3    2019-12-30          0              1            0     455.201  \n",
       "4    2019-09-10          0              0            0    1164.877  \n",
       "...         ...        ...            ...          ...         ...  \n",
       "5424 2019-11-20          0              0            0      20.601  \n",
       "5425 2019-09-26          0              0            0    1537.666  \n",
       "5426 2019-08-13          0              0            0      22.711  \n",
       "5427 2019-06-18          0              0            0      20.844  \n",
       "5428 2019-10-21          0              0            0      20.504  \n",
       "\n",
       "[5429 rows x 9 columns]"
      ]
     },
     "execution_count": 250,
     "metadata": {},
     "output_type": "execute_result"
    }
   ],
   "source": [
    "dfTrain.drop_duplicates()"
   ]
  },
  {
   "cell_type": "code",
   "execution_count": 251,
   "metadata": {},
   "outputs": [
    {
     "data": {
      "text/html": [
       "<div>\n",
       "<style scoped>\n",
       "    .dataframe tbody tr th:only-of-type {\n",
       "        vertical-align: middle;\n",
       "    }\n",
       "\n",
       "    .dataframe tbody tr th {\n",
       "        vertical-align: top;\n",
       "    }\n",
       "\n",
       "    .dataframe thead th {\n",
       "        text-align: right;\n",
       "    }\n",
       "</style>\n",
       "<table border=\"1\" class=\"dataframe\">\n",
       "  <thead>\n",
       "    <tr style=\"text-align: right;\">\n",
       "      <th></th>\n",
       "      <th>session_id</th>\n",
       "      <th>session_number</th>\n",
       "      <th>client_agent</th>\n",
       "      <th>device_details</th>\n",
       "      <th>date</th>\n",
       "      <th>purchased</th>\n",
       "      <th>added_in_cart</th>\n",
       "      <th>checked_out</th>\n",
       "      <th>time_spent</th>\n",
       "    </tr>\n",
       "  </thead>\n",
       "  <tbody>\n",
       "    <tr>\n",
       "      <th>5424</th>\n",
       "      <td>b6aa30da97fa3c95989c47ccf5ab4e9f</td>\n",
       "      <td>627</td>\n",
       "      <td>Mozilla/5.0 (iPhone; CPU iPhone OS 8_1 like Ma...</td>\n",
       "      <td>iPhone - Web</td>\n",
       "      <td>2019-11-20</td>\n",
       "      <td>0</td>\n",
       "      <td>0</td>\n",
       "      <td>0</td>\n",
       "      <td>20.601</td>\n",
       "    </tr>\n",
       "    <tr>\n",
       "      <th>5425</th>\n",
       "      <td>58b62e9fa867d622662b8a4096fdc3f0</td>\n",
       "      <td>6710</td>\n",
       "      <td>Product/4.2.2 iPhone/7.1.1</td>\n",
       "      <td>iPhone - iOS</td>\n",
       "      <td>2019-09-26</td>\n",
       "      <td>0</td>\n",
       "      <td>0</td>\n",
       "      <td>0</td>\n",
       "      <td>1537.666</td>\n",
       "    </tr>\n",
       "    <tr>\n",
       "      <th>5426</th>\n",
       "      <td>109f7f9b8384e46fc88f580b328298e8</td>\n",
       "      <td>198</td>\n",
       "      <td>Mozilla/5.0 (Macintosh; Intel Mac OS X 10_9_4)...</td>\n",
       "      <td>Desktop - Chrome</td>\n",
       "      <td>2019-08-13</td>\n",
       "      <td>0</td>\n",
       "      <td>0</td>\n",
       "      <td>0</td>\n",
       "      <td>22.711</td>\n",
       "    </tr>\n",
       "    <tr>\n",
       "      <th>5427</th>\n",
       "      <td>ac6579972e89dfc78d3ee95d15764681</td>\n",
       "      <td>913</td>\n",
       "      <td>NaN</td>\n",
       "      <td>Unknown - MobileWeb</td>\n",
       "      <td>2019-06-18</td>\n",
       "      <td>0</td>\n",
       "      <td>0</td>\n",
       "      <td>0</td>\n",
       "      <td>20.844</td>\n",
       "    </tr>\n",
       "    <tr>\n",
       "      <th>5428</th>\n",
       "      <td>bd8f8239b827fc29d4e1bec91bd499b7</td>\n",
       "      <td>1254</td>\n",
       "      <td>Mozilla/5.0 (iPhone; CPU iPhone OS 7_0_4 like ...</td>\n",
       "      <td>iPhone - Web</td>\n",
       "      <td>2019-10-21</td>\n",
       "      <td>0</td>\n",
       "      <td>0</td>\n",
       "      <td>0</td>\n",
       "      <td>20.504</td>\n",
       "    </tr>\n",
       "  </tbody>\n",
       "</table>\n",
       "</div>"
      ],
      "text/plain": [
       "                            session_id  session_number  \\\n",
       "5424  b6aa30da97fa3c95989c47ccf5ab4e9f             627   \n",
       "5425  58b62e9fa867d622662b8a4096fdc3f0            6710   \n",
       "5426  109f7f9b8384e46fc88f580b328298e8             198   \n",
       "5427  ac6579972e89dfc78d3ee95d15764681             913   \n",
       "5428  bd8f8239b827fc29d4e1bec91bd499b7            1254   \n",
       "\n",
       "                                           client_agent       device_details  \\\n",
       "5424  Mozilla/5.0 (iPhone; CPU iPhone OS 8_1 like Ma...         iPhone - Web   \n",
       "5425                         Product/4.2.2 iPhone/7.1.1         iPhone - iOS   \n",
       "5426  Mozilla/5.0 (Macintosh; Intel Mac OS X 10_9_4)...     Desktop - Chrome   \n",
       "5427                                                NaN  Unknown - MobileWeb   \n",
       "5428  Mozilla/5.0 (iPhone; CPU iPhone OS 7_0_4 like ...         iPhone - Web   \n",
       "\n",
       "           date  purchased  added_in_cart  checked_out  time_spent  \n",
       "5424 2019-11-20          0              0            0      20.601  \n",
       "5425 2019-09-26          0              0            0    1537.666  \n",
       "5426 2019-08-13          0              0            0      22.711  \n",
       "5427 2019-06-18          0              0            0      20.844  \n",
       "5428 2019-10-21          0              0            0      20.504  "
      ]
     },
     "execution_count": 251,
     "metadata": {},
     "output_type": "execute_result"
    }
   ],
   "source": [
    "dfTrain.tail()"
   ]
  },
  {
   "cell_type": "code",
   "execution_count": 252,
   "metadata": {},
   "outputs": [
    {
     "data": {
      "text/html": [
       "<div>\n",
       "<style scoped>\n",
       "    .dataframe tbody tr th:only-of-type {\n",
       "        vertical-align: middle;\n",
       "    }\n",
       "\n",
       "    .dataframe tbody tr th {\n",
       "        vertical-align: top;\n",
       "    }\n",
       "\n",
       "    .dataframe thead th {\n",
       "        text-align: right;\n",
       "    }\n",
       "</style>\n",
       "<table border=\"1\" class=\"dataframe\">\n",
       "  <thead>\n",
       "    <tr style=\"text-align: right;\">\n",
       "      <th></th>\n",
       "      <th>session_number</th>\n",
       "      <th>purchased</th>\n",
       "      <th>added_in_cart</th>\n",
       "      <th>checked_out</th>\n",
       "      <th>time_spent</th>\n",
       "    </tr>\n",
       "  </thead>\n",
       "  <tbody>\n",
       "    <tr>\n",
       "      <th>count</th>\n",
       "      <td>5429.000000</td>\n",
       "      <td>5429.000000</td>\n",
       "      <td>5429.000000</td>\n",
       "      <td>5429.000000</td>\n",
       "      <td>5429.000000</td>\n",
       "    </tr>\n",
       "    <tr>\n",
       "      <th>mean</th>\n",
       "      <td>1072.835329</td>\n",
       "      <td>0.159145</td>\n",
       "      <td>0.162092</td>\n",
       "      <td>0.017499</td>\n",
       "      <td>663.194292</td>\n",
       "    </tr>\n",
       "    <tr>\n",
       "      <th>std</th>\n",
       "      <td>1436.351474</td>\n",
       "      <td>0.365845</td>\n",
       "      <td>0.368570</td>\n",
       "      <td>0.131132</td>\n",
       "      <td>1713.671664</td>\n",
       "    </tr>\n",
       "    <tr>\n",
       "      <th>min</th>\n",
       "      <td>11.000000</td>\n",
       "      <td>0.000000</td>\n",
       "      <td>0.000000</td>\n",
       "      <td>0.000000</td>\n",
       "      <td>14.400000</td>\n",
       "    </tr>\n",
       "    <tr>\n",
       "      <th>25%</th>\n",
       "      <td>121.000000</td>\n",
       "      <td>0.000000</td>\n",
       "      <td>0.000000</td>\n",
       "      <td>0.000000</td>\n",
       "      <td>22.699000</td>\n",
       "    </tr>\n",
       "    <tr>\n",
       "      <th>50%</th>\n",
       "      <td>517.000000</td>\n",
       "      <td>0.000000</td>\n",
       "      <td>0.000000</td>\n",
       "      <td>0.000000</td>\n",
       "      <td>98.312000</td>\n",
       "    </tr>\n",
       "    <tr>\n",
       "      <th>75%</th>\n",
       "      <td>1397.000000</td>\n",
       "      <td>0.000000</td>\n",
       "      <td>0.000000</td>\n",
       "      <td>0.000000</td>\n",
       "      <td>600.463000</td>\n",
       "    </tr>\n",
       "    <tr>\n",
       "      <th>max</th>\n",
       "      <td>7722.000000</td>\n",
       "      <td>1.000000</td>\n",
       "      <td>1.000000</td>\n",
       "      <td>1.000000</td>\n",
       "      <td>38494.025000</td>\n",
       "    </tr>\n",
       "  </tbody>\n",
       "</table>\n",
       "</div>"
      ],
      "text/plain": [
       "       session_number    purchased  added_in_cart  checked_out    time_spent\n",
       "count     5429.000000  5429.000000    5429.000000  5429.000000   5429.000000\n",
       "mean      1072.835329     0.159145       0.162092     0.017499    663.194292\n",
       "std       1436.351474     0.365845       0.368570     0.131132   1713.671664\n",
       "min         11.000000     0.000000       0.000000     0.000000     14.400000\n",
       "25%        121.000000     0.000000       0.000000     0.000000     22.699000\n",
       "50%        517.000000     0.000000       0.000000     0.000000     98.312000\n",
       "75%       1397.000000     0.000000       0.000000     0.000000    600.463000\n",
       "max       7722.000000     1.000000       1.000000     1.000000  38494.025000"
      ]
     },
     "execution_count": 252,
     "metadata": {},
     "output_type": "execute_result"
    }
   ],
   "source": [
    "#checking for negative, min/max ,std and values distribution\n",
    "dfTrain.describe()"
   ]
  },
  {
   "cell_type": "code",
   "execution_count": 253,
   "metadata": {},
   "outputs": [
    {
     "data": {
      "text/plain": [
       "session_id          0\n",
       "session_number      0\n",
       "client_agent      160\n",
       "device_details      0\n",
       "date                0\n",
       "purchased           0\n",
       "added_in_cart       0\n",
       "checked_out         0\n",
       "time_spent          0\n",
       "dtype: int64"
      ]
     },
     "execution_count": 253,
     "metadata": {},
     "output_type": "execute_result"
    }
   ],
   "source": [
    "dfTrain.isnull().sum()"
   ]
  },
  {
   "cell_type": "code",
   "execution_count": 254,
   "metadata": {},
   "outputs": [
    {
     "data": {
      "text/plain": [
       "session_id         0\n",
       "session_number     0\n",
       "client_agent      59\n",
       "device_details     0\n",
       "date               0\n",
       "purchased          0\n",
       "added_in_cart      0\n",
       "checked_out        0\n",
       "dtype: int64"
      ]
     },
     "execution_count": 254,
     "metadata": {},
     "output_type": "execute_result"
    }
   ],
   "source": [
    "dfTest.isnull().sum()"
   ]
  },
  {
   "cell_type": "code",
   "execution_count": 255,
   "metadata": {},
   "outputs": [
    {
     "name": "stdout",
     "output_type": "stream",
     "text": [
      "<class 'pandas.core.frame.DataFrame'>\n",
      "RangeIndex: 5429 entries, 0 to 5428\n",
      "Data columns (total 9 columns):\n",
      " #   Column          Non-Null Count  Dtype         \n",
      "---  ------          --------------  -----         \n",
      " 0   session_id      5429 non-null   object        \n",
      " 1   session_number  5429 non-null   int64         \n",
      " 2   client_agent    5269 non-null   object        \n",
      " 3   device_details  5429 non-null   object        \n",
      " 4   date            5429 non-null   datetime64[ns]\n",
      " 5   purchased       5429 non-null   int64         \n",
      " 6   added_in_cart   5429 non-null   int64         \n",
      " 7   checked_out     5429 non-null   int64         \n",
      " 8   time_spent      5429 non-null   float64       \n",
      "dtypes: datetime64[ns](1), float64(1), int64(4), object(3)\n",
      "memory usage: 381.9+ KB\n"
     ]
    }
   ],
   "source": [
    "dfTrain.info()"
   ]
  },
  {
   "cell_type": "code",
   "execution_count": 256,
   "metadata": {},
   "outputs": [
    {
     "name": "stdout",
     "output_type": "stream",
     "text": [
      "<class 'pandas.core.frame.DataFrame'>\n",
      "RangeIndex: 2327 entries, 0 to 2326\n",
      "Data columns (total 8 columns):\n",
      " #   Column          Non-Null Count  Dtype         \n",
      "---  ------          --------------  -----         \n",
      " 0   session_id      2327 non-null   object        \n",
      " 1   session_number  2327 non-null   int64         \n",
      " 2   client_agent    2268 non-null   object        \n",
      " 3   device_details  2327 non-null   object        \n",
      " 4   date            2327 non-null   datetime64[ns]\n",
      " 5   purchased       2327 non-null   int64         \n",
      " 6   added_in_cart   2327 non-null   int64         \n",
      " 7   checked_out     2327 non-null   int64         \n",
      "dtypes: datetime64[ns](1), int64(4), object(3)\n",
      "memory usage: 145.6+ KB\n"
     ]
    }
   ],
   "source": [
    "dfTest.info()"
   ]
  },
  {
   "cell_type": "code",
   "execution_count": 257,
   "metadata": {},
   "outputs": [
    {
     "data": {
      "text/plain": [
       "((5429, 9), (2327, 8))"
      ]
     },
     "execution_count": 257,
     "metadata": {},
     "output_type": "execute_result"
    }
   ],
   "source": [
    "dfTrain.shape, dfTest.shape"
   ]
  },
  {
   "cell_type": "code",
   "execution_count": 258,
   "metadata": {},
   "outputs": [
    {
     "name": "stdout",
     "output_type": "stream",
     "text": [
      "session_id is unique\n"
     ]
    },
    {
     "data": {
      "text/plain": [
       "5429"
      ]
     },
     "execution_count": 258,
     "metadata": {},
     "output_type": "execute_result"
    }
   ],
   "source": [
    "if dfTrain.session_id.nunique() == dfTrain.shape[0]:\n",
    "    print(\"session_id is unique\")\n",
    "dfTrain.session_id.nunique()   "
   ]
  },
  {
   "cell_type": "code",
   "execution_count": 259,
   "metadata": {},
   "outputs": [
    {
     "data": {
      "text/plain": [
       "610"
      ]
     },
     "execution_count": 259,
     "metadata": {},
     "output_type": "execute_result"
    }
   ],
   "source": [
    "if dfTrain.session_number.nunique() == dfTrain.shape[0]:\n",
    "    print(\"session_number is unique\")\n",
    "dfTrain.session_number.nunique()"
   ]
  },
  {
   "cell_type": "code",
   "execution_count": 260,
   "metadata": {},
   "outputs": [
    {
     "data": {
      "text/plain": [
       "698"
      ]
     },
     "execution_count": 260,
     "metadata": {},
     "output_type": "execute_result"
    }
   ],
   "source": [
    "dfTrain.client_agent.nunique()"
   ]
  },
  {
   "cell_type": "code",
   "execution_count": 261,
   "metadata": {},
   "outputs": [
    {
     "data": {
      "text/plain": [
       "Mozilla/5.0 (iPhone; CPU iPhone OS 7_1_1 like Mac OS X) AppleWebKit/537.51.2 (KHTML, like Gecko) Mobile/11D201    209\n",
       "Mozilla/5.0 (Windows NT 6.3; WOW64; Trident/7.0; Touch; rv:11.0) like Gecko                                       163\n",
       "Mozilla/5.0 (Windows NT 6.1; WOW64; Trident/7.0; rv:11.0) like Gecko                                              148\n",
       "Product/4.2.0 iPhone/7.1.1                                                                                        146\n",
       "Product/4.7.0 iPhone/8.1.2                                                                                        144\n",
       "Mozilla/5.0 (iPhone; CPU iPhone OS 8_1 like Mac OS X) AppleWebKit/600.1.4 (KHTML, like Gecko) Mobile/12B411       114\n",
       "Mozilla/5.0 (iPhone; CPU iPhone OS 8_1_2 like Mac OS X) AppleWebKit/600.1.4 (KHTML, like Gecko) Mobile/12B440      86\n",
       "Product/6.0 iPhone/8.1.3                                                                                           82\n",
       "Product/4.4.1 iPhone/8.1                                                                                           79\n",
       "Mozilla/5.0 (compatible; MSIE 9.0; Windows NT 6.1; WOW64; Trident/5.0)                                             68\n",
       "Name: client_agent, dtype: int64"
      ]
     },
     "execution_count": 261,
     "metadata": {},
     "output_type": "execute_result"
    }
   ],
   "source": [
    "dfTrain.client_agent.value_counts().iloc[:10]"
   ]
  },
  {
   "cell_type": "code",
   "execution_count": 262,
   "metadata": {},
   "outputs": [],
   "source": [
    "# dfTrain['session_number'] =dfTrain['session_number'].map(lambda x: x/11)\n",
    "# dfTest['session_number'] =dfTest['session_number'].map(lambda x: x/11)"
   ]
  },
  {
   "cell_type": "code",
   "execution_count": 263,
   "metadata": {},
   "outputs": [],
   "source": [
    "# dfTrain['Device_org'] = dfTrain[\"device_details\"].str.split('-').str[0]\n",
    "# dfTrain['Platform_org'] = dfTrain[\"device_details\"].str.split('-').str[1]\n",
    "\n",
    "# dfTest['Device_org'] = dfTest[\"device_details\"].str.split('-').str[0]\n",
    "# dfTest['Platform_org'] = dfTest[\"device_details\"].str.split('-').str[1]"
   ]
  },
  {
   "cell_type": "code",
   "execution_count": 264,
   "metadata": {},
   "outputs": [
    {
     "data": {
      "text/html": [
       "<div>\n",
       "<style scoped>\n",
       "    .dataframe tbody tr th:only-of-type {\n",
       "        vertical-align: middle;\n",
       "    }\n",
       "\n",
       "    .dataframe tbody tr th {\n",
       "        vertical-align: top;\n",
       "    }\n",
       "\n",
       "    .dataframe thead th {\n",
       "        text-align: right;\n",
       "    }\n",
       "</style>\n",
       "<table border=\"1\" class=\"dataframe\">\n",
       "  <thead>\n",
       "    <tr style=\"text-align: right;\">\n",
       "      <th></th>\n",
       "      <th>session_id</th>\n",
       "      <th>session_number</th>\n",
       "      <th>client_agent</th>\n",
       "      <th>device_details</th>\n",
       "      <th>date</th>\n",
       "      <th>purchased</th>\n",
       "      <th>added_in_cart</th>\n",
       "      <th>checked_out</th>\n",
       "      <th>time_spent</th>\n",
       "    </tr>\n",
       "  </thead>\n",
       "  <tbody>\n",
       "    <tr>\n",
       "      <th>0</th>\n",
       "      <td>57f879e70d3c5fc2a98102d64c9fd84e</td>\n",
       "      <td>715</td>\n",
       "      <td>Mozilla/5.0 (Windows NT 6.1; WOW64) AppleWebKi...</td>\n",
       "      <td>Desktop - Chrome</td>\n",
       "      <td>2020-01-22</td>\n",
       "      <td>1</td>\n",
       "      <td>0</td>\n",
       "      <td>0</td>\n",
       "      <td>236.886</td>\n",
       "    </tr>\n",
       "    <tr>\n",
       "      <th>1</th>\n",
       "      <td>a5442b0c7c33d0a811e7661e556b2de8</td>\n",
       "      <td>55</td>\n",
       "      <td>Product/8.0 iPhone/8.1.3</td>\n",
       "      <td>iPhone - iOS</td>\n",
       "      <td>2020-02-27</td>\n",
       "      <td>1</td>\n",
       "      <td>0</td>\n",
       "      <td>0</td>\n",
       "      <td>1277.455</td>\n",
       "    </tr>\n",
       "    <tr>\n",
       "      <th>2</th>\n",
       "      <td>305cb1486ed8610c00b37007926cb2c4</td>\n",
       "      <td>11</td>\n",
       "      <td>Mozilla/5.0 (iPhone; CPU iPhone OS 7_1_2 like ...</td>\n",
       "      <td>iPhone - MobileWeb</td>\n",
       "      <td>2019-08-01</td>\n",
       "      <td>0</td>\n",
       "      <td>0</td>\n",
       "      <td>0</td>\n",
       "      <td>21.704</td>\n",
       "    </tr>\n",
       "    <tr>\n",
       "      <th>3</th>\n",
       "      <td>f2c1ecc9993f0071df91ba178450498c</td>\n",
       "      <td>2794</td>\n",
       "      <td>Mozilla/5.0 (compatible; MSIE 9.0; Windows NT ...</td>\n",
       "      <td>Desktop - IE</td>\n",
       "      <td>2019-12-30</td>\n",
       "      <td>0</td>\n",
       "      <td>1</td>\n",
       "      <td>0</td>\n",
       "      <td>455.201</td>\n",
       "    </tr>\n",
       "    <tr>\n",
       "      <th>4</th>\n",
       "      <td>e460830ae295e55d2216ebdc761ab9a6</td>\n",
       "      <td>3674</td>\n",
       "      <td>Mozilla/5.0 (iPhone; CPU iPhone OS 7_1_1 like ...</td>\n",
       "      <td>iPhone - Web</td>\n",
       "      <td>2019-09-10</td>\n",
       "      <td>0</td>\n",
       "      <td>0</td>\n",
       "      <td>0</td>\n",
       "      <td>1164.877</td>\n",
       "    </tr>\n",
       "  </tbody>\n",
       "</table>\n",
       "</div>"
      ],
      "text/plain": [
       "                         session_id  session_number  \\\n",
       "0  57f879e70d3c5fc2a98102d64c9fd84e             715   \n",
       "1  a5442b0c7c33d0a811e7661e556b2de8              55   \n",
       "2  305cb1486ed8610c00b37007926cb2c4              11   \n",
       "3  f2c1ecc9993f0071df91ba178450498c            2794   \n",
       "4  e460830ae295e55d2216ebdc761ab9a6            3674   \n",
       "\n",
       "                                        client_agent      device_details  \\\n",
       "0  Mozilla/5.0 (Windows NT 6.1; WOW64) AppleWebKi...    Desktop - Chrome   \n",
       "1                           Product/8.0 iPhone/8.1.3        iPhone - iOS   \n",
       "2  Mozilla/5.0 (iPhone; CPU iPhone OS 7_1_2 like ...  iPhone - MobileWeb   \n",
       "3  Mozilla/5.0 (compatible; MSIE 9.0; Windows NT ...        Desktop - IE   \n",
       "4  Mozilla/5.0 (iPhone; CPU iPhone OS 7_1_1 like ...        iPhone - Web   \n",
       "\n",
       "        date  purchased  added_in_cart  checked_out  time_spent  \n",
       "0 2020-01-22          1              0            0     236.886  \n",
       "1 2020-02-27          1              0            0    1277.455  \n",
       "2 2019-08-01          0              0            0      21.704  \n",
       "3 2019-12-30          0              1            0     455.201  \n",
       "4 2019-09-10          0              0            0    1164.877  "
      ]
     },
     "execution_count": 264,
     "metadata": {},
     "output_type": "execute_result"
    }
   ],
   "source": [
    "dfTrain.head()"
   ]
  },
  {
   "cell_type": "code",
   "execution_count": 19,
   "metadata": {},
   "outputs": [],
   "source": [
    "# #after inspecing the client_agent and device details we can see that more data can be extracted for many rows\n",
    "# #as the device details does not provide much details on device platform we can extract it through the client_agent details\n",
    "# def split_client_agent(df):\n",
    "# #     df['Platform_org'] = [\"nan\" for i in range(len(df))]\n",
    "# #     df[\"Device_org\"] = [\"nan\" for i in range(len(df))]\n",
    "# #     for i,text in enumerate(df['device_details']):\n",
    "# #         df['Device_org'].iloc[i],df['Platform_org'].iloc[i] = re.split(\" - \", text)\n",
    "        \n",
    "#     df[\"Platform\"] = [\"nan\" for i in range(len(df))]\n",
    "#     df[\"Device\"] = [\"nan\" for i in range(len(df))]\n",
    "    \n",
    "#     app_count=0\n",
    "#     mozilla_count=0\n",
    "#     safari_count=0\n",
    "#     chrome_count=0\n",
    "#     firefox_count=0\n",
    "#     opera_count=0\n",
    "    \n",
    "#     iphone_count=0\n",
    "#     ipad_count=0\n",
    "#     windows_count=0\n",
    "#     android_count=0\n",
    "#     linux_count=0\n",
    "#     mac_count=0\n",
    "#     apple_device_count=0\n",
    "#     count=0\n",
    "    \n",
    "#     #iterating through the dataframe and adding counts for each encountered instance and adding found instance to new column\n",
    "#     for i,text in enumerate(df[\"client_agent\"]):\n",
    "#         if type(text) == str:\n",
    "#             count+=1\n",
    "            \n",
    "#             if 'product' in text.lower():\n",
    "#                 app_count+=1\n",
    "#                 df[\"Platform\"].iloc[i]='app'\n",
    "            \n",
    "#             elif 'mozilla' in text.lower():\n",
    "#                 mozilla_count+=1\n",
    "#                 df['Platform'].iloc[i]='mozilla'\n",
    "            \n",
    "#             elif 'chrome' in text.lower():\n",
    "#                 chrome_count+=1\n",
    "#                 df['Platform'].iloc[i]='chrome'\n",
    "            \n",
    "#             elif 'safari' in text.lower():\n",
    "#                 safari_count+=1\n",
    "#                 df['Platform'].iloc[i]='safari'\n",
    "            \n",
    "#             elif 'firefox' in text.lower():\n",
    "#                 firefox_count+=1\n",
    "#                 df['Platform'].iloc[i]='firefox'   \n",
    "            \n",
    "#             elif 'opera' in text.lower():\n",
    "#                 opera_count+=1\n",
    "#                 df['Platform'].iloc[i]='opera'\n",
    "                \n",
    "            \n",
    "            \n",
    "#             if \"windows\" in text.lower():\n",
    "#                 windows_count+=1\n",
    "#                 df[\"Device\"].iloc[i] = \"windows\"\n",
    "\n",
    "#             elif \"iphone\" in text.lower():\n",
    "#                 iphone_count+=1\n",
    "#                 df[\"Device\"].iloc[i] = \"iphone\"\n",
    "\n",
    "#             elif \"ipad\" in text.lower():\n",
    "#                 ipad_count+=1\n",
    "#                 df[\"Device\"].iloc[i] = \"ipad\"\n",
    "\n",
    "#             elif \"android\" in text.lower():\n",
    "#                 android_count+=1\n",
    "#                 df[\"Device\"].iloc[i] = \"android\"\n",
    "\n",
    "#             elif \"macintosh\" in text.lower():\n",
    "#                 mac_count+=1        \n",
    "#                 df[\"Device\"].iloc[i] = \"macintosh\"\n",
    "                \n",
    "#             elif \"linux\" in text.lower():\n",
    "#                 linux_count+=1        \n",
    "#                 df[\"Device\"].iloc[i] = \"linux\"\n",
    "                \n",
    "#             elif 'cfnetwork' in text.lower():\n",
    "#                 apple_device_count+=1\n",
    "#                 df['Device'].iloc[i]='apple device'\n",
    "                \n",
    "#     print(\"Total Count:\", count)\n",
    "#     print(\"**\"*20)\n",
    "#     print(\"app_count:\", app_count)\n",
    "#     print(\"mozilla_count:\", mozilla_count)\n",
    "#     print(\"chrome_count:\", chrome_count)\n",
    "#     print(\"safari_count:\", safari_count)   \n",
    "#     print(\"firefox_count:\", firefox_count)\n",
    "#     print(\"opera_count:\", opera_count)\n",
    "#     print(\"**\"*20)\n",
    "#     print(\"windows_count:\", windows_count)    \n",
    "#     print(\"iphone_count:\", iphone_count)\n",
    "#     print(\"ipad_count:\", ipad_count)\n",
    "#     print(\"android_count:\", android_count)    \n",
    "#     print(\"mac_count:\", mac_count)\n",
    "#     print(\"linux_count:\", linux_count)\n",
    "#     print(\"apple_device_count:\", apple_device_count)\n",
    "    \n",
    "#     return df"
   ]
  },
  {
   "cell_type": "code",
   "execution_count": 20,
   "metadata": {},
   "outputs": [
    {
     "name": "stderr",
     "output_type": "stream",
     "text": [
      "e:\\pythonforselenium\\lib\\site-packages\\pandas\\core\\indexing.py:670: SettingWithCopyWarning: \n",
      "A value is trying to be set on a copy of a slice from a DataFrame\n",
      "\n",
      "See the caveats in the documentation: https://pandas.pydata.org/pandas-docs/stable/user_guide/indexing.html#returning-a-view-versus-a-copy\n",
      "  iloc._setitem_with_indexer(indexer, value)\n"
     ]
    },
    {
     "name": "stdout",
     "output_type": "stream",
     "text": [
      "Total Count: 5269\n",
      "****************************************\n",
      "app_count: 2076\n",
      "mozilla_count: 3153\n",
      "chrome_count: 0\n",
      "safari_count: 1\n",
      "firefox_count: 0\n",
      "opera_count: 6\n",
      "****************************************\n",
      "windows_count: 1130\n",
      "iphone_count: 2459\n",
      "ipad_count: 364\n",
      "android_count: 490\n",
      "mac_count: 729\n",
      "linux_count: 6\n",
      "apple_device_count: 58\n"
     ]
    },
    {
     "data": {
      "text/html": [
       "<div>\n",
       "<style scoped>\n",
       "    .dataframe tbody tr th:only-of-type {\n",
       "        vertical-align: middle;\n",
       "    }\n",
       "\n",
       "    .dataframe tbody tr th {\n",
       "        vertical-align: top;\n",
       "    }\n",
       "\n",
       "    .dataframe thead th {\n",
       "        text-align: right;\n",
       "    }\n",
       "</style>\n",
       "<table border=\"1\" class=\"dataframe\">\n",
       "  <thead>\n",
       "    <tr style=\"text-align: right;\">\n",
       "      <th></th>\n",
       "      <th>session_id</th>\n",
       "      <th>session_number</th>\n",
       "      <th>client_agent</th>\n",
       "      <th>device_details</th>\n",
       "      <th>date</th>\n",
       "      <th>purchased</th>\n",
       "      <th>added_in_cart</th>\n",
       "      <th>checked_out</th>\n",
       "      <th>time_spent</th>\n",
       "      <th>Device_org</th>\n",
       "      <th>Platform_org</th>\n",
       "      <th>Platform</th>\n",
       "      <th>Device</th>\n",
       "    </tr>\n",
       "  </thead>\n",
       "  <tbody>\n",
       "    <tr>\n",
       "      <th>0</th>\n",
       "      <td>57f879e70d3c5fc2a98102d64c9fd84e</td>\n",
       "      <td>715</td>\n",
       "      <td>Mozilla/5.0 (Windows NT 6.1; WOW64) AppleWebKi...</td>\n",
       "      <td>Desktop - Chrome</td>\n",
       "      <td>2020-01-22</td>\n",
       "      <td>1</td>\n",
       "      <td>0</td>\n",
       "      <td>0</td>\n",
       "      <td>236.886</td>\n",
       "      <td>Desktop</td>\n",
       "      <td>Chrome</td>\n",
       "      <td>mozilla</td>\n",
       "      <td>windows</td>\n",
       "    </tr>\n",
       "    <tr>\n",
       "      <th>1</th>\n",
       "      <td>a5442b0c7c33d0a811e7661e556b2de8</td>\n",
       "      <td>55</td>\n",
       "      <td>Product/8.0 iPhone/8.1.3</td>\n",
       "      <td>iPhone - iOS</td>\n",
       "      <td>2020-02-27</td>\n",
       "      <td>1</td>\n",
       "      <td>0</td>\n",
       "      <td>0</td>\n",
       "      <td>1277.455</td>\n",
       "      <td>iPhone</td>\n",
       "      <td>iOS</td>\n",
       "      <td>app</td>\n",
       "      <td>iphone</td>\n",
       "    </tr>\n",
       "    <tr>\n",
       "      <th>2</th>\n",
       "      <td>305cb1486ed8610c00b37007926cb2c4</td>\n",
       "      <td>11</td>\n",
       "      <td>Mozilla/5.0 (iPhone; CPU iPhone OS 7_1_2 like ...</td>\n",
       "      <td>iPhone - MobileWeb</td>\n",
       "      <td>2019-08-01</td>\n",
       "      <td>0</td>\n",
       "      <td>0</td>\n",
       "      <td>0</td>\n",
       "      <td>21.704</td>\n",
       "      <td>iPhone</td>\n",
       "      <td>MobileWeb</td>\n",
       "      <td>mozilla</td>\n",
       "      <td>iphone</td>\n",
       "    </tr>\n",
       "    <tr>\n",
       "      <th>3</th>\n",
       "      <td>f2c1ecc9993f0071df91ba178450498c</td>\n",
       "      <td>2794</td>\n",
       "      <td>Mozilla/5.0 (compatible; MSIE 9.0; Windows NT ...</td>\n",
       "      <td>Desktop - IE</td>\n",
       "      <td>2019-12-30</td>\n",
       "      <td>0</td>\n",
       "      <td>1</td>\n",
       "      <td>0</td>\n",
       "      <td>455.201</td>\n",
       "      <td>Desktop</td>\n",
       "      <td>IE</td>\n",
       "      <td>mozilla</td>\n",
       "      <td>windows</td>\n",
       "    </tr>\n",
       "    <tr>\n",
       "      <th>4</th>\n",
       "      <td>e460830ae295e55d2216ebdc761ab9a6</td>\n",
       "      <td>3674</td>\n",
       "      <td>Mozilla/5.0 (iPhone; CPU iPhone OS 7_1_1 like ...</td>\n",
       "      <td>iPhone - Web</td>\n",
       "      <td>2019-09-10</td>\n",
       "      <td>0</td>\n",
       "      <td>0</td>\n",
       "      <td>0</td>\n",
       "      <td>1164.877</td>\n",
       "      <td>iPhone</td>\n",
       "      <td>Web</td>\n",
       "      <td>mozilla</td>\n",
       "      <td>iphone</td>\n",
       "    </tr>\n",
       "  </tbody>\n",
       "</table>\n",
       "</div>"
      ],
      "text/plain": [
       "                         session_id  session_number  \\\n",
       "0  57f879e70d3c5fc2a98102d64c9fd84e             715   \n",
       "1  a5442b0c7c33d0a811e7661e556b2de8              55   \n",
       "2  305cb1486ed8610c00b37007926cb2c4              11   \n",
       "3  f2c1ecc9993f0071df91ba178450498c            2794   \n",
       "4  e460830ae295e55d2216ebdc761ab9a6            3674   \n",
       "\n",
       "                                        client_agent      device_details  \\\n",
       "0  Mozilla/5.0 (Windows NT 6.1; WOW64) AppleWebKi...    Desktop - Chrome   \n",
       "1                           Product/8.0 iPhone/8.1.3        iPhone - iOS   \n",
       "2  Mozilla/5.0 (iPhone; CPU iPhone OS 7_1_2 like ...  iPhone - MobileWeb   \n",
       "3  Mozilla/5.0 (compatible; MSIE 9.0; Windows NT ...        Desktop - IE   \n",
       "4  Mozilla/5.0 (iPhone; CPU iPhone OS 7_1_1 like ...        iPhone - Web   \n",
       "\n",
       "        date  purchased  added_in_cart  checked_out  time_spent Device_org  \\\n",
       "0 2020-01-22          1              0            0     236.886   Desktop    \n",
       "1 2020-02-27          1              0            0    1277.455    iPhone    \n",
       "2 2019-08-01          0              0            0      21.704    iPhone    \n",
       "3 2019-12-30          0              1            0     455.201   Desktop    \n",
       "4 2019-09-10          0              0            0    1164.877    iPhone    \n",
       "\n",
       "  Platform_org Platform   Device  \n",
       "0       Chrome  mozilla  windows  \n",
       "1          iOS      app   iphone  \n",
       "2    MobileWeb  mozilla   iphone  \n",
       "3           IE  mozilla  windows  \n",
       "4          Web  mozilla   iphone  "
      ]
     },
     "execution_count": 20,
     "metadata": {},
     "output_type": "execute_result"
    }
   ],
   "source": [
    "# dfTrain =split_client_agent(dfTrain)\n",
    "# dfTrain.head()"
   ]
  },
  {
   "cell_type": "code",
   "execution_count": 21,
   "metadata": {},
   "outputs": [],
   "source": [
    "# dfTrain.to_csv('Train_client.csv')"
   ]
  },
  {
   "cell_type": "code",
   "execution_count": 124,
   "metadata": {},
   "outputs": [
    {
     "data": {
      "text/plain": [
       "session_id          0\n",
       "session_number      0\n",
       "client_agent      160\n",
       "device_details      0\n",
       "date                0\n",
       "purchased           0\n",
       "added_in_cart       0\n",
       "checked_out         0\n",
       "time_spent          0\n",
       "Device_org          0\n",
       "Platform_org        0\n",
       "dtype: int64"
      ]
     },
     "execution_count": 124,
     "metadata": {},
     "output_type": "execute_result"
    }
   ],
   "source": [
    "# dfTrain.isnull().sum()"
   ]
  },
  {
   "cell_type": "code",
   "execution_count": 125,
   "metadata": {},
   "outputs": [
    {
     "data": {
      "text/plain": [
       "session_id         0\n",
       "session_number     0\n",
       "client_agent      59\n",
       "device_details     0\n",
       "date               0\n",
       "purchased          0\n",
       "added_in_cart      0\n",
       "checked_out        0\n",
       "Device_org         0\n",
       "Platform_org       0\n",
       "dtype: int64"
      ]
     },
     "execution_count": 125,
     "metadata": {},
     "output_type": "execute_result"
    }
   ],
   "source": [
    "# dfTest.isnull().sum()"
   ]
  },
  {
   "cell_type": "code",
   "execution_count": 24,
   "metadata": {},
   "outputs": [
    {
     "name": "stderr",
     "output_type": "stream",
     "text": [
      "e:\\pythonforselenium\\lib\\site-packages\\pandas\\core\\indexing.py:670: SettingWithCopyWarning: \n",
      "A value is trying to be set on a copy of a slice from a DataFrame\n",
      "\n",
      "See the caveats in the documentation: https://pandas.pydata.org/pandas-docs/stable/user_guide/indexing.html#returning-a-view-versus-a-copy\n",
      "  iloc._setitem_with_indexer(indexer, value)\n"
     ]
    },
    {
     "name": "stdout",
     "output_type": "stream",
     "text": [
      "Total Count: 2268\n",
      "****************************************\n",
      "app_count: 863\n",
      "mozilla_count: 1382\n",
      "chrome_count: 0\n",
      "safari_count: 0\n",
      "firefox_count: 0\n",
      "opera_count: 4\n",
      "****************************************\n",
      "windows_count: 526\n",
      "iphone_count: 1048\n",
      "ipad_count: 166\n",
      "android_count: 178\n",
      "mac_count: 299\n",
      "linux_count: 2\n",
      "apple_device_count: 28\n"
     ]
    },
    {
     "data": {
      "text/html": [
       "<div>\n",
       "<style scoped>\n",
       "    .dataframe tbody tr th:only-of-type {\n",
       "        vertical-align: middle;\n",
       "    }\n",
       "\n",
       "    .dataframe tbody tr th {\n",
       "        vertical-align: top;\n",
       "    }\n",
       "\n",
       "    .dataframe thead th {\n",
       "        text-align: right;\n",
       "    }\n",
       "</style>\n",
       "<table border=\"1\" class=\"dataframe\">\n",
       "  <thead>\n",
       "    <tr style=\"text-align: right;\">\n",
       "      <th></th>\n",
       "      <th>session_id</th>\n",
       "      <th>session_number</th>\n",
       "      <th>client_agent</th>\n",
       "      <th>device_details</th>\n",
       "      <th>date</th>\n",
       "      <th>purchased</th>\n",
       "      <th>added_in_cart</th>\n",
       "      <th>checked_out</th>\n",
       "      <th>Device_org</th>\n",
       "      <th>Platform_org</th>\n",
       "      <th>Platform</th>\n",
       "      <th>Device</th>\n",
       "    </tr>\n",
       "  </thead>\n",
       "  <tbody>\n",
       "    <tr>\n",
       "      <th>0</th>\n",
       "      <td>0bf72b05b2cf70dc5e28c3c09f9c4f97</td>\n",
       "      <td>99</td>\n",
       "      <td>Mozilla/5.0 (Windows NT 6.1; WOW64; Trident/7....</td>\n",
       "      <td>Desktop - IE</td>\n",
       "      <td>2020-01-07</td>\n",
       "      <td>1</td>\n",
       "      <td>0</td>\n",
       "      <td>0</td>\n",
       "      <td>Desktop</td>\n",
       "      <td>IE</td>\n",
       "      <td>mozilla</td>\n",
       "      <td>windows</td>\n",
       "    </tr>\n",
       "    <tr>\n",
       "      <th>1</th>\n",
       "      <td>6bc696d99954e4f1367e845465186aef</td>\n",
       "      <td>935</td>\n",
       "      <td>Product/160393 Android/4.3 Device/samsung_GT-I...</td>\n",
       "      <td>Android Phone - Android</td>\n",
       "      <td>2020-02-13</td>\n",
       "      <td>0</td>\n",
       "      <td>0</td>\n",
       "      <td>0</td>\n",
       "      <td>Android Phone</td>\n",
       "      <td>Android</td>\n",
       "      <td>app</td>\n",
       "      <td>android</td>\n",
       "    </tr>\n",
       "    <tr>\n",
       "      <th>2</th>\n",
       "      <td>3d8611a5ea0f621d205b67f09f663a89</td>\n",
       "      <td>902</td>\n",
       "      <td>Product/4.2.2 iPhone/7.1.2</td>\n",
       "      <td>iPhone - iOS</td>\n",
       "      <td>2019-10-14</td>\n",
       "      <td>1</td>\n",
       "      <td>0</td>\n",
       "      <td>0</td>\n",
       "      <td>iPhone</td>\n",
       "      <td>iOS</td>\n",
       "      <td>app</td>\n",
       "      <td>iphone</td>\n",
       "    </tr>\n",
       "    <tr>\n",
       "      <th>3</th>\n",
       "      <td>a0351545c032fd0da36289410c6c3354</td>\n",
       "      <td>3223</td>\n",
       "      <td>Mozilla/5.0 (compatible; MSIE 9.0; Windows NT ...</td>\n",
       "      <td>Desktop - IE</td>\n",
       "      <td>2020-01-26</td>\n",
       "      <td>0</td>\n",
       "      <td>0</td>\n",
       "      <td>0</td>\n",
       "      <td>Desktop</td>\n",
       "      <td>IE</td>\n",
       "      <td>mozilla</td>\n",
       "      <td>windows</td>\n",
       "    </tr>\n",
       "    <tr>\n",
       "      <th>4</th>\n",
       "      <td>dd8999772b0ab27225fb05e5df2f1da6</td>\n",
       "      <td>231</td>\n",
       "      <td>Mozilla/5.0 (Windows NT 6.3; WOW64) AppleWebKi...</td>\n",
       "      <td>Desktop - Chrome</td>\n",
       "      <td>2020-01-29</td>\n",
       "      <td>0</td>\n",
       "      <td>0</td>\n",
       "      <td>0</td>\n",
       "      <td>Desktop</td>\n",
       "      <td>Chrome</td>\n",
       "      <td>mozilla</td>\n",
       "      <td>windows</td>\n",
       "    </tr>\n",
       "  </tbody>\n",
       "</table>\n",
       "</div>"
      ],
      "text/plain": [
       "                         session_id  session_number  \\\n",
       "0  0bf72b05b2cf70dc5e28c3c09f9c4f97              99   \n",
       "1  6bc696d99954e4f1367e845465186aef             935   \n",
       "2  3d8611a5ea0f621d205b67f09f663a89             902   \n",
       "3  a0351545c032fd0da36289410c6c3354            3223   \n",
       "4  dd8999772b0ab27225fb05e5df2f1da6             231   \n",
       "\n",
       "                                        client_agent           device_details  \\\n",
       "0  Mozilla/5.0 (Windows NT 6.1; WOW64; Trident/7....             Desktop - IE   \n",
       "1  Product/160393 Android/4.3 Device/samsung_GT-I...  Android Phone - Android   \n",
       "2                         Product/4.2.2 iPhone/7.1.2             iPhone - iOS   \n",
       "3  Mozilla/5.0 (compatible; MSIE 9.0; Windows NT ...             Desktop - IE   \n",
       "4  Mozilla/5.0 (Windows NT 6.3; WOW64) AppleWebKi...         Desktop - Chrome   \n",
       "\n",
       "        date  purchased  added_in_cart  checked_out      Device_org  \\\n",
       "0 2020-01-07          1              0            0        Desktop    \n",
       "1 2020-02-13          0              0            0  Android Phone    \n",
       "2 2019-10-14          1              0            0         iPhone    \n",
       "3 2020-01-26          0              0            0        Desktop    \n",
       "4 2020-01-29          0              0            0        Desktop    \n",
       "\n",
       "  Platform_org Platform   Device  \n",
       "0           IE  mozilla  windows  \n",
       "1      Android      app  android  \n",
       "2          iOS      app   iphone  \n",
       "3           IE  mozilla  windows  \n",
       "4       Chrome  mozilla  windows  "
      ]
     },
     "execution_count": 24,
     "metadata": {},
     "output_type": "execute_result"
    }
   ],
   "source": [
    "# dfTest =split_client_agent(dfTest)\n",
    "# dfTest.head()"
   ]
  },
  {
   "cell_type": "code",
   "execution_count": 145,
   "metadata": {},
   "outputs": [],
   "source": [
    "# dfTrain.replace(\"Typhoeus - https://github.com/typhoeus/typhoeus\",\"nan\",inplace=True)\n",
    "# dfTest.replace(\"Typhoeus - https://github.com/typhoeus/typhoeus\",\"nan\",inplace=True)"
   ]
  },
  {
   "cell_type": "code",
   "execution_count": 127,
   "metadata": {},
   "outputs": [],
   "source": [
    "# dfTrain.replace(\"nan\", np.nan, inplace=True)\n",
    "# dfTest.replace('nan',np.nan, inplace=True)"
   ]
  },
  {
   "cell_type": "code",
   "execution_count": 27,
   "metadata": {},
   "outputs": [],
   "source": [
    "# dfTrain.fillna(method=\"ffill\", inplace=True)\n",
    "# dfTest.fillna(method=\"ffill\", inplace=True)"
   ]
  },
  {
   "cell_type": "code",
   "execution_count": 265,
   "metadata": {},
   "outputs": [
    {
     "data": {
      "text/plain": [
       "iPhone - iOS                  1515\n",
       "Desktop - Chrome               815\n",
       "iPhone - Web                   665\n",
       "Android Phone - Android        326\n",
       "Desktop - Safari               313\n",
       "Desktop - IE                   292\n",
       "iPad - Web                     289\n",
       "iPhone - MobileWeb             277\n",
       "Desktop - Firefox              234\n",
       "Android Tablet - Web           203\n",
       "Other - Other                  185\n",
       "Unknown - MobileWeb             87\n",
       "Android Phone - Web             86\n",
       "iPad - iOS                      77\n",
       "Android Phone - MobileWeb       54\n",
       "Android Tablet - Android         9\n",
       "Android Tablet - MobileWeb       2\n",
       "Name: device_details, dtype: int64"
      ]
     },
     "execution_count": 265,
     "metadata": {},
     "output_type": "execute_result"
    }
   ],
   "source": [
    "dfTrain.device_details.value_counts()"
   ]
  },
  {
   "cell_type": "code",
   "execution_count": 266,
   "metadata": {},
   "outputs": [
    {
     "data": {
      "text/plain": [
       "17"
      ]
     },
     "execution_count": 266,
     "metadata": {},
     "output_type": "execute_result"
    }
   ],
   "source": [
    "dfTrain.device_details.nunique()"
   ]
  },
  {
   "cell_type": "code",
   "execution_count": 267,
   "metadata": {},
   "outputs": [
    {
     "data": {
      "text/plain": [
       "342"
      ]
     },
     "execution_count": 267,
     "metadata": {},
     "output_type": "execute_result"
    }
   ],
   "source": [
    "dfTrain.date.nunique()"
   ]
  },
  {
   "cell_type": "code",
   "execution_count": 268,
   "metadata": {},
   "outputs": [
    {
     "data": {
      "text/plain": [
       "0    4565\n",
       "1     864\n",
       "Name: purchased, dtype: int64"
      ]
     },
     "execution_count": 268,
     "metadata": {},
     "output_type": "execute_result"
    },
    {
     "data": {
      "image/png": "[encoded data removed]",
      "text/plain": [
       "<Figure size 432x288 with 1 Axes>"
      ]
     },
     "metadata": {
      "needs_background": "light"
     },
     "output_type": "display_data"
    }
   ],
   "source": [
    "dfTrain.purchased.value_counts().plot(kind='bar')\n",
    "dfTrain.purchased.value_counts()"
   ]
  },
  {
   "cell_type": "code",
   "execution_count": 269,
   "metadata": {},
   "outputs": [
    {
     "data": {
      "text/plain": [
       "0    4549\n",
       "1     880\n",
       "Name: added_in_cart, dtype: int64"
      ]
     },
     "execution_count": 269,
     "metadata": {},
     "output_type": "execute_result"
    },
    {
     "data": {
      "image/png": "[encoded data removed]",
      "text/plain": [
       "<Figure size 432x288 with 1 Axes>"
      ]
     },
     "metadata": {
      "needs_background": "light"
     },
     "output_type": "display_data"
    }
   ],
   "source": [
    "dfTrain.added_in_cart.value_counts().plot(kind='bar')\n",
    "dfTrain.added_in_cart.value_counts()"
   ]
  },
  {
   "cell_type": "code",
   "execution_count": 270,
   "metadata": {},
   "outputs": [
    {
     "data": {
      "text/plain": [
       "0    5334\n",
       "1      95\n",
       "Name: checked_out, dtype: int64"
      ]
     },
     "execution_count": 270,
     "metadata": {},
     "output_type": "execute_result"
    },
    {
     "data": {
      "image/png": "[encoded data removed]",
      "text/plain": [
       "<Figure size 432x288 with 1 Axes>"
      ]
     },
     "metadata": {
      "needs_background": "light"
     },
     "output_type": "display_data"
    }
   ],
   "source": [
    "dfTrain.checked_out.value_counts().plot(kind='bar')\n",
    "dfTrain.checked_out.value_counts()"
   ]
  },
  {
   "cell_type": "code",
   "execution_count": 271,
   "metadata": {},
   "outputs": [
    {
     "data": {
      "text/html": [
       "<div>\n",
       "<style scoped>\n",
       "    .dataframe tbody tr th:only-of-type {\n",
       "        vertical-align: middle;\n",
       "    }\n",
       "\n",
       "    .dataframe tbody tr th {\n",
       "        vertical-align: top;\n",
       "    }\n",
       "\n",
       "    .dataframe thead th {\n",
       "        text-align: right;\n",
       "    }\n",
       "</style>\n",
       "<table border=\"1\" class=\"dataframe\">\n",
       "  <thead>\n",
       "    <tr style=\"text-align: right;\">\n",
       "      <th></th>\n",
       "      <th>session_number</th>\n",
       "      <th>purchased</th>\n",
       "      <th>added_in_cart</th>\n",
       "      <th>checked_out</th>\n",
       "      <th>time_spent</th>\n",
       "    </tr>\n",
       "  </thead>\n",
       "  <tbody>\n",
       "    <tr>\n",
       "      <th>session_number</th>\n",
       "      <td>1.000000</td>\n",
       "      <td>-0.213733</td>\n",
       "      <td>0.003013</td>\n",
       "      <td>-0.054500</td>\n",
       "      <td>0.078437</td>\n",
       "    </tr>\n",
       "    <tr>\n",
       "      <th>purchased</th>\n",
       "      <td>-0.213733</td>\n",
       "      <td>1.000000</td>\n",
       "      <td>0.045022</td>\n",
       "      <td>0.168513</td>\n",
       "      <td>0.200762</td>\n",
       "    </tr>\n",
       "    <tr>\n",
       "      <th>added_in_cart</th>\n",
       "      <td>0.003013</td>\n",
       "      <td>0.045022</td>\n",
       "      <td>1.000000</td>\n",
       "      <td>0.215754</td>\n",
       "      <td>0.209807</td>\n",
       "    </tr>\n",
       "    <tr>\n",
       "      <th>checked_out</th>\n",
       "      <td>-0.054500</td>\n",
       "      <td>0.168513</td>\n",
       "      <td>0.215754</td>\n",
       "      <td>1.000000</td>\n",
       "      <td>0.157765</td>\n",
       "    </tr>\n",
       "    <tr>\n",
       "      <th>time_spent</th>\n",
       "      <td>0.078437</td>\n",
       "      <td>0.200762</td>\n",
       "      <td>0.209807</td>\n",
       "      <td>0.157765</td>\n",
       "      <td>1.000000</td>\n",
       "    </tr>\n",
       "  </tbody>\n",
       "</table>\n",
       "</div>"
      ],
      "text/plain": [
       "                session_number  purchased  added_in_cart  checked_out  \\\n",
       "session_number        1.000000  -0.213733       0.003013    -0.054500   \n",
       "purchased            -0.213733   1.000000       0.045022     0.168513   \n",
       "added_in_cart         0.003013   0.045022       1.000000     0.215754   \n",
       "checked_out          -0.054500   0.168513       0.215754     1.000000   \n",
       "time_spent            0.078437   0.200762       0.209807     0.157765   \n",
       "\n",
       "                time_spent  \n",
       "session_number    0.078437  \n",
       "purchased         0.200762  \n",
       "added_in_cart     0.209807  \n",
       "checked_out       0.157765  \n",
       "time_spent        1.000000  "
      ]
     },
     "execution_count": 271,
     "metadata": {},
     "output_type": "execute_result"
    }
   ],
   "source": [
    "dfTrain.corr()"
   ]
  },
  {
   "cell_type": "code",
   "execution_count": 272,
   "metadata": {},
   "outputs": [
    {
     "data": {
      "text/plain": [
       "8.035340699877555"
      ]
     },
     "execution_count": 272,
     "metadata": {},
     "output_type": "execute_result"
    }
   ],
   "source": [
    "skew(dfTrain['time_spent'])"
   ]
  },
  {
   "cell_type": "code",
   "execution_count": 273,
   "metadata": {},
   "outputs": [
    {
     "data": {
      "text/plain": [
       "0.5047400928429242"
      ]
     },
     "execution_count": 273,
     "metadata": {},
     "output_type": "execute_result"
    }
   ],
   "source": [
    "skew(np.log1p(dfTrain['time_spent']))"
   ]
  },
  {
   "cell_type": "code",
   "execution_count": 274,
   "metadata": {},
   "outputs": [
    {
     "data": {
      "text/plain": [
       "<AxesSubplot:xlabel='time_spent', ylabel='Density'>"
      ]
     },
     "execution_count": 274,
     "metadata": {},
     "output_type": "execute_result"
    },
    {
     "data": {
      "image/png": "[encoded data removed]",
      "text/plain": [
       "<Figure size 432x288 with 1 Axes>"
      ]
     },
     "metadata": {
      "needs_background": "light"
     },
     "output_type": "display_data"
    }
   ],
   "source": [
    "sns.kdeplot(dfTrain['time_spent'])"
   ]
  },
  {
   "cell_type": "code",
   "execution_count": 275,
   "metadata": {},
   "outputs": [
    {
     "name": "stderr",
     "output_type": "stream",
     "text": [
      "e:\\pythonforselenium\\lib\\site-packages\\seaborn\\distributions.py:2551: FutureWarning: `distplot` is a deprecated function and will be removed in a future version. Please adapt your code to use either `displot` (a figure-level function with similar flexibility) or `histplot` (an axes-level function for histograms).\n",
      "  warnings.warn(msg, FutureWarning)\n"
     ]
    },
    {
     "data": {
      "image/png": "[encoded data removed]",
      "text/plain": [
       "<Figure size 432x288 with 1 Axes>"
      ]
     },
     "metadata": {
      "needs_background": "light"
     },
     "output_type": "display_data"
    }
   ],
   "source": [
    "sns.distplot(np.log1p(dfTrain['time_spent']))\n",
    "plt.show()"
   ]
  },
  {
   "cell_type": "code",
   "execution_count": 276,
   "metadata": {},
   "outputs": [
    {
     "name": "stderr",
     "output_type": "stream",
     "text": [
      "e:\\pythonforselenium\\lib\\site-packages\\seaborn\\distributions.py:2551: FutureWarning: `distplot` is a deprecated function and will be removed in a future version. Please adapt your code to use either `displot` (a figure-level function with similar flexibility) or `histplot` (an axes-level function for histograms).\n",
      "  warnings.warn(msg, FutureWarning)\n"
     ]
    },
    {
     "data": {
      "image/png": "[encoded data removed]",
      "text/plain": [
       "<Figure size 432x288 with 1 Axes>"
      ]
     },
     "metadata": {
      "needs_background": "light"
     },
     "output_type": "display_data"
    }
   ],
   "source": [
    "sns.distplot(dfTrain['time_spent'])\n",
    "plt.show()"
   ]
  },
  {
   "cell_type": "code",
   "execution_count": 277,
   "metadata": {},
   "outputs": [
    {
     "data": {
      "image/png": "[encoded data removed]",
      "text/plain": [
       "<Figure size 432x288 with 1 Axes>"
      ]
     },
     "metadata": {
      "needs_background": "light"
     },
     "output_type": "display_data"
    }
   ],
   "source": [
    "plt.hist(dfTrain['time_spent'])\n",
    "plt.show()"
   ]
  },
  {
   "cell_type": "code",
   "execution_count": 278,
   "metadata": {},
   "outputs": [
    {
     "data": {
      "text/plain": [
       "session_number\n",
       "11      494.134828\n",
       "22      737.616760\n",
       "33      913.697803\n",
       "44      606.066594\n",
       "55      476.672914\n",
       "           ...    \n",
       "7678     22.437000\n",
       "7689    169.578000\n",
       "7700     31.313000\n",
       "7711     20.191000\n",
       "7722    167.263000\n",
       "Name: time_spent, Length: 610, dtype: float64"
      ]
     },
     "execution_count": 278,
     "metadata": {},
     "output_type": "execute_result"
    }
   ],
   "source": [
    "dfTrain.groupby('session_number')['time_spent'].mean()"
   ]
  },
  {
   "cell_type": "code",
   "execution_count": 279,
   "metadata": {},
   "outputs": [
    {
     "data": {
      "text/plain": [
       "256"
      ]
     },
     "execution_count": 279,
     "metadata": {},
     "output_type": "execute_result"
    }
   ],
   "source": [
    "#nothing to infer from session_id column\n",
    "dfTrain['session_id'].str[:2].nunique()"
   ]
  },
  {
   "cell_type": "code",
   "execution_count": 280,
   "metadata": {},
   "outputs": [
    {
     "data": {
      "text/html": [
       "<div>\n",
       "<style scoped>\n",
       "    .dataframe tbody tr th:only-of-type {\n",
       "        vertical-align: middle;\n",
       "    }\n",
       "\n",
       "    .dataframe tbody tr th {\n",
       "        vertical-align: top;\n",
       "    }\n",
       "\n",
       "    .dataframe thead th {\n",
       "        text-align: right;\n",
       "    }\n",
       "</style>\n",
       "<table border=\"1\" class=\"dataframe\">\n",
       "  <thead>\n",
       "    <tr style=\"text-align: right;\">\n",
       "      <th></th>\n",
       "      <th>session_id</th>\n",
       "      <th>session_number</th>\n",
       "      <th>client_agent</th>\n",
       "      <th>device_details</th>\n",
       "      <th>date</th>\n",
       "      <th>purchased</th>\n",
       "      <th>added_in_cart</th>\n",
       "      <th>checked_out</th>\n",
       "      <th>time_spent</th>\n",
       "    </tr>\n",
       "  </thead>\n",
       "  <tbody>\n",
       "    <tr>\n",
       "      <th>0</th>\n",
       "      <td>57f879e70d3c5fc2a98102d64c9fd84e</td>\n",
       "      <td>715</td>\n",
       "      <td>Mozilla/5.0 (Windows NT 6.1; WOW64) AppleWebKi...</td>\n",
       "      <td>Desktop - Chrome</td>\n",
       "      <td>2020-01-22</td>\n",
       "      <td>1</td>\n",
       "      <td>0</td>\n",
       "      <td>0</td>\n",
       "      <td>236.886</td>\n",
       "    </tr>\n",
       "    <tr>\n",
       "      <th>1</th>\n",
       "      <td>a5442b0c7c33d0a811e7661e556b2de8</td>\n",
       "      <td>55</td>\n",
       "      <td>Product/8.0 iPhone/8.1.3</td>\n",
       "      <td>iPhone - iOS</td>\n",
       "      <td>2020-02-27</td>\n",
       "      <td>1</td>\n",
       "      <td>0</td>\n",
       "      <td>0</td>\n",
       "      <td>1277.455</td>\n",
       "    </tr>\n",
       "    <tr>\n",
       "      <th>2</th>\n",
       "      <td>305cb1486ed8610c00b37007926cb2c4</td>\n",
       "      <td>11</td>\n",
       "      <td>Mozilla/5.0 (iPhone; CPU iPhone OS 7_1_2 like ...</td>\n",
       "      <td>iPhone - MobileWeb</td>\n",
       "      <td>2019-08-01</td>\n",
       "      <td>0</td>\n",
       "      <td>0</td>\n",
       "      <td>0</td>\n",
       "      <td>21.704</td>\n",
       "    </tr>\n",
       "    <tr>\n",
       "      <th>3</th>\n",
       "      <td>f2c1ecc9993f0071df91ba178450498c</td>\n",
       "      <td>2794</td>\n",
       "      <td>Mozilla/5.0 (compatible; MSIE 9.0; Windows NT ...</td>\n",
       "      <td>Desktop - IE</td>\n",
       "      <td>2019-12-30</td>\n",
       "      <td>0</td>\n",
       "      <td>1</td>\n",
       "      <td>0</td>\n",
       "      <td>455.201</td>\n",
       "    </tr>\n",
       "    <tr>\n",
       "      <th>4</th>\n",
       "      <td>e460830ae295e55d2216ebdc761ab9a6</td>\n",
       "      <td>3674</td>\n",
       "      <td>Mozilla/5.0 (iPhone; CPU iPhone OS 7_1_1 like ...</td>\n",
       "      <td>iPhone - Web</td>\n",
       "      <td>2019-09-10</td>\n",
       "      <td>0</td>\n",
       "      <td>0</td>\n",
       "      <td>0</td>\n",
       "      <td>1164.877</td>\n",
       "    </tr>\n",
       "  </tbody>\n",
       "</table>\n",
       "</div>"
      ],
      "text/plain": [
       "                         session_id  session_number  \\\n",
       "0  57f879e70d3c5fc2a98102d64c9fd84e             715   \n",
       "1  a5442b0c7c33d0a811e7661e556b2de8              55   \n",
       "2  305cb1486ed8610c00b37007926cb2c4              11   \n",
       "3  f2c1ecc9993f0071df91ba178450498c            2794   \n",
       "4  e460830ae295e55d2216ebdc761ab9a6            3674   \n",
       "\n",
       "                                        client_agent      device_details  \\\n",
       "0  Mozilla/5.0 (Windows NT 6.1; WOW64) AppleWebKi...    Desktop - Chrome   \n",
       "1                           Product/8.0 iPhone/8.1.3        iPhone - iOS   \n",
       "2  Mozilla/5.0 (iPhone; CPU iPhone OS 7_1_2 like ...  iPhone - MobileWeb   \n",
       "3  Mozilla/5.0 (compatible; MSIE 9.0; Windows NT ...        Desktop - IE   \n",
       "4  Mozilla/5.0 (iPhone; CPU iPhone OS 7_1_1 like ...        iPhone - Web   \n",
       "\n",
       "        date  purchased  added_in_cart  checked_out  time_spent  \n",
       "0 2020-01-22          1              0            0     236.886  \n",
       "1 2020-02-27          1              0            0    1277.455  \n",
       "2 2019-08-01          0              0            0      21.704  \n",
       "3 2019-12-30          0              1            0     455.201  \n",
       "4 2019-09-10          0              0            0    1164.877  "
      ]
     },
     "execution_count": 280,
     "metadata": {},
     "output_type": "execute_result"
    }
   ],
   "source": [
    "dfTrain.head()"
   ]
  },
  {
   "cell_type": "code",
   "execution_count": 281,
   "metadata": {},
   "outputs": [
    {
     "data": {
      "text/plain": [
       "5206"
      ]
     },
     "execution_count": 281,
     "metadata": {},
     "output_type": "execute_result"
    }
   ],
   "source": [
    "dfTrain['session_id'].str[:4].nunique()"
   ]
  },
  {
   "cell_type": "code",
   "execution_count": 282,
   "metadata": {},
   "outputs": [
    {
     "data": {
      "text/plain": [
       "5429"
      ]
     },
     "execution_count": 282,
     "metadata": {},
     "output_type": "execute_result"
    }
   ],
   "source": [
    "dfTrain['session_id'].str[:6].nunique()"
   ]
  },
  {
   "cell_type": "code",
   "execution_count": 283,
   "metadata": {},
   "outputs": [],
   "source": [
    "# dfTrain = dfTrain.fillna('unknown')\n",
    "# dfTest = dfTest.fillna('unknown')"
   ]
  },
  {
   "cell_type": "code",
   "execution_count": 284,
   "metadata": {},
   "outputs": [],
   "source": [
    "# dfTrain=dfTrain.replace('-unknown-','unknown')\n",
    "# dfTest=dfTest.replace('-unknown-','unknown')"
   ]
  },
  {
   "cell_type": "code",
   "execution_count": 285,
   "metadata": {},
   "outputs": [
    {
     "data": {
      "text/plain": [
       "session_id          0\n",
       "session_number      0\n",
       "client_agent      160\n",
       "device_details      0\n",
       "date                0\n",
       "purchased           0\n",
       "added_in_cart       0\n",
       "checked_out         0\n",
       "time_spent          0\n",
       "dtype: int64"
      ]
     },
     "execution_count": 285,
     "metadata": {},
     "output_type": "execute_result"
    }
   ],
   "source": [
    "# since there is a category called '-unknown-' already avaialable for unknown values replaced missing values with -unknown-\n",
    "dfTrain.isnull().sum()"
   ]
  },
  {
   "cell_type": "code",
   "execution_count": 286,
   "metadata": {},
   "outputs": [
    {
     "data": {
      "text/plain": [
       "session_id         0\n",
       "session_number     0\n",
       "client_agent      59\n",
       "device_details     0\n",
       "date               0\n",
       "purchased          0\n",
       "added_in_cart      0\n",
       "checked_out        0\n",
       "dtype: int64"
      ]
     },
     "execution_count": 286,
     "metadata": {},
     "output_type": "execute_result"
    }
   ],
   "source": [
    "dfTest.isnull().sum()"
   ]
  },
  {
   "cell_type": "code",
   "execution_count": 287,
   "metadata": {},
   "outputs": [],
   "source": [
    "from sklearn.preprocessing import LabelEncoder\n",
    "le= LabelEncoder()"
   ]
  },
  {
   "cell_type": "code",
   "execution_count": 288,
   "metadata": {},
   "outputs": [],
   "source": [
    "# for column in ['Platform_org','Device_org','Platform','Device']:\n",
    "#     dfTrain[column]=le.fit_transform(dfTrain[column])\n",
    "#     dfTest[column] = le.fit_transform(dfTest[column])\n",
    "# dfTrain.head()"
   ]
  },
  {
   "cell_type": "code",
   "execution_count": 289,
   "metadata": {},
   "outputs": [
    {
     "data": {
      "text/html": [
       "<div>\n",
       "<style scoped>\n",
       "    .dataframe tbody tr th:only-of-type {\n",
       "        vertical-align: middle;\n",
       "    }\n",
       "\n",
       "    .dataframe tbody tr th {\n",
       "        vertical-align: top;\n",
       "    }\n",
       "\n",
       "    .dataframe thead th {\n",
       "        text-align: right;\n",
       "    }\n",
       "</style>\n",
       "<table border=\"1\" class=\"dataframe\">\n",
       "  <thead>\n",
       "    <tr style=\"text-align: right;\">\n",
       "      <th></th>\n",
       "      <th>session_id</th>\n",
       "      <th>session_number</th>\n",
       "      <th>client_agent</th>\n",
       "      <th>device_details</th>\n",
       "      <th>date</th>\n",
       "      <th>purchased</th>\n",
       "      <th>added_in_cart</th>\n",
       "      <th>checked_out</th>\n",
       "      <th>time_spent</th>\n",
       "    </tr>\n",
       "  </thead>\n",
       "  <tbody>\n",
       "    <tr>\n",
       "      <th>0</th>\n",
       "      <td>57f879e70d3c5fc2a98102d64c9fd84e</td>\n",
       "      <td>715</td>\n",
       "      <td>Mozilla/5.0 (Windows NT 6.1; WOW64) AppleWebKi...</td>\n",
       "      <td>6</td>\n",
       "      <td>2020-01-22</td>\n",
       "      <td>1</td>\n",
       "      <td>0</td>\n",
       "      <td>0</td>\n",
       "      <td>236.886</td>\n",
       "    </tr>\n",
       "    <tr>\n",
       "      <th>1</th>\n",
       "      <td>a5442b0c7c33d0a811e7661e556b2de8</td>\n",
       "      <td>55</td>\n",
       "      <td>Product/8.0 iPhone/8.1.3</td>\n",
       "      <td>16</td>\n",
       "      <td>2020-02-27</td>\n",
       "      <td>1</td>\n",
       "      <td>0</td>\n",
       "      <td>0</td>\n",
       "      <td>1277.455</td>\n",
       "    </tr>\n",
       "    <tr>\n",
       "      <th>2</th>\n",
       "      <td>305cb1486ed8610c00b37007926cb2c4</td>\n",
       "      <td>11</td>\n",
       "      <td>Mozilla/5.0 (iPhone; CPU iPhone OS 7_1_2 like ...</td>\n",
       "      <td>14</td>\n",
       "      <td>2019-08-01</td>\n",
       "      <td>0</td>\n",
       "      <td>0</td>\n",
       "      <td>0</td>\n",
       "      <td>21.704</td>\n",
       "    </tr>\n",
       "    <tr>\n",
       "      <th>3</th>\n",
       "      <td>f2c1ecc9993f0071df91ba178450498c</td>\n",
       "      <td>2794</td>\n",
       "      <td>Mozilla/5.0 (compatible; MSIE 9.0; Windows NT ...</td>\n",
       "      <td>8</td>\n",
       "      <td>2019-12-30</td>\n",
       "      <td>0</td>\n",
       "      <td>1</td>\n",
       "      <td>0</td>\n",
       "      <td>455.201</td>\n",
       "    </tr>\n",
       "    <tr>\n",
       "      <th>4</th>\n",
       "      <td>e460830ae295e55d2216ebdc761ab9a6</td>\n",
       "      <td>3674</td>\n",
       "      <td>Mozilla/5.0 (iPhone; CPU iPhone OS 7_1_1 like ...</td>\n",
       "      <td>15</td>\n",
       "      <td>2019-09-10</td>\n",
       "      <td>0</td>\n",
       "      <td>0</td>\n",
       "      <td>0</td>\n",
       "      <td>1164.877</td>\n",
       "    </tr>\n",
       "  </tbody>\n",
       "</table>\n",
       "</div>"
      ],
      "text/plain": [
       "                         session_id  session_number  \\\n",
       "0  57f879e70d3c5fc2a98102d64c9fd84e             715   \n",
       "1  a5442b0c7c33d0a811e7661e556b2de8              55   \n",
       "2  305cb1486ed8610c00b37007926cb2c4              11   \n",
       "3  f2c1ecc9993f0071df91ba178450498c            2794   \n",
       "4  e460830ae295e55d2216ebdc761ab9a6            3674   \n",
       "\n",
       "                                        client_agent  device_details  \\\n",
       "0  Mozilla/5.0 (Windows NT 6.1; WOW64) AppleWebKi...               6   \n",
       "1                           Product/8.0 iPhone/8.1.3              16   \n",
       "2  Mozilla/5.0 (iPhone; CPU iPhone OS 7_1_2 like ...              14   \n",
       "3  Mozilla/5.0 (compatible; MSIE 9.0; Windows NT ...               8   \n",
       "4  Mozilla/5.0 (iPhone; CPU iPhone OS 7_1_1 like ...              15   \n",
       "\n",
       "        date  purchased  added_in_cart  checked_out  time_spent  \n",
       "0 2020-01-22          1              0            0     236.886  \n",
       "1 2020-02-27          1              0            0    1277.455  \n",
       "2 2019-08-01          0              0            0      21.704  \n",
       "3 2019-12-30          0              1            0     455.201  \n",
       "4 2019-09-10          0              0            0    1164.877  "
      ]
     },
     "execution_count": 289,
     "metadata": {},
     "output_type": "execute_result"
    }
   ],
   "source": [
    "for column in ['device_details']:\n",
    "    dfTrain[column]=le.fit_transform(dfTrain[column])\n",
    "    dfTest[column] = le.fit_transform(dfTest[column])\n",
    "dfTrain.head()"
   ]
  },
  {
   "cell_type": "code",
   "execution_count": 290,
   "metadata": {},
   "outputs": [
    {
     "data": {
      "text/html": [
       "<div>\n",
       "<style scoped>\n",
       "    .dataframe tbody tr th:only-of-type {\n",
       "        vertical-align: middle;\n",
       "    }\n",
       "\n",
       "    .dataframe tbody tr th {\n",
       "        vertical-align: top;\n",
       "    }\n",
       "\n",
       "    .dataframe thead th {\n",
       "        text-align: right;\n",
       "    }\n",
       "</style>\n",
       "<table border=\"1\" class=\"dataframe\">\n",
       "  <thead>\n",
       "    <tr style=\"text-align: right;\">\n",
       "      <th></th>\n",
       "      <th>session_id</th>\n",
       "      <th>session_number</th>\n",
       "      <th>client_agent</th>\n",
       "      <th>device_details</th>\n",
       "      <th>date</th>\n",
       "      <th>purchased</th>\n",
       "      <th>added_in_cart</th>\n",
       "      <th>checked_out</th>\n",
       "    </tr>\n",
       "  </thead>\n",
       "  <tbody>\n",
       "    <tr>\n",
       "      <th>0</th>\n",
       "      <td>0bf72b05b2cf70dc5e28c3c09f9c4f97</td>\n",
       "      <td>99</td>\n",
       "      <td>Mozilla/5.0 (Windows NT 6.1; WOW64; Trident/7....</td>\n",
       "      <td>7</td>\n",
       "      <td>2020-01-07</td>\n",
       "      <td>1</td>\n",
       "      <td>0</td>\n",
       "      <td>0</td>\n",
       "    </tr>\n",
       "    <tr>\n",
       "      <th>1</th>\n",
       "      <td>6bc696d99954e4f1367e845465186aef</td>\n",
       "      <td>935</td>\n",
       "      <td>Product/160393 Android/4.3 Device/samsung_GT-I...</td>\n",
       "      <td>0</td>\n",
       "      <td>2020-02-13</td>\n",
       "      <td>0</td>\n",
       "      <td>0</td>\n",
       "      <td>0</td>\n",
       "    </tr>\n",
       "    <tr>\n",
       "      <th>2</th>\n",
       "      <td>3d8611a5ea0f621d205b67f09f663a89</td>\n",
       "      <td>902</td>\n",
       "      <td>Product/4.2.2 iPhone/7.1.2</td>\n",
       "      <td>15</td>\n",
       "      <td>2019-10-14</td>\n",
       "      <td>1</td>\n",
       "      <td>0</td>\n",
       "      <td>0</td>\n",
       "    </tr>\n",
       "    <tr>\n",
       "      <th>3</th>\n",
       "      <td>a0351545c032fd0da36289410c6c3354</td>\n",
       "      <td>3223</td>\n",
       "      <td>Mozilla/5.0 (compatible; MSIE 9.0; Windows NT ...</td>\n",
       "      <td>7</td>\n",
       "      <td>2020-01-26</td>\n",
       "      <td>0</td>\n",
       "      <td>0</td>\n",
       "      <td>0</td>\n",
       "    </tr>\n",
       "    <tr>\n",
       "      <th>4</th>\n",
       "      <td>dd8999772b0ab27225fb05e5df2f1da6</td>\n",
       "      <td>231</td>\n",
       "      <td>Mozilla/5.0 (Windows NT 6.3; WOW64) AppleWebKi...</td>\n",
       "      <td>5</td>\n",
       "      <td>2020-01-29</td>\n",
       "      <td>0</td>\n",
       "      <td>0</td>\n",
       "      <td>0</td>\n",
       "    </tr>\n",
       "  </tbody>\n",
       "</table>\n",
       "</div>"
      ],
      "text/plain": [
       "                         session_id  session_number  \\\n",
       "0  0bf72b05b2cf70dc5e28c3c09f9c4f97              99   \n",
       "1  6bc696d99954e4f1367e845465186aef             935   \n",
       "2  3d8611a5ea0f621d205b67f09f663a89             902   \n",
       "3  a0351545c032fd0da36289410c6c3354            3223   \n",
       "4  dd8999772b0ab27225fb05e5df2f1da6             231   \n",
       "\n",
       "                                        client_agent  device_details  \\\n",
       "0  Mozilla/5.0 (Windows NT 6.1; WOW64; Trident/7....               7   \n",
       "1  Product/160393 Android/4.3 Device/samsung_GT-I...               0   \n",
       "2                         Product/4.2.2 iPhone/7.1.2              15   \n",
       "3  Mozilla/5.0 (compatible; MSIE 9.0; Windows NT ...               7   \n",
       "4  Mozilla/5.0 (Windows NT 6.3; WOW64) AppleWebKi...               5   \n",
       "\n",
       "        date  purchased  added_in_cart  checked_out  \n",
       "0 2020-01-07          1              0            0  \n",
       "1 2020-02-13          0              0            0  \n",
       "2 2019-10-14          1              0            0  \n",
       "3 2020-01-26          0              0            0  \n",
       "4 2020-01-29          0              0            0  "
      ]
     },
     "execution_count": 290,
     "metadata": {},
     "output_type": "execute_result"
    }
   ],
   "source": [
    "dfTest.head()"
   ]
  },
  {
   "cell_type": "code",
   "execution_count": 52,
   "metadata": {},
   "outputs": [],
   "source": [
    "# dfTrain= dfTrain.drop(['session_id','client_agent','device_details'], axis=1)\n",
    "# dfTest = dfTest.drop(['session_id','client_agent','device_details'],axis=1)"
   ]
  },
  {
   "cell_type": "code",
   "execution_count": 291,
   "metadata": {},
   "outputs": [],
   "source": [
    "dfTrain= dfTrain.drop(['session_id','client_agent'], axis=1)\n",
    "dfTest = dfTest.drop(['session_id','client_agent'],axis=1)"
   ]
  },
  {
   "cell_type": "code",
   "execution_count": 292,
   "metadata": {},
   "outputs": [
    {
     "data": {
      "text/html": [
       "<div>\n",
       "<style scoped>\n",
       "    .dataframe tbody tr th:only-of-type {\n",
       "        vertical-align: middle;\n",
       "    }\n",
       "\n",
       "    .dataframe tbody tr th {\n",
       "        vertical-align: top;\n",
       "    }\n",
       "\n",
       "    .dataframe thead th {\n",
       "        text-align: right;\n",
       "    }\n",
       "</style>\n",
       "<table border=\"1\" class=\"dataframe\">\n",
       "  <thead>\n",
       "    <tr style=\"text-align: right;\">\n",
       "      <th></th>\n",
       "      <th>session_number</th>\n",
       "      <th>device_details</th>\n",
       "      <th>date</th>\n",
       "      <th>purchased</th>\n",
       "      <th>added_in_cart</th>\n",
       "      <th>checked_out</th>\n",
       "      <th>time_spent</th>\n",
       "    </tr>\n",
       "  </thead>\n",
       "  <tbody>\n",
       "    <tr>\n",
       "      <th>0</th>\n",
       "      <td>715</td>\n",
       "      <td>6</td>\n",
       "      <td>2020-01-22</td>\n",
       "      <td>1</td>\n",
       "      <td>0</td>\n",
       "      <td>0</td>\n",
       "      <td>236.886</td>\n",
       "    </tr>\n",
       "    <tr>\n",
       "      <th>1</th>\n",
       "      <td>55</td>\n",
       "      <td>16</td>\n",
       "      <td>2020-02-27</td>\n",
       "      <td>1</td>\n",
       "      <td>0</td>\n",
       "      <td>0</td>\n",
       "      <td>1277.455</td>\n",
       "    </tr>\n",
       "    <tr>\n",
       "      <th>2</th>\n",
       "      <td>11</td>\n",
       "      <td>14</td>\n",
       "      <td>2019-08-01</td>\n",
       "      <td>0</td>\n",
       "      <td>0</td>\n",
       "      <td>0</td>\n",
       "      <td>21.704</td>\n",
       "    </tr>\n",
       "    <tr>\n",
       "      <th>3</th>\n",
       "      <td>2794</td>\n",
       "      <td>8</td>\n",
       "      <td>2019-12-30</td>\n",
       "      <td>0</td>\n",
       "      <td>1</td>\n",
       "      <td>0</td>\n",
       "      <td>455.201</td>\n",
       "    </tr>\n",
       "    <tr>\n",
       "      <th>4</th>\n",
       "      <td>3674</td>\n",
       "      <td>15</td>\n",
       "      <td>2019-09-10</td>\n",
       "      <td>0</td>\n",
       "      <td>0</td>\n",
       "      <td>0</td>\n",
       "      <td>1164.877</td>\n",
       "    </tr>\n",
       "  </tbody>\n",
       "</table>\n",
       "</div>"
      ],
      "text/plain": [
       "   session_number  device_details       date  purchased  added_in_cart  \\\n",
       "0             715               6 2020-01-22          1              0   \n",
       "1              55              16 2020-02-27          1              0   \n",
       "2              11              14 2019-08-01          0              0   \n",
       "3            2794               8 2019-12-30          0              1   \n",
       "4            3674              15 2019-09-10          0              0   \n",
       "\n",
       "   checked_out  time_spent  \n",
       "0            0     236.886  \n",
       "1            0    1277.455  \n",
       "2            0      21.704  \n",
       "3            0     455.201  \n",
       "4            0    1164.877  "
      ]
     },
     "execution_count": 292,
     "metadata": {},
     "output_type": "execute_result"
    }
   ],
   "source": [
    "dfTrain.head()"
   ]
  },
  {
   "cell_type": "code",
   "execution_count": 293,
   "metadata": {},
   "outputs": [
    {
     "data": {
      "text/html": [
       "<div>\n",
       "<style scoped>\n",
       "    .dataframe tbody tr th:only-of-type {\n",
       "        vertical-align: middle;\n",
       "    }\n",
       "\n",
       "    .dataframe tbody tr th {\n",
       "        vertical-align: top;\n",
       "    }\n",
       "\n",
       "    .dataframe thead th {\n",
       "        text-align: right;\n",
       "    }\n",
       "</style>\n",
       "<table border=\"1\" class=\"dataframe\">\n",
       "  <thead>\n",
       "    <tr style=\"text-align: right;\">\n",
       "      <th></th>\n",
       "      <th>session_number</th>\n",
       "      <th>device_details</th>\n",
       "      <th>date</th>\n",
       "      <th>purchased</th>\n",
       "      <th>added_in_cart</th>\n",
       "      <th>checked_out</th>\n",
       "    </tr>\n",
       "  </thead>\n",
       "  <tbody>\n",
       "    <tr>\n",
       "      <th>0</th>\n",
       "      <td>99</td>\n",
       "      <td>7</td>\n",
       "      <td>2020-01-07</td>\n",
       "      <td>1</td>\n",
       "      <td>0</td>\n",
       "      <td>0</td>\n",
       "    </tr>\n",
       "    <tr>\n",
       "      <th>1</th>\n",
       "      <td>935</td>\n",
       "      <td>0</td>\n",
       "      <td>2020-02-13</td>\n",
       "      <td>0</td>\n",
       "      <td>0</td>\n",
       "      <td>0</td>\n",
       "    </tr>\n",
       "    <tr>\n",
       "      <th>2</th>\n",
       "      <td>902</td>\n",
       "      <td>15</td>\n",
       "      <td>2019-10-14</td>\n",
       "      <td>1</td>\n",
       "      <td>0</td>\n",
       "      <td>0</td>\n",
       "    </tr>\n",
       "    <tr>\n",
       "      <th>3</th>\n",
       "      <td>3223</td>\n",
       "      <td>7</td>\n",
       "      <td>2020-01-26</td>\n",
       "      <td>0</td>\n",
       "      <td>0</td>\n",
       "      <td>0</td>\n",
       "    </tr>\n",
       "    <tr>\n",
       "      <th>4</th>\n",
       "      <td>231</td>\n",
       "      <td>5</td>\n",
       "      <td>2020-01-29</td>\n",
       "      <td>0</td>\n",
       "      <td>0</td>\n",
       "      <td>0</td>\n",
       "    </tr>\n",
       "  </tbody>\n",
       "</table>\n",
       "</div>"
      ],
      "text/plain": [
       "   session_number  device_details       date  purchased  added_in_cart  \\\n",
       "0              99               7 2020-01-07          1              0   \n",
       "1             935               0 2020-02-13          0              0   \n",
       "2             902              15 2019-10-14          1              0   \n",
       "3            3223               7 2020-01-26          0              0   \n",
       "4             231               5 2020-01-29          0              0   \n",
       "\n",
       "   checked_out  \n",
       "0            0  \n",
       "1            0  \n",
       "2            0  \n",
       "3            0  \n",
       "4            0  "
      ]
     },
     "execution_count": 293,
     "metadata": {},
     "output_type": "execute_result"
    }
   ],
   "source": [
    "dfTest.head()"
   ]
  },
  {
   "cell_type": "code",
   "execution_count": 296,
   "metadata": {},
   "outputs": [
    {
     "data": {
      "text/html": [
       "<div>\n",
       "<style scoped>\n",
       "    .dataframe tbody tr th:only-of-type {\n",
       "        vertical-align: middle;\n",
       "    }\n",
       "\n",
       "    .dataframe tbody tr th {\n",
       "        vertical-align: top;\n",
       "    }\n",
       "\n",
       "    .dataframe thead th {\n",
       "        text-align: right;\n",
       "    }\n",
       "</style>\n",
       "<table border=\"1\" class=\"dataframe\">\n",
       "  <thead>\n",
       "    <tr style=\"text-align: right;\">\n",
       "      <th></th>\n",
       "      <th>session_number</th>\n",
       "      <th>device_details</th>\n",
       "      <th>date</th>\n",
       "      <th>purchased</th>\n",
       "      <th>added_in_cart</th>\n",
       "      <th>checked_out</th>\n",
       "      <th>time_spent</th>\n",
       "      <th>datepurch</th>\n",
       "    </tr>\n",
       "  </thead>\n",
       "  <tbody>\n",
       "    <tr>\n",
       "      <th>0</th>\n",
       "      <td>715</td>\n",
       "      <td>6</td>\n",
       "      <td>2020-01-22</td>\n",
       "      <td>1</td>\n",
       "      <td>0</td>\n",
       "      <td>0</td>\n",
       "      <td>236.886</td>\n",
       "      <td>92 days</td>\n",
       "    </tr>\n",
       "    <tr>\n",
       "      <th>1</th>\n",
       "      <td>55</td>\n",
       "      <td>16</td>\n",
       "      <td>2020-02-27</td>\n",
       "      <td>1</td>\n",
       "      <td>0</td>\n",
       "      <td>0</td>\n",
       "      <td>1277.455</td>\n",
       "      <td>56 days</td>\n",
       "    </tr>\n",
       "    <tr>\n",
       "      <th>2</th>\n",
       "      <td>11</td>\n",
       "      <td>14</td>\n",
       "      <td>2019-08-01</td>\n",
       "      <td>0</td>\n",
       "      <td>0</td>\n",
       "      <td>0</td>\n",
       "      <td>21.704</td>\n",
       "      <td>266 days</td>\n",
       "    </tr>\n",
       "    <tr>\n",
       "      <th>3</th>\n",
       "      <td>2794</td>\n",
       "      <td>8</td>\n",
       "      <td>2019-12-30</td>\n",
       "      <td>0</td>\n",
       "      <td>1</td>\n",
       "      <td>0</td>\n",
       "      <td>455.201</td>\n",
       "      <td>115 days</td>\n",
       "    </tr>\n",
       "    <tr>\n",
       "      <th>4</th>\n",
       "      <td>3674</td>\n",
       "      <td>15</td>\n",
       "      <td>2019-09-10</td>\n",
       "      <td>0</td>\n",
       "      <td>0</td>\n",
       "      <td>0</td>\n",
       "      <td>1164.877</td>\n",
       "      <td>226 days</td>\n",
       "    </tr>\n",
       "  </tbody>\n",
       "</table>\n",
       "</div>"
      ],
      "text/plain": [
       "   session_number  device_details       date  purchased  added_in_cart  \\\n",
       "0             715               6 2020-01-22          1              0   \n",
       "1              55              16 2020-02-27          1              0   \n",
       "2              11              14 2019-08-01          0              0   \n",
       "3            2794               8 2019-12-30          0              1   \n",
       "4            3674              15 2019-09-10          0              0   \n",
       "\n",
       "   checked_out  time_spent datepurch  \n",
       "0            0     236.886   92 days  \n",
       "1            0    1277.455   56 days  \n",
       "2            0      21.704  266 days  \n",
       "3            0     455.201  115 days  \n",
       "4            0    1164.877  226 days  "
      ]
     },
     "execution_count": 296,
     "metadata": {},
     "output_type": "execute_result"
    }
   ],
   "source": [
    "# # convert date column to unique value subtracting the max value \n",
    "dfTrain['datepurch']=dfTrain['date'].max()-dfTrain['date']\n",
    "dfTest['datepurch']=dfTest['date'].max()-dfTest['date']\n",
    "dfTrain.head()"
   ]
  },
  {
   "cell_type": "code",
   "execution_count": 297,
   "metadata": {},
   "outputs": [
    {
     "name": "stdout",
     "output_type": "stream",
     "text": [
      "<class 'pandas.core.frame.DataFrame'>\n",
      "RangeIndex: 5429 entries, 0 to 5428\n",
      "Data columns (total 8 columns):\n",
      " #   Column          Non-Null Count  Dtype          \n",
      "---  ------          --------------  -----          \n",
      " 0   session_number  5429 non-null   int64          \n",
      " 1   device_details  5429 non-null   int32          \n",
      " 2   date            5429 non-null   datetime64[ns] \n",
      " 3   purchased       5429 non-null   int64          \n",
      " 4   added_in_cart   5429 non-null   int64          \n",
      " 5   checked_out     5429 non-null   int64          \n",
      " 6   time_spent      5429 non-null   float64        \n",
      " 7   datepurch       5429 non-null   timedelta64[ns]\n",
      "dtypes: datetime64[ns](1), float64(1), int32(1), int64(4), timedelta64[ns](1)\n",
      "memory usage: 318.2 KB\n"
     ]
    }
   ],
   "source": [
    "dfTrain.info()"
   ]
  },
  {
   "cell_type": "code",
   "execution_count": 298,
   "metadata": {},
   "outputs": [],
   "source": [
    "dfTrain['datepurch']= dfTrain['datepurch'].astype(str)\n",
    "dfTest['datepurch']= dfTest['datepurch'].astype(str)"
   ]
  },
  {
   "cell_type": "code",
   "execution_count": 299,
   "metadata": {},
   "outputs": [],
   "source": [
    "dfTrain['datepurch']= dfTrain['datepurch'].str.split(' ').str[0]\n",
    "dfTest['datepurch']= dfTest['datepurch'].str.split(' ').str[0]"
   ]
  },
  {
   "cell_type": "code",
   "execution_count": 300,
   "metadata": {},
   "outputs": [],
   "source": [
    "dfTrain['datepurch']= dfTrain['datepurch'].astype(int)\n",
    "dfTest['datepurch']= dfTest['datepurch'].astype(int)"
   ]
  },
  {
   "cell_type": "code",
   "execution_count": 301,
   "metadata": {},
   "outputs": [
    {
     "name": "stdout",
     "output_type": "stream",
     "text": [
      "<class 'pandas.core.frame.DataFrame'>\n",
      "RangeIndex: 5429 entries, 0 to 5428\n",
      "Data columns (total 8 columns):\n",
      " #   Column          Non-Null Count  Dtype         \n",
      "---  ------          --------------  -----         \n",
      " 0   session_number  5429 non-null   int64         \n",
      " 1   device_details  5429 non-null   int32         \n",
      " 2   date            5429 non-null   datetime64[ns]\n",
      " 3   purchased       5429 non-null   int64         \n",
      " 4   added_in_cart   5429 non-null   int64         \n",
      " 5   checked_out     5429 non-null   int64         \n",
      " 6   time_spent      5429 non-null   float64       \n",
      " 7   datepurch       5429 non-null   int32         \n",
      "dtypes: datetime64[ns](1), float64(1), int32(2), int64(4)\n",
      "memory usage: 297.0 KB\n"
     ]
    }
   ],
   "source": [
    "dfTrain.info()"
   ]
  },
  {
   "cell_type": "code",
   "execution_count": 302,
   "metadata": {},
   "outputs": [
    {
     "data": {
      "text/html": [
       "<div>\n",
       "<style scoped>\n",
       "    .dataframe tbody tr th:only-of-type {\n",
       "        vertical-align: middle;\n",
       "    }\n",
       "\n",
       "    .dataframe tbody tr th {\n",
       "        vertical-align: top;\n",
       "    }\n",
       "\n",
       "    .dataframe thead th {\n",
       "        text-align: right;\n",
       "    }\n",
       "</style>\n",
       "<table border=\"1\" class=\"dataframe\">\n",
       "  <thead>\n",
       "    <tr style=\"text-align: right;\">\n",
       "      <th></th>\n",
       "      <th>session_number</th>\n",
       "      <th>device_details</th>\n",
       "      <th>purchased</th>\n",
       "      <th>added_in_cart</th>\n",
       "      <th>checked_out</th>\n",
       "      <th>time_spent</th>\n",
       "      <th>datepurch</th>\n",
       "    </tr>\n",
       "  </thead>\n",
       "  <tbody>\n",
       "    <tr>\n",
       "      <th>0</th>\n",
       "      <td>715</td>\n",
       "      <td>6</td>\n",
       "      <td>1</td>\n",
       "      <td>0</td>\n",
       "      <td>0</td>\n",
       "      <td>236.886</td>\n",
       "      <td>92</td>\n",
       "    </tr>\n",
       "    <tr>\n",
       "      <th>1</th>\n",
       "      <td>55</td>\n",
       "      <td>16</td>\n",
       "      <td>1</td>\n",
       "      <td>0</td>\n",
       "      <td>0</td>\n",
       "      <td>1277.455</td>\n",
       "      <td>56</td>\n",
       "    </tr>\n",
       "    <tr>\n",
       "      <th>2</th>\n",
       "      <td>11</td>\n",
       "      <td>14</td>\n",
       "      <td>0</td>\n",
       "      <td>0</td>\n",
       "      <td>0</td>\n",
       "      <td>21.704</td>\n",
       "      <td>266</td>\n",
       "    </tr>\n",
       "    <tr>\n",
       "      <th>3</th>\n",
       "      <td>2794</td>\n",
       "      <td>8</td>\n",
       "      <td>0</td>\n",
       "      <td>1</td>\n",
       "      <td>0</td>\n",
       "      <td>455.201</td>\n",
       "      <td>115</td>\n",
       "    </tr>\n",
       "    <tr>\n",
       "      <th>4</th>\n",
       "      <td>3674</td>\n",
       "      <td>15</td>\n",
       "      <td>0</td>\n",
       "      <td>0</td>\n",
       "      <td>0</td>\n",
       "      <td>1164.877</td>\n",
       "      <td>226</td>\n",
       "    </tr>\n",
       "  </tbody>\n",
       "</table>\n",
       "</div>"
      ],
      "text/plain": [
       "   session_number  device_details  purchased  added_in_cart  checked_out  \\\n",
       "0             715               6          1              0            0   \n",
       "1              55              16          1              0            0   \n",
       "2              11              14          0              0            0   \n",
       "3            2794               8          0              1            0   \n",
       "4            3674              15          0              0            0   \n",
       "\n",
       "   time_spent  datepurch  \n",
       "0     236.886         92  \n",
       "1    1277.455         56  \n",
       "2      21.704        266  \n",
       "3     455.201        115  \n",
       "4    1164.877        226  "
      ]
     },
     "execution_count": 302,
     "metadata": {},
     "output_type": "execute_result"
    }
   ],
   "source": [
    "dfTrain=dfTrain.drop('date',axis=1)\n",
    "dfTest=dfTest.drop('date',axis=1)\n",
    "dfTrain.head()"
   ]
  },
  {
   "cell_type": "code",
   "execution_count": 303,
   "metadata": {},
   "outputs": [
    {
     "data": {
      "text/html": [
       "<div>\n",
       "<style scoped>\n",
       "    .dataframe tbody tr th:only-of-type {\n",
       "        vertical-align: middle;\n",
       "    }\n",
       "\n",
       "    .dataframe tbody tr th {\n",
       "        vertical-align: top;\n",
       "    }\n",
       "\n",
       "    .dataframe thead th {\n",
       "        text-align: right;\n",
       "    }\n",
       "</style>\n",
       "<table border=\"1\" class=\"dataframe\">\n",
       "  <thead>\n",
       "    <tr style=\"text-align: right;\">\n",
       "      <th></th>\n",
       "      <th>session_number</th>\n",
       "      <th>device_details</th>\n",
       "      <th>purchased</th>\n",
       "      <th>added_in_cart</th>\n",
       "      <th>checked_out</th>\n",
       "      <th>datepurch</th>\n",
       "    </tr>\n",
       "  </thead>\n",
       "  <tbody>\n",
       "    <tr>\n",
       "      <th>0</th>\n",
       "      <td>99</td>\n",
       "      <td>7</td>\n",
       "      <td>1</td>\n",
       "      <td>0</td>\n",
       "      <td>0</td>\n",
       "      <td>103</td>\n",
       "    </tr>\n",
       "    <tr>\n",
       "      <th>1</th>\n",
       "      <td>935</td>\n",
       "      <td>0</td>\n",
       "      <td>0</td>\n",
       "      <td>0</td>\n",
       "      <td>0</td>\n",
       "      <td>66</td>\n",
       "    </tr>\n",
       "    <tr>\n",
       "      <th>2</th>\n",
       "      <td>902</td>\n",
       "      <td>15</td>\n",
       "      <td>1</td>\n",
       "      <td>0</td>\n",
       "      <td>0</td>\n",
       "      <td>188</td>\n",
       "    </tr>\n",
       "    <tr>\n",
       "      <th>3</th>\n",
       "      <td>3223</td>\n",
       "      <td>7</td>\n",
       "      <td>0</td>\n",
       "      <td>0</td>\n",
       "      <td>0</td>\n",
       "      <td>84</td>\n",
       "    </tr>\n",
       "    <tr>\n",
       "      <th>4</th>\n",
       "      <td>231</td>\n",
       "      <td>5</td>\n",
       "      <td>0</td>\n",
       "      <td>0</td>\n",
       "      <td>0</td>\n",
       "      <td>81</td>\n",
       "    </tr>\n",
       "  </tbody>\n",
       "</table>\n",
       "</div>"
      ],
      "text/plain": [
       "   session_number  device_details  purchased  added_in_cart  checked_out  \\\n",
       "0              99               7          1              0            0   \n",
       "1             935               0          0              0            0   \n",
       "2             902              15          1              0            0   \n",
       "3            3223               7          0              0            0   \n",
       "4             231               5          0              0            0   \n",
       "\n",
       "   datepurch  \n",
       "0        103  \n",
       "1         66  \n",
       "2        188  \n",
       "3         84  \n",
       "4         81  "
      ]
     },
     "execution_count": 303,
     "metadata": {},
     "output_type": "execute_result"
    }
   ],
   "source": [
    "dfTest.head()"
   ]
  },
  {
   "cell_type": "code",
   "execution_count": 304,
   "metadata": {},
   "outputs": [
    {
     "data": {
      "text/plain": [
       "(2327, 6)"
      ]
     },
     "execution_count": 304,
     "metadata": {},
     "output_type": "execute_result"
    }
   ],
   "source": [
    "dfTest.shape"
   ]
  },
  {
   "cell_type": "code",
   "execution_count": 305,
   "metadata": {},
   "outputs": [],
   "source": [
    "X=dfTrain.drop('time_spent',axis=1)\n",
    "y=dfTrain['time_spent']"
   ]
  },
  {
   "cell_type": "code",
   "execution_count": 306,
   "metadata": {},
   "outputs": [
    {
     "data": {
      "text/html": [
       "<div>\n",
       "<style scoped>\n",
       "    .dataframe tbody tr th:only-of-type {\n",
       "        vertical-align: middle;\n",
       "    }\n",
       "\n",
       "    .dataframe tbody tr th {\n",
       "        vertical-align: top;\n",
       "    }\n",
       "\n",
       "    .dataframe thead th {\n",
       "        text-align: right;\n",
       "    }\n",
       "</style>\n",
       "<table border=\"1\" class=\"dataframe\">\n",
       "  <thead>\n",
       "    <tr style=\"text-align: right;\">\n",
       "      <th></th>\n",
       "      <th>session_number</th>\n",
       "      <th>device_details</th>\n",
       "      <th>purchased</th>\n",
       "      <th>added_in_cart</th>\n",
       "      <th>checked_out</th>\n",
       "      <th>datepurch</th>\n",
       "    </tr>\n",
       "  </thead>\n",
       "  <tbody>\n",
       "    <tr>\n",
       "      <th>0</th>\n",
       "      <td>715</td>\n",
       "      <td>6</td>\n",
       "      <td>1</td>\n",
       "      <td>0</td>\n",
       "      <td>0</td>\n",
       "      <td>92</td>\n",
       "    </tr>\n",
       "    <tr>\n",
       "      <th>1</th>\n",
       "      <td>55</td>\n",
       "      <td>16</td>\n",
       "      <td>1</td>\n",
       "      <td>0</td>\n",
       "      <td>0</td>\n",
       "      <td>56</td>\n",
       "    </tr>\n",
       "    <tr>\n",
       "      <th>2</th>\n",
       "      <td>11</td>\n",
       "      <td>14</td>\n",
       "      <td>0</td>\n",
       "      <td>0</td>\n",
       "      <td>0</td>\n",
       "      <td>266</td>\n",
       "    </tr>\n",
       "    <tr>\n",
       "      <th>3</th>\n",
       "      <td>2794</td>\n",
       "      <td>8</td>\n",
       "      <td>0</td>\n",
       "      <td>1</td>\n",
       "      <td>0</td>\n",
       "      <td>115</td>\n",
       "    </tr>\n",
       "    <tr>\n",
       "      <th>4</th>\n",
       "      <td>3674</td>\n",
       "      <td>15</td>\n",
       "      <td>0</td>\n",
       "      <td>0</td>\n",
       "      <td>0</td>\n",
       "      <td>226</td>\n",
       "    </tr>\n",
       "  </tbody>\n",
       "</table>\n",
       "</div>"
      ],
      "text/plain": [
       "   session_number  device_details  purchased  added_in_cart  checked_out  \\\n",
       "0             715               6          1              0            0   \n",
       "1              55              16          1              0            0   \n",
       "2              11              14          0              0            0   \n",
       "3            2794               8          0              1            0   \n",
       "4            3674              15          0              0            0   \n",
       "\n",
       "   datepurch  \n",
       "0         92  \n",
       "1         56  \n",
       "2        266  \n",
       "3        115  \n",
       "4        226  "
      ]
     },
     "execution_count": 306,
     "metadata": {},
     "output_type": "execute_result"
    }
   ],
   "source": [
    "X.head()"
   ]
  },
  {
   "cell_type": "markdown",
   "metadata": {},
   "source": [
    "# Linear Regression"
   ]
  },
  {
   "cell_type": "code",
   "execution_count": 307,
   "metadata": {},
   "outputs": [],
   "source": [
    "from sklearn.linear_model import LinearRegression\n",
    "from sklearn.model_selection import train_test_split"
   ]
  },
  {
   "cell_type": "code",
   "execution_count": 308,
   "metadata": {},
   "outputs": [],
   "source": [
    "X_train,X_test,y_train,y_test= train_test_split(X,y,test_size=0.1,random_state=2)"
   ]
  },
  {
   "cell_type": "code",
   "execution_count": 310,
   "metadata": {},
   "outputs": [],
   "source": [
    "model=LinearRegression()\n",
    "model.fit(X,y)\n",
    "y_pred=abs(model.predict(X_test))"
   ]
  },
  {
   "cell_type": "code",
   "execution_count": 311,
   "metadata": {},
   "outputs": [
    {
     "data": {
      "text/plain": [
       "array([1.17308890e+03, 1.71769688e+02, 8.89612978e+02, 1.11256037e+03,\n",
       "       4.47937302e+02, 1.28109221e+03, 1.14291093e+03, 3.75097416e+02,\n",
       "       1.29470042e+03, 1.81652236e+02, 2.51809790e+02, 4.04220073e+02,\n",
       "       2.01306909e+03, 1.55206816e+02, 1.13180782e+03, 4.08282819e+02,\n",
       "       1.31726681e+02, 1.38407182e+03, 3.01177448e+02, 2.60733082e+02,\n",
       "       1.95529303e+02, 4.37690445e+02, 3.40233959e+03, 8.56037123e+02,\n",
       "       4.71501589e+02, 4.04273047e+02, 1.17370554e+03, 1.46866984e+02,\n",
       "       8.39574995e+02, 3.78659398e+02, 2.01566240e+02, 1.28928345e+03,\n",
       "       4.17229657e+02, 3.47275448e+02, 3.79452487e+02, 1.15722102e+03,\n",
       "       3.28379575e+02, 1.35330349e+03, 1.31843661e+03, 3.44927595e+02,\n",
       "       1.01379863e+02, 4.20129517e+02, 7.84288668e+01, 2.20018434e+03,\n",
       "       3.37738876e+02, 1.61665186e+02, 8.50756118e+01, 1.62993571e+02,\n",
       "       3.99871681e+02, 1.17935462e+03, 1.30170058e+02, 1.98475679e+03,\n",
       "       4.82008521e+02, 3.53093903e+02, 1.08679847e+03, 3.45855281e+02,\n",
       "       3.49204672e+02, 1.12061254e+03, 3.65623859e+02, 2.12132660e+03,\n",
       "       3.32892521e+03, 6.20228003e+01, 1.39434497e+02, 3.13141214e+02,\n",
       "       2.34213543e+02, 3.26016467e+02, 3.25197147e+02, 7.39077971e+02,\n",
       "       2.03155378e+02, 3.38841826e+02, 6.12358150e+02, 1.66518493e+02,\n",
       "       3.83941761e+02, 2.25573095e+02, 2.97666708e+02, 2.43200243e+01,\n",
       "       2.07856894e+03, 1.28601676e+03, 5.56367578e+02, 1.05514334e+03,\n",
       "       2.91569166e+02, 3.42097301e+02, 4.67004683e+02, 4.96150885e+02,\n",
       "       3.97664699e+02, 2.59012022e+02, 3.34834463e+02, 3.78896999e+02,\n",
       "       1.62172903e+02, 9.66540316e+02, 2.21728196e+03, 2.55461813e+02,\n",
       "       4.05808936e+02, 1.00765339e+03, 2.07735569e+03, 1.37615401e+03,\n",
       "       2.94292433e+02, 5.47532587e+02, 4.13798918e+02, 2.64857780e+02,\n",
       "       8.49795681e+02, 3.19109245e+02, 6.73902951e+02, 1.25330469e+03,\n",
       "       2.45967396e+02, 3.81111200e+02, 9.79414810e+02, 3.07891082e+02,\n",
       "       1.29170823e+03, 8.35380329e+02, 2.95440065e+02, 3.39863428e+02,\n",
       "       5.68740326e+02, 1.21515975e+03, 1.64126627e+02, 2.04430505e+02,\n",
       "       4.01564207e+01, 4.04790403e+02, 5.18434154e+02, 2.47355717e+02,\n",
       "       4.56705128e+02, 3.01110961e+02, 2.21903800e+02, 1.12720618e+03,\n",
       "       9.42534903e+01, 7.64722797e+02, 2.71676977e+02, 1.23641720e+02,\n",
       "       1.14366464e+03, 1.27185377e+03, 3.78467541e+02, 1.39201395e+03,\n",
       "       3.54891206e+02, 1.20736990e+01, 1.10263207e+03, 3.98096576e+02,\n",
       "       4.76359992e+01, 4.10720046e+02, 1.63337806e+02, 1.68926952e+02,\n",
       "       7.56897912e+02, 4.37554383e+02, 6.05902190e+02, 4.34021829e+02,\n",
       "       1.39228795e+03, 5.78509287e+02, 1.99266147e+02, 2.26647689e+03,\n",
       "       1.96315438e+02, 3.65780355e+00, 4.28385867e+02, 8.22310719e+02,\n",
       "       2.06033157e+02, 4.33962295e+02, 3.29933788e+02, 3.03884122e+02,\n",
       "       5.55713842e+01, 3.82930593e+02, 3.58219737e+02, 4.15454553e+02,\n",
       "       6.78540358e-01, 3.80034206e+02, 1.18779050e+02, 1.89322993e+02,\n",
       "       2.11567783e+03, 1.15786548e+03, 2.62490129e+02, 1.35615531e+03,\n",
       "       1.36831716e+03, 1.17416068e+03, 3.98620493e+02, 1.05740475e+03,\n",
       "       1.35950149e+03, 5.45608576e+02, 1.16908944e+03, 5.76755987e+02,\n",
       "       3.05312581e+02, 1.38875267e+03, 7.32928116e+02, 3.05056647e+02,\n",
       "       1.30899833e+03, 5.12107696e+02, 1.18440848e+03, 5.08171931e+00,\n",
       "       1.19109691e+03, 4.22638452e+02, 1.69042280e+02, 3.67271193e+02,\n",
       "       7.26286190e+02, 3.36408081e+02, 1.36506892e+03, 1.36168077e+03,\n",
       "       2.04942256e+02, 1.17854372e+03, 3.02192210e+01, 1.16082267e+03,\n",
       "       4.65932508e+02, 5.68093341e+01, 1.17896919e+03, 2.37210005e+02,\n",
       "       5.11591402e+02, 9.76704754e+02, 1.46062429e+01, 1.27073864e+03,\n",
       "       4.10284028e+02, 1.36686623e+02, 9.71067355e+02, 1.05374382e+02,\n",
       "       1.80858872e+02, 7.35527762e+02, 7.08752290e+02, 1.18102389e+03,\n",
       "       1.06873488e+03, 9.68615277e+02, 3.73976802e+02, 4.94111036e+01,\n",
       "       1.11091940e+03, 7.50293046e+02, 1.90760816e+02, 1.44114026e+03,\n",
       "       1.06717826e+03, 1.49477725e+02, 2.07501284e+03, 5.64681052e+02,\n",
       "       1.85906839e+02, 4.04082261e+02, 3.08791750e+02, 4.34228940e+02,\n",
       "       1.24807570e+03, 1.82959878e+02, 1.29873986e+02, 4.71131388e+02,\n",
       "       2.34064637e+02, 1.27946855e+01, 2.27282688e+03, 2.60874356e+02,\n",
       "       6.25410684e+02, 3.27321307e+02, 7.02296330e+02, 1.56233238e+02,\n",
       "       5.55937844e+02, 1.36656525e+03, 1.09978258e+03, 2.69536226e+02,\n",
       "       3.95481685e+02, 9.79845150e+01, 9.96272415e+02, 1.91623086e+02,\n",
       "       1.12753980e+03, 2.23760307e+03, 1.25031934e+03, 2.02643627e+02,\n",
       "       4.03470722e+02, 3.56511129e+02, 1.60239286e+03, 7.25521594e+02,\n",
       "       2.23039945e+02, 2.32343184e+02, 1.39999268e+03, 8.14115392e+01,\n",
       "       1.34768632e+03, 1.30632650e+03, 1.09849367e+03, 4.05297059e+02,\n",
       "       9.04359677e+01, 1.77255680e+02, 5.89479531e+02, 1.55977697e+02,\n",
       "       2.57988010e+02, 1.98067666e+02, 1.03177478e+03, 2.80046936e-01,\n",
       "       1.23159659e+03, 2.38757518e+03, 1.82110453e+02, 1.89356569e+03,\n",
       "       4.25800137e+02, 1.28932328e+03, 1.30474752e+03, 2.88371887e+02,\n",
       "       1.13727829e+03, 5.20636573e+02, 4.63193870e+01, 4.96036226e+02,\n",
       "       5.63787595e+00, 1.18009916e+03, 2.15513738e+03, 4.20648614e+02,\n",
       "       1.07526840e+03, 4.53453125e+02, 5.78113809e+02, 2.27464590e+02,\n",
       "       1.32734172e+03, 5.49533795e+02, 4.99026128e+02, 9.99369228e+02,\n",
       "       1.06414715e+03, 5.45983587e+02, 2.06324016e+02, 1.35884700e+03,\n",
       "       1.12092836e+02, 7.15188845e+02, 2.28644069e+02, 1.34123336e+03,\n",
       "       4.18367926e+02, 1.34802660e+03, 1.32530879e+03, 1.00684371e+03,\n",
       "       1.03871183e+03, 4.33386743e+02, 4.05231241e+02, 1.12326717e+03,\n",
       "       1.28860703e+03, 2.66377344e+02, 1.11513887e+03, 1.75180353e+02,\n",
       "       5.55453387e+02, 3.41584488e+02, 4.10789611e+02, 1.22135495e+03,\n",
       "       3.85259445e+02, 3.64772290e+02, 1.46726093e+02, 4.04268227e+02,\n",
       "       3.72820869e+02, 5.11184830e+02, 5.12643110e+02, 4.36192420e+02,\n",
       "       1.00973808e+03, 1.19899069e+03, 3.29543130e+02, 3.14916319e+02,\n",
       "       4.29506875e+02, 8.20386129e+02, 2.22276969e+03, 3.41429297e+02,\n",
       "       3.60841858e+02, 1.22628905e+03, 3.32097291e+01, 2.00804625e+01,\n",
       "       1.04800674e+03, 4.19945292e+02, 2.68183892e+02, 1.11527600e+03,\n",
       "       4.32651574e+02, 1.38565713e+03, 4.36924468e+01, 1.58566061e+03,\n",
       "       9.95793456e+02, 7.49728598e+02, 2.10106890e+02, 2.22718586e+02,\n",
       "       1.42890523e+02, 4.13679448e+02, 1.35345519e+03, 4.56572135e+02,\n",
       "       1.86627392e+03, 1.98812198e+02, 9.83161293e+02, 4.32704154e+02,\n",
       "       1.37838808e+03, 1.38600886e+03, 9.24433362e+02, 3.69967432e+02,\n",
       "       3.36229345e+02, 7.65853444e+02, 5.52282348e+02, 1.10428876e+03,\n",
       "       7.04679194e+01, 4.10963135e+02, 1.28572388e+03, 1.29820595e+03,\n",
       "       3.65584390e+02, 1.08394783e+02, 3.34203519e+02, 4.83085465e+01,\n",
       "       1.18234050e+03, 3.99369397e+01, 1.22279771e+03, 1.03606392e+03,\n",
       "       2.19196463e+03, 1.79863618e+02, 2.06472653e+03, 1.23525054e+02,\n",
       "       4.53411522e+02, 2.81012732e+02, 1.21579464e+03, 5.52773071e+02,\n",
       "       3.88469559e+02, 3.00284809e+00, 6.57174188e+02, 2.23198214e+02,\n",
       "       1.29757753e+03, 3.06015501e+02, 1.08478838e+03, 3.18575965e+02,\n",
       "       1.35692441e+02, 4.35064852e+02, 4.46524766e+02, 5.60927606e+02,\n",
       "       1.99315561e+01, 5.43535659e+02, 1.96277121e+03, 3.83907514e+02,\n",
       "       1.41909325e+03, 1.34081743e+03, 2.30884895e+02, 4.93254095e+02,\n",
       "       1.24394299e+03, 3.41041442e+02, 4.34636190e+02, 1.28163158e+03,\n",
       "       7.12302499e+02, 4.38935751e+02, 6.82778473e+02, 5.07148433e+02,\n",
       "       1.24126267e+03, 1.85474972e+02, 2.32640997e+02, 3.83416772e+02,\n",
       "       3.11227629e+02, 1.28558043e+02, 9.06682318e+02, 1.15913878e+03,\n",
       "       4.00590926e+02, 2.12135188e+01, 1.35426938e+03, 1.26708113e+03,\n",
       "       6.07826201e+02, 1.20336342e+02, 1.92997894e+02, 1.16259777e+03,\n",
       "       1.29446911e+03, 1.30730702e+03, 3.06261805e+02, 1.10635592e+03,\n",
       "       3.34442467e+02, 5.17831290e+02, 1.34202926e+03, 1.90069266e+02,\n",
       "       1.39186504e+03, 9.89013728e+02, 9.75316344e+02, 3.69818526e+02,\n",
       "       1.29579828e+03, 1.99228418e+02, 1.24910762e+03, 9.75120069e+02,\n",
       "       3.84085179e+02, 1.25004412e+03, 4.97102117e+02, 2.77171664e+02,\n",
       "       1.22690479e+02, 1.07171820e+03, 3.51926198e+02, 3.96363351e+02,\n",
       "       2.19618501e+03, 2.76690964e+02, 5.01625105e+02, 1.27204618e+03,\n",
       "       1.58027345e+02, 1.22246738e+03, 1.84131735e+02, 5.04664115e+02,\n",
       "       4.18051780e+02, 1.85565014e+02, 4.42797286e+02, 3.86188871e+02,\n",
       "       3.91857348e+02, 3.36304928e+01, 1.14834550e+03, 1.86333092e+02,\n",
       "       2.00261400e+02, 4.13652412e+02, 1.17029121e+03, 3.13362223e+02,\n",
       "       1.35726790e+03, 1.23092683e+03, 2.34424660e+03, 1.18068609e+03,\n",
       "       1.31157221e+03, 1.40177020e+03, 3.31160634e+02, 5.47102460e+02,\n",
       "       1.13574268e+03, 1.71606992e+02, 2.91399124e+02, 1.37273825e+03,\n",
       "       1.24344273e+03, 1.36201426e+03, 1.21303899e+02, 4.67658780e+02,\n",
       "       4.87564002e+01, 2.18665293e+03, 8.85876616e+02, 2.96232367e+02,\n",
       "       3.78295089e+02, 2.49130821e+02, 1.13301018e+03, 4.20128731e+01,\n",
       "       9.30267927e+02, 2.02016951e+03, 4.86274504e+02, 1.18461556e+02,\n",
       "       3.51630125e+02, 2.04427162e+03, 9.38649663e+01, 1.82345775e+03,\n",
       "       2.23358894e+02, 2.23777248e+02, 4.30383997e+02, 1.82169317e+02,\n",
       "       1.16787263e+03, 1.12148725e+03, 4.27921887e+02, 1.33714612e+03,\n",
       "       7.23746489e+02, 1.57239821e+01, 7.69770362e+02, 1.04262007e+03,\n",
       "       3.16154662e+02, 1.42592031e+02, 4.90056030e+02, 3.60246232e+02,\n",
       "       1.21121659e+03, 1.80239700e+02, 6.12836047e+02, 1.11438952e+03,\n",
       "       1.37517895e+03, 4.58724393e+02, 1.24434968e+01, 2.65334606e+02,\n",
       "       1.01881171e+03, 3.56792580e+01, 3.81727569e+02, 2.86498046e+02,\n",
       "       8.41496574e+01, 1.14563645e+03, 1.34707576e+03, 3.40836408e+03,\n",
       "       3.40589234e+02, 1.78386327e+02, 5.86091187e+01])"
      ]
     },
     "execution_count": 311,
     "metadata": {},
     "output_type": "execute_result"
    }
   ],
   "source": [
    "y_pred"
   ]
  },
  {
   "cell_type": "code",
   "execution_count": 312,
   "metadata": {},
   "outputs": [],
   "source": [
    "# #validation test results \n",
    "# pred_submission=pd.DataFrame({'time_spent':y_pred})\n",
    "# pred_submission.to_csv('pred_submission.csv',index=False)"
   ]
  },
  {
   "cell_type": "code",
   "execution_count": 313,
   "metadata": {},
   "outputs": [],
   "source": [
    "from sklearn.metrics import mean_squared_log_error"
   ]
  },
  {
   "cell_type": "code",
   "execution_count": 314,
   "metadata": {},
   "outputs": [
    {
     "data": {
      "text/plain": [
       "2.0733439465196417"
      ]
     },
     "execution_count": 314,
     "metadata": {},
     "output_type": "execute_result"
    }
   ],
   "source": [
    "msle= np.sqrt(mean_squared_log_error(y_test,y_pred))\n",
    "msle"
   ]
  },
  {
   "cell_type": "code",
   "execution_count": 315,
   "metadata": {},
   "outputs": [],
   "source": [
    "y_pred_test=abs(model.predict(dfTest))"
   ]
  },
  {
   "cell_type": "code",
   "execution_count": 316,
   "metadata": {},
   "outputs": [
    {
     "data": {
      "text/plain": [
       "2327"
      ]
     },
     "execution_count": 316,
     "metadata": {},
     "output_type": "execute_result"
    }
   ],
   "source": [
    "len(y_pred_test)"
   ]
  },
  {
   "cell_type": "code",
   "execution_count": 317,
   "metadata": {},
   "outputs": [],
   "source": [
    "# samplesubmission = pd.DataFrame({'time_spent':y_pred_test})\n",
    "# samplesubmission.to_csv('samplesubmissionLR.csv',index=False)"
   ]
  },
  {
   "cell_type": "code",
   "execution_count": 318,
   "metadata": {},
   "outputs": [],
   "source": [
    "from sklearn.linear_model import Lasso\n",
    "from sklearn.linear_model import ElasticNet\n",
    "from sklearn.tree import DecisionTreeRegressor\n",
    "from sklearn.neighbors import KNeighborsRegressor\n",
    "from sklearn.ensemble import GradientBoostingRegressor"
   ]
  },
  {
   "cell_type": "markdown",
   "metadata": {},
   "source": [
    "# DecisionTree Regressor"
   ]
  },
  {
   "cell_type": "code",
   "execution_count": 319,
   "metadata": {},
   "outputs": [],
   "source": [
    "modelDTR = DecisionTreeRegressor()"
   ]
  },
  {
   "cell_type": "code",
   "execution_count": 320,
   "metadata": {},
   "outputs": [
    {
     "data": {
      "text/plain": [
       "DecisionTreeRegressor()"
      ]
     },
     "execution_count": 320,
     "metadata": {},
     "output_type": "execute_result"
    }
   ],
   "source": [
    "modelDTR.fit(X,y)"
   ]
  },
  {
   "cell_type": "code",
   "execution_count": 321,
   "metadata": {},
   "outputs": [],
   "source": [
    "y_pred_test=abs(modelDTR.predict(dfTest))"
   ]
  },
  {
   "cell_type": "code",
   "execution_count": 322,
   "metadata": {},
   "outputs": [],
   "source": [
    "samplesubmissionDT = pd.DataFrame({'time_spent':y_pred_test})\n",
    "samplesubmissionDT.to_csv('submissionDT.csv',index=False)"
   ]
  },
  {
   "cell_type": "markdown",
   "metadata": {},
   "source": [
    "# Random Forest Regressor"
   ]
  },
  {
   "cell_type": "code",
   "execution_count": 323,
   "metadata": {},
   "outputs": [
    {
     "data": {
      "text/plain": [
       "RandomForestRegressor(random_state=0)"
      ]
     },
     "execution_count": 323,
     "metadata": {},
     "output_type": "execute_result"
    }
   ],
   "source": [
    "from sklearn.ensemble import RandomForestRegressor\n",
    "modelRFR = RandomForestRegressor(n_estimators = 100, random_state = 0)\n",
    "modelRFR.fit(X, y)"
   ]
  },
  {
   "cell_type": "code",
   "execution_count": 324,
   "metadata": {},
   "outputs": [],
   "source": [
    "y_pred_test= abs(modelRFR.predict(dfTest))"
   ]
  },
  {
   "cell_type": "code",
   "execution_count": 325,
   "metadata": {},
   "outputs": [],
   "source": [
    "samplesubmissionRF = pd.DataFrame({'time_spent':y_pred_test})\n",
    "samplesubmissionRF.to_csv('SubmissionRF.csv',index=False)"
   ]
  },
  {
   "cell_type": "markdown",
   "metadata": {},
   "source": [
    "# Gradient Boosting Regresssor"
   ]
  },
  {
   "cell_type": "code",
   "execution_count": 326,
   "metadata": {},
   "outputs": [
    {
     "data": {
      "text/plain": [
       "GradientBoostingRegressor(random_state=0)"
      ]
     },
     "execution_count": 326,
     "metadata": {},
     "output_type": "execute_result"
    }
   ],
   "source": [
    "from sklearn.ensemble import GradientBoostingRegressor\n",
    "modelGBR = GradientBoostingRegressor(random_state = 0)\n",
    "modelGBR.fit(X, y)"
   ]
  },
  {
   "cell_type": "code",
   "execution_count": 327,
   "metadata": {},
   "outputs": [],
   "source": [
    "y_pred_test=abs(modelGBR.predict(dfTest))"
   ]
  },
  {
   "cell_type": "code",
   "execution_count": 328,
   "metadata": {},
   "outputs": [],
   "source": [
    "samplesubmissionGB = pd.DataFrame({'time_spent':y_pred_test})\n",
    "samplesubmissionGB.to_csv('SubmissionGB.csv',index=False)"
   ]
  },
  {
   "cell_type": "markdown",
   "metadata": {},
   "source": [
    "# Support vector Regressor"
   ]
  },
  {
   "cell_type": "code",
   "execution_count": 329,
   "metadata": {},
   "outputs": [
    {
     "data": {
      "text/plain": [
       "SVR(degree=7, kernel='poly')"
      ]
     },
     "execution_count": 329,
     "metadata": {},
     "output_type": "execute_result"
    }
   ],
   "source": [
    "from sklearn.svm import SVR\n",
    "modelSVR = SVR(kernel = 'poly',degree=7)\n",
    "modelSVR.fit(X, y)"
   ]
  },
  {
   "cell_type": "code",
   "execution_count": 330,
   "metadata": {},
   "outputs": [],
   "source": [
    "y_pred_test=abs(modelSVR.predict(dfTest))"
   ]
  },
  {
   "cell_type": "code",
   "execution_count": 331,
   "metadata": {},
   "outputs": [],
   "source": [
    "samplesubmission = pd.DataFrame({'time_spent':y_pred_test})\n",
    "samplesubmission.to_csv('SubmissionSVR.csv',index=False)"
   ]
  },
  {
   "cell_type": "code",
   "execution_count": 332,
   "metadata": {},
   "outputs": [
    {
     "data": {
      "text/plain": [
       "<AxesSubplot:ylabel='Density'>"
      ]
     },
     "execution_count": 332,
     "metadata": {},
     "output_type": "execute_result"
    },
    {
     "data": {
      "image/png": "[encoded data removed]",
      "text/plain": [
       "<Figure size 432x288 with 1 Axes>"
      ]
     },
     "metadata": {
      "needs_background": "light"
     },
     "output_type": "display_data"
    }
   ],
   "source": [
    "sns.kdeplot(y_pred_test)"
   ]
  },
  {
   "cell_type": "markdown",
   "metadata": {},
   "source": [
    "# Support Vector Regressor with MinMaxScaler"
   ]
  },
  {
   "cell_type": "code",
   "execution_count": null,
   "metadata": {},
   "outputs": [],
   "source": [
    "y=dfTrain['time_spent'].values"
   ]
  },
  {
   "cell_type": "code",
   "execution_count": null,
   "metadata": {},
   "outputs": [],
   "source": [
    "y.shape"
   ]
  },
  {
   "cell_type": "code",
   "execution_count": null,
   "metadata": {},
   "outputs": [],
   "source": [
    "y=y.reshape(-1,1)"
   ]
  },
  {
   "cell_type": "code",
   "execution_count": null,
   "metadata": {},
   "outputs": [],
   "source": [
    "y.shape"
   ]
  },
  {
   "cell_type": "code",
   "execution_count": null,
   "metadata": {},
   "outputs": [],
   "source": [
    "from sklearn.preprocessing import StandardScaler\n",
    "scaler1 = StandardScaler()\n",
    "scaler2= StandardScaler()\n",
    "scaler3 = StandardScaler()\n",
    "train = scaler1.fit_transform(dfTrain.drop('time_spent',axis=1))\n",
    "target =scaler2.fit_transform(y)\n",
    "test =scaler3.fit_transform(dfTest)"
   ]
  },
  {
   "cell_type": "code",
   "execution_count": null,
   "metadata": {},
   "outputs": [],
   "source": [
    "train_df=pd.DataFrame(train)\n",
    "test_df =pd.DataFrame(test)\n",
    "target_df =pd.DataFrame(target)"
   ]
  },
  {
   "cell_type": "code",
   "execution_count": null,
   "metadata": {},
   "outputs": [],
   "source": [
    "test_df.shape"
   ]
  },
  {
   "cell_type": "code",
   "execution_count": null,
   "metadata": {},
   "outputs": [],
   "source": [
    "train_df.shape"
   ]
  },
  {
   "cell_type": "code",
   "execution_count": null,
   "metadata": {},
   "outputs": [],
   "source": [
    "target_df.shape"
   ]
  },
  {
   "cell_type": "code",
   "execution_count": null,
   "metadata": {},
   "outputs": [],
   "source": [
    "train_df.columns =dfTrain.drop('time_spent',axis=1).columns\n",
    "test_df.columns = dfTest.columns\n",
    "target_df.columns =['time_spent']"
   ]
  },
  {
   "cell_type": "code",
   "execution_count": null,
   "metadata": {},
   "outputs": [],
   "source": [
    "train_df.head()"
   ]
  },
  {
   "cell_type": "code",
   "execution_count": null,
   "metadata": {},
   "outputs": [],
   "source": [
    "test_df.head()"
   ]
  },
  {
   "cell_type": "code",
   "execution_count": null,
   "metadata": {},
   "outputs": [],
   "source": [
    "target_df.head()"
   ]
  },
  {
   "cell_type": "code",
   "execution_count": null,
   "metadata": {},
   "outputs": [],
   "source": [
    "modelSVR = SVR(kernel = 'poly')\n",
    "modelSVR.fit(train_df, target_df)"
   ]
  },
  {
   "cell_type": "code",
   "execution_count": null,
   "metadata": {},
   "outputs": [],
   "source": [
    "y_pred_test=abs(modelSVR.predict(test_df))"
   ]
  },
  {
   "cell_type": "code",
   "execution_count": null,
   "metadata": {},
   "outputs": [],
   "source": [
    "y_pred_test_inv=scaler2.inverse_transform(y_pred_test)"
   ]
  },
  {
   "cell_type": "code",
   "execution_count": null,
   "metadata": {},
   "outputs": [],
   "source": []
  },
  {
   "cell_type": "code",
   "execution_count": null,
   "metadata": {},
   "outputs": [],
   "source": [
    "y_pred_test_inv_df=pd.DataFrame({'time_spent':y_pred_test_inv})"
   ]
  },
  {
   "cell_type": "code",
   "execution_count": null,
   "metadata": {},
   "outputs": [],
   "source": [
    "y_pred_test_inv_df.shape"
   ]
  },
  {
   "cell_type": "code",
   "execution_count": null,
   "metadata": {},
   "outputs": [],
   "source": [
    "y_pred_test_inv_df.to_csv('submission.csv',index=False)"
   ]
  },
  {
   "cell_type": "code",
   "execution_count": null,
   "metadata": {},
   "outputs": [],
   "source": [
    "train_df_2327.info()"
   ]
  },
  {
   "cell_type": "code",
   "execution_count": null,
   "metadata": {},
   "outputs": [],
   "source": [
    "train_df_2327_inv=scaler1.inverse_transform(train_df_2327)"
   ]
  },
  {
   "cell_type": "code",
   "execution_count": null,
   "metadata": {},
   "outputs": [],
   "source": [
    "train_df_2327_inv_df = pd.DataFrame(train_df_2327_inv)\n",
    "train_df_2327_inv_df.columns =dfTrain.columns\n",
    "train_df_2327_inv_df.head()"
   ]
  },
  {
   "cell_type": "code",
   "execution_count": null,
   "metadata": {},
   "outputs": [],
   "source": [
    "samplesubmission = pd.DataFrame({'time_spent':train_df_2327_inv_df['time_spent']})\n",
    "samplesubmission.to_csv('SubmissionSVRMinMaxScaler.csv',index=False)"
   ]
  },
  {
   "cell_type": "markdown",
   "metadata": {},
   "source": [
    "# Model Fine Tuning to decrease RMSLE ,Score  is 1.81243 \n",
    "a)SVR Model is robust to outliers, so even after treating outliers the result or score is the same."
   ]
  },
  {
   "cell_type": "code",
   "execution_count": null,
   "metadata": {},
   "outputs": [],
   "source": [
    "plt.scatter(X.index,y)\n",
    "plt.show()"
   ]
  },
  {
   "cell_type": "code",
   "execution_count": null,
   "metadata": {},
   "outputs": [],
   "source": [
    "iqr=dfTrain['time_spent'].quantile(0.75)-dfTrain['time_spent'].quantile(0.25)\n",
    "upper_limit=dfTrain['time_spent'].quantile(0.75)+1.5*iqr\n",
    "lower_limit=dfTrain['time_spent'].quantile(0.25)-1.5*iqr\n",
    "print(upper_limit,lower_limit)"
   ]
  },
  {
   "cell_type": "code",
   "execution_count": null,
   "metadata": {},
   "outputs": [],
   "source": [
    "dfTrain.loc[dfTrain['time_spent']>1467,'time_spent']=1467"
   ]
  },
  {
   "cell_type": "code",
   "execution_count": null,
   "metadata": {},
   "outputs": [],
   "source": [
    "min(dfTrain['time_spent'])"
   ]
  },
  {
   "cell_type": "code",
   "execution_count": null,
   "metadata": {},
   "outputs": [],
   "source": [
    "max(dfTrain['time_spent'])"
   ]
  },
  {
   "cell_type": "code",
   "execution_count": null,
   "metadata": {},
   "outputs": [],
   "source": [
    "modelSVR.fit(X, dfTrain['time_spent'])"
   ]
  },
  {
   "cell_type": "code",
   "execution_count": null,
   "metadata": {},
   "outputs": [],
   "source": [
    "y_pred_test=abs(modelSVR.predict(dfTest))"
   ]
  },
  {
   "cell_type": "code",
   "execution_count": null,
   "metadata": {},
   "outputs": [],
   "source": [
    "samplesubmission = pd.DataFrame({'time_spent':y_pred_test})\n",
    "samplesubmission.to_csv('SubmissionSVROutlier.csv',index=False)"
   ]
  },
  {
   "cell_type": "code",
   "execution_count": null,
   "metadata": {},
   "outputs": [],
   "source": [
    "dfTrain['time_spent']=y"
   ]
  },
  {
   "cell_type": "code",
   "execution_count": null,
   "metadata": {},
   "outputs": [],
   "source": [
    "max(dfTrain['time_spent'])"
   ]
  },
  {
   "cell_type": "markdown",
   "metadata": {},
   "source": [
    "# Model Fine Tuning to decrease RMSLE Score ,  score is 2.04125\n",
    "  hyper parameter tuning to decrease RMSLE Error  with hyper parameter tuning "
   ]
  },
  {
   "cell_type": "code",
   "execution_count": null,
   "metadata": {},
   "outputs": [],
   "source": [
    "from sklearn.model_selection import GridSearchCV\n",
    "from sklearn.model_selection import RandomSearchCV"
   ]
  },
  {
   "cell_type": "code",
   "execution_count": null,
   "metadata": {},
   "outputs": [],
   "source": [
    "#param = [ {'kernel' : ['linear', 'poly', 'rbf', 'sigmoid'],'C' : [1,5,10],'degree' : [3,8],'coef0' : [0.01,10,0.5],'gamma' : ['auto','scale']}]\n",
    "\n",
    "parameters = [{'kernel': ['rbf'], 'gamma': [1e-4, 1e-3, 0.01, 0.1, 0.2, 0.5, 0.6, 0.9],'C': [1, 10, 100, 1000, 10000]}]\n",
    "\n",
    "modelsvr = SVR()\n",
    "\n",
    "grids = GridSearchCV(modelsvr,parameters,cv=5,verbose=3,n_jobs=-1)\n",
    "\n",
    "grids.fit(X,y)\n",
    "grids.best_params_"
   ]
  },
  {
   "cell_type": "code",
   "execution_count": null,
   "metadata": {},
   "outputs": [],
   "source": [
    "# y_pred_test=abs(grids.predict(dfTest))"
   ]
  },
  {
   "cell_type": "code",
   "execution_count": null,
   "metadata": {},
   "outputs": [],
   "source": [
    "# samplesubmission = pd.DataFrame({'time_spent':y_pred_test})\n",
    "# samplesubmission.to_csv('SubmissionSVRhypparameter.csv',index=False)"
   ]
  },
  {
   "cell_type": "markdown",
   "metadata": {},
   "source": [
    "# TPOT Regresssor RMSLE Score is 2.22456"
   ]
  },
  {
   "cell_type": "code",
   "execution_count": null,
   "metadata": {},
   "outputs": [],
   "source": [
    "!pip3 install TPOT"
   ]
  },
  {
   "cell_type": "code",
   "execution_count": null,
   "metadata": {},
   "outputs": [],
   "source": [
    "# from tpot import TPOTRegressor"
   ]
  },
  {
   "cell_type": "code",
   "execution_count": null,
   "metadata": {},
   "outputs": [],
   "source": [
    "tpot = TPOTRegressor(verbosity = 2,\n",
    "                     generations=7,\n",
    "                     population_size=100)"
   ]
  },
  {
   "cell_type": "code",
   "execution_count": null,
   "metadata": {},
   "outputs": [],
   "source": [
    "tpot.fit(X, y)\n",
    "tpot_pred = abs(tpot.predict(dfTest))\n",
    "prin(tpot_pred)"
   ]
  },
  {
   "cell_type": "code",
   "execution_count": null,
   "metadata": {},
   "outputs": [],
   "source": [
    "samplesubmission = pd.DataFrame({'time_spent':tpot_pred})\n",
    "samplesubmission.to_csv('SubmissionTPOT.csv',index=False)"
   ]
  },
  {
   "cell_type": "markdown",
   "metadata": {},
   "source": [
    "# Support Vector Regression with values:\n",
    "    SVR(kernel='poly', C=100, gamma='auto', degree=3, epsilon=.1,\n",
    "               coef0=1)"
   ]
  },
  {
   "cell_type": "code",
   "execution_count": 93,
   "metadata": {},
   "outputs": [
    {
     "data": {
      "text/plain": [
       "SVR(degree=10, kernel='poly')"
      ]
     },
     "execution_count": 93,
     "metadata": {},
     "output_type": "execute_result"
    }
   ],
   "source": [
    "modelSVRPoly = SVR(kernel='poly',degree=10)\n",
    "           \n",
    "modelSVRPoly.fit(X, y)"
   ]
  },
  {
   "cell_type": "code",
   "execution_count": 96,
   "metadata": {},
   "outputs": [],
   "source": [
    "y_pred_test=abs(modelSVR.predict(dfTest))"
   ]
  },
  {
   "cell_type": "code",
   "execution_count": 97,
   "metadata": {},
   "outputs": [],
   "source": [
    "samplesubmission = pd.DataFrame({'time_spent':y_pred_test})\n",
    "samplesubmission.to_csv('SubmissionSVRpoly10.csv',index=False)"
   ]
  },
  {
   "cell_type": "markdown",
   "metadata": {},
   "source": [
    "# Extra Tree Regressor , score 2.36594"
   ]
  },
  {
   "cell_type": "code",
   "execution_count": 99,
   "metadata": {},
   "outputs": [],
   "source": [
    "from sklearn.ensemble import ExtraTreesRegressor\n",
    "modelETR =ExtraTreesRegressor(n_estimators=100, random_state=0).fit(X,y)"
   ]
  },
  {
   "cell_type": "code",
   "execution_count": 100,
   "metadata": {},
   "outputs": [],
   "source": [
    "y_pred_test=abs(modelETR.predict(dfTest))"
   ]
  },
  {
   "cell_type": "code",
   "execution_count": 101,
   "metadata": {},
   "outputs": [],
   "source": [
    "samplesubmission = pd.DataFrame({'time_spent':y_pred_test})\n",
    "samplesubmission.to_csv('SubmissionETR.csv',index=False)"
   ]
  },
  {
   "cell_type": "markdown",
   "metadata": {},
   "source": [
    "# LightGBM"
   ]
  },
  {
   "cell_type": "code",
   "execution_count": 366,
   "metadata": {},
   "outputs": [],
   "source": [
    "import lightgbm as ltb\n",
    "from sklearn.datasets import make_regression"
   ]
  },
  {
   "cell_type": "code",
   "execution_count": 367,
   "metadata": {},
   "outputs": [],
   "source": [
    "X, y = make_regression(n_samples=1000, n_features=6, n_informative=6, random_state=1)"
   ]
  },
  {
   "cell_type": "code",
   "execution_count": 368,
   "metadata": {},
   "outputs": [],
   "source": [
    "modelLGBM = ltb.LGBMRegressor()"
   ]
  },
  {
   "cell_type": "code",
   "execution_count": 369,
   "metadata": {},
   "outputs": [
    {
     "data": {
      "text/plain": [
       "LGBMRegressor()"
      ]
     },
     "execution_count": 369,
     "metadata": {},
     "output_type": "execute_result"
    }
   ],
   "source": [
    "modelLGBM.fit(X, y)"
   ]
  },
  {
   "cell_type": "code",
   "execution_count": 370,
   "metadata": {},
   "outputs": [],
   "source": [
    "y_pred_test=abs(modelLGBM.predict(dfTest))"
   ]
  },
  {
   "cell_type": "code",
   "execution_count": 371,
   "metadata": {},
   "outputs": [],
   "source": [
    "samplesubmission = pd.DataFrame({'time_spent':y_pred_test})\n",
    "samplesubmission.to_csv('SubmissionLGBM.csv',index=False)"
   ]
  },
  {
   "cell_type": "markdown",
   "metadata": {},
   "source": [
    "# KNN Regressor"
   ]
  },
  {
   "cell_type": "code",
   "execution_count": 372,
   "metadata": {},
   "outputs": [],
   "source": [
    "#removed client_agent and label encoded device_details column with date modification code done "
   ]
  },
  {
   "cell_type": "code",
   "execution_count": 373,
   "metadata": {},
   "outputs": [
    {
     "data": {
      "text/plain": [
       "array([[ 0.45132365,  0.34442933, -1.00159787, -0.08887207,  0.04896555,\n",
       "         0.24765975],\n",
       "       [ 0.91905857, -0.41681132,  1.56243179,  0.56134129,  0.52212638,\n",
       "        -0.04413434],\n",
       "       [-1.87316098, -0.03536792,  0.07638048, -1.30653407,  2.11060505,\n",
       "         0.92061512],\n",
       "       ...,\n",
       "       [ 0.09441541, -1.83589904, -0.80194708, -1.77632334,  0.33902513,\n",
       "        -1.45669029],\n",
       "       [ 0.12837699,  0.96653925, -0.60460297,  1.30620607,  0.71304905,\n",
       "         1.76041518],\n",
       "       [ 1.68192066, -1.47825328,  0.90543379, -0.70570395, -0.81058849,\n",
       "        -0.40813368]])"
      ]
     },
     "execution_count": 373,
     "metadata": {},
     "output_type": "execute_result"
    }
   ],
   "source": [
    "X"
   ]
  },
  {
   "cell_type": "code",
   "execution_count": 374,
   "metadata": {},
   "outputs": [],
   "source": [
    "from sklearn import neighbors\n",
    "from sklearn.metrics import mean_squared_error"
   ]
  },
  {
   "cell_type": "code",
   "execution_count": 375,
   "metadata": {},
   "outputs": [
    {
     "name": "stdout",
     "output_type": "stream",
     "text": [
      "RMSE value for k=  1 is: 2642.7735812511237\n",
      "RMSE value for k=  2 is: 2473.37664173574\n",
      "RMSE value for k=  3 is: 2381.739208176913\n",
      "RMSE value for k=  4 is: 2159.6521465319283\n",
      "RMSE value for k=  5 is: 2156.3136229379147\n",
      "RMSE value for k=  6 is: 2051.458756034224\n",
      "RMSE value for k=  7 is: 1920.1198924058401\n",
      "RMSE value for k=  8 is: 1903.2327029798353\n",
      "RMSE value for k=  9 is: 1933.8799232401666\n",
      "RMSE value for k=  10 is: 1924.8484298408914\n",
      "RMSE value for k=  11 is: 1953.3926382421134\n",
      "RMSE value for k=  12 is: 1967.011068864127\n",
      "RMSE value for k=  13 is: 1983.1184003380667\n",
      "RMSE value for k=  14 is: 1985.915879605476\n",
      "RMSE value for k=  15 is: 2001.1558157212796\n",
      "RMSE value for k=  16 is: 1993.2862827796425\n",
      "RMSE value for k=  17 is: 1994.8037650997453\n",
      "RMSE value for k=  18 is: 1994.1360489518954\n",
      "RMSE value for k=  19 is: 1995.805304559501\n",
      "RMSE value for k=  20 is: 1990.2675998314792\n"
     ]
    }
   ],
   "source": [
    "rmse_val = [] #to store rmse values for different k\n",
    "for K in range(20):\n",
    "    K = K+1\n",
    "    model = neighbors.KNeighborsRegressor(n_neighbors = K)\n",
    "\n",
    "    model.fit(X_train, y_train)  #fit the model\n",
    "    pred=abs(model.predict(X_test)) #make prediction on test set\n",
    "    error = np.sqrt(mean_squared_error(y_test,pred)) #calculate rmse\n",
    "    rmse_val.append(error) #store rmse values\n",
    "    print('RMSE value for k= ' , K , 'is:', error)"
   ]
  },
  {
   "cell_type": "code",
   "execution_count": 376,
   "metadata": {},
   "outputs": [
    {
     "data": {
      "text/plain": [
       "<AxesSubplot:>"
      ]
     },
     "execution_count": 376,
     "metadata": {},
     "output_type": "execute_result"
    },
    {
     "data": {
      "image/png": "[encoded data removed]",
      "text/plain": [
       "<Figure size 432x288 with 1 Axes>"
      ]
     },
     "metadata": {
      "needs_background": "light"
     },
     "output_type": "display_data"
    }
   ],
   "source": [
    "curve = pd.DataFrame(rmse_val) #elbow curve \n",
    "curve.plot()"
   ]
  },
  {
   "cell_type": "code",
   "execution_count": 378,
   "metadata": {},
   "outputs": [],
   "source": [
    "model = neighbors.KNeighborsRegressor(n_neighbors = 7)\n",
    "model.fit(dfTrain.drop('time_spent',axis=1), dfTrain['time_spent'])  #fit the model\n",
    "y_pred_test=abs(model.predict(dfTest))"
   ]
  },
  {
   "cell_type": "code",
   "execution_count": 379,
   "metadata": {},
   "outputs": [],
   "source": [
    "samplesubmission = pd.DataFrame({'time_spent':y_pred_test})\n",
    "samplesubmission.to_csv('SubmissionKNR.csv',index=False)"
   ]
  },
  {
   "cell_type": "code",
   "execution_count": 380,
   "metadata": {},
   "outputs": [
    {
     "data": {
      "text/plain": [
       "<AxesSubplot:ylabel='Density'>"
      ]
     },
     "execution_count": 380,
     "metadata": {},
     "output_type": "execute_result"
    },
    {
     "data": {
      "image/png": "[encoded data removed]",
      "text/plain": [
       "<Figure size 432x288 with 1 Axes>"
      ]
     },
     "metadata": {
      "needs_background": "light"
     },
     "output_type": "display_data"
    }
   ],
   "source": [
    "sns.kdeplot(y_pred_test)"
   ]
  },
  {
   "cell_type": "code",
   "execution_count": null,
   "metadata": {},
   "outputs": [],
   "source": []
  }
 ],
 "metadata": {
  "kernelspec": {
   "display_name": "Python 3",
   "language": "python",
   "name": "python3"
  },
  "language_info": {
   "codemirror_mode": {
    "name": "ipython",
    "version": 3
   },
   "file_extension": ".py",
   "mimetype": "text/x-python",
   "name": "python",
   "nbconvert_exporter": "python",
   "pygments_lexer": "ipython3",
   "version": "3.7.8"
  }
 },
 "nbformat": 4,
 "nbformat_minor": 4
}
